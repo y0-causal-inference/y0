{
 "cells": [
  {
   "cell_type": "markdown",
   "id": "ac1c3de1-5b09-46ce-b80c-a7c2434ff866",
   "metadata": {},
   "source": [
    "# Surrogate Outcomes\n",
    "\n",
    "This notebook demos eponymous algorithm from [Surrogate Outcomes and Transportability](https://arxiv.org/abs/1806.07172) (Tikka and Karvanen, 2018)."
   ]
  },
  {
   "cell_type": "code",
   "execution_count": 1,
   "id": "309d74b5-fb54-4c10-9d6c-30ebab7a3fb6",
   "metadata": {},
   "source": [
    "from matplotlib_inline.backend_inline import set_matplotlib_formats\n",
    "\n",
    "from y0.algorithm.identify import identify_outcomes\n",
    "from y0.algorithm.transport import identify_target_outcomes\n",
    "from y0.dsl import Pi1, Pi2, Variable\n",
    "from y0.examples import cancer_example\n",
    "from y0.graph import NxMixedGraph\n",
    "from y0.mutate.contract import recursive_contract\n",
    "\n",
    "set_matplotlib_formats(\"svg\")"
   ],
   "outputs": []
  },
  {
   "cell_type": "markdown",
   "id": "173ecf0c-9bfe-45f9-b126-3bc676f14efb",
   "metadata": {},
   "source": [
    "## Smoking and Cancer\n",
    "\n",
    "The first scenario we will explore is about the relationship between smoking ($S$), accumulation of tar in the lungs ($T$), and cancer ($C$). "
   ]
  },
  {
   "cell_type": "code",
   "execution_count": 2,
   "id": "d8ac1cc7-b243-48ac-b75f-3cb3a64b33f0",
   "metadata": {},
   "source": [
    "from y0.dsl import C as Cancer\n",
    "from y0.dsl import S as Smoking\n",
    "from y0.dsl import T as Tar"
   ],
   "outputs": []
  },
  {
   "cell_type": "markdown",
   "id": "859cf1d8-101e-4ea8-acd4-fcd071d152d6",
   "metadata": {},
   "source": [
    "We construct a causal model where we know the following three statements that translate into directed edges in our acyclic directed mixed graph:\n",
    "\n",
    "1. Smoking causes an accumulation of tar in the lungs\n",
    "2. Accumulation of tar in the lungs increases risk of cancer\n",
    "3. Smoking itself also increases the risk of cancer"
   ]
  },
  {
   "cell_type": "code",
   "execution_count": 3,
   "id": "c01a5249-5927-43ae-ac69-70f1b9ac2fb6",
   "metadata": {},
   "source": [
    "cancer_graph = NxMixedGraph.from_edges(directed=[(Smoking, Tar), (Tar, Cancer), (Smoking, Cancer)])\n",
    "cancer_graph.draw()"
   ],
   "outputs": []
  },
  {
   "cell_type": "markdown",
   "id": "7506b598-6668-4f2e-b2c1-bd276a3558ba",
   "metadata": {},
   "source": [
    "It's possible to identify the effect of smoking on cancer in this constrained scenario. This can be translated to using the `identify_outcomes`, i.e. the [ID algorithm](https://dl.acm.org/doi/10.5555/1597348.1597382)."
   ]
  },
  {
   "cell_type": "code",
   "execution_count": 4,
   "id": "602d79d3-a115-4ed3-b08c-72bc29f87f49",
   "metadata": {},
   "source": [
    "identify_outcomes(cancer_graph, treatments={Smoking}, outcomes={Cancer})"
   ],
   "outputs": []
  },
  {
   "cell_type": "markdown",
   "id": "728899f0-e5f8-410e-82af-f3757e36df85",
   "metadata": {},
   "source": [
    "### A more realistic scenario\n",
    "\n",
    "However, this first model is not a very accurate representation of reality. Therefore, we add a _bidirected_ edge between smoking and the accumulation of tar in the lungs because there might be an unknown confounder. In the scenario we pose below, this is an observational study is conducted where we don't know who smokes tar-free cigarettes and who smokes regular cigarettes."
   ]
  },
  {
   "cell_type": "code",
   "execution_count": 5,
   "id": "27d2afe9-b77d-47c8-8222-ae883f015c91",
   "metadata": {},
   "source": [
    "# Note that this is pre-loaded in y0\n",
    "cancer_graph = cancer_example.graph\n",
    "\n",
    "cancer_graph.draw()"
   ],
   "outputs": []
  },
  {
   "cell_type": "markdown",
   "id": "f90cea73-0dea-43bb-aee3-2e81b13eaabd",
   "metadata": {},
   "source": [
    "We're now in a scenario where it's not possible to identify the effect of smoking on cancer."
   ]
  },
  {
   "cell_type": "code",
   "execution_count": 6,
   "id": "9cf9739b-5e4f-407e-9497-dc9b660bc452",
   "metadata": {
    "scrolled": true
   },
   "source": [
    "identify_outcomes(cancer_example.graph, treatments={Smoking}, outcomes={Cancer}) is None"
   ],
   "outputs": []
  },
  {
   "cell_type": "markdown",
   "id": "0dd15614-dedb-413d-9a52-05feeea84d40",
   "metadata": {},
   "source": [
    "If we had some interventional data that measures cancer, we can address this by doing some regular statistics, we don't need this causal inference framework. However, we don't have that data."
   ]
  },
  {
   "cell_type": "markdown",
   "id": "dd672314-56a9-4906-9fb8-bc911039927b",
   "metadata": {},
   "source": [
    "### Using data to address the more realistic scenario"
   ]
  },
  {
   "cell_type": "markdown",
   "id": "e404b127-c611-473d-987f-9feaab7fca7e",
   "metadata": {},
   "source": [
    "But, we're not out of luck, because such a graph can be identified if a combination of interventional and observational data are available.\n",
    "\n",
    "Suppose Pall Mall has a new cigarette that has no tar in it!  They conduct a clinical trial ($\\pi_1$; this is interventional data) where they randomly assign some volunteers to smoke their new cigarette, and the other volunteers receive regular cigarettes. As an outcome, they measure tar buildup in the lungs. The trial is stopped before any of the volunteers get cancer, so we're not able to measure this variable.\n",
    "\n",
    "This trial does not have enough information to estimate the causal effect of smoking on cancer $P^{\\pi_1}(C | \\text{do}(S))$ from the measurements of $P^{\\pi_1}(T | \\text{do}(S)$. E.g., you measure the correlate, but not the outcome."
   ]
  },
  {
   "cell_type": "code",
   "execution_count": 7,
   "id": "509a2e18-1a03-4544-badd-295f931fc1d1",
   "metadata": {},
   "source": [
    "# we simulate some interventional data\n",
    "interventional_data = cancer_example.generate_data(1000, treatments={Tar: 1})"
   ],
   "outputs": []
  },
  {
   "cell_type": "markdown",
   "id": "cc970629-85fa-4f65-8d95-1a75193385dd",
   "metadata": {},
   "source": [
    " At the same time, we have observational data ($\\pi^\\ast$) over many years that show the correlation of smoking on cancer, but we don't know who chose the Pall Mall \"no tar\" cigarettes vs the tar-filled cigarettes.  This observational data does not have enough information to estimate $P^{\\pi^\\ast}(C | \\text{do}(S)$ from the measurements of $P^{\\pi^\\ast}(S, C, T)$."
   ]
  },
  {
   "cell_type": "code",
   "execution_count": 8,
   "id": "65795272-e8d9-49fd-b8c6-2eaeb295793c",
   "metadata": {},
   "source": [
    "# we simulate some observational data\n",
    "observational_data = cancer_example.generate_data(1000)"
   ],
   "outputs": []
  },
  {
   "cell_type": "markdown",
   "id": "235d84bd-023a-4086-a770-962bc21dc44a",
   "metadata": {},
   "source": [
    "Neither dataset is sufficient to estimate the causal effect of smoking on cancer, but perhaps by combining the two, we can identify the query using the [surrogate outcomes and transportability algorithm](https://arxiv.org/abs/1806.07172)."
   ]
  },
  {
   "cell_type": "code",
   "execution_count": 9,
   "id": "d25eb46a-efb8-4fd1-ad45-553f6fc5d032",
   "metadata": {},
   "source": [
    "recursive_contract(\n",
    "    identify_target_outcomes(\n",
    "        cancer_graph,\n",
    "        target_outcomes={Cancer},  # target => observational data\n",
    "        target_interventions={Smoking},\n",
    "        surrogate_outcomes={Pi1: {Tar}},  # surrogate => interventional data\n",
    "        surrogate_interventions={Pi1: {Smoking}},\n",
    "    )\n",
    ")"
   ],
   "outputs": []
  },
  {
   "cell_type": "markdown",
   "id": "d4c6471d-a6ca-4177-aabe-c2107843dce5",
   "metadata": {},
   "source": [
    "We can interpret this result as taking the observational data ($\\pi^\\ast$) such that the conditional $P(Cancer| Smoking, Tar)$ is stratified by Tar, and reweighting the percentage of people who have tar in their lungs by the percentage of people who had tar in their lungs in the clinical trial ($\\pi_1$).  The summation over Tar means that the final estimate will only have Smoking and Cancer in it.  If you didn't do the reweighting, you would only recover the probability of cancer given smoking."
   ]
  },
  {
   "cell_type": "markdown",
   "id": "24cbebec-4fa7-4934-a506-f4f79999d792",
   "metadata": {},
   "source": [
    "Note that the surrogate outcomes algorithm implicitly assumes that observational data from the target population is always available."
   ]
  },
  {
   "cell_type": "markdown",
   "id": "0ebbda05-b960-43e5-a915-642123b25073",
   "metadata": {},
   "source": [
    "## Relation between going to Class and Getting a Job\n",
    "\n",
    "Suppose we want to find out if going to class during college has an effect on getting a job after graduation. We have the observational data that shows relationships between going to class, test scores, gpa, and jobs after graduation but the observational data is not enough to estimate $P^{\\pi^\\ast}(Job | \\text{do}(Class)$ $P^{\\pi^\\ast}(Class, Scores, GPA, Job)$"
   ]
  },
  {
   "cell_type": "code",
   "execution_count": 10,
   "id": "8250a6fe",
   "metadata": {},
   "source": [
    "Class, Scores, GPA, Job = (\n",
    "    Variable(\"C\"),\n",
    "    Variable(\"S\"),\n",
    "    Variable(\"G\"),\n",
    "    Variable(\"J\"),\n",
    ")\n",
    "\n",
    "graph = NxMixedGraph.from_edges(\n",
    "    directed=[(Class, Scores), (Scores, GPA), (GPA, Job)],\n",
    "    undirected=[(Scores, Class), (Job, Class)],\n",
    ")\n",
    "graph.draw()"
   ],
   "outputs": []
  },
  {
   "cell_type": "markdown",
   "id": "62230ed7",
   "metadata": {},
   "source": [
    "Assume that an experiment tested how students performed on tests by assigning some students to attend class, while other to not attend, this gives us $P^{\\pi_2}(Scores | \\text{do}(Class)$.  Another experiment was performed to test the relationship between getting a job and GPA where similar students with randomized GPA applied for jobs giving $P^{\\pi_2}(Job | \\text{do}(GPA)$. "
   ]
  },
  {
   "cell_type": "code",
   "execution_count": 11,
   "id": "d1b58d56",
   "metadata": {},
   "source": [
    "identify_outcomes(graph, treatments={Class}, outcomes={Job}) is None"
   ],
   "outputs": []
  },
  {
   "cell_type": "code",
   "execution_count": 12,
   "id": "ce37c9b6",
   "metadata": {},
   "source": [
    "identify_target_outcomes(\n",
    "    graph=graph,\n",
    "    target_interventions={Class},\n",
    "    target_outcomes={Job},\n",
    "    surrogate_interventions={Pi1: {Class}, Pi2: {GPA}},\n",
    "    surrogate_outcomes={Pi1: {Scores}, Pi2: {Job}},\n",
    ")"
   ],
   "outputs": []
  }
 ],
 "metadata": {
  "kernelspec": {
   "display_name": "Python 3 (ipykernel)",
   "language": "python",
   "name": "python3"
  },
  "language_info": {
   "codemirror_mode": {
    "name": "ipython",
    "version": 3
   },
   "file_extension": ".py",
   "mimetype": "text/x-python",
   "name": "python",
   "nbconvert_exporter": "python",
   "pygments_lexer": "ipython3",
   "version": "3.12.4"
  }
 },
 "nbformat": 4,
 "nbformat_minor": 5
}
