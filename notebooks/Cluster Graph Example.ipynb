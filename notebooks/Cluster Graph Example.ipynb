{
 "cells": [
  {
   "cell_type": "markdown",
   "id": "12ea5a72-1409-4b88-8cf1-33b33942d164",
   "metadata": {},
   "source": [
    "This notebook demonstrates the ability to apply the `ID` algorithm with multiple treatments and outcomes.\n",
    "\n",
    "It was motivated by [this post](https://www.linkedin.com/posts/ckassaad_causalinference-docalculus-clustergraphs-activity-7352978070431031297-ssFV?utm_source=social_share_send&utm_medium=member_desktop_web&rcm=ACoAAAwu35UBGzYu8pHuw7f1n8DbaEUawviIphM), which explores the relation between simple ADMGs and _cluster graphs_, such as in the following example:\n",
    "\n",
    "![](images/1753086582242.jpg)"
   ]
  },
  {
   "cell_type": "code",
   "execution_count": 1,
   "id": "cf4cd606-fc80-41ab-b2c2-91f00c0d135b",
   "metadata": {},
   "outputs": [],
   "source": [
    "from y0.dsl import X1, X2, X3, W1, W2, W3, W4, Y1, Y2\n",
    "from y0.graph import NxMixedGraph"
   ]
  },
  {
   "cell_type": "code",
   "execution_count": null,
   "id": "5856d998-bbac-40f0-9102-9466decaf82f",
   "metadata": {},
   "outputs": [],
   "source": [
    "graph = NxMixedGraph.from_edges(\n",
    "    directed=[\n",
    "        (X2, X1),\n",
    "        (X2, X3),\n",
    "        (X2, W1),\n",
    "        (X3, X1),\n",
    "        (W1, X3),\n",
    "        (W1, W3),\n",
    "        (W2, W4),\n",
    "        (W2, Y1),\n",
    "        (Y2, W2),\n",
    "    ],\n",
    "    undirected=[(X1, Y1), (W1, W2)],\n",
    ")\n",
    "\n",
    "# for sure, there's room for improvement on drawing :)\n",
    "graph.draw()"
   ]
  },
  {
   "cell_type": "code",
   "execution_count": null,
   "id": "bd2d8d5e-a7f3-4f0b-9bb0-04e0302c5527",
   "metadata": {},
   "outputs": [],
   "source": [
    "from y0.algorithm.identify import identify_outcomes"
   ]
  },
  {
   "cell_type": "code",
   "execution_count": null,
   "id": "aec2bb7f-ac5a-4893-ae9e-b4da6762af09",
   "metadata": {},
   "outputs": [],
   "source": [
    "identify_outcomes(graph, treatments=[X1, X2, X3], outcomes=[Y1, Y2])"
   ]
  }
 ],
 "metadata": {
  "kernelspec": {
   "display_name": "Python 3 (ipykernel)",
   "language": "python",
   "name": "python3"
  },
  "language_info": {
   "codemirror_mode": {
    "name": "ipython",
    "version": 3
   },
   "file_extension": ".py",
   "mimetype": "text/x-python",
   "name": "python",
   "nbconvert_exporter": "python",
   "pygments_lexer": "ipython3",
   "version": "3.12.11"
  }
 },
 "nbformat": 4,
 "nbformat_minor": 5
}
