{
 "cells": [
  {
   "cell_type": "markdown",
   "id": "127b7ba5-7f79-4645-9985-631e54b3c7b1",
   "metadata": {},
   "source": [
    "## Implementation of [Hierarchical Causal Models](https://arxiv.org/abs/2401.05330) (Weinstein and Blei, 2024)"
   ]
  },
  {
   "cell_type": "code",
   "execution_count": 2,
   "id": "aa3e20ff-363c-4eea-86b3-664c36325a56",
   "metadata": {},
   "outputs": [],
   "source": [
    "import pygraphviz as pgv\n",
    "from IPython.display import SVG\n",
    "from y0.dsl import Variable\n",
    "from y0.graph import NxMixedGraph\n",
    "from y0.hierarchical import HCM_from_lists, collapse_HCM"
   ]
  },
  {
   "cell_type": "code",
   "execution_count": null,
   "id": "36ca279f-f872-4b29-adb5-95a8b07c6089",
   "metadata": {},
   "outputs": [],
   "source": []
  },
  {
   "cell_type": "markdown",
   "id": "b4d3e3f2-71a8-4bdf-8cd9-642dd9b28f43",
   "metadata": {},
   "source": [
    "# Figure 2 "
   ]
  },
  {
   "cell_type": "code",
   "execution_count": null,
   "id": "7b23e2c9-8b7e-4264-993c-0c4c78d5fefa",
   "metadata": {},
   "outputs": [],
   "source": []
  },
  {
   "cell_type": "markdown",
   "id": "7d471585-cfb3-4d96-beda-c5a290249850",
   "metadata": {},
   "source": [
    "## Confounder"
   ]
  },
  {
   "cell_type": "markdown",
   "id": "f5150c48-fb85-4892-8073-0889a20664db",
   "metadata": {},
   "source": [
    "Create the hierarchical causal model (HCM) in pygraphviz\n",
    "\n",
    "Figure 2 (a)"
   ]
  },
  {
   "cell_type": "code",
   "execution_count": 15,
   "id": "a14f318f-ce6e-48c5-a715-f6bf4f36313b",
   "metadata": {},
   "outputs": [],
   "source": [
    "confounder_HCM = HCM_from_lists(obs_subunits=['A', 'Y'], unobs_units=['U'], edges=[('U','A'), ('A','Y'), ('U','Y')])\n",
    "confounder_HCM.layout(\"dot\")\n",
    "confounder_HCM.draw(\"./images/confounder_HCM.svg\")"
   ]
  },
  {
   "cell_type": "code",
   "execution_count": 16,
   "id": "72130777-9cc5-4a2b-a261-ca8ee96d46df",
   "metadata": {},
   "outputs": [
    {
     "data": {
      "image/svg+xml": [
       "<svg xmlns=\"http://www.w3.org/2000/svg\" xmlns:xlink=\"http://www.w3.org/1999/xlink\" width=\"97pt\" height=\"201pt\" viewBox=\"0.00 0.00 97.00 200.50\">\n",
       "<g id=\"graph0\" class=\"graph\" transform=\"scale(1 1) rotate(0) translate(4 196.5)\">\n",
       "<polygon fill=\"white\" stroke=\"none\" points=\"-4,4 -4,-196.5 93,-196.5 93,4 -4,4\"/>\n",
       "<g id=\"clust1\" class=\"cluster\">\n",
       "<title>cluster_subunits</title>\n",
       "<polygon fill=\"none\" stroke=\"black\" stroke-dasharray=\"5,2\" points=\"0,0 0,-148.5 70,-148.5 70,0 0,0\"/>\n",
       "<text text-anchor=\"middle\" x=\"35\" y=\"-131.2\" font-family=\"Times,serif\" font-size=\"14.00\">m</text>\n",
       "</g>\n",
       "<!-- A -->\n",
       "<g id=\"node1\" class=\"node\">\n",
       "<title>A</title>\n",
       "<ellipse fill=\"lightgrey\" stroke=\"lightgrey\" cx=\"35\" cy=\"-98\" rx=\"27\" ry=\"18\"/>\n",
       "<text text-anchor=\"middle\" x=\"35\" y=\"-92.95\" font-family=\"Times,serif\" font-size=\"14.00\">A</text>\n",
       "</g>\n",
       "<!-- Y -->\n",
       "<g id=\"node2\" class=\"node\">\n",
       "<title>Y</title>\n",
       "<ellipse fill=\"lightgrey\" stroke=\"lightgrey\" cx=\"35\" cy=\"-26\" rx=\"27\" ry=\"18\"/>\n",
       "<text text-anchor=\"middle\" x=\"35\" y=\"-20.95\" font-family=\"Times,serif\" font-size=\"14.00\">Y</text>\n",
       "</g>\n",
       "<!-- A&#45;&gt;Y -->\n",
       "<g id=\"edge1\" class=\"edge\">\n",
       "<title>A-&gt;Y</title>\n",
       "<path fill=\"none\" stroke=\"black\" d=\"M35,-79.7C35,-72.41 35,-63.73 35,-55.54\"/>\n",
       "<polygon fill=\"black\" stroke=\"black\" points=\"38.5,-55.62 35,-45.62 31.5,-55.62 38.5,-55.62\"/>\n",
       "</g>\n",
       "<!-- U -->\n",
       "<g id=\"node3\" class=\"node\">\n",
       "<title>U</title>\n",
       "<ellipse fill=\"none\" stroke=\"black\" cx=\"62\" cy=\"-174.5\" rx=\"27\" ry=\"18\"/>\n",
       "<text text-anchor=\"middle\" x=\"62\" y=\"-169.45\" font-family=\"Times,serif\" font-size=\"14.00\">U</text>\n",
       "</g>\n",
       "<!-- U&#45;&gt;A -->\n",
       "<g id=\"edge2\" class=\"edge\">\n",
       "<title>U-&gt;A</title>\n",
       "<path fill=\"none\" stroke=\"black\" d=\"M55.87,-156.59C52.66,-147.74 48.65,-136.66 45,-126.6\"/>\n",
       "<polygon fill=\"black\" stroke=\"black\" points=\"48.32,-125.47 41.62,-117.26 41.74,-127.86 48.32,-125.47\"/>\n",
       "</g>\n",
       "<!-- U&#45;&gt;Y -->\n",
       "<g id=\"edge3\" class=\"edge\">\n",
       "<title>U-&gt;Y</title>\n",
       "<path fill=\"none\" stroke=\"black\" d=\"M68.91,-156.77C69.78,-154.05 70.52,-151.23 71,-148.5 76.23,-118.51 79.95,-109.1 71,-80 67.82,-69.65 61.85,-59.5 55.67,-50.91\"/>\n",
       "<polygon fill=\"black\" stroke=\"black\" points=\"58.55,-48.91 49.67,-43.13 53.01,-53.19 58.55,-48.91\"/>\n",
       "</g>\n",
       "</g>\n",
       "</svg>"
      ],
      "text/plain": [
       "<IPython.core.display.SVG object>"
      ]
     },
     "execution_count": 16,
     "metadata": {},
     "output_type": "execute_result"
    }
   ],
   "source": [
    "SVG(\"./images/confounder_HCM.svg\")"
   ]
  },
  {
   "cell_type": "code",
   "execution_count": null,
   "id": "72b00d90-8424-4aaa-930c-bb731d3f4a42",
   "metadata": {},
   "outputs": [],
   "source": []
  },
  {
   "cell_type": "markdown",
   "id": "eac382d6-33aa-47f1-84ca-5e780da770bf",
   "metadata": {},
   "source": [
    "Create the collapsed model as an NxMixedGraph  \n",
    "(note that the paper displays latent variables but here we use semiMarkov graphs with latent variable connections represented by undirected edges)\n",
    "\n",
    "Figure 2 (c)"
   ]
  },
  {
   "cell_type": "code",
   "execution_count": 9,
   "id": "5b100a10-6082-49f8-a988-f932a0e439e7",
   "metadata": {},
   "outputs": [
    {
     "data": {
      "image/png": "[encoded data removed]",
      "text/plain": [
       "<Figure size 640x480 with 1 Axes>"
      ]
     },
     "metadata": {},
     "output_type": "display_data"
    }
   ],
   "source": [
    "confounder_collapsed = collapse_HCM(confounder_HCM)\n",
    "confounder_collapsed.draw()"
   ]
  },
  {
   "cell_type": "code",
   "execution_count": null,
   "id": "70c41dab-10f0-406d-a606-3a2124e76746",
   "metadata": {},
   "outputs": [],
   "source": []
  },
  {
   "cell_type": "markdown",
   "id": "4d75d4a4-c163-48d4-afa7-4c8364a7e594",
   "metadata": {},
   "source": [
    "## Confounder and Interference\n",
    "\n",
    "Create the HCM in pygraphviz\n",
    "\n",
    "Figure 2 (e)"
   ]
  },
  {
   "cell_type": "code",
   "execution_count": 13,
   "id": "975ab9b7-e3a9-4c1e-81ed-f8490f9d339b",
   "metadata": {},
   "outputs": [],
   "source": [
    "conf_and_int_HCM = HCM_from_lists(obs_subunits=['A','Y'], obs_units=['Z'], unobs_units=['U'], \n",
    "                     edges=[('U','A'), ('A','Y'), ('U','Y'), ('A','Z'), ('Z', 'Y')])\n",
    "conf_and_int_HCM.layout(\"dot\")\n",
    "conf_and_int_HCM.draw(\"./images/confounder_and_interference_HCM.svg\")"
   ]
  },
  {
   "cell_type": "code",
   "execution_count": 14,
   "id": "2ce2c3e4-6947-4de2-a82e-d1cffc278cae",
   "metadata": {},
   "outputs": [
    {
     "data": {
      "image/svg+xml": [
       "<svg xmlns=\"http://www.w3.org/2000/svg\" xmlns:xlink=\"http://www.w3.org/1999/xlink\" width=\"161pt\" height=\"201pt\" viewBox=\"0.00 0.00 161.00 200.50\">\n",
       "<g id=\"graph0\" class=\"graph\" transform=\"scale(1 1) rotate(0) translate(4 196.5)\">\n",
       "<polygon fill=\"white\" stroke=\"none\" points=\"-4,4 -4,-196.5 157,-196.5 157,4 -4,4\"/>\n",
       "<g id=\"clust1\" class=\"cluster\">\n",
       "<title>cluster_subunits</title>\n",
       "<polygon fill=\"none\" stroke=\"black\" stroke-dasharray=\"5,2\" points=\"64,0 64,-148.5 134,-148.5 134,0 64,0\"/>\n",
       "<text text-anchor=\"middle\" x=\"99\" y=\"-131.2\" font-family=\"Times,serif\" font-size=\"14.00\">m</text>\n",
       "</g>\n",
       "<!-- A -->\n",
       "<g id=\"node1\" class=\"node\">\n",
       "<title>A</title>\n",
       "<ellipse fill=\"lightgrey\" stroke=\"lightgrey\" cx=\"99\" cy=\"-98\" rx=\"27\" ry=\"18\"/>\n",
       "<text text-anchor=\"middle\" x=\"99\" y=\"-92.95\" font-family=\"Times,serif\" font-size=\"14.00\">A</text>\n",
       "</g>\n",
       "<!-- Y -->\n",
       "<g id=\"node2\" class=\"node\">\n",
       "<title>Y</title>\n",
       "<ellipse fill=\"lightgrey\" stroke=\"lightgrey\" cx=\"99\" cy=\"-26\" rx=\"27\" ry=\"18\"/>\n",
       "<text text-anchor=\"middle\" x=\"99\" y=\"-20.95\" font-family=\"Times,serif\" font-size=\"14.00\">Y</text>\n",
       "</g>\n",
       "<!-- A&#45;&gt;Y -->\n",
       "<g id=\"edge1\" class=\"edge\">\n",
       "<title>A-&gt;Y</title>\n",
       "<path fill=\"none\" stroke=\"black\" d=\"M99,-79.7C99,-72.41 99,-63.73 99,-55.54\"/>\n",
       "<polygon fill=\"black\" stroke=\"black\" points=\"102.5,-55.62 99,-45.62 95.5,-55.62 102.5,-55.62\"/>\n",
       "</g>\n",
       "<!-- Z -->\n",
       "<g id=\"node3\" class=\"node\">\n",
       "<title>Z</title>\n",
       "<ellipse fill=\"lightgrey\" stroke=\"lightgrey\" cx=\"27\" cy=\"-98\" rx=\"27\" ry=\"18\"/>\n",
       "<text text-anchor=\"middle\" x=\"27\" y=\"-92.95\" font-family=\"Times,serif\" font-size=\"14.00\">Z</text>\n",
       "</g>\n",
       "<!-- A&#45;&gt;Z -->\n",
       "<g id=\"edge2\" class=\"edge\">\n",
       "<title>A-&gt;Z</title>\n",
       "<path fill=\"none\" stroke=\"black\" d=\"M71.75,-98C69.75,-98 67.75,-98 65.75,-98\"/>\n",
       "<polygon fill=\"black\" stroke=\"black\" points=\"65.79,-94.5 55.79,-98 65.79,-101.5 65.79,-94.5\"/>\n",
       "</g>\n",
       "<!-- Z&#45;&gt;Y -->\n",
       "<g id=\"edge3\" class=\"edge\">\n",
       "<title>Z-&gt;Y</title>\n",
       "<path fill=\"none\" stroke=\"black\" d=\"M41.92,-82.5C51.77,-72.92 64.86,-60.19 76.03,-49.34\"/>\n",
       "<polygon fill=\"black\" stroke=\"black\" points=\"78.29,-52.02 83.02,-42.54 73.41,-47 78.29,-52.02\"/>\n",
       "</g>\n",
       "<!-- U -->\n",
       "<g id=\"node4\" class=\"node\">\n",
       "<title>U</title>\n",
       "<ellipse fill=\"none\" stroke=\"black\" cx=\"126\" cy=\"-174.5\" rx=\"27\" ry=\"18\"/>\n",
       "<text text-anchor=\"middle\" x=\"126\" y=\"-169.45\" font-family=\"Times,serif\" font-size=\"14.00\">U</text>\n",
       "</g>\n",
       "<!-- U&#45;&gt;A -->\n",
       "<g id=\"edge4\" class=\"edge\">\n",
       "<title>U-&gt;A</title>\n",
       "<path fill=\"none\" stroke=\"black\" d=\"M119.87,-156.59C116.66,-147.74 112.65,-136.66 109,-126.6\"/>\n",
       "<polygon fill=\"black\" stroke=\"black\" points=\"112.31,-125.47 105.62,-117.26 105.73,-127.86 112.31,-125.47\"/>\n",
       "</g>\n",
       "<!-- U&#45;&gt;Y -->\n",
       "<g id=\"edge5\" class=\"edge\">\n",
       "<title>U-&gt;Y</title>\n",
       "<path fill=\"none\" stroke=\"black\" d=\"M132.91,-156.77C133.78,-154.05 134.52,-151.23 135,-148.5 140.23,-118.51 143.95,-109.1 135,-80 131.82,-69.65 125.85,-59.5 119.67,-50.91\"/>\n",
       "<polygon fill=\"black\" stroke=\"black\" points=\"122.55,-48.91 113.67,-43.13 117.01,-53.19 122.55,-48.91\"/>\n",
       "</g>\n",
       "</g>\n",
       "</svg>"
      ],
      "text/plain": [
       "<IPython.core.display.SVG object>"
      ]
     },
     "execution_count": 14,
     "metadata": {},
     "output_type": "execute_result"
    }
   ],
   "source": [
    "SVG(\"./images/confounder_and_interference_HCM.svg\")"
   ]
  },
  {
   "cell_type": "code",
   "execution_count": null,
   "id": "929943cc-bf2e-4d42-bef6-61384a614e82",
   "metadata": {},
   "outputs": [],
   "source": []
  },
  {
   "cell_type": "markdown",
   "id": "800b39ef-7d21-4d53-9f76-d25a98c0dc7e",
   "metadata": {},
   "source": [
    "Create the collapsed model as an NxMixed Graph\n",
    "\n",
    "Figure 2 (g)"
   ]
  },
  {
   "cell_type": "code",
   "execution_count": 17,
   "id": "edea0d6b-1c98-42a7-8a81-c1aba290cd1d",
   "metadata": {},
   "outputs": [],
   "source": [
    "conf_and_int_collapsed = collapse_HCM(conf_and_int_HCM)"
   ]
  },
  {
   "cell_type": "code",
   "execution_count": 18,
   "id": "8c4c8aa9-1126-4c08-94c1-d3ef63e57cda",
   "metadata": {},
   "outputs": [
    {
     "data": {
      "image/png": "[encoded data removed]",
      "text/plain": [
       "<Figure size 640x480 with 1 Axes>"
      ]
     },
     "metadata": {},
     "output_type": "display_data"
    }
   ],
   "source": [
    "conf_and_int_collapsed.draw()"
   ]
  },
  {
   "cell_type": "code",
   "execution_count": null,
   "id": "9952cd42-21e0-42b4-915a-d1407029f88d",
   "metadata": {},
   "outputs": [],
   "source": []
  },
  {
   "cell_type": "markdown",
   "id": "da4e0e26-0bc6-4da0-afe7-24c67ded0036",
   "metadata": {},
   "source": [
    "## Instrument\n",
    "\n",
    "Create the HCM in pygraphviz\n",
    "\n",
    "Figure 2 (i)"
   ]
  },
  {
   "cell_type": "code",
   "execution_count": 19,
   "id": "963be458-eba9-4c4d-bf04-744d154384b5",
   "metadata": {},
   "outputs": [],
   "source": [
    "instrument_HCM = HCM_from_lists(obs_subunits=['A','Z'], obs_units=['Y'], unobs_units=['U'], \n",
    "                                 edges=[('Z','A'), ('A','Y'), ('U','Y'), ('U','A')])\n",
    "instrument_HCM.layout(\"dot\")\n",
    "instrument_HCM.draw(\"./images/instrument_HCM.svg\")"
   ]
  },
  {
   "cell_type": "code",
   "execution_count": 20,
   "id": "34df41c3-71d1-4280-9672-7b29d885bb2f",
   "metadata": {},
   "outputs": [
    {
     "data": {
      "image/svg+xml": [
       "<svg xmlns=\"http://www.w3.org/2000/svg\" xmlns:xlink=\"http://www.w3.org/1999/xlink\" width=\"142pt\" height=\"221pt\" viewBox=\"0.00 0.00 142.00 220.50\">\n",
       "<g id=\"graph0\" class=\"graph\" transform=\"scale(1 1) rotate(0) translate(4 216.5)\">\n",
       "<polygon fill=\"white\" stroke=\"none\" points=\"-4,4 -4,-216.5 138,-216.5 138,4 -4,4\"/>\n",
       "<g id=\"clust1\" class=\"cluster\">\n",
       "<title>cluster_subunits</title>\n",
       "<polygon fill=\"none\" stroke=\"black\" stroke-dasharray=\"5,2\" points=\"0,-64 0,-212.5 70,-212.5 70,-64 0,-64\"/>\n",
       "<text text-anchor=\"middle\" x=\"35\" y=\"-195.2\" font-family=\"Times,serif\" font-size=\"14.00\">m</text>\n",
       "</g>\n",
       "<!-- A -->\n",
       "<g id=\"node1\" class=\"node\">\n",
       "<title>A</title>\n",
       "<ellipse fill=\"lightgrey\" stroke=\"lightgrey\" cx=\"35\" cy=\"-90\" rx=\"27\" ry=\"18\"/>\n",
       "<text text-anchor=\"middle\" x=\"35\" y=\"-84.95\" font-family=\"Times,serif\" font-size=\"14.00\">A</text>\n",
       "</g>\n",
       "<!-- Y -->\n",
       "<g id=\"node3\" class=\"node\">\n",
       "<title>Y</title>\n",
       "<ellipse fill=\"lightgrey\" stroke=\"lightgrey\" cx=\"66\" cy=\"-18\" rx=\"27\" ry=\"18\"/>\n",
       "<text text-anchor=\"middle\" x=\"66\" y=\"-12.95\" font-family=\"Times,serif\" font-size=\"14.00\">Y</text>\n",
       "</g>\n",
       "<!-- A&#45;&gt;Y -->\n",
       "<g id=\"edge2\" class=\"edge\">\n",
       "<title>A-&gt;Y</title>\n",
       "<path fill=\"none\" stroke=\"black\" d=\"M42.35,-72.41C45.86,-64.48 50.15,-54.78 54.12,-45.84\"/>\n",
       "<polygon fill=\"black\" stroke=\"black\" points=\"57.24,-47.41 58.09,-36.85 50.84,-44.58 57.24,-47.41\"/>\n",
       "</g>\n",
       "<!-- Z -->\n",
       "<g id=\"node2\" class=\"node\">\n",
       "<title>Z</title>\n",
       "<ellipse fill=\"lightgrey\" stroke=\"lightgrey\" cx=\"35\" cy=\"-162\" rx=\"27\" ry=\"18\"/>\n",
       "<text text-anchor=\"middle\" x=\"35\" y=\"-156.95\" font-family=\"Times,serif\" font-size=\"14.00\">Z</text>\n",
       "</g>\n",
       "<!-- Z&#45;&gt;A -->\n",
       "<g id=\"edge1\" class=\"edge\">\n",
       "<title>Z-&gt;A</title>\n",
       "<path fill=\"none\" stroke=\"black\" d=\"M35,-143.7C35,-136.41 35,-127.73 35,-119.54\"/>\n",
       "<polygon fill=\"black\" stroke=\"black\" points=\"38.5,-119.61 35,-109.61 31.5,-119.61 38.5,-119.61\"/>\n",
       "</g>\n",
       "<!-- U -->\n",
       "<g id=\"node4\" class=\"node\">\n",
       "<title>U</title>\n",
       "<ellipse fill=\"none\" stroke=\"black\" cx=\"107\" cy=\"-162\" rx=\"27\" ry=\"18\"/>\n",
       "<text text-anchor=\"middle\" x=\"107\" y=\"-156.95\" font-family=\"Times,serif\" font-size=\"14.00\">U</text>\n",
       "</g>\n",
       "<!-- U&#45;&gt;A -->\n",
       "<g id=\"edge3\" class=\"edge\">\n",
       "<title>U-&gt;A</title>\n",
       "<path fill=\"none\" stroke=\"black\" d=\"M92.08,-146.5C82.23,-136.92 69.14,-124.19 57.97,-113.34\"/>\n",
       "<polygon fill=\"black\" stroke=\"black\" points=\"60.59,-111.01 50.98,-106.55 55.71,-116.03 60.59,-111.01\"/>\n",
       "</g>\n",
       "<!-- U&#45;&gt;Y -->\n",
       "<g id=\"edge4\" class=\"edge\">\n",
       "<title>U-&gt;Y</title>\n",
       "<path fill=\"none\" stroke=\"black\" d=\"M102.05,-143.87C95.13,-119.88 82.46,-75.99 74.13,-47.16\"/>\n",
       "<polygon fill=\"black\" stroke=\"black\" points=\"77.52,-46.28 71.38,-37.64 70.79,-48.22 77.52,-46.28\"/>\n",
       "</g>\n",
       "</g>\n",
       "</svg>"
      ],
      "text/plain": [
       "<IPython.core.display.SVG object>"
      ]
     },
     "execution_count": 20,
     "metadata": {},
     "output_type": "execute_result"
    }
   ],
   "source": [
    "SVG(\"./images/instrument_HCM.svg\")"
   ]
  },
  {
   "cell_type": "code",
   "execution_count": null,
   "id": "fbf829af-63e0-4052-b598-ad6c172a682c",
   "metadata": {},
   "outputs": [],
   "source": []
  },
  {
   "cell_type": "markdown",
   "id": "fc16bbf5-fad8-44ae-91e5-535ec4812f72",
   "metadata": {},
   "source": [
    "Create the collapsed model as an NxMixedGraph\n",
    "\n",
    "Figure 2 (k)"
   ]
  },
  {
   "cell_type": "code",
   "execution_count": 21,
   "id": "2126ecc3-1b0e-4dc0-89e9-c0bca21f86f3",
   "metadata": {},
   "outputs": [],
   "source": [
    "collapsed_instrument = collapse_HCM(instrument_HCM)"
   ]
  },
  {
   "cell_type": "code",
   "execution_count": 22,
   "id": "0c8be96b-c0fc-4de9-9c63-4e098572c310",
   "metadata": {},
   "outputs": [
    {
     "data": {
      "image/png": "[encoded data removed]",
      "text/plain": [
       "<Figure size 640x480 with 1 Axes>"
      ]
     },
     "metadata": {},
     "output_type": "display_data"
    }
   ],
   "source": [
    "collapsed_instrument.draw()"
   ]
  },
  {
   "cell_type": "code",
   "execution_count": null,
   "id": "ab9482b0-5a74-4d20-b417-15ab2cb4a973",
   "metadata": {},
   "outputs": [],
   "source": []
  }
 ],
 "metadata": {
  "kernelspec": {
   "display_name": "Python 3 (ipykernel)",
   "language": "python",
   "name": "python3"
  },
  "language_info": {
   "codemirror_mode": {
    "name": "ipython",
    "version": 3
   },
   "file_extension": ".py",
   "mimetype": "text/x-python",
   "name": "python",
   "nbconvert_exporter": "python",
   "pygments_lexer": "ipython3",
   "version": "3.11.9"
  }
 },
 "nbformat": 4,
 "nbformat_minor": 5
}
