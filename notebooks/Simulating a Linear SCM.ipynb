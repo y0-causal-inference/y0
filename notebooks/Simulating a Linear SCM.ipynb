{
 "cells": [
  {
   "cell_type": "markdown",
   "id": "e5d46eae",
   "metadata": {},
   "source": [
    "This notebook demonstrates how a DAG can be used in combination with the assignment of a distribution to each node and a weight to each edge to create a linear SCM."
   ]
  },
  {
   "cell_type": "code",
   "execution_count": 1,
   "id": "eligible-stephen",
   "metadata": {},
   "source": [
    "import sys\n",
    "import time\n",
    "from functools import partial\n",
    "\n",
    "import matplotlib.pyplot as plt\n",
    "import numpy as np\n",
    "import seaborn as sns\n",
    "from numpy.random import normal, uniform\n",
    "\n",
    "from y0.algorithm.estimation.linear_scm import get_single_door\n",
    "from y0.dsl import Z1, Z2, X, Y, Z\n",
    "from y0.examples import backdoor_example, frontdoor_example, napkin_example\n",
    "from y0.simulation import example_generators, example_graph, get_fits_df, simulate"
   ],
   "outputs": []
  },
  {
   "cell_type": "code",
   "execution_count": 2,
   "id": "hungarian-european",
   "metadata": {},
   "source": [
    "print(sys.version)"
   ],
   "outputs": []
  },
  {
   "cell_type": "code",
   "execution_count": 3,
   "id": "trying-gibson",
   "metadata": {},
   "source": [
    "print(time.asctime())"
   ],
   "outputs": []
  },
  {
   "cell_type": "code",
   "execution_count": 4,
   "id": "hybrid-temperature",
   "metadata": {},
   "source": [
    "from matplotlib_inline.backend_inline import set_matplotlib_formats\n",
    "\n",
    "set_matplotlib_formats(\"svg\")"
   ],
   "outputs": []
  },
  {
   "cell_type": "code",
   "execution_count": 5,
   "id": "80df088b-a8bb-4571-9019-6342d6a0ad7e",
   "metadata": {},
   "source": [
    "np.random.seed(42)"
   ],
   "outputs": []
  },
  {
   "cell_type": "code",
   "execution_count": 6,
   "id": "round-lesson",
   "metadata": {},
   "source": [
    "example_graph.draw(prog=\"neato\")"
   ],
   "outputs": []
  },
  {
   "cell_type": "code",
   "execution_count": 7,
   "id": "d65eea31-7c77-4c1e-b651-dd824b5b017d",
   "metadata": {},
   "source": [
    "example_graph.to_linear_scm_latex()"
   ],
   "outputs": []
  },
  {
   "cell_type": "markdown",
   "id": "ee0a8ddf",
   "metadata": {},
   "source": [
    "## Simulating Data\n",
    "\n",
    "It's possible to simulate data using a linear structural causal model (SCM) given the following:\n",
    "\n",
    "1. A directed acyclic graph (DAG) structure\n",
    "2. A scalar weight for each edge in the DAG\n",
    "3. A probability distribution for each node"
   ]
  },
  {
   "cell_type": "code",
   "execution_count": 8,
   "id": "protecting-fancy",
   "metadata": {},
   "source": [
    "df, fits = simulate(example_graph, generators=example_generators, trials=5000)"
   ],
   "outputs": []
  },
  {
   "cell_type": "markdown",
   "id": "7502979b",
   "metadata": {},
   "source": [
    "Ultimately the simulation provides _trials_ number of data points:"
   ]
  },
  {
   "cell_type": "code",
   "execution_count": 9,
   "id": "2614fc06",
   "metadata": {},
   "source": [
    "df"
   ],
   "outputs": []
  },
  {
   "cell_type": "markdown",
   "id": "36d74277",
   "metadata": {},
   "source": [
    "The simulation also performs several calculations over each pair of variables:\n",
    "\n",
    "1. What's the correlation coefficient ($r^2$) between the variables?\n",
    "2. Are the variables d-separated (i.e., conditionally independent)?"
   ]
  },
  {
   "cell_type": "code",
   "execution_count": 10,
   "id": "3dc0fec8-e4af-40a1-b0d0-a23e887204d0",
   "metadata": {},
   "source": [
    "param_df = get_fits_df(fits)\n",
    "param_df"
   ],
   "outputs": []
  },
  {
   "cell_type": "markdown",
   "id": "8f90f51a",
   "metadata": {},
   "source": [
    "The following plot demonstrates that variables that are d-separated (i.e., conditionally independent) have effectively no correlation."
   ]
  },
  {
   "cell_type": "code",
   "execution_count": 11,
   "id": "7eda7f74",
   "metadata": {},
   "source": [
    "sns.swarmplot(data=param_df, y=\"d_separated\", x=\"r2\", orient=\"h\")\n",
    "plt.show()"
   ],
   "outputs": []
  },
  {
   "cell_type": "markdown",
   "id": "f68d826e-9dee-4467-86e0-e2298c31df0f",
   "metadata": {},
   "source": [
    "In the following, we estimate parameter values for a linear SCM using backdoor adjustment"
   ]
  },
  {
   "cell_type": "code",
   "execution_count": 12,
   "id": "2cd489c7-645d-4f94-8e5d-665a12828abf",
   "metadata": {},
   "source": [
    "edge_parameters = get_single_door(example_graph, df)\n",
    "edge_parameters"
   ],
   "outputs": []
  },
  {
   "cell_type": "markdown",
   "id": "79977dfb-f709-4f13-9bf7-a8563d78d0dc",
   "metadata": {},
   "source": [
    "## Backdoor example"
   ]
  },
  {
   "cell_type": "code",
   "execution_count": 13,
   "id": "203576de-d026-44bd-85e4-264f380dacdb",
   "metadata": {},
   "source": [
    "backdoor_example.graph.draw()"
   ],
   "outputs": []
  },
  {
   "cell_type": "code",
   "execution_count": 14,
   "id": "f5511e7c-8371-49e0-b920-a74cde09d1ef",
   "metadata": {},
   "source": [
    "backdoor_example.graph.to_linear_scm_latex()"
   ],
   "outputs": []
  },
  {
   "cell_type": "code",
   "execution_count": 15,
   "id": "80c2dd9c-28d4-4f13-904a-7b298a7a22a6",
   "metadata": {},
   "source": [
    "backdoor_generators = {\n",
    "    X: partial(uniform, low=-1.0, high=1.0),\n",
    "    Y: partial(uniform, low=-2.0, high=2.0),\n",
    "    Z: partial(normal, loc=0.0, scale=1.0),\n",
    "}"
   ],
   "outputs": []
  },
  {
   "cell_type": "code",
   "execution_count": 16,
   "id": "207022d1-2611-4e71-8d5c-dd8baa30c08b",
   "metadata": {},
   "source": [
    "backdoor_df, backdoor_fits = simulate(\n",
    "    backdoor_example.graph, generators=backdoor_generators, trials=5000\n",
    ")\n",
    "backdoor_df"
   ],
   "outputs": []
  },
  {
   "cell_type": "code",
   "execution_count": 17,
   "id": "120bfb71-799a-451a-b1a0-ba283ade74e4",
   "metadata": {},
   "source": [
    "get_fits_df(backdoor_fits)"
   ],
   "outputs": []
  },
  {
   "cell_type": "code",
   "execution_count": 18,
   "id": "fc2e3d86-7938-45bb-9427-784856de3a67",
   "metadata": {},
   "source": [
    "backdoor_parameters = get_single_door(backdoor_example.graph, backdoor_df)\n",
    "backdoor_parameters"
   ],
   "outputs": []
  },
  {
   "cell_type": "markdown",
   "id": "8573959c-dd00-4398-82ef-14b2e89c02e4",
   "metadata": {},
   "source": [
    "## Frontdoor example"
   ]
  },
  {
   "cell_type": "code",
   "execution_count": 19,
   "id": "d1458e48-f5c4-414a-9bc6-2456822071c3",
   "metadata": {},
   "source": [
    "frontdoor_example.graph.draw()"
   ],
   "outputs": []
  },
  {
   "cell_type": "code",
   "execution_count": 20,
   "id": "689947f8-b02c-4eb9-a042-e9d5caa9abee",
   "metadata": {},
   "source": [
    "frontdoor_example.graph.to_linear_scm_latex()"
   ],
   "outputs": []
  },
  {
   "cell_type": "code",
   "execution_count": 21,
   "id": "2697f2ef-bcea-46b9-8e87-c2d931e326d8",
   "metadata": {},
   "source": [
    "frontdoor_generators = {\n",
    "    X: partial(uniform, low=-1.0, high=1.0),\n",
    "    Y: partial(uniform, low=-2.0, high=2.0),\n",
    "    Z: partial(normal, loc=0.0, scale=1.0),\n",
    "}"
   ],
   "outputs": []
  },
  {
   "cell_type": "code",
   "execution_count": 22,
   "id": "66e003bd-ee71-4e6d-8a0e-a668a2a003fd",
   "metadata": {},
   "source": [
    "frontdoor_df, frontdoor_fits = simulate(\n",
    "    frontdoor_example.graph, generators=frontdoor_generators, trials=5000\n",
    ")\n",
    "frontdoor_df"
   ],
   "outputs": []
  },
  {
   "cell_type": "code",
   "execution_count": 23,
   "id": "c64aeb7a-ef5b-4cec-a6e6-367b2bbf7120",
   "metadata": {},
   "source": [
    "get_fits_df(frontdoor_fits)"
   ],
   "outputs": []
  },
  {
   "cell_type": "code",
   "execution_count": 24,
   "id": "328f6d56-e625-4966-96b0-621526201722",
   "metadata": {},
   "source": [
    "frontdoor_parameters = get_single_door(frontdoor_example.graph, frontdoor_df)\n",
    "frontdoor_parameters"
   ],
   "outputs": []
  },
  {
   "cell_type": "markdown",
   "id": "de5b4a18-a88f-45c4-b841-0b58e74ac01a",
   "metadata": {},
   "source": [
    "## Napkin example"
   ]
  },
  {
   "cell_type": "code",
   "execution_count": 25,
   "id": "1075436d-0831-4d6c-91f1-59c7568a476e",
   "metadata": {},
   "source": [
    "napkin_example.graph.draw()"
   ],
   "outputs": []
  },
  {
   "cell_type": "code",
   "execution_count": 26,
   "id": "5402e06b-a97f-4b21-908b-14f11c393f97",
   "metadata": {},
   "source": [
    "napkin_example.graph.to_linear_scm_latex()"
   ],
   "outputs": []
  },
  {
   "cell_type": "code",
   "execution_count": 27,
   "id": "049641bf-2e8f-46ac-94be-ba1f83f4152f",
   "metadata": {},
   "source": [
    "napkin_generators = {\n",
    "    X: partial(uniform, low=-1.0, high=1.0),\n",
    "    Y: partial(uniform, low=-2.0, high=2.0),\n",
    "    Z1: partial(normal, loc=0.0, scale=1.0),\n",
    "    Z2: partial(normal, loc=0.0, scale=1.0),\n",
    "}"
   ],
   "outputs": []
  },
  {
   "cell_type": "code",
   "execution_count": 28,
   "id": "5fad17a2-2190-44d9-82cf-f4814a0cec2e",
   "metadata": {},
   "source": [
    "napkin_df, napkin_fits = simulate(napkin_example.graph, generators=napkin_generators, trials=5000)\n",
    "napkin_df"
   ],
   "outputs": []
  },
  {
   "cell_type": "code",
   "execution_count": 29,
   "id": "370f51e5-56fa-4da4-8004-bb925f40f31d",
   "metadata": {},
   "source": [
    "get_fits_df(napkin_fits)"
   ],
   "outputs": []
  },
  {
   "cell_type": "code",
   "execution_count": 30,
   "id": "60813389-57e4-4f86-b5c6-57858817ba10",
   "metadata": {},
   "source": [
    "napkin_parameters = get_single_door(napkin_example.graph, napkin_df)\n",
    "napkin_parameters"
   ],
   "outputs": []
  }
 ],
 "metadata": {
  "kernelspec": {
   "display_name": "Python 3 (ipykernel)",
   "language": "python",
   "name": "python3"
  },
  "language_info": {
   "codemirror_mode": {
    "name": "ipython",
    "version": 3
   },
   "file_extension": ".py",
   "mimetype": "text/x-python",
   "name": "python",
   "nbconvert_exporter": "python",
   "pygments_lexer": "ipython3",
   "version": "3.12.4"
  }
 },
 "nbformat": 4,
 "nbformat_minor": 5
}
