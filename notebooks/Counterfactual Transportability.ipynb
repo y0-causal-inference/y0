{
 "cells": [
  {
   "cell_type": "markdown",
   "id": "74d52a6f-e942-40a4-a3b3-fda1a72e90aa",
   "metadata": {},
   "source": [
    "# Counterfactual Transportability\n",
    "\n",
    "This notebook is a demonstration of algorithms from Correa, Lee, and Bareinboim's 2022 paper, [Counterfactual Transportability: A Formal Approach](https://proceedings.mlr.press/v162/correa22a/correa22a.pdf)."
   ]
  },
  {
   "cell_type": "code",
   "execution_count": 28,
   "id": "2006c3a7-bb08-4f5d-9015-fbea48ce15aa",
   "metadata": {},
   "outputs": [],
   "source": [
    "import logging\n",
    "\n",
    "from y0.algorithm.counterfactual_transport.api import (\n",
    "    CFTDomain,\n",
    "    conditional_cft,\n",
    "    unconditional_cft,\n",
    "    transport_conditional_counterfactual_query\n",
    ")\n",
    "from y0.graph import NxMixedGraph\n",
    "from y0.algorithm.identify import identify_outcomes\n",
    "from y0.algorithm.transport import transport_variable\n",
    "from y0.dsl import (\n",
    "    PP,\n",
    "    TARGET_DOMAIN,\n",
    "    X1,\n",
    "    P,\n",
    "    Pi1,\n",
    "    R,\n",
    "    Variable,\n",
    "    A,\n",
    "    D,\n",
    "    W,\n",
    "    X,\n",
    "    Y,\n",
    "    Z,\n",
    ")\n",
    "from y0.graph import NxMixedGraph"
   ]
  },
  {
   "cell_type": "markdown",
   "id": "97081cb0-1015-4eb7-a25b-a35f27d172ce",
   "metadata": {},
   "source": [
    "## Motivating example\n",
    "\n",
    "Suppose in a study of vaccine efficacy we're interested in the causal effect of vaccination on being severely infected with COVID. \n",
    "* Let $V$ be an intervention variable indicating whether a person was vaccinated.  \n",
    "* Let $I$ be an outcome variable indicating whether a person was severely infected with COVID. Severe infection is affected by vaccination indirectly through the antibody biomarker response, and also directly through unobserved mechanisms that are independent of the antibody biomarker response.\n",
    "* Let $B$ be a mediator variable indicating their antibody Biomarker response to the vaccine, which also directly affects the likelihood of severe infection.\n",
    "* Let $D$ be a confounding variable indicating the person's age Demographics, which can affect both the likelihood of choosing vaccination and the likelihood of getting severely infected.\n",
    "\n",
    "There are also unobserved variables, such as media consumption, which might target particular age demographics and discourage vaccination.\n",
    "Another unobserved confounder might be the health status of the person, which could affect their antibody response and their likelihood of getting hospitalized."
   ]
  },
  {
   "cell_type": "code",
   "execution_count": 26,
   "id": "f9a895e1-3be5-4047-b473-6fb1d5ae4eb3",
   "metadata": {},
   "outputs": [
    {
     "data": {
      "image/png": "[encoded data removed]",
      "text/plain": [
       "<Figure size 640x480 with 1 Axes>"
      ]
     },
     "metadata": {},
     "output_type": "display_data"
    }
   ],
   "source": [
    "\n",
    "Vaccine, Biomarker, Demographic, Infected = Variable('V'), A, D, Variable('I')\n",
    "\n",
    "covid_graph = NxMixedGraph.from_edges(\n",
    "    directed=[\n",
    "        (Demographic, Vaccine),\n",
    "        (Demographic, Infected),\n",
    "        (Vaccine, Infected),\n",
    "        (Vaccine, Antibody),\n",
    "        (Antibody, Infected),\n",
    "    ],\n",
    "    undirected=[(Demographic, Vaccine), (Antibody, Infected)],\n",
    ")\n",
    "\n",
    "covid_graph.draw()\n"
   ]
  },
  {
   "cell_type": "code",
   "execution_count": 31,
   "id": "d0e8dbe1-d24e-4928-b5cc-c966b1ab4389",
   "metadata": {},
   "outputs": [],
   "source": [
    "conditions = [(Infected @ -Vaccine, +Infected)]\n",
    "outcomes = [(Infected @ -Antibody, -Infected)]\n",
    "domain_data = [(set(), PP[TARGET_DOMAIN](Demographic, Vaccine, Infected, Antibody))]\n",
    "domain_graphs = [\n",
    "    (\n",
    "        covid_graph,\n",
    "        covid_graph.topological_sort(),\n",
    "    ),\n",
    "]"
   ]
  },
  {
   "cell_type": "code",
   "execution_count": 32,
   "id": "72b65848-4302-4e31-8bfd-95801d907405",
   "metadata": {},
   "outputs": [],
   "source": [
    "logger = logging.getLogger(__name__)"
   ]
  },
  {
   "cell_type": "code",
   "execution_count": 33,
   "id": "8caa14ff-3d80-4060-a0c0-794a22f73a77",
   "metadata": {},
   "outputs": [],
   "source": [
    "test_1 = transport_conditional_counterfactual_query(\n",
    "    outcomes=outcomes,\n",
    "    conditions=conditions,\n",
    "    target_domain_graph=covid_graph,\n",
    "    domain_graphs=domain_graphs,\n",
    "    domain_data=domain_data,\n",
    ")"
   ]
  },
  {
   "cell_type": "code",
   "execution_count": 34,
   "id": "38cab0f5-3b95-4e5d-a296-e2082f97dd95",
   "metadata": {},
   "outputs": [
    {
     "name": "stdout",
     "output_type": "stream",
     "text": [
      "ConditionalCFTResult(expression=((Sum[A, D, V](PP[pi*](A | V, D) * PP[pi*](I | V, A, D) * PP[pi*](D) * PP[pi*](V | D)) / Sum[A, D, V](PP[pi*](A | V, D) * PP[pi*](I | V, A, D) * PP[pi*](D) * PP[pi*](V | D)))), event=[(I, -I), (I, +I)])\n"
     ]
    }
   ],
   "source": [
    "print(str(test_1))"
   ]
  },
  {
   "cell_type": "code",
   "execution_count": 35,
   "id": "52033878-d586-408c-b243-a054be1c5b35",
   "metadata": {},
   "outputs": [
    {
     "data": {
      "text/latex": [
       "$P(I^{-}, I^{+})$"
      ],
      "text/plain": [
       "P(-I, +I)"
      ]
     },
     "metadata": {},
     "output_type": "display_data"
    },
    {
     "data": {
      "text/latex": [
       "$\\frac{\\sum\\limits_{A, D, V} P^{\\pi^\\ast}(A | V, D) P^{\\pi^\\ast}(I | V, A, D) P^{\\pi^\\ast}(D) P^{\\pi^\\ast}(V | D)}{\\sum\\limits_{A, D, V} P^{\\pi^\\ast}(A | V, D) P^{\\pi^\\ast}(I | V, A, D) P^{\\pi^\\ast}(D) P^{\\pi^\\ast}(V | D)}$"
      ],
      "text/plain": [
       "((Sum[A, D, V](PP[pi*](A | V, D) * PP[pi*](I | V, A, D) * PP[pi*](D) * PP[pi*](V | D)) / Sum[A, D, V](PP[pi*](A | V, D) * PP[pi*](I | V, A, D) * PP[pi*](D) * PP[pi*](V | D))))"
      ]
     },
     "metadata": {},
     "output_type": "display_data"
    }
   ],
   "source": [
    "test_1.display()"
   ]
  },
  {
   "cell_type": "code",
   "execution_count": 36,
   "id": "2478e250-5e44-495c-917f-4694ef036f11",
   "metadata": {},
   "outputs": [],
   "source": [
    "# Case 2\n",
    "conditions_2 = [(Infected @ -Antibody, -Infected)]\n",
    "outcomes_2 = [(Infected @ -Infected, -Infected)]"
   ]
  },
  {
   "cell_type": "code",
   "execution_count": 37,
   "id": "d08712db-40ef-4f1a-bb8a-cdacb2361776",
   "metadata": {},
   "outputs": [],
   "source": [
    "test_2 = transport_conditional_counterfactual_query(\n",
    "    outcomes=outcomes_2,\n",
    "    conditions=conditions_2,\n",
    "    target_domain_graph=covid_graph,\n",
    "    domain_graphs=domain_graphs,\n",
    "    domain_data=domain_data,\n",
    ")"
   ]
  },
  {
   "cell_type": "code",
   "execution_count": 38,
   "id": "c9a4e0bc-1d53-4c19-97e7-560ac13a8196",
   "metadata": {},
   "outputs": [
    {
     "data": {
      "text/latex": [
       "$P(I^{-})$"
      ],
      "text/plain": [
       "P(-I)"
      ]
     },
     "metadata": {},
     "output_type": "display_data"
    },
    {
     "data": {
      "text/latex": [
       "$\\frac{\\sum\\limits_{A, D, V} P^{\\pi^\\ast}(A | V, D) P^{\\pi^\\ast}(I | V, A, D) P^{\\pi^\\ast}(D) P^{\\pi^\\ast}(V | D)}{\\sum\\limits_{A, D, V} P^{\\pi^\\ast}(A | V, D) P^{\\pi^\\ast}(I | V, A, D) P^{\\pi^\\ast}(D) P^{\\pi^\\ast}(V | D)}$"
      ],
      "text/plain": [
       "((Sum[A, D, V](PP[pi*](A | V, D) * PP[pi*](I | V, A, D) * PP[pi*](D) * PP[pi*](V | D)) / Sum[A, D, V](PP[pi*](A | V, D) * PP[pi*](I | V, A, D) * PP[pi*](D) * PP[pi*](V | D))))"
      ]
     },
     "metadata": {},
     "output_type": "display_data"
    }
   ],
   "source": [
    "test_2.display()"
   ]
  },
  {
   "cell_type": "code",
   "execution_count": 42,
   "id": "0d2cad3b-4041-484f-af17-19532649846f",
   "metadata": {},
   "outputs": [],
   "source": [
    "# Case 3\n",
    "conditions_3 = [(Infected @ -Infected, -Infected)]\n",
    "outcomes_3 = [(Infected @ -Antibody, -Infected)]"
   ]
  },
  {
   "cell_type": "code",
   "execution_count": 43,
   "id": "da12aecf-c14c-4ce2-acd4-b9f8f600569b",
   "metadata": {},
   "outputs": [],
   "source": [
    "test_3 = transport_conditional_counterfactual_query(\n",
    "    outcomes=outcomes_3,\n",
    "    conditions=conditions_3,\n",
    "    target_domain_graph=covid_graph,\n",
    "    domain_graphs=domain_graphs,\n",
    "    domain_data=domain_data,\n",
    ")"
   ]
  },
  {
   "cell_type": "code",
   "execution_count": 44,
   "id": "b4dc5fdc-638e-4f3f-ae9a-281371c4acc2",
   "metadata": {},
   "outputs": [
    {
     "data": {
      "text/latex": [
       "$P(I^{-})$"
      ],
      "text/plain": [
       "P(-I)"
      ]
     },
     "metadata": {},
     "output_type": "display_data"
    },
    {
     "data": {
      "text/latex": [
       "$\\frac{\\sum\\limits_{A, D, V} P^{\\pi^\\ast}(A | V, D) P^{\\pi^\\ast}(I | V, A, D) P^{\\pi^\\ast}(D) P^{\\pi^\\ast}(V | D)}{\\sum\\limits_{A, D, V} P^{\\pi^\\ast}(A | V, D) P^{\\pi^\\ast}(I | V, A, D) P^{\\pi^\\ast}(D) P^{\\pi^\\ast}(V | D)}$"
      ],
      "text/plain": [
       "((Sum[A, D, V](PP[pi*](A | V, D) * PP[pi*](I | V, A, D) * PP[pi*](D) * PP[pi*](V | D)) / Sum[A, D, V](PP[pi*](A | V, D) * PP[pi*](I | V, A, D) * PP[pi*](D) * PP[pi*](V | D))))"
      ]
     },
     "metadata": {},
     "output_type": "display_data"
    }
   ],
   "source": [
    "test_3.display()"
   ]
  },
  {
   "cell_type": "code",
   "execution_count": 47,
   "id": "b4815b37-fe4d-43ed-a7d1-d2732000f6e1",
   "metadata": {},
   "outputs": [
    {
     "data": {
      "image/png": "[encoded data removed]",
      "text/plain": [
       "<Figure size 640x480 with 1 Axes>"
      ]
     },
     "metadata": {},
     "output_type": "display_data"
    }
   ],
   "source": [
    "Vaccinated = Variable(\"V\")\n",
    "Antibody = Variable(\"A\")\n",
    "Infected = Variable(\"I\")\n",
    "\n",
    "simple_covid_graph = NxMixedGraph.from_edges(\n",
    "    directed=[\n",
    "        (Vaccinated, Antibody),\n",
    "        (Antibody, Infected),\n",
    "        (Vaccinated, Infected),\n",
    "    ],\n",
    ")\n",
    "simple_covid_graph.draw()"
   ]
  },
  {
   "cell_type": "markdown",
   "id": "4557824f-9386-42f1-bfdc-ed3f1437864c",
   "metadata": {},
   "source": [
    "For purposes of simplicy, $V$ represents whether a vaccine was administered or not, $A$ represents the antibody response, and $I$ represents whether the person tested positive for COVID-19. The vaccine efficacy affects the likelihood of infection, but vaccination can also affect masking behavior by increasing a person's risk tolerance, and masking may affect a person's likelihood of COVID by adjusting the amount of initial viral load to which they were exposed. Thanks to an implementation of Shpitser's ID algorithm in $Y_0$, we can estimate the total effect of the vaccine on symptom duration:"
   ]
  },
  {
   "cell_type": "code",
   "execution_count": 48,
   "id": "d5921068-878a-4e90-bd6e-8c24ea78b053",
   "metadata": {},
   "outputs": [
    {
     "data": {
      "text/latex": [
       "$\\sum\\limits_{A} P(A | V) P(I | A, V)$"
      ],
      "text/plain": [
       "Sum[A](P(A | V) * P(I | A, V))"
      ]
     },
     "execution_count": 48,
     "metadata": {},
     "output_type": "execute_result"
    }
   ],
   "source": [
    "identify_outcomes(simple_covid_graph, treatments={Vaccinated}, outcomes={Infected})"
   ]
  },
  {
   "cell_type": "markdown",
   "id": "e6f958e5-f599-4247-8dd4-d4a3c48bd124",
   "metadata": {},
   "source": [
    "This model is of course too simplistic, because many unmeasured factors affect both the vaccine type and masking preferences such as medical history, social network effects, and so on. Let's represent those unmeasured factors, \"confounders\", by a bi-directed edge between Vaccinated and Antibody:"
   ]
  },
  {
   "cell_type": "code",
   "execution_count": 50,
   "id": "739daf0d-8bd4-42ba-a30b-3a89f748dee4",
   "metadata": {},
   "outputs": [
    {
     "data": {
      "image/png": "[encoded data removed]",
      "text/plain": [
       "<Figure size 640x480 with 1 Axes>"
      ]
     },
     "metadata": {},
     "output_type": "display_data"
    }
   ],
   "source": [
    "covid_with_confounders_graph = NxMixedGraph.from_edges(\n",
    "    directed=[\n",
    "        (Vaccinated, Antibody),\n",
    "        (Antibody, Infected),\n",
    "        (Vaccinated, Infected),\n",
    "    ],\n",
    "    undirected=[(Antibody, Vaccinated)],\n",
    ")\n",
    "covid_with_confounders_graph.draw()"
   ]
  },
  {
   "cell_type": "markdown",
   "id": "696f41ca-f0be-47d7-b424-394c3665b83f",
   "metadata": {},
   "source": [
    "The effect of vaccination type on symptom duration is not identifiable due to the confounders:"
   ]
  },
  {
   "cell_type": "code",
   "execution_count": 51,
   "id": "98c7ed1c-d89a-44bb-83eb-12da28758f18",
   "metadata": {},
   "outputs": [
    {
     "data": {
      "text/plain": [
       "True"
      ]
     },
     "execution_count": 51,
     "metadata": {},
     "output_type": "execute_result"
    }
   ],
   "source": [
    "identify_outcomes(\n",
    "    covid_with_confounders_graph, treatments={Vaccinated}, outcomes={Infected}\n",
    ") is None"
   ]
  },
  {
   "cell_type": "markdown",
   "id": "d8864ec2-12a4-4886-b1a7-0079f254ae48",
   "metadata": {},
   "source": [
    "The good news is that often we can determine a causal effect when a model is not identifiable by using experimental data from another setting, or by conditioning on additional variables. Let's see two examples in action!"
   ]
  },
  {
   "cell_type": "markdown",
   "id": "87bfbe15-636e-47b1-b022-708658ce23e3",
   "metadata": {},
   "source": [
    "## Conditional transportability example: vaccination and symptom duration"
   ]
  },
  {
   "cell_type": "markdown",
   "id": "7bc2659c-563f-4d93-913c-31dce4ac7ab7",
   "metadata": {},
   "source": [
    "Suppose a person was vaccinated $V=v$, and was not infected $I=i$, and we want to know the likelihood that they would be infected had they not been vaccinated  $I_{do(V = v^\\ast)}$. That would be represented in $Y_0$ as follows:"
   ]
  },
  {
   "cell_type": "code",
   "execution_count": 52,
   "id": "fd429978-6f58-4e36-9ab1-fc4a5c31b057",
   "metadata": {},
   "outputs": [
    {
     "data": {
      "text/latex": [
       "$P(I_{V^{+}} | I^{+}, V^{-})$"
      ],
      "text/plain": [
       "P(I @ +V | +I, -V)"
      ]
     },
     "metadata": {},
     "output_type": "display_data"
    }
   ],
   "source": [
    "# TODO check that this can't be written more succinctly with\n",
    "#  P(+Infected @ +Vaccinated | -Vaccinated)\n",
    "\n",
    "effect_of_vaccination_on_the_uninfected_vaccinated = P(\n",
    "    Infected @ +Vaccinated | +Infected, -Vaccinated\n",
    ")\n",
    "display(effect_of_vaccination_on_the_uninfected_vaccinated)"
   ]
  },
  {
   "cell_type": "markdown",
   "id": "dae5834c-3dfe-4ec2-9684-1ab35ce61ea8",
   "metadata": {},
   "source": [
    "Next, let's consider that we have two populations: an observational study in the United States, and a vaccine efficacy study in Australia in which people were randomly assigned to receive vaccine or placebo, and the effect on symptom duration was observed. Moreover, suppose the distribution of people who have an antibody response in Australia is different than in the United States due to population genetics."
   ]
  },
  {
   "cell_type": "code",
   "execution_count": 53,
   "id": "b30ded65-600d-4f95-bbec-94a6645392e1",
   "metadata": {},
   "outputs": [
    {
     "data": {
      "image/png": "[encoded data removed]",
      "text/plain": [
       "<Figure size 640x480 with 1 Axes>"
      ]
     },
     "metadata": {},
     "output_type": "display_data"
    }
   ],
   "source": [
    "# This graph represents the target domain, the United States.\n",
    "USA = Variable(\"USA\")\n",
    "\n",
    "observational_study_in_usa_graph = NxMixedGraph.from_edges(\n",
    "    directed=[\n",
    "        (Vaccinated, Antibody),\n",
    "        (Antibody, Infected),\n",
    "        (Vaccinated, Infected),\n",
    "    ],\n",
    "    undirected=[(Vaccinated, Antibody), (Vaccinated, Infected)],\n",
    ")\n",
    "observational_study_in_usa_graph.draw()"
   ]
  },
  {
   "cell_type": "code",
   "execution_count": 54,
   "id": "c19f4bf6-b46a-4ea5-a2c6-438233f7d8c2",
   "metadata": {},
   "outputs": [
    {
     "data": {
      "image/png": "[encoded data removed]",
      "text/plain": [
       "<Figure size 640x480 with 1 Axes>"
      ]
     },
     "metadata": {},
     "output_type": "display_data"
    }
   ],
   "source": [
    "Australia = Variable(\"AUS\")\n",
    "\n",
    "vaccine_efficacy_in_australia_graph = NxMixedGraph.from_edges(\n",
    "    directed=[\n",
    "        (Vaccinated, Antibody),\n",
    "        (Vaccinated, Infected),\n",
    "        (Antibody, Infected),\n",
    "        (transport_variable(Antibody), Antibody),\n",
    "    ],\n",
    "    undirected=[(Antibody, Infected)],\n",
    ")\n",
    "vaccine_efficacy_in_australia_graph.draw()"
   ]
  },
  {
   "cell_type": "markdown",
   "id": "4880f863-fae6-40a8-8521-d935c697c58b",
   "metadata": {},
   "source": [
    "The transportability node in the graph is there to remind us that the difference in the mask wearing populations prohibits us from directly running the Identify algorithm on the graph for the Australian population to estimate the effect of vaccine type on symptom duration for the American sample."
   ]
  },
  {
   "cell_type": "markdown",
   "id": "fa14d5dd-8bcb-4392-b002-18a7a201ee96",
   "metadata": {},
   "source": [
    "We can estimate the effect using the conditional counterfactual transportability algorithm in $Y_0$:"
   ]
  },
  {
   "cell_type": "code",
   "execution_count": 55,
   "id": "dae6ae64-f778-4caa-8afa-84c0a2d6191b",
   "metadata": {},
   "outputs": [
    {
     "data": {
      "text/latex": [
       "$P(I^{-}, V^{-})$"
      ],
      "text/plain": [
       "P(-I, -V)"
      ]
     },
     "metadata": {},
     "output_type": "display_data"
    },
    {
     "data": {
      "text/latex": [
       "$\\frac{\\sum\\limits_{A} P^{USA}(A | V) P^{USA}(I | A, V) P^{USA}(V)}{\\sum\\limits_{A, I} P^{USA}(A | V) P^{USA}(I | A, V) P^{USA}(V)}$"
      ],
      "text/plain": [
       "((Sum[A](PP[USA](A | V) * PP[USA](I | A, V) * PP[USA](V)) / Sum[A, I](PP[USA](A | V) * PP[USA](I | A, V) * PP[USA](V))))"
      ]
     },
     "metadata": {},
     "output_type": "display_data"
    }
   ],
   "source": [
    "# TODO this means literally nothing to a new reader. Need a data structure that implicitly annotates this\n",
    "vaccine_efficacy_in_usa_query = -Infected @ +Vaccinated\n",
    "\n",
    "# TODO this means literally nothing to a new reader. Need a data structure that implicitly annotates this\n",
    "unvaccinated_cohort = -Vaccinated\n",
    "\n",
    "domains = [\n",
    "    CFTDomain(\n",
    "        population=Australia,\n",
    "        graph=vaccine_efficacy_in_australia_graph,\n",
    "        policy_variables={Vaccinated},\n",
    "    ),\n",
    "    CFTDomain(\n",
    "        population=USA,\n",
    "        graph=observational_study_in_usa_graph,\n",
    "    ),\n",
    "]\n",
    "\n",
    "conditional_cft_result = conditional_cft(\n",
    "    outcomes=vaccine_efficacy_in_usa_query,\n",
    "    conditions=unvaccinated_cohort,\n",
    "    target_domain_graph=observational_study_in_usa_graph,\n",
    "    domains=domains,\n",
    ")\n",
    "\n",
    "conditional_cft_result.display()"
   ]
  },
  {
   "cell_type": "markdown",
   "id": "ec255bf6-f894-4060-b4b2-0968a28de2fd",
   "metadata": {},
   "source": [
    "For this example, it turns out that we can just compute the probability of symptom duration given vaccine type and masking preference for the United States, and we don't actually need the Australian data. That can happen. Note that Correa, Lee, and Bareinboim have an algorithm for _conditional transportability_ and an algorithm for _unconditional transportability_. Suppose we are interested in the probability that a person would get infected if they were unvacinated and they would not get infected if they were vaccinated"
   ]
  },
  {
   "cell_type": "code",
   "execution_count": 56,
   "id": "28eb7555-b07a-4cba-9885-5220fb42e8c2",
   "metadata": {},
   "outputs": [
    {
     "data": {
      "text/plain": [
       "True"
      ]
     },
     "execution_count": 56,
     "metadata": {},
     "output_type": "execute_result"
    }
   ],
   "source": [
    "event = [(+Infected @ -Vaccinated), (-Infected @ +Vaccinated)]\n",
    "unconditional_cft(\n",
    "    event=event, target_domain_graph=observational_study_in_usa_graph, domains=domains\n",
    ") is None"
   ]
  },
  {
   "cell_type": "markdown",
   "id": "d5338ec9-2432-4916-b578-45585fe8fac4",
   "metadata": {},
   "source": [
    "It turns out that there are not enough constraints provided by the assumptions of the model and the domain data to identify an answer the question.  "
   ]
  },
  {
   "cell_type": "markdown",
   "id": "4e15dc29-dce8-4f95-bf72-a679b41ff3e6",
   "metadata": {},
   "source": [
    "## Unconditional transportability example: anti-retroviral therapy (ART) and AIDS mortality\n",
    "\n",
    "Suppose we're interested in the effect of HIV anti-retroviral therapy ($T$) on mortality from AIDS ($A$) in Nigeria, in a model where the distance to the nearest clinic ($D$) affects mortality and selection into the type of ART regimen, while also being confounded with the ART treatment (e.g., personal income could affect the affordability of ARTs and the mode of transportation a person uses to access the clinic). Additionally, the ART treatment affects a person's CD4 count ($C$), which affects mortality from AIDS and is also confounded with mortality, as comorbidity with other diseases could affect both the CD4 count and AIDS-related mortality. Here's the graph:"
   ]
  },
  {
   "cell_type": "code",
   "execution_count": 24,
   "id": "6c9fb9a4-cf60-49e9-9261-c9fd74ed942c",
   "metadata": {},
   "outputs": [],
   "source": [
    "Therapy = Variable(\"T\")\n",
    "Distance = Variable(\"D\")\n",
    "CD4 = Variable(\"C\")\n",
    "AIDS = Variable(\"A\")\n",
    "\n",
    "nigeria_population = Variable(r\"\\text{Nigeria}\")\n",
    "\n",
    "nigeria_graph = NxMixedGraph.from_edges(\n",
    "    directed=[\n",
    "        (Distance, Therapy),\n",
    "        (Distance, AIDS),\n",
    "        (Therapy, AIDS),\n",
    "        (Therapy, CD4),\n",
    "        (CD4, AIDS),\n",
    "    ],\n",
    "    undirected=[(Distance, Therapy), (CD4, AIDS)],\n",
    ")\n",
    "nigeria_graph.draw()"
   ]
  },
  {
   "cell_type": "markdown",
   "id": "e5a7b1d7-1bb0-41a7-a0ba-a5e83b4fd9cf",
   "metadata": {},
   "source": [
    "Earlier in the AIDS epidemic, rumors existed in some parts of Africa that ARTs and not the HIV virus were responsible for causing AIDS, and that raised concerns at the time that some people may not take ARTs even were they made available. Assuming that a program to provide ARTs to the public would only work if people are willing to take the drugs, suppose we want to know what receiving ARTs ($t_0$) does to AIDS-related mortality in a target population $\\pi^\\ast$, but specifically for people who choose to receive generic ARTs. So, we care about the difference in mortality for a person who chooses to take ARTs, compared to those for a person required to take them. Thus, we wish to know $E[A_{t_0} | t_0] - E[A_t | t_0]$. The first quantity is $E[A | t_0] = \\frac{E[A, t_0]}{E[t_0]}$, and the second is $E[A_t | t_0] = \\frac{E[A_t, t_0]}{E[t_0]}$. Let's estimate $E[A_t, t_0]$ using `transport_unconditional_counterfactual_query()`, introducing our data sets first."
   ]
  },
  {
   "cell_type": "markdown",
   "id": "a973ebca-5104-4c78-b213-cc822a604af4",
   "metadata": {},
   "source": [
    "### Data\n",
    "\n",
    "Here we imagine we have a study in a different country (Ghana) than the target country (Nigeria) in which ARTs were delivered to participants' villages directly, removing the bi-directed edge between $D$ and $T$. But the study population, $\\pi^{\\text{Ghana}}$, has a different distribution of distance to the nearest clinic than our population of interest $\\pi^{\\text{Nigeria}}$:\n"
   ]
  },
  {
   "cell_type": "code",
   "execution_count": 25,
   "id": "527393de-74bf-4988-81ea-48d728a80abc",
   "metadata": {},
   "outputs": [],
   "source": [
    "ghana_population = Variable(r\"\\text{Ghana}\")\n",
    "ghana_with_delivery_graph = NxMixedGraph.from_edges(\n",
    "    directed=[\n",
    "        (Therapy, AIDS),\n",
    "        (Therapy, CD4),\n",
    "        (CD4, AIDS),\n",
    "        (Distance, AIDS),\n",
    "        (transport_variable(Distance), Distance),\n",
    "    ],\n",
    "    undirected=[\n",
    "        (CD4, AIDS),\n",
    "    ],\n",
    ")\n",
    "ghana_with_delivery_graph.draw()"
   ]
  },
  {
   "cell_type": "markdown",
   "id": "72417bc1-30c6-4b1a-9395-b30fa5855dda",
   "metadata": {},
   "source": [
    "The second set of data is an observational study in a high-risk population of injecting drug users, $\\pi^{\\text{Drug}}$, for which the overall CD4 count distribution is also different than the target population $\\pi^{\\text{Nigeria}}$ but the distribution of distances to the nearest clinic is the same:"
   ]
  },
  {
   "cell_type": "code",
   "execution_count": 26,
   "id": "0c8a8b98-d1d5-486a-8938-2694e697dcc7",
   "metadata": {},
   "outputs": [],
   "source": [
    "# From [correa22a]_, Figure 3b.\n",
    "drug_user_population = Variable(r\"\\text{Drug}\")\n",
    "drug_user_graph = NxMixedGraph.from_edges(\n",
    "    directed=[\n",
    "        (Distance, Therapy),\n",
    "        (Distance, AIDS),\n",
    "        (Therapy, AIDS),\n",
    "        (Therapy, CD4),\n",
    "        (CD4, AIDS),\n",
    "        (transport_variable(CD4), CD4),\n",
    "    ],\n",
    "    undirected=[(Distance, Therapy), (CD4, AIDS)],\n",
    ")\n",
    "drug_user_graph.draw()"
   ]
  },
  {
   "cell_type": "markdown",
   "id": "3981da86-318c-427f-a39b-39537973cd78",
   "metadata": {},
   "source": [
    "Let's estimate $E[A_t, t_0]$:"
   ]
  },
  {
   "cell_type": "code",
   "execution_count": 27,
   "id": "db5547eb-7a56-40b0-b19f-ff6215fdffd7",
   "metadata": {},
   "outputs": [],
   "source": [
    "effect_of_do_art_on_aids_query = [-AIDS @ -Therapy, +Therapy]\n",
    "\n",
    "art_for_aids_domains = [\n",
    "    # CFTDomain(\n",
    "    #     graph=nigeria_graph,\n",
    "    #     population=nigeria_population,\n",
    "    # ),\n",
    "    CFTDomain(\n",
    "        population=ghana_population,\n",
    "        graph=ghana_with_delivery_graph,\n",
    "        policy_variables={Therapy},\n",
    "    ),\n",
    "    CFTDomain(\n",
    "        population=drug_user_population,\n",
    "        graph=drug_user_graph,\n",
    "    ),\n",
    "]\n",
    "\n",
    "do_art_on_aids_result = unconditional_cft(\n",
    "    event=effect_of_do_art_on_aids_query,\n",
    "    target_domain_graph=nigeria_graph,\n",
    "    domains=art_for_aids_domains,\n",
    ")\n",
    "do_art_on_aids_result.display()"
   ]
  },
  {
   "cell_type": "markdown",
   "id": "93361a08-cbd1-4811-a474-6caaa7719d20",
   "metadata": {},
   "source": [
    "Here we can see the results from the two domain populations getting combined to resolve a causal query for the target population! That result matches Equation 4 in Correa, Lee, and Bareinboim net of some simplification. Next, here's $E[A, t_0]$:"
   ]
  },
  {
   "cell_type": "code",
   "execution_count": 28,
   "id": "d841be71-c1fc-40a5-9def-4b17e7a430b2",
   "metadata": {},
   "outputs": [],
   "source": [
    "effect_of_see_art_on_aids_query = [-AIDS, +Therapy]\n",
    "see_art_for_aids_unconditional_result = unconditional_cft(\n",
    "    event=effect_of_see_art_on_aids_query,\n",
    "    target_domain_graph=nigeria_graph,\n",
    "    domains=art_for_aids_domains,\n",
    ")\n",
    "see_art_for_aids_unconditional_result.display()"
   ]
  },
  {
   "cell_type": "markdown",
   "id": "34b2f51b-98ec-4850-b724-e323f56a80d8",
   "metadata": {},
   "source": [
    "Compare this result to Equation 5 in Correa, Lee, and Bareinboim. Combining these two results, we can estimate our causal effect of interest."
   ]
  },
  {
   "cell_type": "markdown",
   "id": "98697b37-c632-4059-b9f5-da137cb275de",
   "metadata": {},
   "source": [
    "It's worth noting we can also use `transport_conditional_counterfactual_query()` to estimate $P(A_t | t_0)$. The result is messier, but simplifying it and multiplying by $P(t_0)$ gives us the unconditional query result:"
   ]
  },
  {
   "cell_type": "code",
   "execution_count": 29,
   "id": "4087fd18-a10c-4d7b-bd09-8f2905d948c7",
   "metadata": {},
   "outputs": [],
   "source": [
    "do_art_see_no_art_result = conditional_cft(\n",
    "    outcomes=-AIDS @ -Therapy,\n",
    "    conditions=+Therapy,\n",
    "    target_domain_graph=nigeria_graph,\n",
    "    domains=art_for_aids_domains,\n",
    ")\n",
    "do_art_see_no_art_result.display()"
   ]
  },
  {
   "cell_type": "markdown",
   "id": "2ff6a431-626e-495e-ab14-032daafe7bcf",
   "metadata": {},
   "source": [
    "## Climate change example: carbon taxes and cloud seeding"
   ]
  },
  {
   "cell_type": "markdown",
   "id": "4c455030-5185-40f0-843b-0c57dc4ff302",
   "metadata": {},
   "source": [
    "Recent years have seen an increase in heat domes in North America and other extremes in hot and cold weather. One theory for their increase in frequency is that as the temperature of the earth rises and the polar ice caps melt the temperature differential between the poles and the equator drops, leading to a slowing-down of the jet stream that causes it to meander like a river does on a shallow grade compared to a steep slope. That in turn can create \"heat domes\" during the summer -- places where the jet stream deviates to the north, along with associated fires and droughts. It can also create copious amounts of snowfall and frigid winters elsewhere for the same reason. Let's consider a scenario in which the United States, concerned about heat domes and their effects on reservoir levels in the future, is considering imposing a carbon tax in order to both directly affect temperatures and also subsidize cities such as New York to conduct cloud seeding to keep reservoirs filled during emergencies. A graph might look like the following:"
   ]
  },
  {
   "cell_type": "code",
   "execution_count": 30,
   "id": "a7068607-2108-49d0-8b97-d85313dde0ba",
   "metadata": {},
   "outputs": [],
   "source": [
    "# Based on [correa20a]_, Figure 1.\n",
    "USA_population = Variable(r\"\\text{USA}\")\n",
    "Temperature = Variable(\"T\")\n",
    "JetStream = Variable(\"J\")\n",
    "Rainfall = Variable(\"R\")\n",
    "WaterSupply = Variable(\"W\")\n",
    "\n",
    "USA_graph = NxMixedGraph.from_edges(\n",
    "    directed=[\n",
    "        (Temperature, JetStream),\n",
    "        (Temperature, Rainfall),\n",
    "        (JetStream, Rainfall),\n",
    "        (Temperature, WaterSupply),\n",
    "        (Rainfall, WaterSupply),\n",
    "    ],\n",
    "    undirected=[(Temperature, JetStream), (Rainfall, WaterSupply)],\n",
    ")\n",
    "USA_graph.draw()"
   ]
  },
  {
   "cell_type": "markdown",
   "id": "c75cc09a-be6d-46ab-a579-e13454d74add",
   "metadata": {},
   "source": [
    "In this graph, rising temperature affects the speed of the jet stream. It also indirectly increases precipitation by evaporating water on land and directly decreases reservoir volumes by evaporating reservoir water. Natural phenomena such as El Niño or the 18-year period of nutation of the planet on its axis may affect both temperature and the jet stream velocity, hence the bidirected edge between $J$ and $T$. Rainfall of course directly affects reservoir volumes, and other factors such as land usage affect both precipitation and reservoir volumes. "
   ]
  },
  {
   "cell_type": "markdown",
   "id": "66bb265d-34e9-48c2-a319-a04478b4ec77",
   "metadata": {},
   "source": [
    "Suppose that Washington DC is contemplating the effect of a carbon tax, which for the purpose of simplicity we represent as a policy directly affecting temperature. The tax will also pay for a program to seed clouds whenever the jet stream meanders north during the summer and creates heat domes over the water supplies of large urban centers. The policy would therefore look as follows:"
   ]
  },
  {
   "cell_type": "code",
   "execution_count": 31,
   "id": "abf97ef7-5f9c-4a90-ae57-3ccb0d074943",
   "metadata": {},
   "outputs": [],
   "source": [
    "USA_graph_under_policy = NxMixedGraph.from_edges(\n",
    "    directed=[\n",
    "        (Temperature, JetStream),\n",
    "        (Temperature, Rainfall),\n",
    "        (JetStream, Rainfall),\n",
    "        (Temperature, WaterSupply),\n",
    "        (Rainfall, WaterSupply),\n",
    "    ],\n",
    ")\n",
    "USA_graph_under_policy.draw()"
   ]
  },
  {
   "cell_type": "markdown",
   "id": "b53c173e-b63d-4a1c-a781-27abd2216e63",
   "metadata": {},
   "source": [
    "To do its forecasting, the United States government only has observational data from the US. Suppose that China, however, has already conducted experiments with using a carbon tax to pay for cloud seeding -- except that the timing of cloud seeding was not a function of the jet stream velocity but rather the occurrence of holidays and other special events that can be assumed to be independent of fluctuations in the jet stream. Furthermore, cities in China are more densely populated than in the United States, so we represent a different baseline distribution of reservoir volumes with a transportability node:"
   ]
  },
  {
   "cell_type": "code",
   "execution_count": 32,
   "id": "6f9057cb-4e1e-42ce-9865-b33639621d04",
   "metadata": {},
   "outputs": [],
   "source": [
    "China_population = Variable(r\"\\text{China}\")\n",
    "China_graph = NxMixedGraph.from_edges(\n",
    "    directed=[\n",
    "        (Temperature, JetStream),\n",
    "        (Temperature, Rainfall),\n",
    "        (Temperature, WaterSupply),\n",
    "        (Rainfall, WaterSupply),\n",
    "        (transport_variable(WaterSupply), WaterSupply),\n",
    "    ],\n",
    ")\n",
    "China_graph.draw()"
   ]
  },
  {
   "cell_type": "markdown",
   "id": "2ce6f76d-fdfa-4c1a-969f-82945fa5e2ac",
   "metadata": {},
   "source": [
    "Finally, we have data from a cloud seeding experiment in South Africa in which clouds were seeded whenever cities experienced heat domes, but which did not involve the imposition of a carbon tax. South Africa is in the Southern Hemisphere, so the jet stream will move differently than in the case of the United States and China and we attach a transportability node to the `JetStream` variable. Additionally, the absence of a carbon tax implies no intervention in the temperatures, so the bidirectional edge between `Temperature` and `JetStream` remains. "
   ]
  },
  {
   "cell_type": "code",
   "execution_count": 33,
   "id": "13f071a1-9ef1-4046-878e-d575d98ffa0b",
   "metadata": {},
   "outputs": [],
   "source": [
    "South_Africa_population = Variable(r\"\\text{SA}\")\n",
    "South_Africa_graph = NxMixedGraph.from_edges(\n",
    "    directed=[\n",
    "        (Temperature, JetStream),\n",
    "        (JetStream, Rainfall),\n",
    "        (Temperature, Rainfall),\n",
    "        (Temperature, WaterSupply),\n",
    "        (Rainfall, WaterSupply),\n",
    "        (transport_variable(JetStream), JetStream),\n",
    "    ],\n",
    "    undirected=[(Temperature, JetStream)],\n",
    ")\n",
    "South_Africa_graph.draw()"
   ]
  },
  {
   "cell_type": "markdown",
   "id": "5a1fe0a5-81be-49e2-abb2-11916118ca9f",
   "metadata": {},
   "source": [
    "Suppose the United States would like to know the amount of water that New York City would have had in its reservoirs this year were it to have implemented a carbon tax in 2019 and begun cloud seeding to compensate for the effects of heat domes. We frame an unconditional counterfactual query:"
   ]
  },
  {
   "cell_type": "code",
   "execution_count": 34,
   "id": "47a890ec-c1c7-4e0e-b0f3-5e61e3269c65",
   "metadata": {},
   "outputs": [],
   "source": [
    "effect_of_do_art_on_aids_query = [-AIDS @ -Therapy, +Therapy]\n",
    "\n",
    "art_for_aids_domains = [\n",
    "    # CFTDomain(\n",
    "    #     graph=nigeria_graph,\n",
    "    #     population=nigeria_population,\n",
    "    # ),\n",
    "    CFTDomain(\n",
    "        population=ghana_population,\n",
    "        graph=ghana_with_delivery_graph,\n",
    "        policy_variables={Therapy},\n",
    "    ),\n",
    "    CFTDomain(\n",
    "        population=drug_user_population,\n",
    "        graph=drug_user_graph,\n",
    "    ),\n",
    "]\n",
    "\n",
    "do_art_on_aids_result = unconditional_cft(\n",
    "    event=effect_of_do_art_on_aids_query,\n",
    "    target_domain_graph=nigeria_graph,\n",
    "    domains=art_for_aids_domains,\n",
    ")\n",
    "do_art_on_aids_result.display()"
   ]
  },
  {
   "cell_type": "code",
   "execution_count": 35,
   "id": "faa48491-79fb-4537-99bb-ceead4c4768a",
   "metadata": {},
   "outputs": [],
   "source": [
    "effect_of_do_tax_query = -WaterSupply @ -Temperature\n",
    "\n",
    "do_tax_domains = [\n",
    "    CFTDomain(\n",
    "        population=USA_population,\n",
    "        graph=USA_graph,\n",
    "    ),\n",
    "    CFTDomain(\n",
    "        population=China_population,\n",
    "        graph=China_graph,\n",
    "        policy_variables={Temperature, Rainfall},\n",
    "    ),\n",
    "    CFTDomain(\n",
    "        population=South_Africa_population,\n",
    "        graph=South_Africa_graph,\n",
    "        policy_variables={Rainfall},\n",
    "    ),\n",
    "]\n",
    "\n",
    "do_tax_result = unconditional_cft(\n",
    "    event=effect_of_do_tax_query,\n",
    "    target_domain_graph=USA_graph_under_policy,\n",
    "    domains=do_tax_domains,\n",
    ")\n",
    "do_tax_result.display()"
   ]
  },
  {
   "cell_type": "code",
   "execution_count": 36,
   "id": "fec156b3-8f8d-48c0-9102-4147aae799e5",
   "metadata": {},
   "outputs": [],
   "source": [
    "# I need to check this calculation by hand in any case, but I'm not sure I like the fact that we're summing over W here.\n",
    "# (Answer: yes, this is correct! We sum over W for the US case because our query is on R, R is in a district containing R and W,\n",
    "# and none of the ancestors of R in G[R,W] include W. Therefore the Tian-Pearl Identify algorithm sums over W before returning.\n",
    "print(str(do_tax_result.expression))"
   ]
  },
  {
   "cell_type": "markdown",
   "id": "a5203bfc-0c1b-43d8-a229-049784552010",
   "metadata": {},
   "source": [
    "We can see that the probability of the water supply having value `-W` in 2024, given the carbon tax adjusted the temperature to `-T` in 2019, is identifiable and is a composite of experimental results from China and South Africa and observational data from the United States. Note that without the data from China and South Africa, the query is not identifiable:"
   ]
  },
  {
   "cell_type": "code",
   "execution_count": 37,
   "id": "37c44937-aa4b-44af-a67f-18c4b8bef902",
   "metadata": {},
   "outputs": [],
   "source": [
    "effect_of_do_tax_query = -WaterSupply @ -Temperature\n",
    "\n",
    "do_tax_domains_us_only = [\n",
    "    CFTDomain(\n",
    "        population=USA_population,\n",
    "        graph=USA_graph,\n",
    "    ),\n",
    "]\n",
    "\n",
    "do_tax_result_us_only = unconditional_cft(\n",
    "    event=effect_of_do_tax_query,\n",
    "    target_domain_graph=USA_graph_under_policy,\n",
    "    domains=do_tax_domains_us_only,\n",
    ")\n",
    "do_tax_result_us_only is None"
   ]
  },
  {
   "cell_type": "markdown",
   "id": "df7f86c9-a178-4494-8012-e798b5f0d385",
   "metadata": {},
   "source": [
    "Let us also specify a more targeted conditional query: we would like to know the water supply in a counterfactual world where the tax had been implemented, for areas that receive a certain amount of rainfall (also affected by the tax). "
   ]
  },
  {
   "cell_type": "code",
   "execution_count": 38,
   "id": "147b53fb-e26b-45e3-8cd3-3a34bd52938e",
   "metadata": {},
   "outputs": [],
   "source": [
    "conditional_do_tax_result = conditional_cft(\n",
    "    outcomes=-WaterSupply @ -Temperature,\n",
    "    conditions=-Rainfall @ -Temperature,\n",
    "    target_domain_graph=USA_graph_under_policy,\n",
    "    domains=do_tax_domains,\n",
    ")\n",
    "conditional_do_tax_result.display()"
   ]
  },
  {
   "cell_type": "code",
   "execution_count": 39,
   "id": "2526b567-d748-4fc1-9f8a-91c591c3c634",
   "metadata": {},
   "outputs": [],
   "source": [
    "print(str(conditional_do_tax_result.expression))"
   ]
  },
  {
   "cell_type": "markdown",
   "id": "d1037cf0-dd8d-432f-9e1e-c30a3694f36a",
   "metadata": {},
   "source": [
    "## User interface demonstration"
   ]
  },
  {
   "cell_type": "markdown",
   "id": "25aae618-4841-4cd3-bb8d-c97ab048ec77",
   "metadata": {},
   "source": [
    "The following exercise is from a tutorial at Pacific Northwest National Laboratory that demonstrates that detailed validation of user inputs makes using the software easy. We've deliberately included some typos in the problem solution and show the software catching them. Feel free to experiment with the input parameters and generate other errors!\n",
    "\n",
    "1. Construct a graph with the following edges:\n",
    "   ```\n",
    "   X1 -> Z,\n",
    "   R -> Z,\n",
    "   Z -> W,\n",
    "   W -> Y,\n",
    "   W <-> Z\t\n",
    "   ```\n",
    "2. Consider you have available observational data from the target domain, and an experiment from Domain 1 in which $W$ is fixed to be only a function of $Z$ (breaking the bidirected edge between $W$ and $Z$), and $R$ is drawn from a different population than in the target domain.\n",
    "3. Estimate $P(Y_{X1},W_{R}|X1)$ with the values ${-Y,-W,-X}$ respectively."
   ]
  },
  {
   "cell_type": "code",
   "execution_count": 40,
   "id": "2f344daa-1446-4844-8dc8-a682486ec2ac",
   "metadata": {},
   "outputs": [],
   "source": [
    "example_3_target_domain_graph = NxMixedGraph.from_edges(\n",
    "    directed=[\n",
    "        (X1, Z),\n",
    "        (R, Z),\n",
    "        (Z, W),\n",
    "        (W, Y),\n",
    "    ],\n",
    "    undirected=[(Z, W)],\n",
    ")\n",
    "example_3_target_domain_graph.draw()"
   ]
  },
  {
   "cell_type": "code",
   "execution_count": 41,
   "id": "be995896-111d-4731-900d-91ac2fcba9e8",
   "metadata": {},
   "outputs": [],
   "source": [
    "example_3_break_w_graph = NxMixedGraph.from_edges(\n",
    "    directed=[\n",
    "        (X1, Z),\n",
    "        (R, Z),\n",
    "        (Z, W),\n",
    "        (W, Y),\n",
    "        (transport_variable(R), R),\n",
    "    ],\n",
    ")\n",
    "# example_3_break_w_graph.draw()"
   ]
  },
  {
   "cell_type": "code",
   "execution_count": 42,
   "id": "2286a2b3-58ab-4da7-a377-58eabf5e6830",
   "metadata": {},
   "outputs": [],
   "source": [
    "example_3_outcomes = [-Y @ -X1, -W @ -R]\n",
    "example_3_conditions = [-X]  ## NOTE: Should be X1\n",
    "\n",
    "example_3_target_domain_graph_topo = list(example_3_target_domain_graph.topological_sort())\n",
    "example_3_break_w_graph_topo = list(example_3_break_w_graph.topological_sort())\n",
    "example_3_domains = [\n",
    "    CFTDomain(\n",
    "        population=Pi1,\n",
    "        graph=example_3_break_w_graph,\n",
    "        ordering=example_3_break_w_graph_topo,\n",
    "        policy_variables={W},\n",
    "    ),\n",
    "    CFTDomain(\n",
    "        population=TARGET_DOMAIN,\n",
    "        graph=example_3_target_domain_graph,\n",
    "        # This is an intentionally incorrect topological ordering. To fix, do so manually or comment out the line entirely.\n",
    "        ordering=[W, X1, R, Z, Y],\n",
    "    ),\n",
    "]\n",
    "try:\n",
    "    result = conditional_cft(\n",
    "        outcomes=example_3_outcomes,\n",
    "        conditions=example_3_conditions,\n",
    "        target_domain_graph=example_3_target_domain_graph,\n",
    "        domains=example_3_domains,\n",
    "    )\n",
    "    result.display()\n",
    "except ValueError as e:\n",
    "    print(\"error\", e)"
   ]
  },
  {
   "cell_type": "code",
   "execution_count": 58,
   "id": "e4203fcd",
   "metadata": {},
   "outputs": [
    {
     "data": {
      "text/plain": [
       "58444.200000000004"
      ]
     },
     "execution_count": 58,
     "metadata": {},
     "output_type": "execute_result"
    }
   ],
   "source": [
    "23891.52 + 21203.56 +10193 + 3156.12"
   ]
  }
 ],
 "metadata": {
  "kernelspec": {
   "display_name": "y0",
   "language": "python",
   "name": "python3"
  },
  "language_info": {
   "codemirror_mode": {
    "name": "ipython",
    "version": 3
   },
   "file_extension": ".py",
   "mimetype": "text/x-python",
   "name": "python",
   "nbconvert_exporter": "python",
   "pygments_lexer": "ipython3",
   "version": "3.12.4"
  }
 },
 "nbformat": 4,
 "nbformat_minor": 5
}
