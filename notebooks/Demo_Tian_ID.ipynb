{
 "cells": [
  {
   "cell_type": "code",
   "execution_count": 1,
   "id": "d53b472f-0b99-40c2-8129-bc0506f07fd2",
   "metadata": {},
   "outputs": [],
   "source": [
    "import os\n",
    "import sys\n",
    "\n",
    "# To run the code, replace the following with something appropriate for your setup\n",
    "if \"/path/to/y0/src/\" not in sys.path:\n",
    "    sys.path.append(\"/path/to/y0/src/\")"
   ]
  },
  {
   "cell_type": "code",
   "execution_count": 2,
   "id": "303c066e-ed09-49d8-a917-144e3780f175",
   "metadata": {},
   "outputs": [],
   "source": [
    "# Previous notebook imports\n",
    "from y0.dsl import (\n",
    "    One,\n",
    "    P,\n",
    "    A,\n",
    "    B,\n",
    "    C,\n",
    "    D,\n",
    "    Q,\n",
    "    R,\n",
    "    S,\n",
    "    T,\n",
    "    W,\n",
    "    W1,\n",
    "    W2,\n",
    "    W3,\n",
    "    W4,\n",
    "    W5,\n",
    "    X,\n",
    "    Y,\n",
    "    Z,\n",
    "    Zero,\n",
    "    Sum,\n",
    "    Variable,\n",
    "    Product,\n",
    "    PP,\n",
    "    Pi1,\n",
    "    Pi2,\n",
    "    Pi3,\n",
    "    PopulationProbability,\n",
    "    Fraction,\n",
    ")\n",
    "from y0.graph import NxMixedGraph\n",
    "from y0.algorithm.counterfactual_transportability import (  # get_counterfactual_factor_query,\n",
    "    convert_to_counterfactual_factor_form,\n",
    "    counterfactual_factors_are_transportable,\n",
    "    do_counterfactual_factor_factorization,\n",
    "    get_ancestors_of_counterfactual,\n",
    "    get_counterfactual_factors,\n",
    "    is_counterfactual_factor_form,\n",
    "    make_selection_diagram,\n",
    "    minimize,\n",
    "    same_district,\n",
    "    simplify,\n",
    ")\n",
    "from y0.dsl import (\n",
    "    CounterfactualVariable,\n",
    "    Expression,\n",
    "    Intervention,\n",
    "    P,\n",
    "    Product,\n",
    "    Sum,\n",
    "    Variable,\n",
    "    Probability,\n",
    ")"
   ]
  },
  {
   "cell_type": "code",
   "execution_count": 5,
   "id": "50e1ecd9-839d-4918-9719-5225e6eaf1a9",
   "metadata": {},
   "outputs": [],
   "source": [
    "# Test_counterfactual_transportability.py imports\n",
    "#from tests.test_algorithm import cases\n",
    "from y0.algorithm.counterfactual_transportability import (\n",
    "    _any_variables_with_inconsistent_values,\n",
    "    _reduce_reflexive_counterfactual_variables_to_interventions,\n",
    "    _remove_repeated_variables_and_values,\n",
    "    _split_event_by_reflexivity,\n",
    "    convert_to_counterfactual_factor_form,\n",
    "    counterfactual_factors_are_transportable,\n",
    "    do_counterfactual_factor_factorization,\n",
    "    get_ancestors_of_counterfactual,\n",
    "    get_counterfactual_factors,\n",
    "    is_counterfactual_factor_form,\n",
    "    make_selection_diagram,\n",
    "    minimize,\n",
    "    minimize_event,\n",
    "    same_district,\n",
    "    simplify,\n",
    ")\n",
    "from y0.algorithm.tian_id import (\n",
    "    _compute_c_factor,\n",
    "    _tian_equation_69,\n",
    "    _tian_equation_72,\n",
    "    _tian_lemma_1_i,\n",
    "    _tian_lemma_4_ii,\n",
    "    tian_pearl_identify,\n",
    ")\n",
    "from y0.algorithm.transport import transport_variable\n",
    "from y0.dsl import (  # TARGET_DOMAIN,; Pi1,\n",
    "    PP,\n",
    "    W1,\n",
    "    W2,\n",
    "    W3,\n",
    "    W4,\n",
    "    W5,\n",
    "    X1,\n",
    "    X2,\n",
    "    CounterfactualVariable,\n",
    "    Fraction,\n",
    "    Intervention,\n",
    "    One,\n",
    "    P,\n",
    "    Population,\n",
    "    Product,\n",
    "    R,\n",
    "    Sum,\n",
    "    Variable,\n",
    "    W,\n",
    "    X,\n",
    "    Y,\n",
    "    Z,\n",
    "    Zero,\n",
    ")\n",
    "from y0.graph import NxMixedGraph"
   ]
  },
  {
   "cell_type": "code",
   "execution_count": 6,
   "id": "337649fd-8ccf-45a1-a718-312172370e4b",
   "metadata": {},
   "outputs": [],
   "source": [
    "\n",
    "# From [correa22a]_, Figure 1.\n",
    "figure_1_graph = NxMixedGraph.from_edges(\n",
    "    directed=[\n",
    "        (X, Z),\n",
    "        (Z, Y),\n",
    "        (X, Y),\n",
    "        (transport_variable(Y), Y),\n",
    "    ],\n",
    "    undirected=[(Z, X)],\n",
    ")\n",
    "\n",
    "# From [correa22a]_, Figure 2a.\n",
    "figure_2a_graph = NxMixedGraph.from_edges(\n",
    "    directed=[\n",
    "        (Z, X),\n",
    "        (Z, Y),\n",
    "        (X, Y),\n",
    "        (X, W),\n",
    "        (W, Y),\n",
    "    ],\n",
    "    undirected=[(Z, X), (W, Y)],\n",
    ")\n",
    "\n",
    "# From [correa22a]_, Figure 3a.\n",
    "figure_2_graph_domain_1 = NxMixedGraph.from_edges(\n",
    "    directed=[\n",
    "        (Z, X),\n",
    "        (Z, Y),\n",
    "        (X, Y),\n",
    "        (X, W),\n",
    "        (W, Y),\n",
    "        (transport_variable(Z), Z),\n",
    "    ],\n",
    "    undirected=[(Z, X), (W, Y)],\n",
    ")\n",
    "\n",
    "# From [correa22a]_, Figure 3b.\n",
    "figure_2_graph_domain_2 = NxMixedGraph.from_edges(\n",
    "    directed=[\n",
    "        (Z, X),\n",
    "        (Z, Y),\n",
    "        (X, Y),\n",
    "        (X, W),\n",
    "        (W, Y),\n",
    "        (transport_variable(W), W),\n",
    "    ],\n",
    "    undirected=[(Z, X), (W, Y)],\n",
    ")\n",
    "\n",
    "# From [correa20a]_, Figure 1a.\n",
    "soft_interventions_figure_1a_graph = NxMixedGraph.from_edges(\n",
    "    directed=[(X1, Z), (X1, X2), (Z, X2), (X1, Y), (X2, Y)],\n",
    "    undirected=[(X1, Z), (X2, Y)],\n",
    ")\n",
    "\n",
    "# From [correa20a]_, Figure 1b.\n",
    "soft_interventions_figure_1b_graph = NxMixedGraph.from_edges(\n",
    "    directed=[\n",
    "        (X1, Z),\n",
    "        (X1, X2),\n",
    "        (X1, Y),\n",
    "        (X2, Y),\n",
    "        (transport_variable(Y), Y),\n",
    "    ],\n",
    "    undirected=[],\n",
    ")\n",
    "\n",
    "# From [correa20a]_, Figure 1c.\n",
    "soft_interventions_figure_1c_graph = NxMixedGraph.from_edges(\n",
    "    directed=[\n",
    "        (X1, Z),\n",
    "        (X1, X2),\n",
    "        (X1, Y),\n",
    "        (Z, X2),\n",
    "        (X2, Y),\n",
    "        (transport_variable(Z), Z),\n",
    "    ],\n",
    "    undirected=[(X1, Z)],\n",
    ")\n",
    "\n",
    "# From [correa20a]_, Figure 1d.\n",
    "soft_interventions_figure_1d_graph = NxMixedGraph.from_edges(\n",
    "    directed=[\n",
    "        (X1, Z),\n",
    "        (X1, X2),\n",
    "        (X1, Y),\n",
    "        (Z, X2),\n",
    "        (X2, Y),\n",
    "    ],\n",
    "    undirected=[],\n",
    ")\n",
    "\n",
    "# From [correa20a]_, Figure 2a.\n",
    "soft_interventions_figure_2a_graph = NxMixedGraph.from_edges(\n",
    "    directed=[\n",
    "        (R, Z),\n",
    "        (W, X),\n",
    "        (X, Z),\n",
    "        (Z, Y),\n",
    "    ],\n",
    "    undirected=[\n",
    "        (R, Y),\n",
    "        (W, R),\n",
    "        (W, X),\n",
    "        (W, Z),\n",
    "        (X, Y),\n",
    "    ],\n",
    ")\n",
    "\n",
    "# From [correa20a]_, Figure 2b.\n",
    "soft_interventions_figure_2b_graph = NxMixedGraph.from_edges(\n",
    "    directed=[\n",
    "        (R, Z),\n",
    "        (R, X),\n",
    "        (X, Z),\n",
    "        (Z, Y),\n",
    "    ],\n",
    "    undirected=[\n",
    "        (R, Y),\n",
    "        (W, R),\n",
    "        (W, Z),\n",
    "    ],\n",
    ")\n",
    "\n",
    "# From [correa20a]_, Figure 2c.\n",
    "soft_interventions_figure_2c_graph = NxMixedGraph.from_edges(\n",
    "    directed=[\n",
    "        (R, Z),\n",
    "        (X, Z),\n",
    "        (W, X),\n",
    "        (Z, Y),\n",
    "        (transport_variable(R), R),\n",
    "        (transport_variable(W), W),\n",
    "    ],\n",
    "    undirected=[\n",
    "        (R, Y),\n",
    "        (W, R),\n",
    "        (W, X),\n",
    "        (W, Z),\n",
    "        (X, Y),\n",
    "    ],\n",
    ")\n",
    "\n",
    "# From [correa20a]_, Figure 2d.\n",
    "soft_interventions_figure_2d_graph = NxMixedGraph.from_edges(\n",
    "    directed=[\n",
    "        (R, Z),\n",
    "        (X, Z),\n",
    "        (W, X),\n",
    "        (Z, Y),\n",
    "        (transport_variable(W), W),\n",
    "    ],\n",
    "    undirected=[\n",
    "        (R, Y),\n",
    "        (W, R),\n",
    "        (W, X),\n",
    "        (X, Y),\n",
    "    ],\n",
    ")\n",
    "\n",
    "# From [correa20a]_, Figure 2e.\n",
    "soft_interventions_figure_2e_graph = NxMixedGraph.from_edges(\n",
    "    directed=[\n",
    "        (R, Z),\n",
    "        (X, Z),\n",
    "        (W, X),\n",
    "        (Z, Y),\n",
    "        (transport_variable(R), R),\n",
    "    ],\n",
    "    undirected=[\n",
    "        (R, Y),\n",
    "        (X, Y),\n",
    "    ],\n",
    ")\n",
    "\n",
    "# From [correa20a]_, Figure 3, and corresponding to pi* with the intervention sigma* not applied.\n",
    "soft_interventions_figure_3_graph = NxMixedGraph.from_edges(\n",
    "    directed=[\n",
    "        (R, W),\n",
    "        (W, X),\n",
    "        (X, Z),\n",
    "        (Z, Y),\n",
    "        (X, Y),\n",
    "    ],\n",
    "    undirected=[\n",
    "        (R, Z),\n",
    "        (W, Y),\n",
    "        (W, X),\n",
    "        (R, X),\n",
    "    ],\n",
    ")\n",
    "\n",
    "tian_pearl_figure_9a_graph = NxMixedGraph.from_edges(\n",
    "    directed=[\n",
    "        (W1, W2),\n",
    "        (W2, X),\n",
    "        (W3, W4),\n",
    "        (W4, X),\n",
    "        (X, Y),\n",
    "    ],\n",
    "    undirected=[\n",
    "        (W1, W3),\n",
    "        (W3, W5),\n",
    "        (W4, W5),\n",
    "        (W2, W3),\n",
    "        (W1, X),\n",
    "        (W1, Y),\n",
    "    ],\n",
    ")\n"
   ]
  },
  {
   "cell_type": "code",
   "execution_count": 63,
   "id": "b1f7b985-c904-4f79-8997-3f8f4a80b29f",
   "metadata": {},
   "outputs": [],
   "source": [
    "# assert_expr_equal()\n",
    "import unittest\n",
    "from y0.dsl import Expression, Variable, get_outcomes_and_treatments\n",
    "from y0.graph import NxMixedGraph\n",
    "from y0.mutate import canonicalize"
   ]
  },
  {
   "cell_type": "code",
   "execution_count": 15,
   "id": "348a764c-48d3-43a7-8c25-59dc5085f11c",
   "metadata": {},
   "outputs": [
    {
     "name": "stderr",
     "output_type": "stream",
     "text": [
      "In _tian_lemma_1_i: topo = [W1, W3, W2, W4, X, Y]\n",
      "In _tian_lemma_1_i: returning P(W1) * P(W2 | W1, W3) * P(W3 | W1) * P(X | W1, W2, W3, W4) * P(Y | W1, W2, W3, W4, X)\n"
     ]
    },
    {
     "data": {
      "text/latex": [
       "$P(W_1) P(W_2 | W_1, W_3) P(W_3 | W_1) P(X | W_1, W_2, W_3, W_4) P(Y | W_1, W_2, W_3, W_4, X)$"
      ],
      "text/plain": [
       "P(W1) * P(W2 | W1, W3) * P(W3 | W1) * P(X | W1, W2, W3, W4) * P(Y | W1, W2, W3, W4, X)"
      ]
     },
     "execution_count": 15,
     "metadata": {},
     "output_type": "execute_result"
    }
   ],
   "source": [
    "## Demo Tian Lemma 1(i)\n",
    "topo = [W1, W3, W2, W4, X, Y]\n",
    "part_1_graph = tian_pearl_figure_9a_graph.subgraph([Y, X, W1, W2, W3, W4])\n",
    "result_1 = _tian_lemma_1_i(\n",
    "    district=[Y, W1, W3, W2, X],\n",
    "    topo=topo,\n",
    "    graph_probability=part_1_graph.joint_probability(),\n",
    ")\n",
    "result_1"
   ]
  },
  {
   "cell_type": "code",
   "execution_count": 17,
   "id": "17ad8806-d10e-489b-a8ea-8b6cf6801da2",
   "metadata": {},
   "outputs": [
    {
     "name": "stderr",
     "output_type": "stream",
     "text": [
      "In _tian_lemma_1_i: topo = [W1, W3, W2, W4, X, Y]\n"
     ]
    },
    {
     "ename": "TypeError",
     "evalue": "Error in _tian_lemma_1_i: the district or variable set from which it is drawn contained no variables.",
     "output_type": "error",
     "traceback": [
      "\u001b[0;31m---------------------------------------------------------------------------\u001b[0m",
      "\u001b[0;31mTypeError\u001b[0m                                 Traceback (most recent call last)",
      "Cell \u001b[0;32mIn[17], line 1\u001b[0m\n\u001b[0;32m----> 1\u001b[0m result_2 \u001b[38;5;241m=\u001b[39m \u001b[43m_tian_lemma_1_i\u001b[49m\u001b[43m(\u001b[49m\n\u001b[1;32m      2\u001b[0m \u001b[43m    \u001b[49m\u001b[43mdistrict\u001b[49m\u001b[38;5;241;43m=\u001b[39;49m\u001b[43m[\u001b[49m\u001b[43m]\u001b[49m\u001b[43m,\u001b[49m\n\u001b[1;32m      3\u001b[0m \u001b[43m    \u001b[49m\u001b[43mtopo\u001b[49m\u001b[38;5;241;43m=\u001b[39;49m\u001b[43mtopo\u001b[49m\u001b[43m,\u001b[49m\n\u001b[1;32m      4\u001b[0m \u001b[43m    \u001b[49m\u001b[43mgraph_probability\u001b[49m\u001b[38;5;241;43m=\u001b[39;49m\u001b[43mpart_1_graph\u001b[49m\u001b[38;5;241;43m.\u001b[39;49m\u001b[43mjoint_probability\u001b[49m\u001b[43m(\u001b[49m\u001b[43m)\u001b[49m\u001b[43m,\u001b[49m\n\u001b[1;32m      5\u001b[0m \u001b[43m)\u001b[49m\n",
      "File \u001b[0;32m~/Documents/Causality/y0/src/y0/algorithm/tian_id.py:180\u001b[0m, in \u001b[0;36m_tian_lemma_1_i\u001b[0;34m(district, graph_probability, topo)\u001b[0m\n\u001b[1;32m    178\u001b[0m probabilities \u001b[38;5;241m=\u001b[39m []\n\u001b[1;32m    179\u001b[0m \u001b[38;5;28;01mif\u001b[39;00m \u001b[38;5;28mlen\u001b[39m(district) \u001b[38;5;241m==\u001b[39m \u001b[38;5;241m0\u001b[39m \u001b[38;5;129;01mor\u001b[39;00m \u001b[38;5;28mlen\u001b[39m(variables) \u001b[38;5;241m==\u001b[39m \u001b[38;5;241m0\u001b[39m:\n\u001b[0;32m--> 180\u001b[0m     \u001b[38;5;28;01mraise\u001b[39;00m \u001b[38;5;167;01mTypeError\u001b[39;00m(\n\u001b[1;32m    181\u001b[0m         \u001b[38;5;124m\"\u001b[39m\u001b[38;5;124mError in _tian_lemma_1_i: the district or variable set from which it is drawn contained no variables.\u001b[39m\u001b[38;5;124m\"\u001b[39m\n\u001b[1;32m    182\u001b[0m     )\n\u001b[1;32m    183\u001b[0m \u001b[38;5;28;01mif\u001b[39;00m \u001b[38;5;28many\u001b[39m(v \u001b[38;5;129;01mnot\u001b[39;00m \u001b[38;5;129;01min\u001b[39;00m variables \u001b[38;5;28;01mfor\u001b[39;00m v \u001b[38;5;129;01min\u001b[39;00m district):\n\u001b[1;32m    184\u001b[0m     \u001b[38;5;28;01mraise\u001b[39;00m \u001b[38;5;167;01mKeyError\u001b[39;00m(\n\u001b[1;32m    185\u001b[0m         \u001b[38;5;124m\"\u001b[39m\u001b[38;5;124mError in _tian_lemma_1_i: a variable in the district is not in the topological sort of the graph vertices.\u001b[39m\u001b[38;5;124m\"\u001b[39m\n\u001b[1;32m    186\u001b[0m     )\n",
      "\u001b[0;31mTypeError\u001b[0m: Error in _tian_lemma_1_i: the district or variable set from which it is drawn contained no variables."
     ]
    }
   ],
   "source": [
    "result_2 = _tian_lemma_1_i(\n",
    "    district=[],\n",
    "    topo=topo,\n",
    "    graph_probability=part_1_graph.joint_probability(),\n",
    ")"
   ]
  },
  {
   "cell_type": "code",
   "execution_count": 18,
   "id": "5dff5c5a-60f1-43a1-b674-a5abd88c8bb0",
   "metadata": {},
   "outputs": [
    {
     "name": "stderr",
     "output_type": "stream",
     "text": [
      "In _tian_lemma_1_i: topo = [W1, W3, W2, W4, X, Y]\n"
     ]
    },
    {
     "ename": "KeyError",
     "evalue": "'Error in _tian_lemma_1_i: a variable in the district is not in the topological sort of the graph vertices.'",
     "output_type": "error",
     "traceback": [
      "\u001b[0;31m---------------------------------------------------------------------------\u001b[0m",
      "\u001b[0;31mKeyError\u001b[0m                                  Traceback (most recent call last)",
      "Cell \u001b[0;32mIn[18], line 1\u001b[0m\n\u001b[0;32m----> 1\u001b[0m result_3 \u001b[38;5;241m=\u001b[39m \u001b[43m_tian_lemma_1_i\u001b[49m\u001b[43m(\u001b[49m\n\u001b[1;32m      2\u001b[0m \u001b[43m    \u001b[49m\u001b[43mdistrict\u001b[49m\u001b[38;5;241;43m=\u001b[39;49m\u001b[43m[\u001b[49m\u001b[43mY\u001b[49m\u001b[43m,\u001b[49m\u001b[43m \u001b[49m\u001b[43mW1\u001b[49m\u001b[43m,\u001b[49m\u001b[43m \u001b[49m\u001b[43mW3\u001b[49m\u001b[43m,\u001b[49m\u001b[43m \u001b[49m\u001b[43mW2\u001b[49m\u001b[43m,\u001b[49m\u001b[43m \u001b[49m\u001b[43mX\u001b[49m\u001b[43m,\u001b[49m\u001b[43m \u001b[49m\u001b[43mZ\u001b[49m\u001b[43m]\u001b[49m\u001b[43m,\u001b[49m\n\u001b[1;32m      3\u001b[0m \u001b[43m    \u001b[49m\u001b[43mtopo\u001b[49m\u001b[38;5;241;43m=\u001b[39;49m\u001b[43mtopo\u001b[49m\u001b[43m,\u001b[49m\n\u001b[1;32m      4\u001b[0m \u001b[43m    \u001b[49m\u001b[43mgraph_probability\u001b[49m\u001b[38;5;241;43m=\u001b[39;49m\u001b[43mpart_1_graph\u001b[49m\u001b[38;5;241;43m.\u001b[39;49m\u001b[43mjoint_probability\u001b[49m\u001b[43m(\u001b[49m\u001b[43m)\u001b[49m\u001b[43m,\u001b[49m\n\u001b[1;32m      5\u001b[0m \u001b[43m)\u001b[49m\n",
      "File \u001b[0;32m~/Documents/Causality/y0/src/y0/algorithm/tian_id.py:184\u001b[0m, in \u001b[0;36m_tian_lemma_1_i\u001b[0;34m(district, graph_probability, topo)\u001b[0m\n\u001b[1;32m    180\u001b[0m     \u001b[38;5;28;01mraise\u001b[39;00m \u001b[38;5;167;01mTypeError\u001b[39;00m(\n\u001b[1;32m    181\u001b[0m         \u001b[38;5;124m\"\u001b[39m\u001b[38;5;124mError in _tian_lemma_1_i: the district or variable set from which it is drawn contained no variables.\u001b[39m\u001b[38;5;124m\"\u001b[39m\n\u001b[1;32m    182\u001b[0m     )\n\u001b[1;32m    183\u001b[0m \u001b[38;5;28;01mif\u001b[39;00m \u001b[38;5;28many\u001b[39m(v \u001b[38;5;129;01mnot\u001b[39;00m \u001b[38;5;129;01min\u001b[39;00m variables \u001b[38;5;28;01mfor\u001b[39;00m v \u001b[38;5;129;01min\u001b[39;00m district):\n\u001b[0;32m--> 184\u001b[0m     \u001b[38;5;28;01mraise\u001b[39;00m \u001b[38;5;167;01mKeyError\u001b[39;00m(\n\u001b[1;32m    185\u001b[0m         \u001b[38;5;124m\"\u001b[39m\u001b[38;5;124mError in _tian_lemma_1_i: a variable in the district is not in the topological sort of the graph vertices.\u001b[39m\u001b[38;5;124m\"\u001b[39m\n\u001b[1;32m    186\u001b[0m     )\n\u001b[1;32m    187\u001b[0m \u001b[38;5;66;03m# A little subtle so it deserves a comment: the Q value passed into Tian's Identify function may\u001b[39;00m\n\u001b[1;32m    188\u001b[0m \u001b[38;5;66;03m# already be conditioned on some variables that are in G but not in the subgraph H. In applying Lemma 1\u001b[39;00m\n\u001b[1;32m    189\u001b[0m \u001b[38;5;66;03m# (but not Lemma 4), we have to make sure we're also conditioning on those variables.\u001b[39;00m\n\u001b[1;32m    190\u001b[0m graph_probability_parents \u001b[38;5;241m=\u001b[39m \u001b[38;5;28mset\u001b[39m(graph_probability\u001b[38;5;241m.\u001b[39mparents)\n",
      "\u001b[0;31mKeyError\u001b[0m: 'Error in _tian_lemma_1_i: a variable in the district is not in the topological sort of the graph vertices.'"
     ]
    }
   ],
   "source": [
    "result_3 = _tian_lemma_1_i(\n",
    "    district=[Y, W1, W3, W2, X, Z],\n",
    "    topo=topo,\n",
    "    graph_probability=part_1_graph.joint_probability(),\n",
    ")"
   ]
  },
  {
   "cell_type": "code",
   "execution_count": 16,
   "id": "09ddeaa4-a5f6-4029-9bf2-ac9e09d7ac11",
   "metadata": {},
   "outputs": [
    {
     "name": "stderr",
     "output_type": "stream",
     "text": [
      "In _compute_c_factor: graph_topo = [W1, W3, W5, W2, W4, X, Y]\n",
      "In _compute_c_factor: subgraph_topo = [W1, W3, W2, W4, X, Y]\n",
      "In _tian_lemma_1_i: topo = [W1, W3, W2, W4, X, Y]\n",
      "In _tian_lemma_1_i: returning P(W1) * P(W2 | W1, W3) * P(W3 | W1) * P(X | W1, W2, W3, W4) * P(Y | W1, W2, W3, W4, X)\n"
     ]
    },
    {
     "name": "stdout",
     "output_type": "stream",
     "text": [
      "P(W1) * P(W2 | W1, W3) * P(W3 | W1) * P(X | W1, W2, W3, W4) * P(Y | W1, W2, W3, W4, X)\n"
     ]
    },
    {
     "data": {
      "text/latex": [
       "$P(W_1) P(W_2 | W_1, W_3) P(W_3 | W_1) P(X | W_1, W_2, W_3, W_4) P(Y | W_1, W_2, W_3, W_4, X)$"
      ],
      "text/plain": [
       "P(W1) * P(W2 | W1, W3) * P(W3 | W1) * P(X | W1, W2, W3, W4) * P(Y | W1, W2, W3, W4, X)"
      ]
     },
     "execution_count": 16,
     "metadata": {},
     "output_type": "execute_result"
    }
   ],
   "source": [
    "## Demo _compute_c_factor()\n",
    "expected_result_1 = Product.safe(\n",
    "    [P(W1), P(W3 | W1), P(W2 | (W3, W1)), P(X | (W1, W3, W2, W4)), P(Y | (W1, W3, W2, W4, X))]\n",
    ")\n",
    "\"\"\"First test of the compute C factor subroutine, based on the example on page 29 of [tian03a].\"\"\"\n",
    "result_1 = _compute_c_factor(\n",
    "    district=[Y, W1, W3, W2, X],\n",
    "    subgraph_variables=[X, W4, W2, W3, W1, Y],\n",
    "    subgraph_probability=P(W1, W2, W3, W4, X, Y),\n",
    "    graph_topo=list(tian_pearl_figure_9a_graph.topological_sort()),\n",
    ")\n",
    "print(expected_result_1)\n",
    "result_1\n",
    "#self.assert_expr_equal(result_1, self.expected_result_1)"
   ]
  },
  {
   "cell_type": "code",
   "execution_count": 13,
   "id": "8db19b3b-a8e4-4331-9fc8-977ad2321e4e",
   "metadata": {},
   "outputs": [
    {
     "name": "stdout",
     "output_type": "stream",
     "text": [
      "Sum[W3](P(W1) * P(W2 | W1, W3) * P(W3 | W1) * P(X | W1, W2, W3, W4) * P(Y | W1, W2, W3, W4, X))\n",
      "Sum[W3](P(W1) * P(W2 | W1, W3) * P(W3 | W1) * P(X | W1, W2, W3, W4) * P(Y | W1, W2, W3, W4, X))\n"
     ]
    },
    {
     "data": {
      "text/latex": [
       "$\\sum\\limits_{W_3} P(W_1) P(W_2 | W_1, W_3) P(W_3 | W_1) P(X | W_1, W_2, W_3, W_4) P(Y | W_1, W_2, W_3, W_4, X)$"
      ],
      "text/plain": [
       "Sum[W3](P(W1) * P(W2 | W1, W3) * P(W3 | W1) * P(X | W1, W2, W3, W4) * P(Y | W1, W2, W3, W4, X))"
      ]
     },
     "execution_count": 13,
     "metadata": {},
     "output_type": "execute_result"
    }
   ],
   "source": [
    "## Demo Tian Lemma 3\n",
    "\"\"\"First test of Lemma 3 in [tian03a]_ (Equation 69).\n",
    "\n",
    "Source: The example on p. 30 of [Tian03a]_, run initially through [santikka20a]_.\n",
    "\"\"\"\n",
    "topo = [W1, W3, W5, W2, W4, X, Y]\n",
    "# Q_T = Q[{W1, W2, W3, X, Y}]\n",
    "subgraph_probability = Product.safe(\n",
    "    [\n",
    "        P(W1),\n",
    "        P(W3 | W1),\n",
    "        P(W2 | (W3, W1)),\n",
    "        P(X | (W1, W3, W2, W4)),\n",
    "        P(Y | (W1, W3, W2, W4, X)),\n",
    "    ]\n",
    ")\n",
    "# The ancestors of {Y} in Figure 9(c) of [tian03a]_\n",
    "ancestral_set = {W1, W2, X, Y}\n",
    "subgraph_variables = {W1, W2, W3, X, Y}  # T in Figure 9(c) of [tian03a]_\n",
    "result_1 = _tian_equation_69(\n",
    "    ancestral_set=ancestral_set,\n",
    "    subgraph_variables=subgraph_variables,\n",
    "    subgraph_probability=subgraph_probability,\n",
    "    graph_topo=topo,\n",
    ")\n",
    "expected_result_1 = Sum.safe(subgraph_probability, [W3])\n",
    "print(expected_result_1)\n",
    "#assert_expr_equal(expected_result_1, result_1)\n",
    "print(result_1)\n",
    "result_1\n"
   ]
  },
  {
   "cell_type": "code",
   "execution_count": 23,
   "id": "9e84f926-6463-4076-bcaa-0a5e8c1d5e9d",
   "metadata": {},
   "outputs": [
    {
     "name": "stderr",
     "output_type": "stream",
     "text": [
      "In Lemma 4(ii): vertex = Y\n",
      "In _tian_equation_72: input vertex is Y\n",
      "   and variables are {Y, X, W1, W2}\n",
      "   and topo is [W1, W2, X, Y]\n",
      "In _tian_equation_72: input vertex is X\n",
      "   and variables are {Y, X, W1, W2}\n",
      "   and topo is [W1, W2, X, Y]\n",
      "In one_round with index > 1:\n",
      "\ttopo: [W1, W2, X, Y]\n",
      "\treturn_num: Sum[W3](P(W1) * P(W2 | W1, W3) * P(W3 | W1) * P(X | W1, W2, W3, W4) * P(Y | W1, W2, W3, W4, X))\n",
      "\treturn_den: Sum[Y](Sum[W3](P(W1) * P(W2 | W1, W3) * P(W3 | W1) * P(X | W1, W2, W3, W4) * P(Y | W1, W2, W3, W4, X)))\n",
      "\treturning: ((Sum[W3](P(W1) * P(W2 | W1, W3) * P(W3 | W1) * P(X | W1, W2, W3, W4) * P(Y | W1, W2, W3, W4, X)) / Sum[Y](Sum[W3](P(W1) * P(W2 | W1, W3) * P(W3 | W1) * P(X | W1, W2, W3, W4) * P(Y | W1, W2, W3, W4, X)))))\n",
      "\n",
      "Index = 3, Q[H^(i)] = ((Sum[W3](P(W1) * P(W2 | W1, W3) * P(W3 | W1) * P(X | W1, W2, W3, W4) * P(Y | W1, W2, W3, W4, X)) / Sum[Y](Sum[W3](P(W1) * P(W2 | W1, W3) * P(W3 | W1) * P(X | W1, W2, W3, W4) * P(Y | W1, W2, W3, W4, X)))))\n",
      "In Lemma 4(ii): vertex = W1\n",
      "In _tian_equation_72: input vertex is W1\n",
      "   and variables are {Y, X, W1, W2}\n",
      "   and topo is [W1, W2, X, Y]\n",
      "In _one_round: index = 0\n",
      "  returning Sum[W2, X, Y](Sum[W3](P(W1) * P(W2 | W1, W3) * P(W3 | W1) * P(X | W1, W2, W3, W4) * P(Y | W1, W2, W3, W4, X)))\n",
      "\n",
      "Index = 0, Q[H^(i)] = Sum[W2, X, Y](Sum[W3](P(W1) * P(W2 | W1, W3) * P(W3 | W1) * P(X | W1, W2, W3, W4) * P(Y | W1, W2, W3, W4, X)))\n",
      "In Lemma 4(ii): vertex = X\n",
      "In _tian_equation_72: input vertex is X\n",
      "   and variables are {Y, X, W1, W2}\n",
      "   and topo is [W1, W2, X, Y]\n",
      "In _tian_equation_72: input vertex is W2\n",
      "   and variables are {Y, X, W1, W2}\n",
      "   and topo is [W1, W2, X, Y]\n",
      "In one_round with index > 1:\n",
      "\ttopo: [W1, W2, X, Y]\n",
      "\treturn_num: Sum[Y](Sum[W3](P(W1) * P(W2 | W1, W3) * P(W3 | W1) * P(X | W1, W2, W3, W4) * P(Y | W1, W2, W3, W4, X)))\n",
      "\treturn_den: Sum[X, Y](Sum[W3](P(W1) * P(W2 | W1, W3) * P(W3 | W1) * P(X | W1, W2, W3, W4) * P(Y | W1, W2, W3, W4, X)))\n",
      "\treturning: ((Sum[Y](Sum[W3](P(W1) * P(W2 | W1, W3) * P(W3 | W1) * P(X | W1, W2, W3, W4) * P(Y | W1, W2, W3, W4, X))) / Sum[X, Y](Sum[W3](P(W1) * P(W2 | W1, W3) * P(W3 | W1) * P(X | W1, W2, W3, W4) * P(Y | W1, W2, W3, W4, X)))))\n",
      "\n",
      "Index = 2, Q[H^(i)] = ((Sum[Y](Sum[W3](P(W1) * P(W2 | W1, W3) * P(W3 | W1) * P(X | W1, W2, W3, W4) * P(Y | W1, W2, W3, W4, X))) / Sum[X, Y](Sum[W3](P(W1) * P(W2 | W1, W3) * P(W3 | W1) * P(X | W1, W2, W3, W4) * P(Y | W1, W2, W3, W4, X)))))\n",
      "Returning product: Sum[W2, X, Y](Sum[W3](P(W1) * P(W2 | W1, W3) * P(W3 | W1) * P(X | W1, W2, W3, W4) * P(Y | W1, W2, W3, W4, X))) * ((Sum[Y](Sum[W3](P(W1) * P(W2 | W1, W3) * P(W3 | W1) * P(X | W1, W2, W3, W4) * P(Y | W1, W2, W3, W4, X))) / Sum[X, Y](Sum[W3](P(W1) * P(W2 | W1, W3) * P(W3 | W1) * P(X | W1, W2, W3, W4) * P(Y | W1, W2, W3, W4, X))))) * ((Sum[W3](P(W1) * P(W2 | W1, W3) * P(W3 | W1) * P(X | W1, W2, W3, W4) * P(Y | W1, W2, W3, W4, X)) / Sum[Y](Sum[W3](P(W1) * P(W2 | W1, W3) * P(W3 | W1) * P(X | W1, W2, W3, W4) * P(Y | W1, W2, W3, W4, X)))))\n"
     ]
    },
    {
     "name": "stdout",
     "output_type": "stream",
     "text": [
      "((Sum[Y](Sum[W3](P(W1) * P(W2 | W1, W3) * P(W3 | W1) * P(X | W1, W2, W3, W4) * P(Y | W1, W2, W3, W4, X))) / Sum[X, Y](Sum[W3](P(W1) * P(W2 | W1, W3) * P(W3 | W1) * P(X | W1, W2, W3, W4) * P(Y | W1, W2, W3, W4, X))))) * ((Sum[W2, X, Y](Sum[W3](P(W1) * P(W2 | W1, W3) * P(W3 | W1) * P(X | W1, W2, W3, W4) * P(Y | W1, W2, W3, W4, X))) / One())) * ((Sum[W3](P(W1) * P(W2 | W1, W3) * P(W3 | W1) * P(X | W1, W2, W3, W4) * P(Y | W1, W2, W3, W4, X)) / Sum[Y](Sum[W3](P(W1) * P(W2 | W1, W3) * P(W3 | W1) * P(X | W1, W2, W3, W4) * P(Y | W1, W2, W3, W4, X)))))\n",
      "Sum[W2, X, Y](Sum[W3](P(W1) * P(W2 | W1, W3) * P(W3 | W1) * P(X | W1, W2, W3, W4) * P(Y | W1, W2, W3, W4, X))) * ((Sum[Y](Sum[W3](P(W1) * P(W2 | W1, W3) * P(W3 | W1) * P(X | W1, W2, W3, W4) * P(Y | W1, W2, W3, W4, X))) / Sum[X, Y](Sum[W3](P(W1) * P(W2 | W1, W3) * P(W3 | W1) * P(X | W1, W2, W3, W4) * P(Y | W1, W2, W3, W4, X))))) * ((Sum[W3](P(W1) * P(W2 | W1, W3) * P(W3 | W1) * P(X | W1, W2, W3, W4) * P(Y | W1, W2, W3, W4, X)) / Sum[Y](Sum[W3](P(W1) * P(W2 | W1, W3) * P(W3 | W1) * P(X | W1, W2, W3, W4) * P(Y | W1, W2, W3, W4, X)))))\n"
     ]
    }
   ],
   "source": [
    "## Demo Tian Lemma 4(ii)\n",
    "result_piece = Product.safe(\n",
    "    [\n",
    "        P(W1),\n",
    "        P(W3 | W1),\n",
    "        P(W2 | (W3, W1)),\n",
    "        P(X | (W1, W3, W2, W4)),\n",
    "        P(Y | (W1, W3, W2, W4, X)),\n",
    "    ]\n",
    ")\n",
    "expected_result_1_part_1 = Fraction(\n",
    "    Sum.safe(Sum.safe(result_piece, [W3]), [W2, X, Y]), One()\n",
    ")  # Q[W1]/Q[\\emptyset]\n",
    "expected_result_1_part_2 = Fraction(\n",
    "    Sum.safe(Sum.safe(result_piece, [W3]), [Y]), Sum.safe(Sum.safe(result_piece, [W3]), [X, Y])\n",
    ")  # Q[X]/Q[W2]\n",
    "expected_result_1_part_3 = Fraction(\n",
    "    Sum.safe(result_piece, [W3]), Sum.safe(Sum.safe(result_piece, [W3]), [Y])\n",
    ")  # Q[Y]/Q[X]\n",
    "expected_result_1 = Product.safe(\n",
    "    [expected_result_1_part_1, expected_result_1_part_2, expected_result_1_part_3]\n",
    ")\n",
    "expected_result_2_num = Sum.safe(expected_result_1, [W1])\n",
    "expected_result_2_den = Sum.safe(Sum.safe(expected_result_1, [W1]), [Y])\n",
    "expected_result_2 = Fraction(expected_result_2_num, expected_result_2_den)\n",
    "\n",
    "result_1 = _tian_lemma_4_ii(\n",
    "    district={W1, X, Y},\n",
    "    graph_probability=Sum.safe(result_piece, [W3]),\n",
    "    topo=list(tian_pearl_figure_9a_graph.subgraph({W1, W2, X, Y}).topological_sort()),\n",
    ")\n",
    "print(expected_result_1)\n",
    "print(result_1)\n",
    "#result_1\n"
   ]
  },
  {
   "cell_type": "code",
   "execution_count": 24,
   "id": "ab353d87-41a7-4931-aac2-52f163383f45",
   "metadata": {},
   "outputs": [
    {
     "data": {
      "text/latex": [
       "$\\frac{\\sum\\limits_{Y} \\sum\\limits_{W_3} P(W_1) P(W_2 | W_1, W_3) P(W_3 | W_1) P(X | W_1, W_2, W_3, W_4) P(Y | W_1, W_2, W_3, W_4, X)}{\\sum\\limits_{X, Y} \\sum\\limits_{W_3} P(W_1) P(W_2 | W_1, W_3) P(W_3 | W_1) P(X | W_1, W_2, W_3, W_4) P(Y | W_1, W_2, W_3, W_4, X)} \\frac{\\sum\\limits_{W_2, X, Y} \\sum\\limits_{W_3} P(W_1) P(W_2 | W_1, W_3) P(W_3 | W_1) P(X | W_1, W_2, W_3, W_4) P(Y | W_1, W_2, W_3, W_4, X)}{1} \\frac{\\sum\\limits_{W_3} P(W_1) P(W_2 | W_1, W_3) P(W_3 | W_1) P(X | W_1, W_2, W_3, W_4) P(Y | W_1, W_2, W_3, W_4, X)}{\\sum\\limits_{Y} \\sum\\limits_{W_3} P(W_1) P(W_2 | W_1, W_3) P(W_3 | W_1) P(X | W_1, W_2, W_3, W_4) P(Y | W_1, W_2, W_3, W_4, X)}$"
      ],
      "text/plain": [
       "((Sum[Y](Sum[W3](P(W1) * P(W2 | W1, W3) * P(W3 | W1) * P(X | W1, W2, W3, W4) * P(Y | W1, W2, W3, W4, X))) / Sum[X, Y](Sum[W3](P(W1) * P(W2 | W1, W3) * P(W3 | W1) * P(X | W1, W2, W3, W4) * P(Y | W1, W2, W3, W4, X))))) * ((Sum[W2, X, Y](Sum[W3](P(W1) * P(W2 | W1, W3) * P(W3 | W1) * P(X | W1, W2, W3, W4) * P(Y | W1, W2, W3, W4, X))) / One())) * ((Sum[W3](P(W1) * P(W2 | W1, W3) * P(W3 | W1) * P(X | W1, W2, W3, W4) * P(Y | W1, W2, W3, W4, X)) / Sum[Y](Sum[W3](P(W1) * P(W2 | W1, W3) * P(W3 | W1) * P(X | W1, W2, W3, W4) * P(Y | W1, W2, W3, W4, X)))))"
      ]
     },
     "execution_count": 24,
     "metadata": {},
     "output_type": "execute_result"
    }
   ],
   "source": [
    "expected_result_1"
   ]
  },
  {
   "cell_type": "code",
   "execution_count": 25,
   "id": "9ffb33bc-35bf-47a5-b9fd-85bc2cddc6e5",
   "metadata": {},
   "outputs": [
    {
     "data": {
      "text/latex": [
       "$\\sum\\limits_{W_2, X, Y} \\sum\\limits_{W_3} P(W_1) P(W_2 | W_1, W_3) P(W_3 | W_1) P(X | W_1, W_2, W_3, W_4) P(Y | W_1, W_2, W_3, W_4, X) \\frac{\\sum\\limits_{Y} \\sum\\limits_{W_3} P(W_1) P(W_2 | W_1, W_3) P(W_3 | W_1) P(X | W_1, W_2, W_3, W_4) P(Y | W_1, W_2, W_3, W_4, X)}{\\sum\\limits_{X, Y} \\sum\\limits_{W_3} P(W_1) P(W_2 | W_1, W_3) P(W_3 | W_1) P(X | W_1, W_2, W_3, W_4) P(Y | W_1, W_2, W_3, W_4, X)} \\frac{\\sum\\limits_{W_3} P(W_1) P(W_2 | W_1, W_3) P(W_3 | W_1) P(X | W_1, W_2, W_3, W_4) P(Y | W_1, W_2, W_3, W_4, X)}{\\sum\\limits_{Y} \\sum\\limits_{W_3} P(W_1) P(W_2 | W_1, W_3) P(W_3 | W_1) P(X | W_1, W_2, W_3, W_4) P(Y | W_1, W_2, W_3, W_4, X)}$"
      ],
      "text/plain": [
       "Sum[W2, X, Y](Sum[W3](P(W1) * P(W2 | W1, W3) * P(W3 | W1) * P(X | W1, W2, W3, W4) * P(Y | W1, W2, W3, W4, X))) * ((Sum[Y](Sum[W3](P(W1) * P(W2 | W1, W3) * P(W3 | W1) * P(X | W1, W2, W3, W4) * P(Y | W1, W2, W3, W4, X))) / Sum[X, Y](Sum[W3](P(W1) * P(W2 | W1, W3) * P(W3 | W1) * P(X | W1, W2, W3, W4) * P(Y | W1, W2, W3, W4, X))))) * ((Sum[W3](P(W1) * P(W2 | W1, W3) * P(W3 | W1) * P(X | W1, W2, W3, W4) * P(Y | W1, W2, W3, W4, X)) / Sum[Y](Sum[W3](P(W1) * P(W2 | W1, W3) * P(W3 | W1) * P(X | W1, W2, W3, W4) * P(Y | W1, W2, W3, W4, X)))))"
      ]
     },
     "execution_count": 25,
     "metadata": {},
     "output_type": "execute_result"
    }
   ],
   "source": [
    "result_1"
   ]
  },
  {
   "cell_type": "code",
   "execution_count": 40,
   "id": "36534289-492b-4631-901e-81a96366bd2d",
   "metadata": {},
   "outputs": [
    {
     "name": "stderr",
     "output_type": "stream",
     "text": [
      "In _compute_c_factor: graph_topo = [W1, W3, W5, W2, W4, X, Y]\n",
      "In _compute_c_factor: subgraph_topo = [W1, W2, X, Y]\n",
      "In _compute_c_factor: calling _tian_lemma_4_ii\n",
      "In Lemma 4(ii): vertex = W1\n",
      "In _tian_equation_72: input vertex is W1\n",
      "   and variables are {Y, X, W1, W2}\n",
      "   and topo is [W1, W2, X, Y]\n",
      "In _one_round: index = 0\n",
      "  returning Sum[W2, X, Y](Sum[W3](P(W1) * P(W2 | W1, W3) * P(W3 | W1) * P(X | W1, W2, W3, W4) * P(Y | W1, W2, W3, W4, X)))\n",
      "\n",
      "Index = 0, Q[H^(i)] = Sum[W2, X, Y](Sum[W3](P(W1) * P(W2 | W1, W3) * P(W3 | W1) * P(X | W1, W2, W3, W4) * P(Y | W1, W2, W3, W4, X)))\n",
      "In Lemma 4(ii): vertex = X\n",
      "In _tian_equation_72: input vertex is X\n",
      "   and variables are {Y, X, W1, W2}\n",
      "   and topo is [W1, W2, X, Y]\n",
      "In _tian_equation_72: input vertex is W2\n",
      "   and variables are {Y, X, W1, W2}\n",
      "   and topo is [W1, W2, X, Y]\n",
      "In one_round with index > 1:\n",
      "\ttopo: [W1, W2, X, Y]\n",
      "\treturn_num: Sum[Y](Sum[W3](P(W1) * P(W2 | W1, W3) * P(W3 | W1) * P(X | W1, W2, W3, W4) * P(Y | W1, W2, W3, W4, X)))\n",
      "\treturn_den: Sum[X, Y](Sum[W3](P(W1) * P(W2 | W1, W3) * P(W3 | W1) * P(X | W1, W2, W3, W4) * P(Y | W1, W2, W3, W4, X)))\n",
      "\treturning: ((Sum[Y](Sum[W3](P(W1) * P(W2 | W1, W3) * P(W3 | W1) * P(X | W1, W2, W3, W4) * P(Y | W1, W2, W3, W4, X))) / Sum[X, Y](Sum[W3](P(W1) * P(W2 | W1, W3) * P(W3 | W1) * P(X | W1, W2, W3, W4) * P(Y | W1, W2, W3, W4, X)))))\n",
      "\n",
      "Index = 2, Q[H^(i)] = ((Sum[Y](Sum[W3](P(W1) * P(W2 | W1, W3) * P(W3 | W1) * P(X | W1, W2, W3, W4) * P(Y | W1, W2, W3, W4, X))) / Sum[X, Y](Sum[W3](P(W1) * P(W2 | W1, W3) * P(W3 | W1) * P(X | W1, W2, W3, W4) * P(Y | W1, W2, W3, W4, X)))))\n",
      "In Lemma 4(ii): vertex = Y\n",
      "In _tian_equation_72: input vertex is Y\n",
      "   and variables are {Y, X, W1, W2}\n",
      "   and topo is [W1, W2, X, Y]\n",
      "In _tian_equation_72: input vertex is X\n",
      "   and variables are {Y, X, W1, W2}\n",
      "   and topo is [W1, W2, X, Y]\n",
      "In one_round with index > 1:\n",
      "\ttopo: [W1, W2, X, Y]\n",
      "\treturn_num: Sum[W3](P(W1) * P(W2 | W1, W3) * P(W3 | W1) * P(X | W1, W2, W3, W4) * P(Y | W1, W2, W3, W4, X))\n",
      "\treturn_den: Sum[Y](Sum[W3](P(W1) * P(W2 | W1, W3) * P(W3 | W1) * P(X | W1, W2, W3, W4) * P(Y | W1, W2, W3, W4, X)))\n",
      "\treturning: ((Sum[W3](P(W1) * P(W2 | W1, W3) * P(W3 | W1) * P(X | W1, W2, W3, W4) * P(Y | W1, W2, W3, W4, X)) / Sum[Y](Sum[W3](P(W1) * P(W2 | W1, W3) * P(W3 | W1) * P(X | W1, W2, W3, W4) * P(Y | W1, W2, W3, W4, X)))))\n",
      "\n",
      "Index = 3, Q[H^(i)] = ((Sum[W3](P(W1) * P(W2 | W1, W3) * P(W3 | W1) * P(X | W1, W2, W3, W4) * P(Y | W1, W2, W3, W4, X)) / Sum[Y](Sum[W3](P(W1) * P(W2 | W1, W3) * P(W3 | W1) * P(X | W1, W2, W3, W4) * P(Y | W1, W2, W3, W4, X)))))\n",
      "Returning product: Sum[W2, X, Y](Sum[W3](P(W1) * P(W2 | W1, W3) * P(W3 | W1) * P(X | W1, W2, W3, W4) * P(Y | W1, W2, W3, W4, X))) * ((Sum[Y](Sum[W3](P(W1) * P(W2 | W1, W3) * P(W3 | W1) * P(X | W1, W2, W3, W4) * P(Y | W1, W2, W3, W4, X))) / Sum[X, Y](Sum[W3](P(W1) * P(W2 | W1, W3) * P(W3 | W1) * P(X | W1, W2, W3, W4) * P(Y | W1, W2, W3, W4, X))))) * ((Sum[W3](P(W1) * P(W2 | W1, W3) * P(W3 | W1) * P(X | W1, W2, W3, W4) * P(Y | W1, W2, W3, W4, X)) / Sum[Y](Sum[W3](P(W1) * P(W2 | W1, W3) * P(W3 | W1) * P(X | W1, W2, W3, W4) * P(Y | W1, W2, W3, W4, X)))))\n",
      "Returning from _compute_c_factor: Sum[W2, X, Y](Sum[W3](P(W1) * P(W2 | W1, W3) * P(W3 | W1) * P(X | W1, W2, W3, W4) * P(Y | W1, W2, W3, W4, X))) * ((Sum[Y](Sum[W3](P(W1) * P(W2 | W1, W3) * P(W3 | W1) * P(X | W1, W2, W3, W4) * P(Y | W1, W2, W3, W4, X))) / Sum[X, Y](Sum[W3](P(W1) * P(W2 | W1, W3) * P(W3 | W1) * P(X | W1, W2, W3, W4) * P(Y | W1, W2, W3, W4, X))))) * ((Sum[W3](P(W1) * P(W2 | W1, W3) * P(W3 | W1) * P(X | W1, W2, W3, W4) * P(Y | W1, W2, W3, W4, X)) / Sum[Y](Sum[W3](P(W1) * P(W2 | W1, W3) * P(W3 | W1) * P(X | W1, W2, W3, W4) * P(Y | W1, W2, W3, W4, X)))))\n"
     ]
    }
   ],
   "source": [
    "## _compute_c_factor() applying Lemma 4\n",
    "expected_result_1 = Product.safe(\n",
    "    [P(W1), P(W3 | W1), P(W2 | (W3, W1)), P(X | (W1, W3, W2, W4)), P(Y | (W1, W3, W2, W4, X))]\n",
    ")\n",
    "expected_result_2_part_1 = Fraction(\n",
    "    Sum.safe(Sum.safe(expected_result_1, [W3]), [W2, X, Y]), One()\n",
    ")  # Q[W1]/Q[\\emptyset]\n",
    "expected_result_2_part_2 = Fraction(\n",
    "    Sum.safe(Sum.safe(expected_result_1, [W3]), [Y]),\n",
    "    Sum.safe(Sum.safe(expected_result_1, [W3]), [X, Y]),\n",
    ")  # Q[X]/Q[W2]\n",
    "expected_result_2_part_3 = Fraction(\n",
    "    Sum.safe(expected_result_1, [W3]), Sum.safe(Sum.safe(expected_result_1, [W3]), [Y])\n",
    ")  # Q[Y]/Q[X]\n",
    "expected_result_2 = Product.safe(\n",
    "    [expected_result_2_part_1, expected_result_2_part_2, expected_result_2_part_3]\n",
    ")\n",
    "result_1b = _compute_c_factor(\n",
    "    district=[W1, X, Y],\n",
    "    subgraph_variables=[W1, W2, X, Y],\n",
    "    subgraph_probability=Sum.safe(expected_result_1, [W3]),\n",
    "    graph_topo=list(tian_pearl_figure_9a_graph.topological_sort()),\n",
    ")"
   ]
  },
  {
   "cell_type": "code",
   "execution_count": 41,
   "id": "80a60ff9-64dd-47bb-8118-c8f4d70b0a1c",
   "metadata": {},
   "outputs": [
    {
     "data": {
      "text/latex": [
       "$\\sum\\limits_{W_2, X, Y} \\sum\\limits_{W_3} P(W_1) P(W_2 | W_1, W_3) P(W_3 | W_1) P(X | W_1, W_2, W_3, W_4) P(Y | W_1, W_2, W_3, W_4, X) \\frac{\\sum\\limits_{Y} \\sum\\limits_{W_3} P(W_1) P(W_2 | W_1, W_3) P(W_3 | W_1) P(X | W_1, W_2, W_3, W_4) P(Y | W_1, W_2, W_3, W_4, X)}{\\sum\\limits_{X, Y} \\sum\\limits_{W_3} P(W_1) P(W_2 | W_1, W_3) P(W_3 | W_1) P(X | W_1, W_2, W_3, W_4) P(Y | W_1, W_2, W_3, W_4, X)} \\frac{\\sum\\limits_{W_3} P(W_1) P(W_2 | W_1, W_3) P(W_3 | W_1) P(X | W_1, W_2, W_3, W_4) P(Y | W_1, W_2, W_3, W_4, X)}{\\sum\\limits_{Y} \\sum\\limits_{W_3} P(W_1) P(W_2 | W_1, W_3) P(W_3 | W_1) P(X | W_1, W_2, W_3, W_4) P(Y | W_1, W_2, W_3, W_4, X)}$"
      ],
      "text/plain": [
       "Sum[W2, X, Y](Sum[W3](P(W1) * P(W2 | W1, W3) * P(W3 | W1) * P(X | W1, W2, W3, W4) * P(Y | W1, W2, W3, W4, X))) * ((Sum[Y](Sum[W3](P(W1) * P(W2 | W1, W3) * P(W3 | W1) * P(X | W1, W2, W3, W4) * P(Y | W1, W2, W3, W4, X))) / Sum[X, Y](Sum[W3](P(W1) * P(W2 | W1, W3) * P(W3 | W1) * P(X | W1, W2, W3, W4) * P(Y | W1, W2, W3, W4, X))))) * ((Sum[W3](P(W1) * P(W2 | W1, W3) * P(W3 | W1) * P(X | W1, W2, W3, W4) * P(Y | W1, W2, W3, W4, X)) / Sum[Y](Sum[W3](P(W1) * P(W2 | W1, W3) * P(W3 | W1) * P(X | W1, W2, W3, W4) * P(Y | W1, W2, W3, W4, X)))))"
      ]
     },
     "execution_count": 41,
     "metadata": {},
     "output_type": "execute_result"
    }
   ],
   "source": [
    "result_1b"
   ]
  },
  {
   "cell_type": "code",
   "execution_count": 42,
   "id": "bc55e1f7-1ca5-4a28-8a0b-46401ea0b76d",
   "metadata": {},
   "outputs": [
    {
     "data": {
      "text/latex": [
       "$\\frac{\\sum\\limits_{Y} \\sum\\limits_{W_3} P(W_1) P(W_2 | W_1, W_3) P(W_3 | W_1) P(X | W_1, W_2, W_3, W_4) P(Y | W_1, W_2, W_3, W_4, X)}{\\sum\\limits_{X, Y} \\sum\\limits_{W_3} P(W_1) P(W_2 | W_1, W_3) P(W_3 | W_1) P(X | W_1, W_2, W_3, W_4) P(Y | W_1, W_2, W_3, W_4, X)} \\frac{\\sum\\limits_{W_2, X, Y} \\sum\\limits_{W_3} P(W_1) P(W_2 | W_1, W_3) P(W_3 | W_1) P(X | W_1, W_2, W_3, W_4) P(Y | W_1, W_2, W_3, W_4, X)}{1} \\frac{\\sum\\limits_{W_3} P(W_1) P(W_2 | W_1, W_3) P(W_3 | W_1) P(X | W_1, W_2, W_3, W_4) P(Y | W_1, W_2, W_3, W_4, X)}{\\sum\\limits_{Y} \\sum\\limits_{W_3} P(W_1) P(W_2 | W_1, W_3) P(W_3 | W_1) P(X | W_1, W_2, W_3, W_4) P(Y | W_1, W_2, W_3, W_4, X)}$"
      ],
      "text/plain": [
       "((Sum[Y](Sum[W3](P(W1) * P(W2 | W1, W3) * P(W3 | W1) * P(X | W1, W2, W3, W4) * P(Y | W1, W2, W3, W4, X))) / Sum[X, Y](Sum[W3](P(W1) * P(W2 | W1, W3) * P(W3 | W1) * P(X | W1, W2, W3, W4) * P(Y | W1, W2, W3, W4, X))))) * ((Sum[W2, X, Y](Sum[W3](P(W1) * P(W2 | W1, W3) * P(W3 | W1) * P(X | W1, W2, W3, W4) * P(Y | W1, W2, W3, W4, X))) / One())) * ((Sum[W3](P(W1) * P(W2 | W1, W3) * P(W3 | W1) * P(X | W1, W2, W3, W4) * P(Y | W1, W2, W3, W4, X)) / Sum[Y](Sum[W3](P(W1) * P(W2 | W1, W3) * P(W3 | W1) * P(X | W1, W2, W3, W4) * P(Y | W1, W2, W3, W4, X)))))"
      ]
     },
     "execution_count": 42,
     "metadata": {},
     "output_type": "execute_result"
    }
   ],
   "source": [
    "expected_result_2"
   ]
  },
  {
   "cell_type": "code",
   "execution_count": 28,
   "id": "503fea5d-aad8-4496-9487-53844f5b1a95",
   "metadata": {},
   "outputs": [
    {
     "name": "stderr",
     "output_type": "stream",
     "text": [
      "In Lemma 4(ii): vertex = Y\n",
      "In _tian_equation_72: input vertex is Y\n",
      "   and variables are {Y, X}\n",
      "   and topo is [X, Y]\n",
      "In _tian_equation_72: input vertex is X\n",
      "   and variables are {Y, X}\n",
      "   and topo is [X, Y]\n",
      "In one_round with index > 1:\n",
      "\ttopo: [X, Y]\n",
      "\treturn_num: Sum[W1](((Sum[Y](Sum[W3](P(W1) * P(W2 | W1, W3) * P(W3 | W1) * P(X | W1, W2, W3, W4) * P(Y | W1, W2, W3, W4, X))) / Sum[X, Y](Sum[W3](P(W1) * P(W2 | W1, W3) * P(W3 | W1) * P(X | W1, W2, W3, W4) * P(Y | W1, W2, W3, W4, X))))) * ((Sum[W2, X, Y](Sum[W3](P(W1) * P(W2 | W1, W3) * P(W3 | W1) * P(X | W1, W2, W3, W4) * P(Y | W1, W2, W3, W4, X))) / One())) * ((Sum[W3](P(W1) * P(W2 | W1, W3) * P(W3 | W1) * P(X | W1, W2, W3, W4) * P(Y | W1, W2, W3, W4, X)) / Sum[Y](Sum[W3](P(W1) * P(W2 | W1, W3) * P(W3 | W1) * P(X | W1, W2, W3, W4) * P(Y | W1, W2, W3, W4, X))))))\n",
      "\treturn_den: Sum[Y](Sum[W1](((Sum[Y](Sum[W3](P(W1) * P(W2 | W1, W3) * P(W3 | W1) * P(X | W1, W2, W3, W4) * P(Y | W1, W2, W3, W4, X))) / Sum[X, Y](Sum[W3](P(W1) * P(W2 | W1, W3) * P(W3 | W1) * P(X | W1, W2, W3, W4) * P(Y | W1, W2, W3, W4, X))))) * ((Sum[W2, X, Y](Sum[W3](P(W1) * P(W2 | W1, W3) * P(W3 | W1) * P(X | W1, W2, W3, W4) * P(Y | W1, W2, W3, W4, X))) / One())) * ((Sum[W3](P(W1) * P(W2 | W1, W3) * P(W3 | W1) * P(X | W1, W2, W3, W4) * P(Y | W1, W2, W3, W4, X)) / Sum[Y](Sum[W3](P(W1) * P(W2 | W1, W3) * P(W3 | W1) * P(X | W1, W2, W3, W4) * P(Y | W1, W2, W3, W4, X)))))))\n",
      "\treturning: ((Sum[W1](((Sum[Y](Sum[W3](P(W1) * P(W2 | W1, W3) * P(W3 | W1) * P(X | W1, W2, W3, W4) * P(Y | W1, W2, W3, W4, X))) / Sum[X, Y](Sum[W3](P(W1) * P(W2 | W1, W3) * P(W3 | W1) * P(X | W1, W2, W3, W4) * P(Y | W1, W2, W3, W4, X))))) * ((Sum[W2, X, Y](Sum[W3](P(W1) * P(W2 | W1, W3) * P(W3 | W1) * P(X | W1, W2, W3, W4) * P(Y | W1, W2, W3, W4, X))) / One())) * ((Sum[W3](P(W1) * P(W2 | W1, W3) * P(W3 | W1) * P(X | W1, W2, W3, W4) * P(Y | W1, W2, W3, W4, X)) / Sum[Y](Sum[W3](P(W1) * P(W2 | W1, W3) * P(W3 | W1) * P(X | W1, W2, W3, W4) * P(Y | W1, W2, W3, W4, X)))))) / Sum[Y](Sum[W1](((Sum[Y](Sum[W3](P(W1) * P(W2 | W1, W3) * P(W3 | W1) * P(X | W1, W2, W3, W4) * P(Y | W1, W2, W3, W4, X))) / Sum[X, Y](Sum[W3](P(W1) * P(W2 | W1, W3) * P(W3 | W1) * P(X | W1, W2, W3, W4) * P(Y | W1, W2, W3, W4, X))))) * ((Sum[W2, X, Y](Sum[W3](P(W1) * P(W2 | W1, W3) * P(W3 | W1) * P(X | W1, W2, W3, W4) * P(Y | W1, W2, W3, W4, X))) / One())) * ((Sum[W3](P(W1) * P(W2 | W1, W3) * P(W3 | W1) * P(X | W1, W2, W3, W4) * P(Y | W1, W2, W3, W4, X)) / Sum[Y](Sum[W3](P(W1) * P(W2 | W1, W3) * P(W3 | W1) * P(X | W1, W2, W3, W4) * P(Y | W1, W2, W3, W4, X)))))))))\n",
      "\n",
      "Index = 1, Q[H^(i)] = ((Sum[W1](((Sum[Y](Sum[W3](P(W1) * P(W2 | W1, W3) * P(W3 | W1) * P(X | W1, W2, W3, W4) * P(Y | W1, W2, W3, W4, X))) / Sum[X, Y](Sum[W3](P(W1) * P(W2 | W1, W3) * P(W3 | W1) * P(X | W1, W2, W3, W4) * P(Y | W1, W2, W3, W4, X))))) * ((Sum[W2, X, Y](Sum[W3](P(W1) * P(W2 | W1, W3) * P(W3 | W1) * P(X | W1, W2, W3, W4) * P(Y | W1, W2, W3, W4, X))) / One())) * ((Sum[W3](P(W1) * P(W2 | W1, W3) * P(W3 | W1) * P(X | W1, W2, W3, W4) * P(Y | W1, W2, W3, W4, X)) / Sum[Y](Sum[W3](P(W1) * P(W2 | W1, W3) * P(W3 | W1) * P(X | W1, W2, W3, W4) * P(Y | W1, W2, W3, W4, X)))))) / Sum[Y](Sum[W1](((Sum[Y](Sum[W3](P(W1) * P(W2 | W1, W3) * P(W3 | W1) * P(X | W1, W2, W3, W4) * P(Y | W1, W2, W3, W4, X))) / Sum[X, Y](Sum[W3](P(W1) * P(W2 | W1, W3) * P(W3 | W1) * P(X | W1, W2, W3, W4) * P(Y | W1, W2, W3, W4, X))))) * ((Sum[W2, X, Y](Sum[W3](P(W1) * P(W2 | W1, W3) * P(W3 | W1) * P(X | W1, W2, W3, W4) * P(Y | W1, W2, W3, W4, X))) / One())) * ((Sum[W3](P(W1) * P(W2 | W1, W3) * P(W3 | W1) * P(X | W1, W2, W3, W4) * P(Y | W1, W2, W3, W4, X)) / Sum[Y](Sum[W3](P(W1) * P(W2 | W1, W3) * P(W3 | W1) * P(X | W1, W2, W3, W4) * P(Y | W1, W2, W3, W4, X)))))))))\n",
      "Returning product: ((Sum[W1](((Sum[Y](Sum[W3](P(W1) * P(W2 | W1, W3) * P(W3 | W1) * P(X | W1, W2, W3, W4) * P(Y | W1, W2, W3, W4, X))) / Sum[X, Y](Sum[W3](P(W1) * P(W2 | W1, W3) * P(W3 | W1) * P(X | W1, W2, W3, W4) * P(Y | W1, W2, W3, W4, X))))) * ((Sum[W2, X, Y](Sum[W3](P(W1) * P(W2 | W1, W3) * P(W3 | W1) * P(X | W1, W2, W3, W4) * P(Y | W1, W2, W3, W4, X))) / One())) * ((Sum[W3](P(W1) * P(W2 | W1, W3) * P(W3 | W1) * P(X | W1, W2, W3, W4) * P(Y | W1, W2, W3, W4, X)) / Sum[Y](Sum[W3](P(W1) * P(W2 | W1, W3) * P(W3 | W1) * P(X | W1, W2, W3, W4) * P(Y | W1, W2, W3, W4, X)))))) / Sum[Y](Sum[W1](((Sum[Y](Sum[W3](P(W1) * P(W2 | W1, W3) * P(W3 | W1) * P(X | W1, W2, W3, W4) * P(Y | W1, W2, W3, W4, X))) / Sum[X, Y](Sum[W3](P(W1) * P(W2 | W1, W3) * P(W3 | W1) * P(X | W1, W2, W3, W4) * P(Y | W1, W2, W3, W4, X))))) * ((Sum[W2, X, Y](Sum[W3](P(W1) * P(W2 | W1, W3) * P(W3 | W1) * P(X | W1, W2, W3, W4) * P(Y | W1, W2, W3, W4, X))) / One())) * ((Sum[W3](P(W1) * P(W2 | W1, W3) * P(W3 | W1) * P(X | W1, W2, W3, W4) * P(Y | W1, W2, W3, W4, X)) / Sum[Y](Sum[W3](P(W1) * P(W2 | W1, W3) * P(W3 | W1) * P(X | W1, W2, W3, W4) * P(Y | W1, W2, W3, W4, X)))))))))\n"
     ]
    }
   ],
   "source": [
    "\"\"\"Third pass through the Identify() algorithm in Tian's 2003 example\n",
    "\"\"\"\n",
    "result_2 = _tian_lemma_4_ii(\n",
    "    district={Y},\n",
    "    graph_probability=Sum.safe(expected_result_1, [W1]),\n",
    "    topo=list(tian_pearl_figure_9a_graph.subgraph({X, Y}).topological_sort()),\n",
    ")\n",
    "#self.assert_expr_equal(result, self.expected_result_2)"
   ]
  },
  {
   "cell_type": "code",
   "execution_count": 29,
   "id": "3c81cee8-0a6f-4c4a-a756-1f7e38dc0208",
   "metadata": {},
   "outputs": [
    {
     "data": {
      "text/latex": [
       "$\\frac{\\sum\\limits_{W_1} \\frac{\\sum\\limits_{Y} \\sum\\limits_{W_3} P(W_1) P(W_2 | W_1, W_3) P(W_3 | W_1) P(X | W_1, W_2, W_3, W_4) P(Y | W_1, W_2, W_3, W_4, X)}{\\sum\\limits_{X, Y} \\sum\\limits_{W_3} P(W_1) P(W_2 | W_1, W_3) P(W_3 | W_1) P(X | W_1, W_2, W_3, W_4) P(Y | W_1, W_2, W_3, W_4, X)} \\frac{\\sum\\limits_{W_2, X, Y} \\sum\\limits_{W_3} P(W_1) P(W_2 | W_1, W_3) P(W_3 | W_1) P(X | W_1, W_2, W_3, W_4) P(Y | W_1, W_2, W_3, W_4, X)}{1} \\frac{\\sum\\limits_{W_3} P(W_1) P(W_2 | W_1, W_3) P(W_3 | W_1) P(X | W_1, W_2, W_3, W_4) P(Y | W_1, W_2, W_3, W_4, X)}{\\sum\\limits_{Y} \\sum\\limits_{W_3} P(W_1) P(W_2 | W_1, W_3) P(W_3 | W_1) P(X | W_1, W_2, W_3, W_4) P(Y | W_1, W_2, W_3, W_4, X)}}{\\sum\\limits_{Y} \\sum\\limits_{W_1} \\frac{\\sum\\limits_{Y} \\sum\\limits_{W_3} P(W_1) P(W_2 | W_1, W_3) P(W_3 | W_1) P(X | W_1, W_2, W_3, W_4) P(Y | W_1, W_2, W_3, W_4, X)}{\\sum\\limits_{X, Y} \\sum\\limits_{W_3} P(W_1) P(W_2 | W_1, W_3) P(W_3 | W_1) P(X | W_1, W_2, W_3, W_4) P(Y | W_1, W_2, W_3, W_4, X)} \\frac{\\sum\\limits_{W_2, X, Y} \\sum\\limits_{W_3} P(W_1) P(W_2 | W_1, W_3) P(W_3 | W_1) P(X | W_1, W_2, W_3, W_4) P(Y | W_1, W_2, W_3, W_4, X)}{1} \\frac{\\sum\\limits_{W_3} P(W_1) P(W_2 | W_1, W_3) P(W_3 | W_1) P(X | W_1, W_2, W_3, W_4) P(Y | W_1, W_2, W_3, W_4, X)}{\\sum\\limits_{Y} \\sum\\limits_{W_3} P(W_1) P(W_2 | W_1, W_3) P(W_3 | W_1) P(X | W_1, W_2, W_3, W_4) P(Y | W_1, W_2, W_3, W_4, X)}}$"
      ],
      "text/plain": [
       "((Sum[W1](((Sum[Y](Sum[W3](P(W1) * P(W2 | W1, W3) * P(W3 | W1) * P(X | W1, W2, W3, W4) * P(Y | W1, W2, W3, W4, X))) / Sum[X, Y](Sum[W3](P(W1) * P(W2 | W1, W3) * P(W3 | W1) * P(X | W1, W2, W3, W4) * P(Y | W1, W2, W3, W4, X))))) * ((Sum[W2, X, Y](Sum[W3](P(W1) * P(W2 | W1, W3) * P(W3 | W1) * P(X | W1, W2, W3, W4) * P(Y | W1, W2, W3, W4, X))) / One())) * ((Sum[W3](P(W1) * P(W2 | W1, W3) * P(W3 | W1) * P(X | W1, W2, W3, W4) * P(Y | W1, W2, W3, W4, X)) / Sum[Y](Sum[W3](P(W1) * P(W2 | W1, W3) * P(W3 | W1) * P(X | W1, W2, W3, W4) * P(Y | W1, W2, W3, W4, X)))))) / Sum[Y](Sum[W1](((Sum[Y](Sum[W3](P(W1) * P(W2 | W1, W3) * P(W3 | W1) * P(X | W1, W2, W3, W4) * P(Y | W1, W2, W3, W4, X))) / Sum[X, Y](Sum[W3](P(W1) * P(W2 | W1, W3) * P(W3 | W1) * P(X | W1, W2, W3, W4) * P(Y | W1, W2, W3, W4, X))))) * ((Sum[W2, X, Y](Sum[W3](P(W1) * P(W2 | W1, W3) * P(W3 | W1) * P(X | W1, W2, W3, W4) * P(Y | W1, W2, W3, W4, X))) / One())) * ((Sum[W3](P(W1) * P(W2 | W1, W3) * P(W3 | W1) * P(X | W1, W2, W3, W4) * P(Y | W1, W2, W3, W4, X)) / Sum[Y](Sum[W3](P(W1) * P(W2 | W1, W3) * P(W3 | W1) * P(X | W1, W2, W3, W4) * P(Y | W1, W2, W3, W4, X)))))))))"
      ]
     },
     "execution_count": 29,
     "metadata": {},
     "output_type": "execute_result"
    }
   ],
   "source": [
    "expected_result_2"
   ]
  },
  {
   "cell_type": "code",
   "execution_count": 30,
   "id": "24f93979-fbf7-4eff-8c17-8bcf4322a1bc",
   "metadata": {},
   "outputs": [
    {
     "data": {
      "text/latex": [
       "$\\frac{\\sum\\limits_{W_1} \\frac{\\sum\\limits_{Y} \\sum\\limits_{W_3} P(W_1) P(W_2 | W_1, W_3) P(W_3 | W_1) P(X | W_1, W_2, W_3, W_4) P(Y | W_1, W_2, W_3, W_4, X)}{\\sum\\limits_{X, Y} \\sum\\limits_{W_3} P(W_1) P(W_2 | W_1, W_3) P(W_3 | W_1) P(X | W_1, W_2, W_3, W_4) P(Y | W_1, W_2, W_3, W_4, X)} \\frac{\\sum\\limits_{W_2, X, Y} \\sum\\limits_{W_3} P(W_1) P(W_2 | W_1, W_3) P(W_3 | W_1) P(X | W_1, W_2, W_3, W_4) P(Y | W_1, W_2, W_3, W_4, X)}{1} \\frac{\\sum\\limits_{W_3} P(W_1) P(W_2 | W_1, W_3) P(W_3 | W_1) P(X | W_1, W_2, W_3, W_4) P(Y | W_1, W_2, W_3, W_4, X)}{\\sum\\limits_{Y} \\sum\\limits_{W_3} P(W_1) P(W_2 | W_1, W_3) P(W_3 | W_1) P(X | W_1, W_2, W_3, W_4) P(Y | W_1, W_2, W_3, W_4, X)}}{\\sum\\limits_{Y} \\sum\\limits_{W_1} \\frac{\\sum\\limits_{Y} \\sum\\limits_{W_3} P(W_1) P(W_2 | W_1, W_3) P(W_3 | W_1) P(X | W_1, W_2, W_3, W_4) P(Y | W_1, W_2, W_3, W_4, X)}{\\sum\\limits_{X, Y} \\sum\\limits_{W_3} P(W_1) P(W_2 | W_1, W_3) P(W_3 | W_1) P(X | W_1, W_2, W_3, W_4) P(Y | W_1, W_2, W_3, W_4, X)} \\frac{\\sum\\limits_{W_2, X, Y} \\sum\\limits_{W_3} P(W_1) P(W_2 | W_1, W_3) P(W_3 | W_1) P(X | W_1, W_2, W_3, W_4) P(Y | W_1, W_2, W_3, W_4, X)}{1} \\frac{\\sum\\limits_{W_3} P(W_1) P(W_2 | W_1, W_3) P(W_3 | W_1) P(X | W_1, W_2, W_3, W_4) P(Y | W_1, W_2, W_3, W_4, X)}{\\sum\\limits_{Y} \\sum\\limits_{W_3} P(W_1) P(W_2 | W_1, W_3) P(W_3 | W_1) P(X | W_1, W_2, W_3, W_4) P(Y | W_1, W_2, W_3, W_4, X)}}$"
      ],
      "text/plain": [
       "((Sum[W1](((Sum[Y](Sum[W3](P(W1) * P(W2 | W1, W3) * P(W3 | W1) * P(X | W1, W2, W3, W4) * P(Y | W1, W2, W3, W4, X))) / Sum[X, Y](Sum[W3](P(W1) * P(W2 | W1, W3) * P(W3 | W1) * P(X | W1, W2, W3, W4) * P(Y | W1, W2, W3, W4, X))))) * ((Sum[W2, X, Y](Sum[W3](P(W1) * P(W2 | W1, W3) * P(W3 | W1) * P(X | W1, W2, W3, W4) * P(Y | W1, W2, W3, W4, X))) / One())) * ((Sum[W3](P(W1) * P(W2 | W1, W3) * P(W3 | W1) * P(X | W1, W2, W3, W4) * P(Y | W1, W2, W3, W4, X)) / Sum[Y](Sum[W3](P(W1) * P(W2 | W1, W3) * P(W3 | W1) * P(X | W1, W2, W3, W4) * P(Y | W1, W2, W3, W4, X)))))) / Sum[Y](Sum[W1](((Sum[Y](Sum[W3](P(W1) * P(W2 | W1, W3) * P(W3 | W1) * P(X | W1, W2, W3, W4) * P(Y | W1, W2, W3, W4, X))) / Sum[X, Y](Sum[W3](P(W1) * P(W2 | W1, W3) * P(W3 | W1) * P(X | W1, W2, W3, W4) * P(Y | W1, W2, W3, W4, X))))) * ((Sum[W2, X, Y](Sum[W3](P(W1) * P(W2 | W1, W3) * P(W3 | W1) * P(X | W1, W2, W3, W4) * P(Y | W1, W2, W3, W4, X))) / One())) * ((Sum[W3](P(W1) * P(W2 | W1, W3) * P(W3 | W1) * P(X | W1, W2, W3, W4) * P(Y | W1, W2, W3, W4, X)) / Sum[Y](Sum[W3](P(W1) * P(W2 | W1, W3) * P(W3 | W1) * P(X | W1, W2, W3, W4) * P(Y | W1, W2, W3, W4, X)))))))))"
      ]
     },
     "execution_count": 30,
     "metadata": {},
     "output_type": "execute_result"
    }
   ],
   "source": [
    "result_2"
   ]
  },
  {
   "cell_type": "code",
   "execution_count": 33,
   "id": "72401e50-5c9f-436b-bc9b-2901080820cf",
   "metadata": {},
   "outputs": [
    {
     "name": "stderr",
     "output_type": "stream",
     "text": [
      "In _compute_c_factor: graph_topo = [W1, W3, W5, W2, W4, X, Y]\n",
      "In _compute_c_factor: subgraph_topo = [W1, W2, X, Y]\n",
      "In _compute_c_factor: calling _tian_lemma_4_ii\n",
      "In Lemma 4(ii): vertex = W1\n",
      "In _tian_equation_72: input vertex is W1\n",
      "   and variables are {Y, X, W1, W2}\n",
      "   and topo is [W1, W2, X, Y]\n",
      "In _one_round: index = 0\n",
      "  returning Sum[W2, X, Y](Sum[W3](((Sum[Y](Sum[W3](P(W1) * P(W2 | W1, W3) * P(W3 | W1) * P(X | W1, W2, W3, W4) * P(Y | W1, W2, W3, W4, X))) / Sum[X, Y](Sum[W3](P(W1) * P(W2 | W1, W3) * P(W3 | W1) * P(X | W1, W2, W3, W4) * P(Y | W1, W2, W3, W4, X))))) * ((Sum[W2, X, Y](Sum[W3](P(W1) * P(W2 | W1, W3) * P(W3 | W1) * P(X | W1, W2, W3, W4) * P(Y | W1, W2, W3, W4, X))) / One())) * ((Sum[W3](P(W1) * P(W2 | W1, W3) * P(W3 | W1) * P(X | W1, W2, W3, W4) * P(Y | W1, W2, W3, W4, X)) / Sum[Y](Sum[W3](P(W1) * P(W2 | W1, W3) * P(W3 | W1) * P(X | W1, W2, W3, W4) * P(Y | W1, W2, W3, W4, X)))))))\n",
      "\n",
      "Index = 0, Q[H^(i)] = Sum[W2, X, Y](Sum[W3](((Sum[Y](Sum[W3](P(W1) * P(W2 | W1, W3) * P(W3 | W1) * P(X | W1, W2, W3, W4) * P(Y | W1, W2, W3, W4, X))) / Sum[X, Y](Sum[W3](P(W1) * P(W2 | W1, W3) * P(W3 | W1) * P(X | W1, W2, W3, W4) * P(Y | W1, W2, W3, W4, X))))) * ((Sum[W2, X, Y](Sum[W3](P(W1) * P(W2 | W1, W3) * P(W3 | W1) * P(X | W1, W2, W3, W4) * P(Y | W1, W2, W3, W4, X))) / One())) * ((Sum[W3](P(W1) * P(W2 | W1, W3) * P(W3 | W1) * P(X | W1, W2, W3, W4) * P(Y | W1, W2, W3, W4, X)) / Sum[Y](Sum[W3](P(W1) * P(W2 | W1, W3) * P(W3 | W1) * P(X | W1, W2, W3, W4) * P(Y | W1, W2, W3, W4, X)))))))\n",
      "In Lemma 4(ii): vertex = X\n",
      "In _tian_equation_72: input vertex is X\n",
      "   and variables are {Y, X, W1, W2}\n",
      "   and topo is [W1, W2, X, Y]\n",
      "In _tian_equation_72: input vertex is W2\n",
      "   and variables are {Y, X, W1, W2}\n",
      "   and topo is [W1, W2, X, Y]\n",
      "In one_round with index > 1:\n",
      "\ttopo: [W1, W2, X, Y]\n",
      "\treturn_num: Sum[Y](Sum[W3](((Sum[Y](Sum[W3](P(W1) * P(W2 | W1, W3) * P(W3 | W1) * P(X | W1, W2, W3, W4) * P(Y | W1, W2, W3, W4, X))) / Sum[X, Y](Sum[W3](P(W1) * P(W2 | W1, W3) * P(W3 | W1) * P(X | W1, W2, W3, W4) * P(Y | W1, W2, W3, W4, X))))) * ((Sum[W2, X, Y](Sum[W3](P(W1) * P(W2 | W1, W3) * P(W3 | W1) * P(X | W1, W2, W3, W4) * P(Y | W1, W2, W3, W4, X))) / One())) * ((Sum[W3](P(W1) * P(W2 | W1, W3) * P(W3 | W1) * P(X | W1, W2, W3, W4) * P(Y | W1, W2, W3, W4, X)) / Sum[Y](Sum[W3](P(W1) * P(W2 | W1, W3) * P(W3 | W1) * P(X | W1, W2, W3, W4) * P(Y | W1, W2, W3, W4, X)))))))\n",
      "\treturn_den: Sum[X, Y](Sum[W3](((Sum[Y](Sum[W3](P(W1) * P(W2 | W1, W3) * P(W3 | W1) * P(X | W1, W2, W3, W4) * P(Y | W1, W2, W3, W4, X))) / Sum[X, Y](Sum[W3](P(W1) * P(W2 | W1, W3) * P(W3 | W1) * P(X | W1, W2, W3, W4) * P(Y | W1, W2, W3, W4, X))))) * ((Sum[W2, X, Y](Sum[W3](P(W1) * P(W2 | W1, W3) * P(W3 | W1) * P(X | W1, W2, W3, W4) * P(Y | W1, W2, W3, W4, X))) / One())) * ((Sum[W3](P(W1) * P(W2 | W1, W3) * P(W3 | W1) * P(X | W1, W2, W3, W4) * P(Y | W1, W2, W3, W4, X)) / Sum[Y](Sum[W3](P(W1) * P(W2 | W1, W3) * P(W3 | W1) * P(X | W1, W2, W3, W4) * P(Y | W1, W2, W3, W4, X)))))))\n",
      "\treturning: ((Sum[Y](Sum[W3](((Sum[Y](Sum[W3](P(W1) * P(W2 | W1, W3) * P(W3 | W1) * P(X | W1, W2, W3, W4) * P(Y | W1, W2, W3, W4, X))) / Sum[X, Y](Sum[W3](P(W1) * P(W2 | W1, W3) * P(W3 | W1) * P(X | W1, W2, W3, W4) * P(Y | W1, W2, W3, W4, X))))) * ((Sum[W2, X, Y](Sum[W3](P(W1) * P(W2 | W1, W3) * P(W3 | W1) * P(X | W1, W2, W3, W4) * P(Y | W1, W2, W3, W4, X))) / One())) * ((Sum[W3](P(W1) * P(W2 | W1, W3) * P(W3 | W1) * P(X | W1, W2, W3, W4) * P(Y | W1, W2, W3, W4, X)) / Sum[Y](Sum[W3](P(W1) * P(W2 | W1, W3) * P(W3 | W1) * P(X | W1, W2, W3, W4) * P(Y | W1, W2, W3, W4, X))))))) / Sum[X, Y](Sum[W3](((Sum[Y](Sum[W3](P(W1) * P(W2 | W1, W3) * P(W3 | W1) * P(X | W1, W2, W3, W4) * P(Y | W1, W2, W3, W4, X))) / Sum[X, Y](Sum[W3](P(W1) * P(W2 | W1, W3) * P(W3 | W1) * P(X | W1, W2, W3, W4) * P(Y | W1, W2, W3, W4, X))))) * ((Sum[W2, X, Y](Sum[W3](P(W1) * P(W2 | W1, W3) * P(W3 | W1) * P(X | W1, W2, W3, W4) * P(Y | W1, W2, W3, W4, X))) / One())) * ((Sum[W3](P(W1) * P(W2 | W1, W3) * P(W3 | W1) * P(X | W1, W2, W3, W4) * P(Y | W1, W2, W3, W4, X)) / Sum[Y](Sum[W3](P(W1) * P(W2 | W1, W3) * P(W3 | W1) * P(X | W1, W2, W3, W4) * P(Y | W1, W2, W3, W4, X)))))))))\n",
      "\n",
      "Index = 2, Q[H^(i)] = ((Sum[Y](Sum[W3](((Sum[Y](Sum[W3](P(W1) * P(W2 | W1, W3) * P(W3 | W1) * P(X | W1, W2, W3, W4) * P(Y | W1, W2, W3, W4, X))) / Sum[X, Y](Sum[W3](P(W1) * P(W2 | W1, W3) * P(W3 | W1) * P(X | W1, W2, W3, W4) * P(Y | W1, W2, W3, W4, X))))) * ((Sum[W2, X, Y](Sum[W3](P(W1) * P(W2 | W1, W3) * P(W3 | W1) * P(X | W1, W2, W3, W4) * P(Y | W1, W2, W3, W4, X))) / One())) * ((Sum[W3](P(W1) * P(W2 | W1, W3) * P(W3 | W1) * P(X | W1, W2, W3, W4) * P(Y | W1, W2, W3, W4, X)) / Sum[Y](Sum[W3](P(W1) * P(W2 | W1, W3) * P(W3 | W1) * P(X | W1, W2, W3, W4) * P(Y | W1, W2, W3, W4, X))))))) / Sum[X, Y](Sum[W3](((Sum[Y](Sum[W3](P(W1) * P(W2 | W1, W3) * P(W3 | W1) * P(X | W1, W2, W3, W4) * P(Y | W1, W2, W3, W4, X))) / Sum[X, Y](Sum[W3](P(W1) * P(W2 | W1, W3) * P(W3 | W1) * P(X | W1, W2, W3, W4) * P(Y | W1, W2, W3, W4, X))))) * ((Sum[W2, X, Y](Sum[W3](P(W1) * P(W2 | W1, W3) * P(W3 | W1) * P(X | W1, W2, W3, W4) * P(Y | W1, W2, W3, W4, X))) / One())) * ((Sum[W3](P(W1) * P(W2 | W1, W3) * P(W3 | W1) * P(X | W1, W2, W3, W4) * P(Y | W1, W2, W3, W4, X)) / Sum[Y](Sum[W3](P(W1) * P(W2 | W1, W3) * P(W3 | W1) * P(X | W1, W2, W3, W4) * P(Y | W1, W2, W3, W4, X)))))))))\n",
      "In Lemma 4(ii): vertex = Y\n",
      "In _tian_equation_72: input vertex is Y\n",
      "   and variables are {Y, X, W1, W2}\n",
      "   and topo is [W1, W2, X, Y]\n",
      "In _tian_equation_72: input vertex is X\n",
      "   and variables are {Y, X, W1, W2}\n",
      "   and topo is [W1, W2, X, Y]\n",
      "In one_round with index > 1:\n",
      "\ttopo: [W1, W2, X, Y]\n",
      "\treturn_num: Sum[W3](((Sum[Y](Sum[W3](P(W1) * P(W2 | W1, W3) * P(W3 | W1) * P(X | W1, W2, W3, W4) * P(Y | W1, W2, W3, W4, X))) / Sum[X, Y](Sum[W3](P(W1) * P(W2 | W1, W3) * P(W3 | W1) * P(X | W1, W2, W3, W4) * P(Y | W1, W2, W3, W4, X))))) * ((Sum[W2, X, Y](Sum[W3](P(W1) * P(W2 | W1, W3) * P(W3 | W1) * P(X | W1, W2, W3, W4) * P(Y | W1, W2, W3, W4, X))) / One())) * ((Sum[W3](P(W1) * P(W2 | W1, W3) * P(W3 | W1) * P(X | W1, W2, W3, W4) * P(Y | W1, W2, W3, W4, X)) / Sum[Y](Sum[W3](P(W1) * P(W2 | W1, W3) * P(W3 | W1) * P(X | W1, W2, W3, W4) * P(Y | W1, W2, W3, W4, X))))))\n",
      "\treturn_den: Sum[Y](Sum[W3](((Sum[Y](Sum[W3](P(W1) * P(W2 | W1, W3) * P(W3 | W1) * P(X | W1, W2, W3, W4) * P(Y | W1, W2, W3, W4, X))) / Sum[X, Y](Sum[W3](P(W1) * P(W2 | W1, W3) * P(W3 | W1) * P(X | W1, W2, W3, W4) * P(Y | W1, W2, W3, W4, X))))) * ((Sum[W2, X, Y](Sum[W3](P(W1) * P(W2 | W1, W3) * P(W3 | W1) * P(X | W1, W2, W3, W4) * P(Y | W1, W2, W3, W4, X))) / One())) * ((Sum[W3](P(W1) * P(W2 | W1, W3) * P(W3 | W1) * P(X | W1, W2, W3, W4) * P(Y | W1, W2, W3, W4, X)) / Sum[Y](Sum[W3](P(W1) * P(W2 | W1, W3) * P(W3 | W1) * P(X | W1, W2, W3, W4) * P(Y | W1, W2, W3, W4, X)))))))\n",
      "\treturning: ((Sum[W3](((Sum[Y](Sum[W3](P(W1) * P(W2 | W1, W3) * P(W3 | W1) * P(X | W1, W2, W3, W4) * P(Y | W1, W2, W3, W4, X))) / Sum[X, Y](Sum[W3](P(W1) * P(W2 | W1, W3) * P(W3 | W1) * P(X | W1, W2, W3, W4) * P(Y | W1, W2, W3, W4, X))))) * ((Sum[W2, X, Y](Sum[W3](P(W1) * P(W2 | W1, W3) * P(W3 | W1) * P(X | W1, W2, W3, W4) * P(Y | W1, W2, W3, W4, X))) / One())) * ((Sum[W3](P(W1) * P(W2 | W1, W3) * P(W3 | W1) * P(X | W1, W2, W3, W4) * P(Y | W1, W2, W3, W4, X)) / Sum[Y](Sum[W3](P(W1) * P(W2 | W1, W3) * P(W3 | W1) * P(X | W1, W2, W3, W4) * P(Y | W1, W2, W3, W4, X)))))) / Sum[Y](Sum[W3](((Sum[Y](Sum[W3](P(W1) * P(W2 | W1, W3) * P(W3 | W1) * P(X | W1, W2, W3, W4) * P(Y | W1, W2, W3, W4, X))) / Sum[X, Y](Sum[W3](P(W1) * P(W2 | W1, W3) * P(W3 | W1) * P(X | W1, W2, W3, W4) * P(Y | W1, W2, W3, W4, X))))) * ((Sum[W2, X, Y](Sum[W3](P(W1) * P(W2 | W1, W3) * P(W3 | W1) * P(X | W1, W2, W3, W4) * P(Y | W1, W2, W3, W4, X))) / One())) * ((Sum[W3](P(W1) * P(W2 | W1, W3) * P(W3 | W1) * P(X | W1, W2, W3, W4) * P(Y | W1, W2, W3, W4, X)) / Sum[Y](Sum[W3](P(W1) * P(W2 | W1, W3) * P(W3 | W1) * P(X | W1, W2, W3, W4) * P(Y | W1, W2, W3, W4, X)))))))))\n",
      "\n",
      "Index = 3, Q[H^(i)] = ((Sum[W3](((Sum[Y](Sum[W3](P(W1) * P(W2 | W1, W3) * P(W3 | W1) * P(X | W1, W2, W3, W4) * P(Y | W1, W2, W3, W4, X))) / Sum[X, Y](Sum[W3](P(W1) * P(W2 | W1, W3) * P(W3 | W1) * P(X | W1, W2, W3, W4) * P(Y | W1, W2, W3, W4, X))))) * ((Sum[W2, X, Y](Sum[W3](P(W1) * P(W2 | W1, W3) * P(W3 | W1) * P(X | W1, W2, W3, W4) * P(Y | W1, W2, W3, W4, X))) / One())) * ((Sum[W3](P(W1) * P(W2 | W1, W3) * P(W3 | W1) * P(X | W1, W2, W3, W4) * P(Y | W1, W2, W3, W4, X)) / Sum[Y](Sum[W3](P(W1) * P(W2 | W1, W3) * P(W3 | W1) * P(X | W1, W2, W3, W4) * P(Y | W1, W2, W3, W4, X)))))) / Sum[Y](Sum[W3](((Sum[Y](Sum[W3](P(W1) * P(W2 | W1, W3) * P(W3 | W1) * P(X | W1, W2, W3, W4) * P(Y | W1, W2, W3, W4, X))) / Sum[X, Y](Sum[W3](P(W1) * P(W2 | W1, W3) * P(W3 | W1) * P(X | W1, W2, W3, W4) * P(Y | W1, W2, W3, W4, X))))) * ((Sum[W2, X, Y](Sum[W3](P(W1) * P(W2 | W1, W3) * P(W3 | W1) * P(X | W1, W2, W3, W4) * P(Y | W1, W2, W3, W4, X))) / One())) * ((Sum[W3](P(W1) * P(W2 | W1, W3) * P(W3 | W1) * P(X | W1, W2, W3, W4) * P(Y | W1, W2, W3, W4, X)) / Sum[Y](Sum[W3](P(W1) * P(W2 | W1, W3) * P(W3 | W1) * P(X | W1, W2, W3, W4) * P(Y | W1, W2, W3, W4, X)))))))))\n",
      "Returning product: Sum[W2, X, Y](Sum[W3](((Sum[Y](Sum[W3](P(W1) * P(W2 | W1, W3) * P(W3 | W1) * P(X | W1, W2, W3, W4) * P(Y | W1, W2, W3, W4, X))) / Sum[X, Y](Sum[W3](P(W1) * P(W2 | W1, W3) * P(W3 | W1) * P(X | W1, W2, W3, W4) * P(Y | W1, W2, W3, W4, X))))) * ((Sum[W2, X, Y](Sum[W3](P(W1) * P(W2 | W1, W3) * P(W3 | W1) * P(X | W1, W2, W3, W4) * P(Y | W1, W2, W3, W4, X))) / One())) * ((Sum[W3](P(W1) * P(W2 | W1, W3) * P(W3 | W1) * P(X | W1, W2, W3, W4) * P(Y | W1, W2, W3, W4, X)) / Sum[Y](Sum[W3](P(W1) * P(W2 | W1, W3) * P(W3 | W1) * P(X | W1, W2, W3, W4) * P(Y | W1, W2, W3, W4, X))))))) * ((Sum[Y](Sum[W3](((Sum[Y](Sum[W3](P(W1) * P(W2 | W1, W3) * P(W3 | W1) * P(X | W1, W2, W3, W4) * P(Y | W1, W2, W3, W4, X))) / Sum[X, Y](Sum[W3](P(W1) * P(W2 | W1, W3) * P(W3 | W1) * P(X | W1, W2, W3, W4) * P(Y | W1, W2, W3, W4, X))))) * ((Sum[W2, X, Y](Sum[W3](P(W1) * P(W2 | W1, W3) * P(W3 | W1) * P(X | W1, W2, W3, W4) * P(Y | W1, W2, W3, W4, X))) / One())) * ((Sum[W3](P(W1) * P(W2 | W1, W3) * P(W3 | W1) * P(X | W1, W2, W3, W4) * P(Y | W1, W2, W3, W4, X)) / Sum[Y](Sum[W3](P(W1) * P(W2 | W1, W3) * P(W3 | W1) * P(X | W1, W2, W3, W4) * P(Y | W1, W2, W3, W4, X))))))) / Sum[X, Y](Sum[W3](((Sum[Y](Sum[W3](P(W1) * P(W2 | W1, W3) * P(W3 | W1) * P(X | W1, W2, W3, W4) * P(Y | W1, W2, W3, W4, X))) / Sum[X, Y](Sum[W3](P(W1) * P(W2 | W1, W3) * P(W3 | W1) * P(X | W1, W2, W3, W4) * P(Y | W1, W2, W3, W4, X))))) * ((Sum[W2, X, Y](Sum[W3](P(W1) * P(W2 | W1, W3) * P(W3 | W1) * P(X | W1, W2, W3, W4) * P(Y | W1, W2, W3, W4, X))) / One())) * ((Sum[W3](P(W1) * P(W2 | W1, W3) * P(W3 | W1) * P(X | W1, W2, W3, W4) * P(Y | W1, W2, W3, W4, X)) / Sum[Y](Sum[W3](P(W1) * P(W2 | W1, W3) * P(W3 | W1) * P(X | W1, W2, W3, W4) * P(Y | W1, W2, W3, W4, X))))))))) * ((Sum[W3](((Sum[Y](Sum[W3](P(W1) * P(W2 | W1, W3) * P(W3 | W1) * P(X | W1, W2, W3, W4) * P(Y | W1, W2, W3, W4, X))) / Sum[X, Y](Sum[W3](P(W1) * P(W2 | W1, W3) * P(W3 | W1) * P(X | W1, W2, W3, W4) * P(Y | W1, W2, W3, W4, X))))) * ((Sum[W2, X, Y](Sum[W3](P(W1) * P(W2 | W1, W3) * P(W3 | W1) * P(X | W1, W2, W3, W4) * P(Y | W1, W2, W3, W4, X))) / One())) * ((Sum[W3](P(W1) * P(W2 | W1, W3) * P(W3 | W1) * P(X | W1, W2, W3, W4) * P(Y | W1, W2, W3, W4, X)) / Sum[Y](Sum[W3](P(W1) * P(W2 | W1, W3) * P(W3 | W1) * P(X | W1, W2, W3, W4) * P(Y | W1, W2, W3, W4, X)))))) / Sum[Y](Sum[W3](((Sum[Y](Sum[W3](P(W1) * P(W2 | W1, W3) * P(W3 | W1) * P(X | W1, W2, W3, W4) * P(Y | W1, W2, W3, W4, X))) / Sum[X, Y](Sum[W3](P(W1) * P(W2 | W1, W3) * P(W3 | W1) * P(X | W1, W2, W3, W4) * P(Y | W1, W2, W3, W4, X))))) * ((Sum[W2, X, Y](Sum[W3](P(W1) * P(W2 | W1, W3) * P(W3 | W1) * P(X | W1, W2, W3, W4) * P(Y | W1, W2, W3, W4, X))) / One())) * ((Sum[W3](P(W1) * P(W2 | W1, W3) * P(W3 | W1) * P(X | W1, W2, W3, W4) * P(Y | W1, W2, W3, W4, X)) / Sum[Y](Sum[W3](P(W1) * P(W2 | W1, W3) * P(W3 | W1) * P(X | W1, W2, W3, W4) * P(Y | W1, W2, W3, W4, X)))))))))\n",
      "Returning from _compute_c_factor: Sum[W2, X, Y](Sum[W3](((Sum[Y](Sum[W3](P(W1) * P(W2 | W1, W3) * P(W3 | W1) * P(X | W1, W2, W3, W4) * P(Y | W1, W2, W3, W4, X))) / Sum[X, Y](Sum[W3](P(W1) * P(W2 | W1, W3) * P(W3 | W1) * P(X | W1, W2, W3, W4) * P(Y | W1, W2, W3, W4, X))))) * ((Sum[W2, X, Y](Sum[W3](P(W1) * P(W2 | W1, W3) * P(W3 | W1) * P(X | W1, W2, W3, W4) * P(Y | W1, W2, W3, W4, X))) / One())) * ((Sum[W3](P(W1) * P(W2 | W1, W3) * P(W3 | W1) * P(X | W1, W2, W3, W4) * P(Y | W1, W2, W3, W4, X)) / Sum[Y](Sum[W3](P(W1) * P(W2 | W1, W3) * P(W3 | W1) * P(X | W1, W2, W3, W4) * P(Y | W1, W2, W3, W4, X))))))) * ((Sum[Y](Sum[W3](((Sum[Y](Sum[W3](P(W1) * P(W2 | W1, W3) * P(W3 | W1) * P(X | W1, W2, W3, W4) * P(Y | W1, W2, W3, W4, X))) / Sum[X, Y](Sum[W3](P(W1) * P(W2 | W1, W3) * P(W3 | W1) * P(X | W1, W2, W3, W4) * P(Y | W1, W2, W3, W4, X))))) * ((Sum[W2, X, Y](Sum[W3](P(W1) * P(W2 | W1, W3) * P(W3 | W1) * P(X | W1, W2, W3, W4) * P(Y | W1, W2, W3, W4, X))) / One())) * ((Sum[W3](P(W1) * P(W2 | W1, W3) * P(W3 | W1) * P(X | W1, W2, W3, W4) * P(Y | W1, W2, W3, W4, X)) / Sum[Y](Sum[W3](P(W1) * P(W2 | W1, W3) * P(W3 | W1) * P(X | W1, W2, W3, W4) * P(Y | W1, W2, W3, W4, X))))))) / Sum[X, Y](Sum[W3](((Sum[Y](Sum[W3](P(W1) * P(W2 | W1, W3) * P(W3 | W1) * P(X | W1, W2, W3, W4) * P(Y | W1, W2, W3, W4, X))) / Sum[X, Y](Sum[W3](P(W1) * P(W2 | W1, W3) * P(W3 | W1) * P(X | W1, W2, W3, W4) * P(Y | W1, W2, W3, W4, X))))) * ((Sum[W2, X, Y](Sum[W3](P(W1) * P(W2 | W1, W3) * P(W3 | W1) * P(X | W1, W2, W3, W4) * P(Y | W1, W2, W3, W4, X))) / One())) * ((Sum[W3](P(W1) * P(W2 | W1, W3) * P(W3 | W1) * P(X | W1, W2, W3, W4) * P(Y | W1, W2, W3, W4, X)) / Sum[Y](Sum[W3](P(W1) * P(W2 | W1, W3) * P(W3 | W1) * P(X | W1, W2, W3, W4) * P(Y | W1, W2, W3, W4, X))))))))) * ((Sum[W3](((Sum[Y](Sum[W3](P(W1) * P(W2 | W1, W3) * P(W3 | W1) * P(X | W1, W2, W3, W4) * P(Y | W1, W2, W3, W4, X))) / Sum[X, Y](Sum[W3](P(W1) * P(W2 | W1, W3) * P(W3 | W1) * P(X | W1, W2, W3, W4) * P(Y | W1, W2, W3, W4, X))))) * ((Sum[W2, X, Y](Sum[W3](P(W1) * P(W2 | W1, W3) * P(W3 | W1) * P(X | W1, W2, W3, W4) * P(Y | W1, W2, W3, W4, X))) / One())) * ((Sum[W3](P(W1) * P(W2 | W1, W3) * P(W3 | W1) * P(X | W1, W2, W3, W4) * P(Y | W1, W2, W3, W4, X)) / Sum[Y](Sum[W3](P(W1) * P(W2 | W1, W3) * P(W3 | W1) * P(X | W1, W2, W3, W4) * P(Y | W1, W2, W3, W4, X)))))) / Sum[Y](Sum[W3](((Sum[Y](Sum[W3](P(W1) * P(W2 | W1, W3) * P(W3 | W1) * P(X | W1, W2, W3, W4) * P(Y | W1, W2, W3, W4, X))) / Sum[X, Y](Sum[W3](P(W1) * P(W2 | W1, W3) * P(W3 | W1) * P(X | W1, W2, W3, W4) * P(Y | W1, W2, W3, W4, X))))) * ((Sum[W2, X, Y](Sum[W3](P(W1) * P(W2 | W1, W3) * P(W3 | W1) * P(X | W1, W2, W3, W4) * P(Y | W1, W2, W3, W4, X))) / One())) * ((Sum[W3](P(W1) * P(W2 | W1, W3) * P(W3 | W1) * P(X | W1, W2, W3, W4) * P(Y | W1, W2, W3, W4, X)) / Sum[Y](Sum[W3](P(W1) * P(W2 | W1, W3) * P(W3 | W1) * P(X | W1, W2, W3, W4) * P(Y | W1, W2, W3, W4, X)))))))))\n"
     ]
    }
   ],
   "source": []
  },
  {
   "cell_type": "code",
   "execution_count": 34,
   "id": "7f6e5e75-02da-45b3-9af7-29ad6235272f",
   "metadata": {},
   "outputs": [
    {
     "data": {
      "text/latex": [
       "$\\sum\\limits_{W_2, X, Y} \\sum\\limits_{W_3} \\frac{\\sum\\limits_{Y} \\sum\\limits_{W_3} P(W_1) P(W_2 | W_1, W_3) P(W_3 | W_1) P(X | W_1, W_2, W_3, W_4) P(Y | W_1, W_2, W_3, W_4, X)}{\\sum\\limits_{X, Y} \\sum\\limits_{W_3} P(W_1) P(W_2 | W_1, W_3) P(W_3 | W_1) P(X | W_1, W_2, W_3, W_4) P(Y | W_1, W_2, W_3, W_4, X)} \\frac{\\sum\\limits_{W_2, X, Y} \\sum\\limits_{W_3} P(W_1) P(W_2 | W_1, W_3) P(W_3 | W_1) P(X | W_1, W_2, W_3, W_4) P(Y | W_1, W_2, W_3, W_4, X)}{1} \\frac{\\sum\\limits_{W_3} P(W_1) P(W_2 | W_1, W_3) P(W_3 | W_1) P(X | W_1, W_2, W_3, W_4) P(Y | W_1, W_2, W_3, W_4, X)}{\\sum\\limits_{Y} \\sum\\limits_{W_3} P(W_1) P(W_2 | W_1, W_3) P(W_3 | W_1) P(X | W_1, W_2, W_3, W_4) P(Y | W_1, W_2, W_3, W_4, X)} \\frac{\\sum\\limits_{Y} \\sum\\limits_{W_3} \\frac{\\sum\\limits_{Y} \\sum\\limits_{W_3} P(W_1) P(W_2 | W_1, W_3) P(W_3 | W_1) P(X | W_1, W_2, W_3, W_4) P(Y | W_1, W_2, W_3, W_4, X)}{\\sum\\limits_{X, Y} \\sum\\limits_{W_3} P(W_1) P(W_2 | W_1, W_3) P(W_3 | W_1) P(X | W_1, W_2, W_3, W_4) P(Y | W_1, W_2, W_3, W_4, X)} \\frac{\\sum\\limits_{W_2, X, Y} \\sum\\limits_{W_3} P(W_1) P(W_2 | W_1, W_3) P(W_3 | W_1) P(X | W_1, W_2, W_3, W_4) P(Y | W_1, W_2, W_3, W_4, X)}{1} \\frac{\\sum\\limits_{W_3} P(W_1) P(W_2 | W_1, W_3) P(W_3 | W_1) P(X | W_1, W_2, W_3, W_4) P(Y | W_1, W_2, W_3, W_4, X)}{\\sum\\limits_{Y} \\sum\\limits_{W_3} P(W_1) P(W_2 | W_1, W_3) P(W_3 | W_1) P(X | W_1, W_2, W_3, W_4) P(Y | W_1, W_2, W_3, W_4, X)}}{\\sum\\limits_{X, Y} \\sum\\limits_{W_3} \\frac{\\sum\\limits_{Y} \\sum\\limits_{W_3} P(W_1) P(W_2 | W_1, W_3) P(W_3 | W_1) P(X | W_1, W_2, W_3, W_4) P(Y | W_1, W_2, W_3, W_4, X)}{\\sum\\limits_{X, Y} \\sum\\limits_{W_3} P(W_1) P(W_2 | W_1, W_3) P(W_3 | W_1) P(X | W_1, W_2, W_3, W_4) P(Y | W_1, W_2, W_3, W_4, X)} \\frac{\\sum\\limits_{W_2, X, Y} \\sum\\limits_{W_3} P(W_1) P(W_2 | W_1, W_3) P(W_3 | W_1) P(X | W_1, W_2, W_3, W_4) P(Y | W_1, W_2, W_3, W_4, X)}{1} \\frac{\\sum\\limits_{W_3} P(W_1) P(W_2 | W_1, W_3) P(W_3 | W_1) P(X | W_1, W_2, W_3, W_4) P(Y | W_1, W_2, W_3, W_4, X)}{\\sum\\limits_{Y} \\sum\\limits_{W_3} P(W_1) P(W_2 | W_1, W_3) P(W_3 | W_1) P(X | W_1, W_2, W_3, W_4) P(Y | W_1, W_2, W_3, W_4, X)}} \\frac{\\sum\\limits_{W_3} \\frac{\\sum\\limits_{Y} \\sum\\limits_{W_3} P(W_1) P(W_2 | W_1, W_3) P(W_3 | W_1) P(X | W_1, W_2, W_3, W_4) P(Y | W_1, W_2, W_3, W_4, X)}{\\sum\\limits_{X, Y} \\sum\\limits_{W_3} P(W_1) P(W_2 | W_1, W_3) P(W_3 | W_1) P(X | W_1, W_2, W_3, W_4) P(Y | W_1, W_2, W_3, W_4, X)} \\frac{\\sum\\limits_{W_2, X, Y} \\sum\\limits_{W_3} P(W_1) P(W_2 | W_1, W_3) P(W_3 | W_1) P(X | W_1, W_2, W_3, W_4) P(Y | W_1, W_2, W_3, W_4, X)}{1} \\frac{\\sum\\limits_{W_3} P(W_1) P(W_2 | W_1, W_3) P(W_3 | W_1) P(X | W_1, W_2, W_3, W_4) P(Y | W_1, W_2, W_3, W_4, X)}{\\sum\\limits_{Y} \\sum\\limits_{W_3} P(W_1) P(W_2 | W_1, W_3) P(W_3 | W_1) P(X | W_1, W_2, W_3, W_4) P(Y | W_1, W_2, W_3, W_4, X)}}{\\sum\\limits_{Y} \\sum\\limits_{W_3} \\frac{\\sum\\limits_{Y} \\sum\\limits_{W_3} P(W_1) P(W_2 | W_1, W_3) P(W_3 | W_1) P(X | W_1, W_2, W_3, W_4) P(Y | W_1, W_2, W_3, W_4, X)}{\\sum\\limits_{X, Y} \\sum\\limits_{W_3} P(W_1) P(W_2 | W_1, W_3) P(W_3 | W_1) P(X | W_1, W_2, W_3, W_4) P(Y | W_1, W_2, W_3, W_4, X)} \\frac{\\sum\\limits_{W_2, X, Y} \\sum\\limits_{W_3} P(W_1) P(W_2 | W_1, W_3) P(W_3 | W_1) P(X | W_1, W_2, W_3, W_4) P(Y | W_1, W_2, W_3, W_4, X)}{1} \\frac{\\sum\\limits_{W_3} P(W_1) P(W_2 | W_1, W_3) P(W_3 | W_1) P(X | W_1, W_2, W_3, W_4) P(Y | W_1, W_2, W_3, W_4, X)}{\\sum\\limits_{Y} \\sum\\limits_{W_3} P(W_1) P(W_2 | W_1, W_3) P(W_3 | W_1) P(X | W_1, W_2, W_3, W_4) P(Y | W_1, W_2, W_3, W_4, X)}}$"
      ],
      "text/plain": [
       "Sum[W2, X, Y](Sum[W3](((Sum[Y](Sum[W3](P(W1) * P(W2 | W1, W3) * P(W3 | W1) * P(X | W1, W2, W3, W4) * P(Y | W1, W2, W3, W4, X))) / Sum[X, Y](Sum[W3](P(W1) * P(W2 | W1, W3) * P(W3 | W1) * P(X | W1, W2, W3, W4) * P(Y | W1, W2, W3, W4, X))))) * ((Sum[W2, X, Y](Sum[W3](P(W1) * P(W2 | W1, W3) * P(W3 | W1) * P(X | W1, W2, W3, W4) * P(Y | W1, W2, W3, W4, X))) / One())) * ((Sum[W3](P(W1) * P(W2 | W1, W3) * P(W3 | W1) * P(X | W1, W2, W3, W4) * P(Y | W1, W2, W3, W4, X)) / Sum[Y](Sum[W3](P(W1) * P(W2 | W1, W3) * P(W3 | W1) * P(X | W1, W2, W3, W4) * P(Y | W1, W2, W3, W4, X))))))) * ((Sum[Y](Sum[W3](((Sum[Y](Sum[W3](P(W1) * P(W2 | W1, W3) * P(W3 | W1) * P(X | W1, W2, W3, W4) * P(Y | W1, W2, W3, W4, X))) / Sum[X, Y](Sum[W3](P(W1) * P(W2 | W1, W3) * P(W3 | W1) * P(X | W1, W2, W3, W4) * P(Y | W1, W2, W3, W4, X))))) * ((Sum[W2, X, Y](Sum[W3](P(W1) * P(W2 | W1, W3) * P(W3 | W1) * P(X | W1, W2, W3, W4) * P(Y | W1, W2, W3, W4, X))) / One())) * ((Sum[W3](P(W1) * P(W2 | W1, W3) * P(W3 | W1) * P(X | W1, W2, W3, W4) * P(Y | W1, W2, W3, W4, X)) / Sum[Y](Sum[W3](P(W1) * P(W2 | W1, W3) * P(W3 | W1) * P(X | W1, W2, W3, W4) * P(Y | W1, W2, W3, W4, X))))))) / Sum[X, Y](Sum[W3](((Sum[Y](Sum[W3](P(W1) * P(W2 | W1, W3) * P(W3 | W1) * P(X | W1, W2, W3, W4) * P(Y | W1, W2, W3, W4, X))) / Sum[X, Y](Sum[W3](P(W1) * P(W2 | W1, W3) * P(W3 | W1) * P(X | W1, W2, W3, W4) * P(Y | W1, W2, W3, W4, X))))) * ((Sum[W2, X, Y](Sum[W3](P(W1) * P(W2 | W1, W3) * P(W3 | W1) * P(X | W1, W2, W3, W4) * P(Y | W1, W2, W3, W4, X))) / One())) * ((Sum[W3](P(W1) * P(W2 | W1, W3) * P(W3 | W1) * P(X | W1, W2, W3, W4) * P(Y | W1, W2, W3, W4, X)) / Sum[Y](Sum[W3](P(W1) * P(W2 | W1, W3) * P(W3 | W1) * P(X | W1, W2, W3, W4) * P(Y | W1, W2, W3, W4, X))))))))) * ((Sum[W3](((Sum[Y](Sum[W3](P(W1) * P(W2 | W1, W3) * P(W3 | W1) * P(X | W1, W2, W3, W4) * P(Y | W1, W2, W3, W4, X))) / Sum[X, Y](Sum[W3](P(W1) * P(W2 | W1, W3) * P(W3 | W1) * P(X | W1, W2, W3, W4) * P(Y | W1, W2, W3, W4, X))))) * ((Sum[W2, X, Y](Sum[W3](P(W1) * P(W2 | W1, W3) * P(W3 | W1) * P(X | W1, W2, W3, W4) * P(Y | W1, W2, W3, W4, X))) / One())) * ((Sum[W3](P(W1) * P(W2 | W1, W3) * P(W3 | W1) * P(X | W1, W2, W3, W4) * P(Y | W1, W2, W3, W4, X)) / Sum[Y](Sum[W3](P(W1) * P(W2 | W1, W3) * P(W3 | W1) * P(X | W1, W2, W3, W4) * P(Y | W1, W2, W3, W4, X)))))) / Sum[Y](Sum[W3](((Sum[Y](Sum[W3](P(W1) * P(W2 | W1, W3) * P(W3 | W1) * P(X | W1, W2, W3, W4) * P(Y | W1, W2, W3, W4, X))) / Sum[X, Y](Sum[W3](P(W1) * P(W2 | W1, W3) * P(W3 | W1) * P(X | W1, W2, W3, W4) * P(Y | W1, W2, W3, W4, X))))) * ((Sum[W2, X, Y](Sum[W3](P(W1) * P(W2 | W1, W3) * P(W3 | W1) * P(X | W1, W2, W3, W4) * P(Y | W1, W2, W3, W4, X))) / One())) * ((Sum[W3](P(W1) * P(W2 | W1, W3) * P(W3 | W1) * P(X | W1, W2, W3, W4) * P(Y | W1, W2, W3, W4, X)) / Sum[Y](Sum[W3](P(W1) * P(W2 | W1, W3) * P(W3 | W1) * P(X | W1, W2, W3, W4) * P(Y | W1, W2, W3, W4, X)))))))))"
      ]
     },
     "execution_count": 34,
     "metadata": {},
     "output_type": "execute_result"
    }
   ],
   "source": [
    "result_4"
   ]
  },
  {
   "cell_type": "code",
   "execution_count": 36,
   "id": "9b06cb7f-dce5-48f0-ad3d-a5c3ff636cdf",
   "metadata": {},
   "outputs": [
    {
     "data": {
      "text/latex": [
       "$\\frac{\\sum\\limits_{Y} \\sum\\limits_{W_3} P(W_1) P(W_2 | W_1, W_3) P(W_3 | W_1) P(X | W_1, W_2, W_3, W_4) P(Y | W_1, W_2, W_3, W_4, X)}{\\sum\\limits_{X, Y} \\sum\\limits_{W_3} P(W_1) P(W_2 | W_1, W_3) P(W_3 | W_1) P(X | W_1, W_2, W_3, W_4) P(Y | W_1, W_2, W_3, W_4, X)} \\frac{\\sum\\limits_{W_2, X, Y} \\sum\\limits_{W_3} P(W_1) P(W_2 | W_1, W_3) P(W_3 | W_1) P(X | W_1, W_2, W_3, W_4) P(Y | W_1, W_2, W_3, W_4, X)}{1} \\frac{\\sum\\limits_{W_3} P(W_1) P(W_2 | W_1, W_3) P(W_3 | W_1) P(X | W_1, W_2, W_3, W_4) P(Y | W_1, W_2, W_3, W_4, X)}{\\sum\\limits_{Y} \\sum\\limits_{W_3} P(W_1) P(W_2 | W_1, W_3) P(W_3 | W_1) P(X | W_1, W_2, W_3, W_4) P(Y | W_1, W_2, W_3, W_4, X)}$"
      ],
      "text/plain": [
       "((Sum[Y](Sum[W3](P(W1) * P(W2 | W1, W3) * P(W3 | W1) * P(X | W1, W2, W3, W4) * P(Y | W1, W2, W3, W4, X))) / Sum[X, Y](Sum[W3](P(W1) * P(W2 | W1, W3) * P(W3 | W1) * P(X | W1, W2, W3, W4) * P(Y | W1, W2, W3, W4, X))))) * ((Sum[W2, X, Y](Sum[W3](P(W1) * P(W2 | W1, W3) * P(W3 | W1) * P(X | W1, W2, W3, W4) * P(Y | W1, W2, W3, W4, X))) / One())) * ((Sum[W3](P(W1) * P(W2 | W1, W3) * P(W3 | W1) * P(X | W1, W2, W3, W4) * P(Y | W1, W2, W3, W4, X)) / Sum[Y](Sum[W3](P(W1) * P(W2 | W1, W3) * P(W3 | W1) * P(X | W1, W2, W3, W4) * P(Y | W1, W2, W3, W4, X)))))"
      ]
     },
     "execution_count": 36,
     "metadata": {},
     "output_type": "execute_result"
    }
   ],
   "source": [
    "expected_result_1"
   ]
  },
  {
   "cell_type": "code",
   "execution_count": null,
   "id": "76ee5848-5d4c-49c4-a438-7120a8836a41",
   "metadata": {},
   "outputs": [],
   "source": [
    "## Let's put it all together and call Identify!"
   ]
  },
  {
   "cell_type": "code",
   "execution_count": 43,
   "id": "c4586819-fb96-485c-99a9-12fd1c83a376",
   "metadata": {},
   "outputs": [
    {
     "name": "stderr",
     "output_type": "stream",
     "text": [
      "In tian_pearl_identify: A = C. Applying Lemma 3.\n",
      "   Returning Q value: P(Z | X1)\n"
     ]
    },
    {
     "data": {
      "text/latex": [
       "$P^{pi_1}(Z | X_1)$"
      ],
      "text/plain": [
       "P(Z | X1)"
      ]
     },
     "execution_count": 43,
     "metadata": {},
     "output_type": "execute_result"
    }
   ],
   "source": [
    "\"\"\"Test Line 2 of Algorithm 5 of [correa22a]_.\n",
    "\n",
    "This tests the case where A == C.\n",
    "\"\"\"\n",
    "# π_star = Pi_star = Variable(f\"π*\")\n",
    "test_1_identify_input_variables = {Z}  # A\n",
    "test_1_identify_input_district = {Z}  # B\n",
    "\n",
    "# @cthoyt @JZ The next two commented-out lines produce a mypy error:\n",
    "# pi1 = Population(\"pi1\")\n",
    "# test_1_district_probability = PP[Population(\"pi1\")](Z | X1)\n",
    "# error: Type application targets a non-generic function or class  [misc]\n",
    "# test_transport.py uses a similar syntax and does not trigger the error,\n",
    "#   so I'm probably missing something simple.\n",
    "test_1_district_probability = PP[Population(\"pi1\")](Z | X1)  # Q\n",
    "# pi1 = Population(\"pi1\")\n",
    "# test_1_district_probability = PP[pi1](Z | X1)\n",
    "result = tian_pearl_identify(\n",
    "    input_variables=frozenset(test_1_identify_input_variables),\n",
    "    input_district=frozenset(test_1_identify_input_district),\n",
    "    district_probability=test_1_district_probability,\n",
    "    graph=soft_interventions_figure_1b_graph,\n",
    "    topo=list(soft_interventions_figure_1b_graph.topological_sort()),\n",
    ")\n",
    "#logger.warning(\"Result of identify() call for test_identify_1 is \" + str(result))\n",
    "result\n",
    "#self.assert_expr_equal(result, PP[Population(\"pi1\")](Z | X1))"
   ]
  },
  {
   "cell_type": "code",
   "execution_count": 45,
   "id": "36a7a7a0-7f29-42d0-82eb-135b2ba11eb6",
   "metadata": {},
   "outputs": [
    {
     "data": {
      "text/latex": [
       "$P^{pi_1}(Z | X_1)$"
      ],
      "text/plain": [
       "P(Z | X1)"
      ]
     },
     "execution_count": 45,
     "metadata": {},
     "output_type": "execute_result"
    }
   ],
   "source": [
    "PP[Population(\"pi1\")](Z | X1)"
   ]
  },
  {
   "cell_type": "code",
   "execution_count": 47,
   "id": "2c3c1927-5183-4863-ae46-3af5804e6184",
   "metadata": {},
   "outputs": [
    {
     "name": "stderr",
     "output_type": "stream",
     "text": [
      "In tian_pearl_identify: A = T. Returning None (i.e., FAIL).\n"
     ]
    },
    {
     "name": "stdout",
     "output_type": "stream",
     "text": [
      "None\n"
     ]
    }
   ],
   "source": [
    "\"\"\"Test Line 3 of Algorithm 5 of [correa22a]_.\n",
    "\n",
    "This tests the case where A == T.\n",
    "Sources: a modification of the example following Theorem 2 in [correa20a]_\n",
    "and the paragraph at the end of section 4 in [correa20a]_.\n",
    "\"\"\"\n",
    "result1 = tian_pearl_identify(\n",
    "    input_variables=frozenset({R, Y}),\n",
    "    input_district=frozenset({W, R, X, Z, Y}),\n",
    "    district_probability=PP[Population(\"pi*\")](\n",
    "        W, R, X, Z, Y\n",
    "    ),  # This is a c-factor if the input variables comprise a c-component\n",
    "    graph=soft_interventions_figure_2a_graph,\n",
    "    topo=list(soft_interventions_figure_2a_graph.topological_sort()),\n",
    ")\n",
    "#logger.warning(\"Result of identify() call for test_identify_2 part 1 is \" + str(result1))\n",
    "print(result1)\n",
    "#self.assertIsNone(result1)\n"
   ]
  },
  {
   "cell_type": "code",
   "execution_count": 48,
   "id": "344bb032-5e57-48da-b221-3d24aa320928",
   "metadata": {},
   "outputs": [
    {
     "name": "stderr",
     "output_type": "stream",
     "text": [
      "In tian_pearl_identify: A = T. Returning None (i.e., FAIL).\n"
     ]
    },
    {
     "name": "stdout",
     "output_type": "stream",
     "text": [
      "None\n"
     ]
    }
   ],
   "source": [
    "result2 = tian_pearl_identify(\n",
    "    input_variables=frozenset({Z, R}),\n",
    "    input_district=frozenset({R, X, W, Z}),\n",
    "    district_probability=PP[Population(\"pi*\")](R, W, X, Z),\n",
    "    graph=soft_interventions_figure_3_graph.subgraph(vertices={R, Z, X, W}),\n",
    "    topo=list(soft_interventions_figure_3_graph.topological_sort()),\n",
    ")\n",
    "print(result2)"
   ]
  },
  {
   "cell_type": "code",
   "execution_count": 67,
   "id": "48b80b7d-0c85-4582-b239-e288043df161",
   "metadata": {},
   "outputs": [
    {
     "data": {
      "text/plain": [
       "<function unittest.case.TestCase.assertEqual(self, first, second, msg=None)>"
      ]
     },
     "execution_count": 67,
     "metadata": {},
     "output_type": "execute_result"
    }
   ],
   "source": [
    "unittest.TestCase.assertEqual"
   ]
  },
  {
   "cell_type": "code",
   "execution_count": 72,
   "id": "b847fbfa-9ef5-43c4-b7a1-d5df98a6e50e",
   "metadata": {},
   "outputs": [],
   "source": [
    "# A bit hacky but here so the notebook will run for a demo\n",
    "def assert_expr_equal(expected: Expression, actual: Expression) -> None:\n",
    "    \"\"\"Assert that two expressions are the same.\"\"\"\n",
    "    example = unittest.TestCase() \n",
    "    expected_outcomes, expected_treatments = get_outcomes_and_treatments(query=expected)\n",
    "    actual_outcomes, actual_treatments = get_outcomes_and_treatments(query=actual)\n",
    "    example.assertEqual(first=expected_treatments, second=actual_treatments)\n",
    "    #self.assertEqual(expected_treatments, actual_treatments)\n",
    "    example.assertEqual(expected_outcomes, actual_outcomes)\n",
    "    ordering = sorted(expected.get_variables(), key=lambda x: str(x))\n",
    "    expected_canonical = canonicalize(expected, ordering)\n",
    "    actual_canonical = canonicalize(actual, ordering)\n",
    "    example.assertEqual(\n",
    "        expected_canonical,\n",
    "        actual_canonical,\n",
    "        msg=f\"\\nExpected: {str(expected_canonical)}\\nActual:   {str(actual_canonical)}\",\n",
    "    )"
   ]
  },
  {
   "cell_type": "code",
   "execution_count": 73,
   "id": "60b622db-58d8-48cd-bb3d-a5353f3d4815",
   "metadata": {},
   "outputs": [
    {
     "name": "stderr",
     "output_type": "stream",
     "text": [
      "In _compute_c_factor: graph_topo = [W1, W3, W5, W2, W4, X, Y]\n",
      "In _compute_c_factor: subgraph_topo = [W1, W3, W2, W4, X, Y]\n",
      "In _tian_lemma_1_i: topo = [W1, W3, W2, W4, X, Y]\n",
      "In _tian_lemma_1_i: returning P(W1) * P(W2 | W1, W3) * P(W3 | W1) * P(X | W1, W2, W3, W4) * P(Y | W1, W2, W3, W4, X)\n",
      "In tian_pearl_identify: about to recursively call tian_pearl_identify.\n",
      "    C = frozenset({Y})\n",
      "    T' = frozenset({W3, Y, W1, X, W2})\n",
      "    Q[T'] =P(W1) * P(W2 | W1, W3) * P(W3 | W1) * P(X | W1, W2, W3, W4) * P(Y | W1, W2, W3, W4, X)\n",
      "    graph nodes = [W1, W2, X, W3, W4, Y, W5]\n",
      "    topo = [W1, W3, W5, W2, W4, X, Y]\n",
      "In _compute_c_factor: graph_topo = [W1, W3, W5, W2, W4, X, Y]\n",
      "In _compute_c_factor: subgraph_topo = [W1, W2, X, Y]\n",
      "In _compute_c_factor: calling _tian_lemma_4_ii\n",
      "In Lemma 4(ii): vertex = Y\n",
      "In _tian_equation_72: input vertex is Y\n",
      "   and variables are {Y, X, W1, W2}\n",
      "   and topo is [W1, W2, X, Y]\n",
      "In _tian_equation_72: input vertex is X\n",
      "   and variables are {Y, X, W1, W2}\n",
      "   and topo is [W1, W2, X, Y]\n",
      "In one_round with index > 1:\n",
      "\ttopo: [W1, W2, X, Y]\n",
      "\treturn_num: Sum[W3](P(W1) * P(W2 | W1, W3) * P(W3 | W1) * P(X | W1, W2, W3, W4) * P(Y | W1, W2, W3, W4, X))\n",
      "\treturn_den: Sum[Y](Sum[W3](P(W1) * P(W2 | W1, W3) * P(W3 | W1) * P(X | W1, W2, W3, W4) * P(Y | W1, W2, W3, W4, X)))\n",
      "\treturning: ((Sum[W3](P(W1) * P(W2 | W1, W3) * P(W3 | W1) * P(X | W1, W2, W3, W4) * P(Y | W1, W2, W3, W4, X)) / Sum[Y](Sum[W3](P(W1) * P(W2 | W1, W3) * P(W3 | W1) * P(X | W1, W2, W3, W4) * P(Y | W1, W2, W3, W4, X)))))\n",
      "\n",
      "Index = 3, Q[H^(i)] = ((Sum[W3](P(W1) * P(W2 | W1, W3) * P(W3 | W1) * P(X | W1, W2, W3, W4) * P(Y | W1, W2, W3, W4, X)) / Sum[Y](Sum[W3](P(W1) * P(W2 | W1, W3) * P(W3 | W1) * P(X | W1, W2, W3, W4) * P(Y | W1, W2, W3, W4, X)))))\n",
      "In Lemma 4(ii): vertex = W1\n",
      "In _tian_equation_72: input vertex is W1\n",
      "   and variables are {Y, X, W1, W2}\n",
      "   and topo is [W1, W2, X, Y]\n",
      "In _one_round: index = 0\n",
      "  returning Sum[W2, X, Y](Sum[W3](P(W1) * P(W2 | W1, W3) * P(W3 | W1) * P(X | W1, W2, W3, W4) * P(Y | W1, W2, W3, W4, X)))\n",
      "\n",
      "Index = 0, Q[H^(i)] = Sum[W2, X, Y](Sum[W3](P(W1) * P(W2 | W1, W3) * P(W3 | W1) * P(X | W1, W2, W3, W4) * P(Y | W1, W2, W3, W4, X)))\n",
      "In Lemma 4(ii): vertex = X\n",
      "In _tian_equation_72: input vertex is X\n",
      "   and variables are {Y, X, W1, W2}\n",
      "   and topo is [W1, W2, X, Y]\n",
      "In _tian_equation_72: input vertex is W2\n",
      "   and variables are {Y, X, W1, W2}\n",
      "   and topo is [W1, W2, X, Y]\n",
      "In one_round with index > 1:\n",
      "\ttopo: [W1, W2, X, Y]\n",
      "\treturn_num: Sum[Y](Sum[W3](P(W1) * P(W2 | W1, W3) * P(W3 | W1) * P(X | W1, W2, W3, W4) * P(Y | W1, W2, W3, W4, X)))\n",
      "\treturn_den: Sum[X, Y](Sum[W3](P(W1) * P(W2 | W1, W3) * P(W3 | W1) * P(X | W1, W2, W3, W4) * P(Y | W1, W2, W3, W4, X)))\n",
      "\treturning: ((Sum[Y](Sum[W3](P(W1) * P(W2 | W1, W3) * P(W3 | W1) * P(X | W1, W2, W3, W4) * P(Y | W1, W2, W3, W4, X))) / Sum[X, Y](Sum[W3](P(W1) * P(W2 | W1, W3) * P(W3 | W1) * P(X | W1, W2, W3, W4) * P(Y | W1, W2, W3, W4, X)))))\n",
      "\n",
      "Index = 2, Q[H^(i)] = ((Sum[Y](Sum[W3](P(W1) * P(W2 | W1, W3) * P(W3 | W1) * P(X | W1, W2, W3, W4) * P(Y | W1, W2, W3, W4, X))) / Sum[X, Y](Sum[W3](P(W1) * P(W2 | W1, W3) * P(W3 | W1) * P(X | W1, W2, W3, W4) * P(Y | W1, W2, W3, W4, X)))))\n",
      "Returning product: Sum[W2, X, Y](Sum[W3](P(W1) * P(W2 | W1, W3) * P(W3 | W1) * P(X | W1, W2, W3, W4) * P(Y | W1, W2, W3, W4, X))) * ((Sum[Y](Sum[W3](P(W1) * P(W2 | W1, W3) * P(W3 | W1) * P(X | W1, W2, W3, W4) * P(Y | W1, W2, W3, W4, X))) / Sum[X, Y](Sum[W3](P(W1) * P(W2 | W1, W3) * P(W3 | W1) * P(X | W1, W2, W3, W4) * P(Y | W1, W2, W3, W4, X))))) * ((Sum[W3](P(W1) * P(W2 | W1, W3) * P(W3 | W1) * P(X | W1, W2, W3, W4) * P(Y | W1, W2, W3, W4, X)) / Sum[Y](Sum[W3](P(W1) * P(W2 | W1, W3) * P(W3 | W1) * P(X | W1, W2, W3, W4) * P(Y | W1, W2, W3, W4, X)))))\n",
      "Returning from _compute_c_factor: Sum[W2, X, Y](Sum[W3](P(W1) * P(W2 | W1, W3) * P(W3 | W1) * P(X | W1, W2, W3, W4) * P(Y | W1, W2, W3, W4, X))) * ((Sum[Y](Sum[W3](P(W1) * P(W2 | W1, W3) * P(W3 | W1) * P(X | W1, W2, W3, W4) * P(Y | W1, W2, W3, W4, X))) / Sum[X, Y](Sum[W3](P(W1) * P(W2 | W1, W3) * P(W3 | W1) * P(X | W1, W2, W3, W4) * P(Y | W1, W2, W3, W4, X))))) * ((Sum[W3](P(W1) * P(W2 | W1, W3) * P(W3 | W1) * P(X | W1, W2, W3, W4) * P(Y | W1, W2, W3, W4, X)) / Sum[Y](Sum[W3](P(W1) * P(W2 | W1, W3) * P(W3 | W1) * P(X | W1, W2, W3, W4) * P(Y | W1, W2, W3, W4, X)))))\n",
      "In tian_pearl_identify: about to recursively call tian_pearl_identify.\n",
      "    C = frozenset({Y})\n",
      "    T' = frozenset({Y, W1, X})\n",
      "    Q[T'] =Sum[W2, X, Y](Sum[W3](P(W1) * P(W2 | W1, W3) * P(W3 | W1) * P(X | W1, W2, W3, W4) * P(Y | W1, W2, W3, W4, X))) * ((Sum[Y](Sum[W3](P(W1) * P(W2 | W1, W3) * P(W3 | W1) * P(X | W1, W2, W3, W4) * P(Y | W1, W2, W3, W4, X))) / Sum[X, Y](Sum[W3](P(W1) * P(W2 | W1, W3) * P(W3 | W1) * P(X | W1, W2, W3, W4) * P(Y | W1, W2, W3, W4, X))))) * ((Sum[W3](P(W1) * P(W2 | W1, W3) * P(W3 | W1) * P(X | W1, W2, W3, W4) * P(Y | W1, W2, W3, W4, X)) / Sum[Y](Sum[W3](P(W1) * P(W2 | W1, W3) * P(W3 | W1) * P(X | W1, W2, W3, W4) * P(Y | W1, W2, W3, W4, X)))))\n",
      "    graph nodes = [W1, W2, X, W3, W4, Y, W5]\n",
      "    topo = [W1, W3, W5, W2, W4, X, Y]\n",
      "In _compute_c_factor: graph_topo = [W1, W3, W5, W2, W4, X, Y]\n",
      "In _compute_c_factor: subgraph_topo = [X, Y]\n",
      "In _compute_c_factor: calling _tian_lemma_4_ii\n",
      "In Lemma 4(ii): vertex = Y\n",
      "In _tian_equation_72: input vertex is Y\n",
      "   and variables are {Y, X}\n",
      "   and topo is [X, Y]\n",
      "In _tian_equation_72: input vertex is X\n",
      "   and variables are {Y, X}\n",
      "   and topo is [X, Y]\n",
      "In one_round with index > 1:\n",
      "\ttopo: [X, Y]\n",
      "\treturn_num: Sum[W1](Sum[W2, X, Y](Sum[W3](P(W1) * P(W2 | W1, W3) * P(W3 | W1) * P(X | W1, W2, W3, W4) * P(Y | W1, W2, W3, W4, X))) * ((Sum[Y](Sum[W3](P(W1) * P(W2 | W1, W3) * P(W3 | W1) * P(X | W1, W2, W3, W4) * P(Y | W1, W2, W3, W4, X))) / Sum[X, Y](Sum[W3](P(W1) * P(W2 | W1, W3) * P(W3 | W1) * P(X | W1, W2, W3, W4) * P(Y | W1, W2, W3, W4, X))))) * ((Sum[W3](P(W1) * P(W2 | W1, W3) * P(W3 | W1) * P(X | W1, W2, W3, W4) * P(Y | W1, W2, W3, W4, X)) / Sum[Y](Sum[W3](P(W1) * P(W2 | W1, W3) * P(W3 | W1) * P(X | W1, W2, W3, W4) * P(Y | W1, W2, W3, W4, X))))))\n",
      "\treturn_den: Sum[Y](Sum[W1](Sum[W2, X, Y](Sum[W3](P(W1) * P(W2 | W1, W3) * P(W3 | W1) * P(X | W1, W2, W3, W4) * P(Y | W1, W2, W3, W4, X))) * ((Sum[Y](Sum[W3](P(W1) * P(W2 | W1, W3) * P(W3 | W1) * P(X | W1, W2, W3, W4) * P(Y | W1, W2, W3, W4, X))) / Sum[X, Y](Sum[W3](P(W1) * P(W2 | W1, W3) * P(W3 | W1) * P(X | W1, W2, W3, W4) * P(Y | W1, W2, W3, W4, X))))) * ((Sum[W3](P(W1) * P(W2 | W1, W3) * P(W3 | W1) * P(X | W1, W2, W3, W4) * P(Y | W1, W2, W3, W4, X)) / Sum[Y](Sum[W3](P(W1) * P(W2 | W1, W3) * P(W3 | W1) * P(X | W1, W2, W3, W4) * P(Y | W1, W2, W3, W4, X)))))))\n",
      "\treturning: ((Sum[W1](Sum[W2, X, Y](Sum[W3](P(W1) * P(W2 | W1, W3) * P(W3 | W1) * P(X | W1, W2, W3, W4) * P(Y | W1, W2, W3, W4, X))) * ((Sum[Y](Sum[W3](P(W1) * P(W2 | W1, W3) * P(W3 | W1) * P(X | W1, W2, W3, W4) * P(Y | W1, W2, W3, W4, X))) / Sum[X, Y](Sum[W3](P(W1) * P(W2 | W1, W3) * P(W3 | W1) * P(X | W1, W2, W3, W4) * P(Y | W1, W2, W3, W4, X))))) * ((Sum[W3](P(W1) * P(W2 | W1, W3) * P(W3 | W1) * P(X | W1, W2, W3, W4) * P(Y | W1, W2, W3, W4, X)) / Sum[Y](Sum[W3](P(W1) * P(W2 | W1, W3) * P(W3 | W1) * P(X | W1, W2, W3, W4) * P(Y | W1, W2, W3, W4, X)))))) / Sum[Y](Sum[W1](Sum[W2, X, Y](Sum[W3](P(W1) * P(W2 | W1, W3) * P(W3 | W1) * P(X | W1, W2, W3, W4) * P(Y | W1, W2, W3, W4, X))) * ((Sum[Y](Sum[W3](P(W1) * P(W2 | W1, W3) * P(W3 | W1) * P(X | W1, W2, W3, W4) * P(Y | W1, W2, W3, W4, X))) / Sum[X, Y](Sum[W3](P(W1) * P(W2 | W1, W3) * P(W3 | W1) * P(X | W1, W2, W3, W4) * P(Y | W1, W2, W3, W4, X))))) * ((Sum[W3](P(W1) * P(W2 | W1, W3) * P(W3 | W1) * P(X | W1, W2, W3, W4) * P(Y | W1, W2, W3, W4, X)) / Sum[Y](Sum[W3](P(W1) * P(W2 | W1, W3) * P(W3 | W1) * P(X | W1, W2, W3, W4) * P(Y | W1, W2, W3, W4, X)))))))))\n",
      "\n",
      "Index = 1, Q[H^(i)] = ((Sum[W1](Sum[W2, X, Y](Sum[W3](P(W1) * P(W2 | W1, W3) * P(W3 | W1) * P(X | W1, W2, W3, W4) * P(Y | W1, W2, W3, W4, X))) * ((Sum[Y](Sum[W3](P(W1) * P(W2 | W1, W3) * P(W3 | W1) * P(X | W1, W2, W3, W4) * P(Y | W1, W2, W3, W4, X))) / Sum[X, Y](Sum[W3](P(W1) * P(W2 | W1, W3) * P(W3 | W1) * P(X | W1, W2, W3, W4) * P(Y | W1, W2, W3, W4, X))))) * ((Sum[W3](P(W1) * P(W2 | W1, W3) * P(W3 | W1) * P(X | W1, W2, W3, W4) * P(Y | W1, W2, W3, W4, X)) / Sum[Y](Sum[W3](P(W1) * P(W2 | W1, W3) * P(W3 | W1) * P(X | W1, W2, W3, W4) * P(Y | W1, W2, W3, W4, X)))))) / Sum[Y](Sum[W1](Sum[W2, X, Y](Sum[W3](P(W1) * P(W2 | W1, W3) * P(W3 | W1) * P(X | W1, W2, W3, W4) * P(Y | W1, W2, W3, W4, X))) * ((Sum[Y](Sum[W3](P(W1) * P(W2 | W1, W3) * P(W3 | W1) * P(X | W1, W2, W3, W4) * P(Y | W1, W2, W3, W4, X))) / Sum[X, Y](Sum[W3](P(W1) * P(W2 | W1, W3) * P(W3 | W1) * P(X | W1, W2, W3, W4) * P(Y | W1, W2, W3, W4, X))))) * ((Sum[W3](P(W1) * P(W2 | W1, W3) * P(W3 | W1) * P(X | W1, W2, W3, W4) * P(Y | W1, W2, W3, W4, X)) / Sum[Y](Sum[W3](P(W1) * P(W2 | W1, W3) * P(W3 | W1) * P(X | W1, W2, W3, W4) * P(Y | W1, W2, W3, W4, X)))))))))\n",
      "Returning product: ((Sum[W1](Sum[W2, X, Y](Sum[W3](P(W1) * P(W2 | W1, W3) * P(W3 | W1) * P(X | W1, W2, W3, W4) * P(Y | W1, W2, W3, W4, X))) * ((Sum[Y](Sum[W3](P(W1) * P(W2 | W1, W3) * P(W3 | W1) * P(X | W1, W2, W3, W4) * P(Y | W1, W2, W3, W4, X))) / Sum[X, Y](Sum[W3](P(W1) * P(W2 | W1, W3) * P(W3 | W1) * P(X | W1, W2, W3, W4) * P(Y | W1, W2, W3, W4, X))))) * ((Sum[W3](P(W1) * P(W2 | W1, W3) * P(W3 | W1) * P(X | W1, W2, W3, W4) * P(Y | W1, W2, W3, W4, X)) / Sum[Y](Sum[W3](P(W1) * P(W2 | W1, W3) * P(W3 | W1) * P(X | W1, W2, W3, W4) * P(Y | W1, W2, W3, W4, X)))))) / Sum[Y](Sum[W1](Sum[W2, X, Y](Sum[W3](P(W1) * P(W2 | W1, W3) * P(W3 | W1) * P(X | W1, W2, W3, W4) * P(Y | W1, W2, W3, W4, X))) * ((Sum[Y](Sum[W3](P(W1) * P(W2 | W1, W3) * P(W3 | W1) * P(X | W1, W2, W3, W4) * P(Y | W1, W2, W3, W4, X))) / Sum[X, Y](Sum[W3](P(W1) * P(W2 | W1, W3) * P(W3 | W1) * P(X | W1, W2, W3, W4) * P(Y | W1, W2, W3, W4, X))))) * ((Sum[W3](P(W1) * P(W2 | W1, W3) * P(W3 | W1) * P(X | W1, W2, W3, W4) * P(Y | W1, W2, W3, W4, X)) / Sum[Y](Sum[W3](P(W1) * P(W2 | W1, W3) * P(W3 | W1) * P(X | W1, W2, W3, W4) * P(Y | W1, W2, W3, W4, X)))))))))\n",
      "Returning from _compute_c_factor: ((Sum[W1](Sum[W2, X, Y](Sum[W3](P(W1) * P(W2 | W1, W3) * P(W3 | W1) * P(X | W1, W2, W3, W4) * P(Y | W1, W2, W3, W4, X))) * ((Sum[Y](Sum[W3](P(W1) * P(W2 | W1, W3) * P(W3 | W1) * P(X | W1, W2, W3, W4) * P(Y | W1, W2, W3, W4, X))) / Sum[X, Y](Sum[W3](P(W1) * P(W2 | W1, W3) * P(W3 | W1) * P(X | W1, W2, W3, W4) * P(Y | W1, W2, W3, W4, X))))) * ((Sum[W3](P(W1) * P(W2 | W1, W3) * P(W3 | W1) * P(X | W1, W2, W3, W4) * P(Y | W1, W2, W3, W4, X)) / Sum[Y](Sum[W3](P(W1) * P(W2 | W1, W3) * P(W3 | W1) * P(X | W1, W2, W3, W4) * P(Y | W1, W2, W3, W4, X)))))) / Sum[Y](Sum[W1](Sum[W2, X, Y](Sum[W3](P(W1) * P(W2 | W1, W3) * P(W3 | W1) * P(X | W1, W2, W3, W4) * P(Y | W1, W2, W3, W4, X))) * ((Sum[Y](Sum[W3](P(W1) * P(W2 | W1, W3) * P(W3 | W1) * P(X | W1, W2, W3, W4) * P(Y | W1, W2, W3, W4, X))) / Sum[X, Y](Sum[W3](P(W1) * P(W2 | W1, W3) * P(W3 | W1) * P(X | W1, W2, W3, W4) * P(Y | W1, W2, W3, W4, X))))) * ((Sum[W3](P(W1) * P(W2 | W1, W3) * P(W3 | W1) * P(X | W1, W2, W3, W4) * P(Y | W1, W2, W3, W4, X)) / Sum[Y](Sum[W3](P(W1) * P(W2 | W1, W3) * P(W3 | W1) * P(X | W1, W2, W3, W4) * P(Y | W1, W2, W3, W4, X)))))))))\n",
      "In tian_pearl_identify: about to recursively call tian_pearl_identify.\n",
      "    C = frozenset({Y})\n",
      "    T' = frozenset({Y})\n",
      "    Q[T'] =((Sum[W1](Sum[W2, X, Y](Sum[W3](P(W1) * P(W2 | W1, W3) * P(W3 | W1) * P(X | W1, W2, W3, W4) * P(Y | W1, W2, W3, W4, X))) * ((Sum[Y](Sum[W3](P(W1) * P(W2 | W1, W3) * P(W3 | W1) * P(X | W1, W2, W3, W4) * P(Y | W1, W2, W3, W4, X))) / Sum[X, Y](Sum[W3](P(W1) * P(W2 | W1, W3) * P(W3 | W1) * P(X | W1, W2, W3, W4) * P(Y | W1, W2, W3, W4, X))))) * ((Sum[W3](P(W1) * P(W2 | W1, W3) * P(W3 | W1) * P(X | W1, W2, W3, W4) * P(Y | W1, W2, W3, W4, X)) / Sum[Y](Sum[W3](P(W1) * P(W2 | W1, W3) * P(W3 | W1) * P(X | W1, W2, W3, W4) * P(Y | W1, W2, W3, W4, X)))))) / Sum[Y](Sum[W1](Sum[W2, X, Y](Sum[W3](P(W1) * P(W2 | W1, W3) * P(W3 | W1) * P(X | W1, W2, W3, W4) * P(Y | W1, W2, W3, W4, X))) * ((Sum[Y](Sum[W3](P(W1) * P(W2 | W1, W3) * P(W3 | W1) * P(X | W1, W2, W3, W4) * P(Y | W1, W2, W3, W4, X))) / Sum[X, Y](Sum[W3](P(W1) * P(W2 | W1, W3) * P(W3 | W1) * P(X | W1, W2, W3, W4) * P(Y | W1, W2, W3, W4, X))))) * ((Sum[W3](P(W1) * P(W2 | W1, W3) * P(W3 | W1) * P(X | W1, W2, W3, W4) * P(Y | W1, W2, W3, W4, X)) / Sum[Y](Sum[W3](P(W1) * P(W2 | W1, W3) * P(W3 | W1) * P(X | W1, W2, W3, W4) * P(Y | W1, W2, W3, W4, X)))))))))\n",
      "    graph nodes = [W1, W2, X, W3, W4, Y, W5]\n",
      "    topo = [W1, W3, W5, W2, W4, X, Y]\n",
      "In tian_pearl_identify: A = C. Applying Lemma 3.\n",
      "   Returning Q value: ((Sum[W1](Sum[W2, X, Y](Sum[W3](P(W1) * P(W2 | W1, W3) * P(W3 | W1) * P(X | W1, W2, W3, W4) * P(Y | W1, W2, W3, W4, X))) * ((Sum[Y](Sum[W3](P(W1) * P(W2 | W1, W3) * P(W3 | W1) * P(X | W1, W2, W3, W4) * P(Y | W1, W2, W3, W4, X))) / Sum[X, Y](Sum[W3](P(W1) * P(W2 | W1, W3) * P(W3 | W1) * P(X | W1, W2, W3, W4) * P(Y | W1, W2, W3, W4, X))))) * ((Sum[W3](P(W1) * P(W2 | W1, W3) * P(W3 | W1) * P(X | W1, W2, W3, W4) * P(Y | W1, W2, W3, W4, X)) / Sum[Y](Sum[W3](P(W1) * P(W2 | W1, W3) * P(W3 | W1) * P(X | W1, W2, W3, W4) * P(Y | W1, W2, W3, W4, X)))))) / Sum[Y](Sum[W1](Sum[W2, X, Y](Sum[W3](P(W1) * P(W2 | W1, W3) * P(W3 | W1) * P(X | W1, W2, W3, W4) * P(Y | W1, W2, W3, W4, X))) * ((Sum[Y](Sum[W3](P(W1) * P(W2 | W1, W3) * P(W3 | W1) * P(X | W1, W2, W3, W4) * P(Y | W1, W2, W3, W4, X))) / Sum[X, Y](Sum[W3](P(W1) * P(W2 | W1, W3) * P(W3 | W1) * P(X | W1, W2, W3, W4) * P(Y | W1, W2, W3, W4, X))))) * ((Sum[W3](P(W1) * P(W2 | W1, W3) * P(W3 | W1) * P(X | W1, W2, W3, W4) * P(Y | W1, W2, W3, W4, X)) / Sum[Y](Sum[W3](P(W1) * P(W2 | W1, W3) * P(W3 | W1) * P(X | W1, W2, W3, W4) * P(Y | W1, W2, W3, W4, X)))))))))\n",
      "In tian_pearl_identify: returned from recursive call to tian_pearl_identify.\n",
      "    Return value = ((Sum[W1](Sum[W2, X, Y](Sum[W3](P(W1) * P(W2 | W1, W3) * P(W3 | W1) * P(X | W1, W2, W3, W4) * P(Y | W1, W2, W3, W4, X))) * ((Sum[Y](Sum[W3](P(W1) * P(W2 | W1, W3) * P(W3 | W1) * P(X | W1, W2, W3, W4) * P(Y | W1, W2, W3, W4, X))) / Sum[X, Y](Sum[W3](P(W1) * P(W2 | W1, W3) * P(W3 | W1) * P(X | W1, W2, W3, W4) * P(Y | W1, W2, W3, W4, X))))) * ((Sum[W3](P(W1) * P(W2 | W1, W3) * P(W3 | W1) * P(X | W1, W2, W3, W4) * P(Y | W1, W2, W3, W4, X)) / Sum[Y](Sum[W3](P(W1) * P(W2 | W1, W3) * P(W3 | W1) * P(X | W1, W2, W3, W4) * P(Y | W1, W2, W3, W4, X)))))) / Sum[Y](Sum[W1](Sum[W2, X, Y](Sum[W3](P(W1) * P(W2 | W1, W3) * P(W3 | W1) * P(X | W1, W2, W3, W4) * P(Y | W1, W2, W3, W4, X))) * ((Sum[Y](Sum[W3](P(W1) * P(W2 | W1, W3) * P(W3 | W1) * P(X | W1, W2, W3, W4) * P(Y | W1, W2, W3, W4, X))) / Sum[X, Y](Sum[W3](P(W1) * P(W2 | W1, W3) * P(W3 | W1) * P(X | W1, W2, W3, W4) * P(Y | W1, W2, W3, W4, X))))) * ((Sum[W3](P(W1) * P(W2 | W1, W3) * P(W3 | W1) * P(X | W1, W2, W3, W4) * P(Y | W1, W2, W3, W4, X)) / Sum[Y](Sum[W3](P(W1) * P(W2 | W1, W3) * P(W3 | W1) * P(X | W1, W2, W3, W4) * P(Y | W1, W2, W3, W4, X)))))))))\n",
      "In tian_pearl_identify: returned from recursive call to tian_pearl_identify.\n",
      "    Return value = ((Sum[W1](Sum[W2, X, Y](Sum[W3](P(W1) * P(W2 | W1, W3) * P(W3 | W1) * P(X | W1, W2, W3, W4) * P(Y | W1, W2, W3, W4, X))) * ((Sum[Y](Sum[W3](P(W1) * P(W2 | W1, W3) * P(W3 | W1) * P(X | W1, W2, W3, W4) * P(Y | W1, W2, W3, W4, X))) / Sum[X, Y](Sum[W3](P(W1) * P(W2 | W1, W3) * P(W3 | W1) * P(X | W1, W2, W3, W4) * P(Y | W1, W2, W3, W4, X))))) * ((Sum[W3](P(W1) * P(W2 | W1, W3) * P(W3 | W1) * P(X | W1, W2, W3, W4) * P(Y | W1, W2, W3, W4, X)) / Sum[Y](Sum[W3](P(W1) * P(W2 | W1, W3) * P(W3 | W1) * P(X | W1, W2, W3, W4) * P(Y | W1, W2, W3, W4, X)))))) / Sum[Y](Sum[W1](Sum[W2, X, Y](Sum[W3](P(W1) * P(W2 | W1, W3) * P(W3 | W1) * P(X | W1, W2, W3, W4) * P(Y | W1, W2, W3, W4, X))) * ((Sum[Y](Sum[W3](P(W1) * P(W2 | W1, W3) * P(W3 | W1) * P(X | W1, W2, W3, W4) * P(Y | W1, W2, W3, W4, X))) / Sum[X, Y](Sum[W3](P(W1) * P(W2 | W1, W3) * P(W3 | W1) * P(X | W1, W2, W3, W4) * P(Y | W1, W2, W3, W4, X))))) * ((Sum[W3](P(W1) * P(W2 | W1, W3) * P(W3 | W1) * P(X | W1, W2, W3, W4) * P(Y | W1, W2, W3, W4, X)) / Sum[Y](Sum[W3](P(W1) * P(W2 | W1, W3) * P(W3 | W1) * P(X | W1, W2, W3, W4) * P(Y | W1, W2, W3, W4, X)))))))))\n",
      "In tian_pearl_identify: returned from recursive call to tian_pearl_identify.\n",
      "    Return value = ((Sum[W1](Sum[W2, X, Y](Sum[W3](P(W1) * P(W2 | W1, W3) * P(W3 | W1) * P(X | W1, W2, W3, W4) * P(Y | W1, W2, W3, W4, X))) * ((Sum[Y](Sum[W3](P(W1) * P(W2 | W1, W3) * P(W3 | W1) * P(X | W1, W2, W3, W4) * P(Y | W1, W2, W3, W4, X))) / Sum[X, Y](Sum[W3](P(W1) * P(W2 | W1, W3) * P(W3 | W1) * P(X | W1, W2, W3, W4) * P(Y | W1, W2, W3, W4, X))))) * ((Sum[W3](P(W1) * P(W2 | W1, W3) * P(W3 | W1) * P(X | W1, W2, W3, W4) * P(Y | W1, W2, W3, W4, X)) / Sum[Y](Sum[W3](P(W1) * P(W2 | W1, W3) * P(W3 | W1) * P(X | W1, W2, W3, W4) * P(Y | W1, W2, W3, W4, X)))))) / Sum[Y](Sum[W1](Sum[W2, X, Y](Sum[W3](P(W1) * P(W2 | W1, W3) * P(W3 | W1) * P(X | W1, W2, W3, W4) * P(Y | W1, W2, W3, W4, X))) * ((Sum[Y](Sum[W3](P(W1) * P(W2 | W1, W3) * P(W3 | W1) * P(X | W1, W2, W3, W4) * P(Y | W1, W2, W3, W4, X))) / Sum[X, Y](Sum[W3](P(W1) * P(W2 | W1, W3) * P(W3 | W1) * P(X | W1, W2, W3, W4) * P(Y | W1, W2, W3, W4, X))))) * ((Sum[W3](P(W1) * P(W2 | W1, W3) * P(W3 | W1) * P(X | W1, W2, W3, W4) * P(Y | W1, W2, W3, W4, X)) / Sum[Y](Sum[W3](P(W1) * P(W2 | W1, W3) * P(W3 | W1) * P(X | W1, W2, W3, W4) * P(Y | W1, W2, W3, W4, X)))))))))\n"
     ]
    }
   ],
   "source": [
    "\"\"\"Further test Lines 4-7 of Algorithm 5 of [correa22a]_.\n",
    "\n",
    "Source: the example from page 29 of [tian03a]_.\n",
    "\n",
    "Note: Tian and Pearl provide a simpler result that is due to using probabilistic\n",
    "axioms to simplify the formula. This result is what we get when running Santikka's\n",
    "implementation of identify in their R package, Causal Effect ([santikka20b]_), and is more\n",
    "complex in its structure but easier to code for an initial Python implementation.\n",
    "\"\"\"\n",
    "result_piece_1 = Product.safe(\n",
    "    [\n",
    "        P(W1),\n",
    "        P(W3 | W1),\n",
    "        P(W2 | (W3, W1)),\n",
    "        P(X | (W1, W3, W2, W4)),\n",
    "        P(Y | (W1, W3, W2, W4, X)),\n",
    "    ]\n",
    ")\n",
    "result_piece_2_part_1 = Fraction(\n",
    "    Sum.safe(Sum.safe(result_piece_1, [W3]), [W2, X, Y]), One()\n",
    ")  # Q[W1]/Q[\\emptyset]\n",
    "result_piece_2_part_2 = Fraction(\n",
    "    Sum.safe(Sum.safe(result_piece_1, [W3]), [Y]),\n",
    "    Sum.safe(Sum.safe(result_piece_1, [W3]), [X, Y]),\n",
    ")  # Q[X]/Q[W2]\n",
    "result_piece_2_part_3 = Fraction(\n",
    "    Sum.safe(result_piece_1, [W3]), Sum.safe(Sum.safe(result_piece_1, [W3]), [Y])\n",
    ")  # Q[Y]/Q[X]\n",
    "result_piece_2 = Product.safe(\n",
    "    [result_piece_2_part_1, result_piece_2_part_2, result_piece_2_part_3]\n",
    ")\n",
    "expected_result = Fraction(\n",
    "    Sum.safe(result_piece_2, [W1]),\n",
    "    Sum.safe(Sum.safe(result_piece_2, [W1]), [Y]),\n",
    ")  # Q[X,Y]/Q[X]\n",
    "result_4 = tian_pearl_identify(\n",
    "    input_variables=frozenset({Y}),\n",
    "    input_district=frozenset({X, Y, W1, W2, W3, W4, W5}),\n",
    "    district_probability=P(W1, W2, W3, W4, W5, X, Y),\n",
    "    graph=tian_pearl_figure_9a_graph,\n",
    "    topo=list(tian_pearl_figure_9a_graph.topological_sort()),\n",
    ")\n",
    "assert_expr_equal(expected=result_4,actual=expected_result)"
   ]
  },
  {
   "cell_type": "code",
   "execution_count": 50,
   "id": "c855a6c0-7af8-4858-8531-3e45a98ca094",
   "metadata": {},
   "outputs": [
    {
     "data": {
      "text/latex": [
       "$\\frac{\\sum\\limits_{W_1} \\sum\\limits_{W_2, X, Y} \\sum\\limits_{W_3} P(W_1) P(W_2 | W_1, W_3) P(W_3 | W_1) P(X | W_1, W_2, W_3, W_4) P(Y | W_1, W_2, W_3, W_4, X) \\frac{\\sum\\limits_{Y} \\sum\\limits_{W_3} P(W_1) P(W_2 | W_1, W_3) P(W_3 | W_1) P(X | W_1, W_2, W_3, W_4) P(Y | W_1, W_2, W_3, W_4, X)}{\\sum\\limits_{X, Y} \\sum\\limits_{W_3} P(W_1) P(W_2 | W_1, W_3) P(W_3 | W_1) P(X | W_1, W_2, W_3, W_4) P(Y | W_1, W_2, W_3, W_4, X)} \\frac{\\sum\\limits_{W_3} P(W_1) P(W_2 | W_1, W_3) P(W_3 | W_1) P(X | W_1, W_2, W_3, W_4) P(Y | W_1, W_2, W_3, W_4, X)}{\\sum\\limits_{Y} \\sum\\limits_{W_3} P(W_1) P(W_2 | W_1, W_3) P(W_3 | W_1) P(X | W_1, W_2, W_3, W_4) P(Y | W_1, W_2, W_3, W_4, X)}}{\\sum\\limits_{Y} \\sum\\limits_{W_1} \\sum\\limits_{W_2, X, Y} \\sum\\limits_{W_3} P(W_1) P(W_2 | W_1, W_3) P(W_3 | W_1) P(X | W_1, W_2, W_3, W_4) P(Y | W_1, W_2, W_3, W_4, X) \\frac{\\sum\\limits_{Y} \\sum\\limits_{W_3} P(W_1) P(W_2 | W_1, W_3) P(W_3 | W_1) P(X | W_1, W_2, W_3, W_4) P(Y | W_1, W_2, W_3, W_4, X)}{\\sum\\limits_{X, Y} \\sum\\limits_{W_3} P(W_1) P(W_2 | W_1, W_3) P(W_3 | W_1) P(X | W_1, W_2, W_3, W_4) P(Y | W_1, W_2, W_3, W_4, X)} \\frac{\\sum\\limits_{W_3} P(W_1) P(W_2 | W_1, W_3) P(W_3 | W_1) P(X | W_1, W_2, W_3, W_4) P(Y | W_1, W_2, W_3, W_4, X)}{\\sum\\limits_{Y} \\sum\\limits_{W_3} P(W_1) P(W_2 | W_1, W_3) P(W_3 | W_1) P(X | W_1, W_2, W_3, W_4) P(Y | W_1, W_2, W_3, W_4, X)}}$"
      ],
      "text/plain": [
       "((Sum[W1](Sum[W2, X, Y](Sum[W3](P(W1) * P(W2 | W1, W3) * P(W3 | W1) * P(X | W1, W2, W3, W4) * P(Y | W1, W2, W3, W4, X))) * ((Sum[Y](Sum[W3](P(W1) * P(W2 | W1, W3) * P(W3 | W1) * P(X | W1, W2, W3, W4) * P(Y | W1, W2, W3, W4, X))) / Sum[X, Y](Sum[W3](P(W1) * P(W2 | W1, W3) * P(W3 | W1) * P(X | W1, W2, W3, W4) * P(Y | W1, W2, W3, W4, X))))) * ((Sum[W3](P(W1) * P(W2 | W1, W3) * P(W3 | W1) * P(X | W1, W2, W3, W4) * P(Y | W1, W2, W3, W4, X)) / Sum[Y](Sum[W3](P(W1) * P(W2 | W1, W3) * P(W3 | W1) * P(X | W1, W2, W3, W4) * P(Y | W1, W2, W3, W4, X)))))) / Sum[Y](Sum[W1](Sum[W2, X, Y](Sum[W3](P(W1) * P(W2 | W1, W3) * P(W3 | W1) * P(X | W1, W2, W3, W4) * P(Y | W1, W2, W3, W4, X))) * ((Sum[Y](Sum[W3](P(W1) * P(W2 | W1, W3) * P(W3 | W1) * P(X | W1, W2, W3, W4) * P(Y | W1, W2, W3, W4, X))) / Sum[X, Y](Sum[W3](P(W1) * P(W2 | W1, W3) * P(W3 | W1) * P(X | W1, W2, W3, W4) * P(Y | W1, W2, W3, W4, X))))) * ((Sum[W3](P(W1) * P(W2 | W1, W3) * P(W3 | W1) * P(X | W1, W2, W3, W4) * P(Y | W1, W2, W3, W4, X)) / Sum[Y](Sum[W3](P(W1) * P(W2 | W1, W3) * P(W3 | W1) * P(X | W1, W2, W3, W4) * P(Y | W1, W2, W3, W4, X)))))))))"
      ]
     },
     "execution_count": 50,
     "metadata": {},
     "output_type": "execute_result"
    }
   ],
   "source": [
    "result_4"
   ]
  },
  {
   "cell_type": "code",
   "execution_count": 51,
   "id": "ca9b0ef9-a081-415b-94ac-f7b098d15fbe",
   "metadata": {},
   "outputs": [
    {
     "data": {
      "text/latex": [
       "$\\frac{\\sum\\limits_{W_1} \\frac{\\sum\\limits_{Y} \\sum\\limits_{W_3} P(W_1) P(W_2 | W_1, W_3) P(W_3 | W_1) P(X | W_1, W_2, W_3, W_4) P(Y | W_1, W_2, W_3, W_4, X)}{\\sum\\limits_{X, Y} \\sum\\limits_{W_3} P(W_1) P(W_2 | W_1, W_3) P(W_3 | W_1) P(X | W_1, W_2, W_3, W_4) P(Y | W_1, W_2, W_3, W_4, X)} \\frac{\\sum\\limits_{W_2, X, Y} \\sum\\limits_{W_3} P(W_1) P(W_2 | W_1, W_3) P(W_3 | W_1) P(X | W_1, W_2, W_3, W_4) P(Y | W_1, W_2, W_3, W_4, X)}{1} \\frac{\\sum\\limits_{W_3} P(W_1) P(W_2 | W_1, W_3) P(W_3 | W_1) P(X | W_1, W_2, W_3, W_4) P(Y | W_1, W_2, W_3, W_4, X)}{\\sum\\limits_{Y} \\sum\\limits_{W_3} P(W_1) P(W_2 | W_1, W_3) P(W_3 | W_1) P(X | W_1, W_2, W_3, W_4) P(Y | W_1, W_2, W_3, W_4, X)}}{\\sum\\limits_{Y} \\sum\\limits_{W_1} \\frac{\\sum\\limits_{Y} \\sum\\limits_{W_3} P(W_1) P(W_2 | W_1, W_3) P(W_3 | W_1) P(X | W_1, W_2, W_3, W_4) P(Y | W_1, W_2, W_3, W_4, X)}{\\sum\\limits_{X, Y} \\sum\\limits_{W_3} P(W_1) P(W_2 | W_1, W_3) P(W_3 | W_1) P(X | W_1, W_2, W_3, W_4) P(Y | W_1, W_2, W_3, W_4, X)} \\frac{\\sum\\limits_{W_2, X, Y} \\sum\\limits_{W_3} P(W_1) P(W_2 | W_1, W_3) P(W_3 | W_1) P(X | W_1, W_2, W_3, W_4) P(Y | W_1, W_2, W_3, W_4, X)}{1} \\frac{\\sum\\limits_{W_3} P(W_1) P(W_2 | W_1, W_3) P(W_3 | W_1) P(X | W_1, W_2, W_3, W_4) P(Y | W_1, W_2, W_3, W_4, X)}{\\sum\\limits_{Y} \\sum\\limits_{W_3} P(W_1) P(W_2 | W_1, W_3) P(W_3 | W_1) P(X | W_1, W_2, W_3, W_4) P(Y | W_1, W_2, W_3, W_4, X)}}$"
      ],
      "text/plain": [
       "((Sum[W1](((Sum[Y](Sum[W3](P(W1) * P(W2 | W1, W3) * P(W3 | W1) * P(X | W1, W2, W3, W4) * P(Y | W1, W2, W3, W4, X))) / Sum[X, Y](Sum[W3](P(W1) * P(W2 | W1, W3) * P(W3 | W1) * P(X | W1, W2, W3, W4) * P(Y | W1, W2, W3, W4, X))))) * ((Sum[W2, X, Y](Sum[W3](P(W1) * P(W2 | W1, W3) * P(W3 | W1) * P(X | W1, W2, W3, W4) * P(Y | W1, W2, W3, W4, X))) / One())) * ((Sum[W3](P(W1) * P(W2 | W1, W3) * P(W3 | W1) * P(X | W1, W2, W3, W4) * P(Y | W1, W2, W3, W4, X)) / Sum[Y](Sum[W3](P(W1) * P(W2 | W1, W3) * P(W3 | W1) * P(X | W1, W2, W3, W4) * P(Y | W1, W2, W3, W4, X)))))) / Sum[Y](Sum[W1](((Sum[Y](Sum[W3](P(W1) * P(W2 | W1, W3) * P(W3 | W1) * P(X | W1, W2, W3, W4) * P(Y | W1, W2, W3, W4, X))) / Sum[X, Y](Sum[W3](P(W1) * P(W2 | W1, W3) * P(W3 | W1) * P(X | W1, W2, W3, W4) * P(Y | W1, W2, W3, W4, X))))) * ((Sum[W2, X, Y](Sum[W3](P(W1) * P(W2 | W1, W3) * P(W3 | W1) * P(X | W1, W2, W3, W4) * P(Y | W1, W2, W3, W4, X))) / One())) * ((Sum[W3](P(W1) * P(W2 | W1, W3) * P(W3 | W1) * P(X | W1, W2, W3, W4) * P(Y | W1, W2, W3, W4, X)) / Sum[Y](Sum[W3](P(W1) * P(W2 | W1, W3) * P(W3 | W1) * P(X | W1, W2, W3, W4) * P(Y | W1, W2, W3, W4, X)))))))))"
      ]
     },
     "execution_count": 51,
     "metadata": {},
     "output_type": "execute_result"
    }
   ],
   "source": [
    "expected_result"
   ]
  },
  {
   "cell_type": "code",
   "execution_count": null,
   "id": "72ac4f83-515f-4e83-a460-384642bb1ad7",
   "metadata": {},
   "outputs": [],
   "source": []
  },
  {
   "cell_type": "code",
   "execution_count": null,
   "id": "07d1a403-3e98-4695-825e-8ccaf3bcc2f3",
   "metadata": {},
   "outputs": [],
   "source": []
  },
  {
   "cell_type": "code",
   "execution_count": null,
   "id": "29f431b4-6145-4894-86a9-32e967977115",
   "metadata": {},
   "outputs": [],
   "source": []
  },
  {
   "cell_type": "code",
   "execution_count": null,
   "id": "56477856-9fde-4690-a940-2c1c209e2d83",
   "metadata": {},
   "outputs": [],
   "source": []
  }
 ],
 "metadata": {
  "kernelspec": {
   "display_name": "Python 3 (ipykernel)",
   "language": "python",
   "name": "python3"
  },
  "language_info": {
   "codemirror_mode": {
    "name": "ipython",
    "version": 3
   },
   "file_extension": ".py",
   "mimetype": "text/x-python",
   "name": "python",
   "nbconvert_exporter": "python",
   "pygments_lexer": "ipython3",
   "version": "3.10.12"
  }
 },
 "nbformat": 4,
 "nbformat_minor": 5
}
