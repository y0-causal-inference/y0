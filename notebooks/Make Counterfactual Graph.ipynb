{
 "cells": [
  {
   "cell_type": "markdown",
   "metadata": {
    "toc": true
   },
   "source": [
    "<h1>Table of Contents<span class=\"tocSkip\"></span></h1>\n",
    "<div class=\"toc\"><ul class=\"toc-item\"><li><span><a href=\"#Make-counterfactual-graph\" data-toc-modified-id=\"Make-counterfactual-graph-1\"><span class=\"toc-item-num\">1&nbsp;&nbsp;</span>Make counterfactual graph</a></span></li>\n",
    "    <li><span><a href=\"#Walkthrough-of-make-counterfactual-graph\" data-toc-modified-id=\"Walkthrough-of-make-counterfactual-graph-2\"><span class=\"toc-item-num\">2&nbsp;&nbsp;</span>Walkthrough of make counterfactual graph</a></span></li>\n",
    "    <ul>\n",
    "    <li><span><a href=\"#Starting-graph-(Figure-9a)\" data-toc-modified-id=\"Starting-graph-(Figure-9a)-3\"><span class=\"toc-item-num\">&nbsp;&nbsp;</span>Starting graph (Figure 9a)</a></span></li>\n",
    "    <li><span><a href=\"#First-Step:-Make-Parallel-worlds-graph\" data-toc-modified-id=\"First-Step:-Make-Parallel-worlds-graph-4\"><span class=\"toc-item-num\">&nbsp;&nbsp;</span>First Step: Make Parallel worlds graph</a></span></li>\n",
    "    <li><span><a href=\"#Merging-the-Parallel-Worlds\" data-toc-modified-id=\"Merging-the-Parallel-Worlds-5\"><span class=\"toc-item-num\">&nbsp;&nbsp;</span>Merging the Parallel Worlds</a></span></li>\n",
    "    <li><span><a href=\"#Figure-11a-Checkpoint\" data-toc-modified-id=\"Figure-11a-Checkpoint-6\"><span class=\"toc-item-num\">&nbsp;&nbsp;</span>Figure 11a Checkpoint</a></span></li>\n",
    "    <li><span><a href=\"#Merging-nodes-with-different-parents\" data-toc-modified-id=\"Merging-nodes-with-different-parents-7\"><span class=\"toc-item-num\">&nbsp;&nbsp;</span>Merging nodes with different parents</a></span></li>\n",
    "    <li><span><a href=\"#Figure-11b-Checkpoint\" data-toc-modified-id=\"Figure-11b-Checkpoint-8\"><span class=\"toc-item-num\">&nbsp;&nbsp;</span>Figure 11b Checkpoint</a></span></li>\n",
    "    <li><span><a href=\"#Figure-11c-Checkpoint\" data-toc-modified-id=\"Figure-11c-Checkpoint-9\"><span class=\"toc-item-num\">&nbsp;&nbsp;</span>Figure 11c Checkpoint</a></span></li>\n",
    "    <li><span><a href=\"#Return-only-the-ancestors-of-events\" data-toc-modified-id=\"Return only the ancestors of events-10\"><span class=\"toc-item-num\">&nbsp;&nbsp;</span>Return only the ancestors of events</a></span></li>\n",
    "    <li><span><a href=\"#Figure-9c-Checkpoint\" data-toc-modified-id=\"Figure-9c-Checkpoint-11\"><span class=\"toc-item-num\">&nbsp;&nbsp;</span>Figure 9c Checkpoint</a></span></li>\n",
    "    </ul>\n",
    "    <li><span><a href=\"#ID*-Algorithm\" data-toc-modified-id=\"ID*-Algorithm\"><span class=\"toc-item-num\">3&nbsp;&nbsp;</span>ID* Algorithm</a></span></li>\n",
    "    <li><span><a href=\"#ID*-Walkthrough\" data-toc-modified-id=\"ID*-Walkthrough\"><span class=\"toc-item-num\">4&nbsp;&nbsp;</span>ID* Walkthrough</a></span></li>\n",
    "    <ul>\n",
    "    <li><span><a href=\"#ID*-lines-1-through-4\" data-toc-modified-id=\"ID*-lines-1-through-4\"><span class=\"toc-item-num\">&nbsp;&nbsp;</span>ID* lines 1 through 4</a></span></li>\n",
    "    <li><span><a href=\"#ID*-line-6,-calculate-the-C-components\" data-toc-modified-id=\"ID*-line-6,-calculate-the-C-components\"><span class=\"toc-item-num\">&nbsp;&nbsp;</span>ID* line 6, calculate the C-components</a></span></li>\n",
    "    <li><span><a href=\"#ID*-line-6,-get-the-markov-pillow-of-each-C-component\" data-toc-modified-id=\"ID*-line-6,-get-the-markov-pillow-of-each-C-component\"><span class=\"toc-item-num\">&nbsp;&nbsp;</span>ID* line 6, get the markov pillow of each C-component</a></span></li>\n",
    "    <li><span><a href=\"#Recursive-calls-for-each-C-component\" data-toc-modified-id=\"Recursive-calls-for-each-C-component\"><span class=\"toc-item-num\">&nbsp;&nbsp;</span>Recursive calls for each C-component</a></span></li>\n",
    "    </ul>\n",
    "    </ul></div>"
   ]
  },
  {
   "cell_type": "markdown",
   "metadata": {},
   "source": [
    "# Make counterfactual graph\n",
    "\n",
    "$$\\newcommand\\ci{\\perp\\!\\!\\!\\perp}$$\n",
    "$$\\newcommand{\\ubar}[1]{\\underset{\\bar{}}{#1}}\n",
    "\\newcommand{\\obar}[1]{\\overset{\\bar{}}{#1}}$$\n",
    "\n",
    "**Lemma 24** Let $M$ be a model inducing $G$ containing variables $\\alpha,\\beta$ with the following properties: \n",
    "* $\\alpha$ and $\\beta$ have the same domain of values.\n",
    "*  There is a bijection $f$ from $Pa(\\alpha)$ to $Pa(\\beta)$ such that a parent $\\gamma$ and $f(\\gamma)$ have the same domain of values. \n",
    "* The functional mechanisms of $\\alpha$ and $\\beta$ are the same (except whenever the function for $\\alpha$ uses the parent $\\gamma$, the corresponding function for $\\beta$ uses $f (\\gamma)$). \n",
    "\n",
    "Assume an observable variable set $\\mathbf Z$ was observed to attain values $\\mathbf{z}$ in $M_\\mathbf{x}$, the submodel obtained from $M$ by forcing another observable variable set $\\mathbf X$ to attain values $\\mathbf x$. Assume further that for each $\\gamma\\in Pa(\\alpha)$, either $f (\\gamma) = \\gamma$, or $\\gamma$ and $f (\\gamma)$ attain the same values (whether by observation or intervention). Then $\\alpha$ and $\\beta$ are the same random variable in $M_{\\mathbf x}$ with observations $\\mathbf z$.\n",
    "\n",
    "$\\textbf{Lemma 25}$. Let $M_\\mathbf{x}$ be a submodel derived from $M$ with set $\\mathbf Z$ observed to attain values $\\mathbf z$, such that Lemma 24 holds for $\\alpha, \\beta$. Let $M'$ be a causal model obtained from $M$ by merging $\\alpha, \\beta$ into a new node $\\omega$, which inherits all parents and the functional mechanism of $\\alpha$. All children of $\\alpha,\\beta$ in $M'$ become children of $\\omega$. Then $M_\\mathbf{x}$,  $M'_\\mathbf{x}$ agree on any distribution consistent with $\\mathbf{z}$ being observed.\n",
    "\n",
    "\n",
    "\n",
    "$\\text{function }\\mathbf{ make-cg}\\left(G, \\gamma\\right) \\\\ \\text{INPUT: } \\text{ $G$ a causal diagram, $\\gamma$ a conjunction of counterfactual events}. \\\\  \\text{OUTPUT:  A counterfactual graph $G_\\gamma$ and either a set of events $\\gamma'$ such that $P(\\gamma') = P(\\gamma)$ or $\\mathbf{Inconsistent}$} $\n",
    "\n",
    "* Construct a submodel $G_{\\mathbf{X}_i}$ for each action $do(\\mathbf{x}_i)$ mentioned in $\\gamma$. Construct the parallel worlds graph $G'$ by having all such graphs share their corresponding $U$ nodes.\n",
    "\n",
    "* Let $\\pi$ be a topological ordering of nodes in $G'$, let $\\gamma':=\\gamma.$\n",
    "* Apply Lemmas 24 and 25, in order $\\pi$ to each observable node pair $\\alpha, \\beta$ derived from the same variable in $G$. For each $\\alpha, \\beta$ that are the same, do:\n",
    "    * Let $G'$ be modified as specified in Lemma 25\n",
    "    * Modify $\\gamma'$ by renaming all occurrences of $\\beta$ to $\\alpha$.\n",
    "    * If $\\mathbf{val}(\\alpha)\\neq \\mathbf{val}(\\beta)$, return $G', \\mathbf{Inconsistent}$.\n",
    "* $\\texttt{return}$ $(G'_{An(\\gamma')}, \\gamma')$, where $An(\\gamma')$ is the set of nodes in $G'$ ancestral to nodes corresponding to variables mentioned in $\\gamma'$."
   ]
  },
  {
   "cell_type": "markdown",
   "metadata": {},
   "source": [
    "$$P(\\lnot rxn_{do(\\lnot catalyst)} | rxn, catalyst)$$"
   ]
  },
  {
   "cell_type": "markdown",
   "metadata": {},
   "source": [
    "# Walkthrough of make counterfactual graph"
   ]
  },
  {
   "cell_type": "code",
   "execution_count": 1,
   "metadata": {},
   "source": [
    "from y0.algorithm.identify.cg import (\n",
    "    make_parallel_worlds_graph,\n",
    "    extract_interventions,\n",
    "    make_counterfactual_graph,\n",
    "    lemma_24_holds,\n",
    "    is_pw_equivalent,\n",
    "    has_same_function,\n",
    "    # is_intervention_same_as_observed,\n",
    "    merge_pw,\n",
    "    is_inconsistent,\n",
    "    update_event,\n",
    "    parents_attain_same_values,\n",
    "    is_not_self_intervened,\n",
    "    value_of_self_intervention,\n",
    ")\n",
    "import networkx as nx\n",
    "from y0.graph import NxMixedGraph\n",
    "import importlib\n",
    "from y0.algorithm.identify.id_star import get_events_of_district\n",
    "from y0.algorithm.identify.idc_star import idc_star\n",
    "from y0.graph import NxMixedGraph\n",
    "from y0.examples import (\n",
    "    figure_9a,\n",
    "    figure_9b,\n",
    "    figure_9c,\n",
    "    figure_9d,\n",
    "    figure_11a,\n",
    "    figure_11b,\n",
    "    figure_11c,\n",
    ")\n",
    "from y0.mutate.canonicalize_expr import canonicalize\n",
    "from y0.dsl import (\n",
    "    A,\n",
    "    B,\n",
    "    C,\n",
    "    X,\n",
    "    D,\n",
    "    W,\n",
    "    P,\n",
    "    Y,\n",
    "    Z,\n",
    "    Event,\n",
    "    CounterfactualVariable,\n",
    "    Intervention,\n",
    "    _get_treatment_variables,\n",
    "    Variable,\n",
    "    Zero,\n",
    ")\n",
    "from y0.algorithm.identify.id_star import (  # rule_3_applies,\n",
    "    # get_district_interventions,\n",
    "    get_events_of_district,\n",
    "    get_events_of_each_district,\n",
    "    get_free_variables,\n",
    "    id_star,\n",
    "    # id_star_line_4,\n",
    "    id_star_line_6,\n",
    "    id_star_line_9,\n",
    "    get_cf_interventions,\n",
    "    # intervene_on_district,\n",
    "    # is_event_empty,\n",
    "    get_evidence,\n",
    "    is_redundant_counterfactual,\n",
    "    # merge_interventions,\n",
    "    remove_event_tautologies,\n",
    "    # simplify_counterfactual,\n",
    "    violates_axiom_of_effectiveness,\n",
    ")\n",
    "from y0.dsl import D, One, P, Sum, W, X, Y, Z, Zero\n",
    "from y0.examples import (\n",
    "    figure_9a,\n",
    "    figure_9c,\n",
    "    figure_9d,\n",
    "    tikka_unidentifiable_graph,\n",
    "    tikka_unidentifiable_cfgraph,\n",
    "    tikka_figure_2,\n",
    "    tikka_figure_5,\n",
    "    tikka_figure_6a,\n",
    "    tikka_figure_6b,\n",
    ")\n",
    "from y0.graph import NxMixedGraph\n",
    "from y0.algorithm.identify.idc_star import (\n",
    "    get_remaining_and_missing_events,\n",
    "    get_new_outcomes_and_conditions,\n",
    ")\n",
    "from y0.examples import tikka_figure_2\n",
    "from y0.algorithm.identify.cg import World\n",
    "from y0.dsl import CounterfactualVariable\n",
    "from y0.algorithm.identify.cg import extract_interventions, make_parallel_worlds_graph\n",
    "from y0.algorithm.identify.id_star import id_star\n",
    "from y0.dsl import _upgrade_ordering, _to_interventions\n",
    "import matplotlib.pyplot as plt\n",
    "from y0.dsl import Sum, P\n",
    "from y0.algorithm.identify.id_star import id_star\n",
    "from y0.algorithm.identify.idc_star import idc_star\n",
    "from y0.examples import tikka_figure_2\n",
    "\n",
    "from matplotlib_inline.backend_inline import set_matplotlib_formats\n",
    "from IPython.display import Latex\n",
    "\n",
    "set_matplotlib_formats(\"svg\")"
   ],
   "outputs": []
  },
  {
   "cell_type": "code",
   "execution_count": 2,
   "metadata": {},
   "source": [
    "x, y, z, w, d = -X, -Y, -Z, -W, -D"
   ],
   "outputs": []
  },
  {
   "cell_type": "code",
   "execution_count": 3,
   "metadata": {},
   "source": [
    "value_of_self_intervention(X @ -x)"
   ],
   "outputs": []
  },
  {
   "cell_type": "markdown",
   "metadata": {},
   "source": [
    "We illustrate the operation of make-cg by showing how the graph in Fig. 9 (c) is derived from the graph in Fig. 9 (a). We start the application of Lemma 24 from the topmost observable nodes, and conclude that the node pairs $D_x, D$, and $X_d, X$ have the same functional mechanisms, and the same parent set (in this case the parents are unobservable nodes $U_d$ for the first pair, and $U$ for the second). We then use Lemma 25 to obtain the graph shown in Fig. 11 (a). \n",
    "Since the node pairs are the same, we pick the name of one of the nodes of the pair to serve as the name of the new node. In our case, we picked D and X . Note that for this graph, and all subsequent intermediate graphs we generate, we use the convention that if a merge creates a situation where an unobservable variable has a single child, that variable is omitted from the graph. For instance, in Fig. 11 (a), the variable $U_d$ , and its corresponding arrow to $D$ omitted. "
   ]
  },
  {
   "cell_type": "code",
   "execution_count": 4,
   "metadata": {},
   "source": [
    "figure_9b.graph.draw()"
   ],
   "outputs": []
  },
  {
   "cell_type": "markdown",
   "metadata": {},
   "source": [
    "# Starting graph (Figure 9a)"
   ]
  },
  {
   "cell_type": "code",
   "execution_count": 5,
   "metadata": {},
   "source": [
    "cf_graph_0 = figure_9a.graph\n",
    "cf_graph_0.draw()"
   ],
   "outputs": []
  },
  {
   "cell_type": "markdown",
   "metadata": {},
   "source": [
    "Every endogenous variable gets an exogenous variable, so there are some singletons pointing to the endogenous variables that don't have any bidirected edges."
   ]
  },
  {
   "cell_type": "markdown",
   "metadata": {},
   "source": [
    "<img src=\"images/factual-world.PNG\" style=\"height: 400px\" />\n"
   ]
  },
  {
   "cell_type": "markdown",
   "metadata": {},
   "source": [
    "We have two interventions here, D and X are being intervened on.  "
   ]
  },
  {
   "cell_type": "code",
   "execution_count": 6,
   "metadata": {},
   "source": [
    "query = P(Y @ X | ~X, Z @ D, D)\n",
    "query"
   ],
   "outputs": []
  },
  {
   "cell_type": "code",
   "execution_count": 7,
   "metadata": {},
   "source": [
    "final_graph, event = make_counterfactual_graph(\n",
    "    figure_9a.graph, {Y @ -x: -y, X: +x, Z @ -d: -z, D: -d}\n",
    ")\n",
    "final_graph.draw()"
   ],
   "outputs": []
  },
  {
   "cell_type": "code",
   "execution_count": 8,
   "metadata": {},
   "source": [
    "graph, event = make_counterfactual_graph(\n",
    "    tikka_unidentifiable_graph.graph, {Y @ -x: -y, X: +x, Z @ -d: -z, D: -d, Y: -y}\n",
    ")\n",
    "graph.draw()\n",
    "event"
   ],
   "outputs": []
  },
  {
   "cell_type": "markdown",
   "metadata": {},
   "source": [
    "## First Step: Make Parallel worlds graph"
   ]
  },
  {
   "cell_type": "markdown",
   "metadata": {},
   "source": [
    "Here we make a parallel worlds graph based on the interventions. Since we have two interventions we create two parallel worlds, represented here by different colors (red for the x intervention and green for the d intervention). The \"parallel\" variables in each world are connected by unidrected edges."
   ]
  },
  {
   "cell_type": "code",
   "execution_count": 9,
   "metadata": {},
   "source": [
    "event = {Y @ -x: -y, X: +x, Z @ -d: -z, D: -d}  # This is the original event we are using\n",
    "# the input for make_parallel_worlds_graph is a graph and extracted interventions from an event\n",
    "cf_graph_1 = make_parallel_worlds_graph(figure_9a.graph, {frozenset([-x]), frozenset([-d])})"
   ],
   "outputs": []
  },
  {
   "cell_type": "markdown",
   "metadata": {},
   "source": [
    "![Figure9B.PNG](images/parallel-worlds.png)\n"
   ]
  },
  {
   "cell_type": "code",
   "execution_count": 10,
   "metadata": {},
   "source": [
    "cf_graph_1.draw()"
   ],
   "outputs": []
  },
  {
   "cell_type": "markdown",
   "metadata": {},
   "source": [
    "## Merging the Parallel Worlds"
   ]
  },
  {
   "cell_type": "markdown",
   "metadata": {},
   "source": [
    "cf_graph_1 should be a stitched together graph of counterfactual worlds that corresponds to Figure 9b.\n",
    "Now we will start merging nodes that are equivalent in the two graphs using the topological ordering of (X,D,W,Z,Y)"
   ]
  },
  {
   "cell_type": "code",
   "execution_count": 11,
   "metadata": {},
   "source": [
    "# Does Lemma 24 hold for X and X @ D?  Then Merge them together.\n",
    "if lemma_24_holds(cf_graph_1, {Y @ -x: -y, D: -d, Z @ -d: -z, X: +x}, X, X @ D):\n",
    "    cf_graph_2, preferred_node, eliminated_node = merge_pw(cf_graph_1, X, X @ D)\n",
    "    # update the event\n",
    "    new_event2 = update_event(event, preferred_node, eliminated_node)"
   ],
   "outputs": []
  },
  {
   "cell_type": "markdown",
   "metadata": {},
   "source": [
    "### Next we merge `D` and `D @ ~x`"
   ]
  },
  {
   "cell_type": "code",
   "execution_count": 12,
   "metadata": {},
   "source": [
    "if lemma_24_holds(cf_graph_2, new_event2, D, D @ -x):\n",
    "    cf_graph_3, preferred_node, eliminated_node = merge_pw(cf_graph_2, D, D @ -X)\n",
    "    # update_event will be run after each merge_pw\n",
    "    new_event3 = update_event(new_event2, preferred_node, eliminated_node)\n",
    "\n",
    "    figure_11a_calculated = cf_graph_3\n",
    "    figure_11a_calculated.draw()\n",
    "else:\n",
    "    print(f\"{D} and {D @ -x} cannot be merged\")"
   ],
   "outputs": []
  },
  {
   "cell_type": "markdown",
   "metadata": {},
   "source": [
    "## Figure 11a Checkpoint"
   ]
  },
  {
   "cell_type": "code",
   "execution_count": 13,
   "metadata": {},
   "source": [
    "assert (\n",
    "    figure_11a_calculated == figure_11a.graph\n",
    "), \"Calculated figure 11a is not equal to the actual figure 11a\"\n",
    "print(\"Figure 11a calculated is correct\")"
   ],
   "outputs": []
  },
  {
   "cell_type": "markdown",
   "metadata": {},
   "source": [
    "![Figure11A.PNG](images/step-2-make-counterfactual.png)\n"
   ]
  },
  {
   "cell_type": "markdown",
   "metadata": {},
   "source": [
    "## Merging nodes with different parents"
   ]
  },
  {
   "cell_type": "markdown",
   "metadata": {},
   "source": [
    "We are allowed to merge certain nodes with different parents if the parents attain the same value. In our case we have `Z, Z @ -d`, and `Z @ -x` with parents `D` and `D @ -d` which attain the same values. This means that we can merge the three `Z` nodes. (notice that `D @ -d` disappears when we merge `Z, Z @ -d`)"
   ]
  },
  {
   "cell_type": "code",
   "execution_count": 14,
   "metadata": {},
   "source": [
    "if lemma_24_holds(cf_graph_3, new_event3, Z, Z @ -d):\n",
    "    cf_graph_4a, preferred_node, eliminated_node = merge_pw(cf_graph_3, Z, Z @ -d)\n",
    "    # update the event\n",
    "    new_event4a = update_event(new_event3, preferred_node, eliminated_node)\n",
    "    cf_graph_4a.draw()\n",
    "else:\n",
    "    print(f\"{Z} and {Z @ -d} cannot be merged\")\n",
    "if lemma_24_holds(cf_graph_4a, new_event4a, Z, Z @ -x):\n",
    "    cf_graph_4b, preferred_node, eliminated_node = merge_pw(cf_graph_4a, Z, Z @ -x)\n",
    "    # update the event\n",
    "    new_event4b = update_event(new_event4a, preferred_node, eliminated_node)\n",
    "else:\n",
    "    print(f\"{Z} and {Z @ -x} cannot be merged\")"
   ],
   "outputs": []
  },
  {
   "cell_type": "markdown",
   "metadata": {},
   "source": [
    "### Next we merge W and W @ D"
   ]
  },
  {
   "cell_type": "code",
   "execution_count": 15,
   "metadata": {},
   "source": [
    "if lemma_24_holds(cf_graph_4b, new_event4b, W, W @ -d):\n",
    "    cf_graph_5, preferred_node, eliminated_node = merge_pw(cf_graph_4b, W, W @ -d)\n",
    "    # update the event\n",
    "    new_event5 = update_event(new_event4b, preferred_node, eliminated_node)\n",
    "    figure_11b_calculated = cf_graph_5\n",
    "    figure_11b_calculated.draw()\n",
    "else:\n",
    "    print(f\"{W} and {W @ -d} cannot be merged\")"
   ],
   "outputs": []
  },
  {
   "cell_type": "markdown",
   "metadata": {},
   "source": [
    "### Next we (attempt to) merge Y and Y @ X"
   ]
  },
  {
   "cell_type": "code",
   "execution_count": 16,
   "metadata": {},
   "source": [
    "if lemma_24_holds(cf_graph_5, new_event5, Y, Y @ -x):\n",
    "    cf_graph_6, preferred_node, eliminated_node = merge_pw(cf_graph_5, Y, Y @ -x)\n",
    "    # update the event\n",
    "    new_event6 = update_event(new_event5, preferred_node, eliminated_node)\n",
    "else:\n",
    "    print(f\"{Y} and {Y @ -x} cannot be merged\")"
   ],
   "outputs": []
  },
  {
   "cell_type": "markdown",
   "metadata": {},
   "source": [
    "## Figure 11b Checkpoint"
   ]
  },
  {
   "cell_type": "code",
   "execution_count": 17,
   "metadata": {
    "tags": []
   },
   "source": [
    "assert (\n",
    "    figure_11b_calculated == figure_11b.graph\n",
    "), \"Calculated figure 11b is not equal to the actual figure 11b\"\n",
    "\n",
    "print(\"Figure 11b calculated is correct\")"
   ],
   "outputs": []
  },
  {
   "cell_type": "markdown",
   "metadata": {},
   "source": [
    "![Figure11B.PNG](images/step-4-make-counterfactual.PNG)"
   ]
  },
  {
   "cell_type": "markdown",
   "metadata": {},
   "source": [
    "### Next, we (attempt to) merge `Y` and `Y @ -d`"
   ]
  },
  {
   "cell_type": "code",
   "execution_count": 18,
   "metadata": {},
   "source": [
    "if lemma_24_holds(cf_graph_5, new_event5, Y, Y @ -d):\n",
    "    cf_graph_7, preferred_node, eliminated_node = merge_pw(cf_graph_5, Y, Y @ -d)\n",
    "    figure_11c_calculated = cf_graph_7\n",
    "    # update the event\n",
    "    new_event7 = update_event(new_event5, preferred_node, eliminated_node)\n",
    "    figure_11c_calculated.draw()\n",
    "    display(new_event7)\n",
    "else:\n",
    "    print(f\"{Y} and {Y @ -d} cannot be merged\")"
   ],
   "outputs": []
  },
  {
   "cell_type": "markdown",
   "metadata": {},
   "source": [
    "![Figure11C.PNG](images/step-5-make-counterfactual.png)"
   ]
  },
  {
   "cell_type": "markdown",
   "metadata": {},
   "source": [
    "## Figure 11c Checkpoint"
   ]
  },
  {
   "cell_type": "code",
   "execution_count": 19,
   "metadata": {},
   "source": [
    "assert (\n",
    "    figure_11c_calculated == figure_11c.graph\n",
    "), \"Calculated figure 11c is not equal to the actual figure 11c\"\n",
    "\n",
    "print(\"Figure 11c calculated is correct\")"
   ],
   "outputs": []
  },
  {
   "cell_type": "markdown",
   "metadata": {},
   "source": [
    "## Return only the ancestors of events"
   ]
  },
  {
   "cell_type": "code",
   "execution_count": 20,
   "metadata": {},
   "source": [
    "# this doesn't quite work yet but I will add it in soon\n",
    "ancestors = cf_graph_7.ancestors_inclusive(new_event7)\n",
    "return_graph = cf_graph_7.subgraph(ancestors)\n",
    "figure_9c_calculated = return_graph\n",
    "figure_9c_calculated.draw()"
   ],
   "outputs": []
  },
  {
   "cell_type": "code",
   "execution_count": 21,
   "metadata": {},
   "source": [
    "figure_9c.graph.draw()"
   ],
   "outputs": []
  },
  {
   "cell_type": "markdown",
   "metadata": {},
   "source": [
    "The last line of `make-counterfactual-graph()` removes all nodes that are not ancestors of the events $\\left\\{y_{do(X=x')}, z, d\\right\\}$. Thus we remove $\\{Y, W\\}$"
   ]
  },
  {
   "cell_type": "markdown",
   "metadata": {},
   "source": [
    "![Figure9C.PNG](images/counterfactual-graph.png)"
   ]
  },
  {
   "cell_type": "markdown",
   "metadata": {},
   "source": [
    "## Figure 9c Checkpoint"
   ]
  },
  {
   "cell_type": "code",
   "execution_count": 22,
   "metadata": {},
   "source": [
    "assert (\n",
    "    figure_9c_calculated == figure_9c.graph\n",
    "), \"Calculated figure 9c is not equal to the actual figure 9c\"\n",
    "print(\"Figure 9c calculated is correct\")"
   ],
   "outputs": []
  },
  {
   "cell_type": "markdown",
   "metadata": {},
   "source": [
    "\n",
    "# ID* Algorithm\n",
    "\n",
    "$\\text{function }\\mathbf{ ID^*}\\left(G, \\gamma\\right) \\\\ \\text{INPUT: } \\text{ $G$ a causal diagram, $\\gamma$ a conjunction of counterfactual events}. \\\\  \\text{OUTPUT:  an expression for $P(\\gamma)$ in terms of $P_*$ or $\\mathbf{FAIL}$} $\n",
    "\n",
    "* 1 if $\\gamma=\\varnothing$, return 1 \n",
    "* 2 if ($\\exists x_{x'..} \\in \\gamma$), return 0\n",
    "* 3 if ($\\exists x_{x..} \\in \\gamma$), return $\\mathbf{ ID^*}(G,\\gamma \\backslash \\{x_{x..}\\})$\n",
    "* 4 $(G',\\gamma')=\\mathbf{make-cg}(G,\\gamma)$\n",
    "* 5 if $\\gamma'= \\mathbf{INCONSISTENT}$ return 0\n",
    "* 6 if $C(G')=\\{S^1,...,S^k\\},$ return $\\sum_{\\mathbf{V}(G')\\backslash\\gamma}\\prod_{i}\\mathbf{ID^*}(G,s^i_{\\mathbf{v}(G')\\backslash s^i})$\n",
    "* 7 if $C(G')=\\{S\\}$ then\n",
    "    * 8 if $\\exists \\mathbf{x,x'}$ s.t. $\\mathbf{x} \\neq \\mathbf{x',x} \\in \\mathbf{sub}(S),\\mathbf{x'} \\in \\mathbf{ev}(S),$ throw $\\mathbf{FAIL}$\n",
    "    * 9 else, let $\\mathbf{x} = \\bigcup \\mathbf{sub}(S)$ return $P_\\mathbf{x}(\\mathbf{var}(S))$\n"
   ]
  },
  {
   "cell_type": "code",
   "execution_count": 23,
   "metadata": {},
   "source": [
    "event = {Y @ -x: -y, X: +x, Z @ -d: -z, D: -d}\n",
    "expected = Sum[W](P(Y @ (-z, -w), X @ (-z, -w)) * P(Z @ -d) * P(W @ -x) * P(D))\n",
    "expected = canonicalize(expected)\n",
    "expected"
   ],
   "outputs": []
  },
  {
   "cell_type": "markdown",
   "metadata": {},
   "source": [
    "## ID* Walkthrough\n",
    "\n",
    "We are going to start with the same graph that we started with for the make counterfactual graph walkthrough. "
   ]
  },
  {
   "cell_type": "markdown",
   "metadata": {},
   "source": [
    "![Figure9A.PNG](images/factual-world.PNG)\n"
   ]
  },
  {
   "cell_type": "markdown",
   "metadata": {},
   "source": [
    "## ID* lines 1 through 4\n",
    "On line 1 we check that the event is not empty. We move on to line 2 we note that $\\gamma$ does not contain any inconsistencies. One line 3 we verify that $\\gamma$ doesn't have any self interventions (if it does we will remove them from the query and run ID* on the new query). Finally on line 4 we run make-cg and obtain the counterfactual graph from before"
   ]
  },
  {
   "cell_type": "code",
   "execution_count": 24,
   "metadata": {},
   "source": [
    "assert event is not None, \"ID* line 1 failed, return One()\"\n",
    "print(\"Passed ID* line 1\")\n",
    "\n",
    "# Line 2: This violates the Axiom of Effectiveness\n",
    "assert not violates_axiom_of_effectiveness(event), \"ID* line 2 failed, return Zero()\"\n",
    "print(\"Passed ID* line 2\")\n",
    "\n",
    "# Line 3: This is a tautological event and can be removed without affecting the probability\n",
    "reduced_event = remove_event_tautologies(event)\n",
    "if reduced_event == event:\n",
    "    print(\"Passed ID* line 3\")\n",
    "else:\n",
    "    print(\"Reduction occurs on ID* line 3\")\n",
    "\n",
    "cf_graph, new_event = make_counterfactual_graph(figure_9a.graph, event)\n",
    "cf_graph.draw()"
   ],
   "outputs": []
  },
  {
   "cell_type": "markdown",
   "metadata": {},
   "source": [
    "![Figure9C.PNG](images/counterfactual-graph.png)"
   ]
  },
  {
   "cell_type": "code",
   "execution_count": 25,
   "metadata": {},
   "source": [
    "# We check that the new event $\\gamma '$ is not inconsistent\n",
    "assert new_event is not None, \"ID* line 5 failed, return Zero()\"\n",
    "print(\"Passed ID* line 5\")"
   ],
   "outputs": []
  },
  {
   "cell_type": "markdown",
   "metadata": {},
   "source": [
    "## ID* line 6, calculate the C-components\n",
    "$\\text{Line 6 is only triggered if the counterfactual graph contains more than 1 C-component.} \\\\\n",
    "\\text{On line 6 we calculate the C-components of the counterfactual graph and then call ID* on each of these C-components.} \\\\\n",
    "\\text{We return the sum over the vertices which are in the counterfactual graph but not in the event times the product of a recursive call to ID* for each C-component.} \\\\\n",
    "\\text{The recursive call to ID* will have the original graph and new interventions, these interventions will be the markov pillow of the C-component}$"
   ]
  },
  {
   "cell_type": "code",
   "execution_count": 26,
   "metadata": {},
   "source": [
    "nodes = set(node for node in cf_graph.nodes() if is_not_self_intervened(node))\n",
    "C_components = cf_graph.subgraph(nodes).get_c_components()"
   ],
   "outputs": []
  },
  {
   "cell_type": "markdown",
   "metadata": {},
   "source": [
    "## ID* line 6, get the markov pillow of each C-component\n",
    "$\\text{For each C-component we will intervene on the nodes that are needed to infer the value of the C-componenet (Markov Pillow)} \\\\\n",
    "$"
   ]
  },
  {
   "cell_type": "code",
   "execution_count": 27,
   "metadata": {},
   "source": [
    "for c_component in C_components:\n",
    "    print(\n",
    "        f\"C-Component:{c_component} Interventions: {get_events_of_district(cf_graph,c_component,new_event)}\"\n",
    "    )"
   ],
   "outputs": []
  },
  {
   "cell_type": "markdown",
   "metadata": {},
   "source": [
    "## Recursive calls for each C-component\n",
    "$\\text{For each C-component there are no self interventions or empty events so we move past the first 5 lines.}\\\\\n",
    "\\text{ At line 6 we find in each case there is only 1 c-component, so we move to line 7 } \\\\\n",
    "\\text{ We find no conflicts on line 8 and return the probability on line 9}\n",
    "$"
   ]
  },
  {
   "cell_type": "code",
   "execution_count": 28,
   "metadata": {},
   "source": [
    "for c_component in C_components:\n",
    "    r_event = get_events_of_district(cf_graph, c_component, new_event)\n",
    "\n",
    "    assert r_event is not None, \"ID* line 1 failed, return One()\"\n",
    "    print(\"Passed ID* line 1\")\n",
    "\n",
    "    # Line 2: This violates the Axiom of Effectiveness\n",
    "    assert not violates_axiom_of_effectiveness(r_event), \"ID* line 2 failed, return Zero()\"\n",
    "    print(\"Passed ID* line 2\")\n",
    "\n",
    "    # Line 3: This is a tautological event and can be removed without affecting the probability\n",
    "    reduced_event = remove_event_tautologies(r_event)\n",
    "    if reduced_event == r_event:\n",
    "        print(\"Passed ID* line 3\")\n",
    "    else:\n",
    "        print(\"Reduction occurs on ID* line 3\")\n",
    "\n",
    "    r_cf_graph, r_new_event = make_counterfactual_graph(figure_9a.graph, r_event)\n",
    "\n",
    "    assert r_new_event is not None, \"ID* line 5 failed, return Zero()\"\n",
    "    print(\"Passed ID* line 5\")\n",
    "    nodes = set(node for node in r_cf_graph.nodes() if is_not_self_intervened(node))\n",
    "    if r_cf_graph.subgraph(nodes).is_connected():\n",
    "        print(\"Only 1 c-component, move past line 6\")\n",
    "\n",
    "    # Here is line 8.  We check for inconsistencies in the subscripts\n",
    "    assert not any(\n",
    "        intervention.name == evidence.name and intervention.star != evidence.star\n",
    "        for intervention in get_cf_interventions(r_cf_graph.subgraph(nodes))\n",
    "        for evidence in get_evidence(r_new_event)\n",
    "    ), \"ID* line 8 found inconsistencies, return Unidentifiable\"\n",
    "    print(\"Passed ID* line 8\")\n",
    "\n",
    "    # We have reached line 9, return the probability.\n",
    "    if len(get_cf_interventions(r_cf_graph.subgraph(nodes))) > 0:\n",
    "        print(\n",
    "            \"line 9 returns \",\n",
    "            P[get_cf_interventions(r_cf_graph.subgraph(nodes))](node.get_base() for node in nodes),\n",
    "        )\n",
    "    else:\n",
    "        print(\"line 9 returns \", P(node.get_base() for node in nodes))"
   ],
   "outputs": []
  },
  {
   "cell_type": "code",
   "execution_count": 29,
   "metadata": {},
   "source": [
    "actual = canonicalize(id_star(figure_9a.graph, event))\n",
    "actual"
   ],
   "outputs": []
  },
  {
   "cell_type": "code",
   "execution_count": 30,
   "metadata": {},
   "source": [
    "print(expected)\n",
    "print(actual)\n",
    "assert expected == actual, \"expected was not equal to actual\"\n",
    "print(\"actual is equal to expected!!\")"
   ],
   "outputs": []
  },
  {
   "cell_type": "markdown",
   "metadata": {},
   "source": [
    "# IDC* algorithm\n",
    "\n",
    "The **IDC***, like its counterpart **IDC**, is shorter. \n",
    "\n",
    "\n",
    "The first line fails if $\\gamma$ is inconsistent. **IDC** did not have an equivalent line, since we can assume $P(\\mathbf{v})$ is positive. The problem with counterfactual distributions is there is no simple way to prevent non-positive distributions spanning multiple worlds from arising, even if the original P(v) was positive—hence the explicit check. \n",
    "\n",
    "1. if $\\mathbf{ID*}(G,\\delta)=0$, return **UNDEFINED**\n",
    "\n",
    "The second line constructs the counterfactual graph, except since make-cg can only take conjunctions, we provide it with a joint counterfactual γ ^ δ. \n",
    "\n",
    "2. $(G',\\gamma'\\wedge\\delta')=\\mathbf{make-cg}(G,\\gamma\\wedge\\delta)$\n",
    "\n",
    "Line 3 returns 0 if an inconsistency was detected. \n",
    "\n",
    "3. if $\\gamma'\\wedge\\delta' =$  **INCONSISTENT**, return $0$\n",
    "\n",
    "\n",
    "Line 4 of **IDC*** is the central line of the algorithm and is analogous to line 1 of **IDC**. In **IDC**, we moved value assignment $Z = z$ from being observed to being fixed if there were no back-door paths from $Z$ to the outcome variables $\\mathbf{Y}$ given the context of the effect of $do(\\mathbf{x})$. Here in **IDC***, we move a counterfactual value assignment $Y_\\mathbf{x} = y$ from being observed (that is being a part of $\\delta$), to being fixed (that is appearing in every subscript of $\\gamma'$) if there are no back-door paths from $Y_\\mathbf{x}$ to the counterfactual of interest $\\gamma'$.\n",
    "\n",
    "$$\\newcommand\\ci{\\perp\\!\\!\\!\\perp}$$\n",
    "$$\\newcommand{\\ubar}[1]{\\underset{\\bar{}}{#1}}\n",
    "\\newcommand{\\obar}[1]{\\overset{\\bar{}}{#1}}$$\n",
    "\n",
    "4. if $(\\exists y_\\mathbf{x}\\in\\delta')$ s.t. $(Y_\\mathbf{x} \\ci \\gamma')_{G'_{\\ubar{y_\\mathbf{x}}}}$, return $\\mathbf{IDC^*}(G, \\gamma'_{y_\\mathbf{X}},\\delta'\\backslash\\{y_{\\mathbf{X}}\\})$\n",
    "\n",
    "Finally, line 5 of **IDC*** is the analogue of line 2 of **IDC**, we attempt to identify a joint counterfactual probability, and then obtain a conditional counterfactual probability from the result.\n",
    "\n",
    "5. else, let $P'=\\mathbf{ID^*}(G,\\gamma'\\wedge\\delta')$. return $\\frac{P'}{P'(\\delta)}$"
   ]
  },
  {
   "cell_type": "code",
   "execution_count": 31,
   "metadata": {},
   "source": [
    "old_condition = {Y @ -x: -y, Y @ -z: +y}\n",
    "new_condition = {Y: -y, Y @ -z: +y}\n",
    "old_outcome = {Y @ -w: -y}\n",
    "new_outcome = {Y: -y}\n",
    "# P(Y: +y | +y)\n",
    "new_outcome = {Y: -y}\n",
    "remain_condition, missing_condition = get_remaining_and_missing_events(new_condition, old_condition)\n",
    "remain_condition, missing_condition"
   ],
   "outputs": []
  },
  {
   "cell_type": "code",
   "execution_count": 32,
   "metadata": {},
   "source": [
    "expected_new_outcomes_and_conditions = {Y: -y}, {Y: -y, Y @ -z: +y}"
   ],
   "outputs": []
  },
  {
   "cell_type": "code",
   "execution_count": 33,
   "metadata": {},
   "source": [
    "get_new_outcomes_and_conditions(\n",
    "    new_event=new_outcome | new_condition, outcomes=old_outcome, conditions=old_condition\n",
    ")"
   ],
   "outputs": []
  },
  {
   "cell_type": "code",
   "execution_count": 34,
   "metadata": {},
   "source": [
    "input_graph = tikka_figure_2.graph\n",
    "input_graph.draw()"
   ],
   "outputs": []
  },
  {
   "cell_type": "code",
   "execution_count": 35,
   "metadata": {},
   "source": [
    "input_outcome = {Y @ -x: -y}\n",
    "input_condition = {X: +x, Z @ -x: -z}\n",
    "idc_star(input_graph, input_outcome, input_condition)"
   ],
   "outputs": []
  },
  {
   "cell_type": "code",
   "execution_count": 36,
   "metadata": {},
   "source": [
    "variables = {Z @ -d}\n",
    "\n",
    "variable = Z @ -d\n",
    "isinstance(variable, CounterfactualVariable)\n",
    "set(\n",
    "    World(variable.interventions)\n",
    "    for variable in variables\n",
    "    if isinstance(variable, CounterfactualVariable)\n",
    ")"
   ],
   "outputs": []
  },
  {
   "cell_type": "code",
   "execution_count": 37,
   "metadata": {},
   "source": [
    "set(\n",
    "    World(variable.interventions)\n",
    "    for variable in variables\n",
    "    if isinstance(variable, CounterfactualVariable)\n",
    ")"
   ],
   "outputs": []
  },
  {
   "cell_type": "code",
   "execution_count": 38,
   "metadata": {},
   "source": [
    "input_event5 = {Y @ (-D, -X): -Y, X: +X, Z: -Z}\n",
    "graph5 = NxMixedGraph.from_edges(\n",
    "    nodes=[Y @ (-D, -X), X, Z @ (-D, -X), Z, W @ (-D, -X), D @ (-D, -X), D, X @ (-D, -X)],\n",
    "    directed=[\n",
    "        (Z @ (-D, -X), Y @ (-D, -X)),\n",
    "        (W @ (-D, -X), Y @ (-D, -X)),\n",
    "        (D @ (-D, -X), Z @ (-D, -X)),\n",
    "        (D, Z),\n",
    "        (X @ (-D, -X), W @ (-D, -X)),\n",
    "    ],\n",
    "    undirected=[(Y @ (-D, -X), X), (Z @ (-D, -X), Z)],\n",
    ")\n",
    "district5 = {Z, Z @ (-D, -X)}\n",
    "graph5.draw()"
   ],
   "outputs": []
  },
  {
   "cell_type": "code",
   "execution_count": 39,
   "metadata": {},
   "source": [
    "figure_9c.graph.draw()"
   ],
   "outputs": []
  },
  {
   "cell_type": "code",
   "execution_count": 40,
   "metadata": {},
   "source": [
    "graph = figure_9a.graph\n",
    "event = {X: +x, D: -d, Z @ -d: -z}\n",
    "worlds = extract_interventions(event)\n",
    "pw_graph = make_parallel_worlds_graph(graph, worlds)\n",
    "new_event = dict(event)\n",
    "cf_graph = NxMixedGraph.from_edges(\n",
    "    nodes=pw_graph.nodes(),\n",
    "    directed=pw_graph.directed.edges(),\n",
    "    undirected=pw_graph.undirected.edges(),\n",
    ")\n",
    "pw_graph.draw()"
   ],
   "outputs": []
  },
  {
   "cell_type": "code",
   "execution_count": 41,
   "metadata": {},
   "source": [
    "worlds"
   ],
   "outputs": []
  },
  {
   "cell_type": "code",
   "execution_count": 42,
   "metadata": {},
   "source": [
    "make_counterfactual_graph(figure_9a.graph, {X: +x, D: -d, Z @ -d: -z})"
   ],
   "outputs": []
  },
  {
   "cell_type": "code",
   "execution_count": 43,
   "metadata": {},
   "source": [
    "id_star(figure_9a.graph, {Y @ -x: -y} | {X: +x, D: -d, Z @ -d: -z})"
   ],
   "outputs": []
  },
  {
   "cell_type": "code",
   "execution_count": 44,
   "metadata": {},
   "source": [
    "idc_star(figure_9a.graph, {Y @ -x: -y}, {X: +x, D: -d, Z @ -d: -z})"
   ],
   "outputs": []
  },
  {
   "cell_type": "code",
   "execution_count": 45,
   "metadata": {},
   "source": [
    "Z.intervene([D, D @ (-d, -x)])"
   ],
   "outputs": []
  },
  {
   "cell_type": "code",
   "execution_count": 46,
   "metadata": {},
   "source": [
    "_upgrade_ordering([D, D @ (-d, -x)])"
   ],
   "outputs": []
  },
  {
   "cell_type": "code",
   "execution_count": 47,
   "metadata": {},
   "source": [
    "_to_interventions((D @ (-D, -X), D))"
   ],
   "outputs": []
  },
  {
   "cell_type": "markdown",
   "metadata": {},
   "source": [
    "# Examples of Notation\n"
   ]
  },
  {
   "cell_type": "code",
   "execution_count": 48,
   "metadata": {},
   "source": [
    "W @ X"
   ],
   "outputs": []
  },
  {
   "cell_type": "code",
   "execution_count": 49,
   "metadata": {},
   "source": [
    "~W"
   ],
   "outputs": []
  },
  {
   "cell_type": "code",
   "execution_count": 50,
   "metadata": {},
   "source": [
    "P(Y @ X | ~X, Z @ D, D)"
   ],
   "outputs": []
  },
  {
   "cell_type": "code",
   "execution_count": 51,
   "metadata": {},
   "source": [
    "{Y @ X: y}, {Y @ X: ~y}"
   ],
   "outputs": []
  },
  {
   "cell_type": "code",
   "execution_count": 52,
   "metadata": {},
   "source": [
    "P(+Y @ +X)"
   ],
   "outputs": []
  },
  {
   "cell_type": "code",
   "execution_count": 53,
   "metadata": {},
   "source": [
    "P({Y @ +x: y})"
   ],
   "outputs": []
  },
  {
   "cell_type": "markdown",
   "metadata": {},
   "source": [
    "# Examples of `make_counterfactual_graph`"
   ]
  },
  {
   "cell_type": "code",
   "execution_count": 54,
   "metadata": {},
   "source": [
    "input_events = [{Y @ (-w, -z): -y, X @ (-w, -z): -x}, {Z @ -d: -z}, {W @ -x: -w}, {D: -d}]\n",
    "for input_event in input_events:\n",
    "    actual_graph, actual_event = make_counterfactual_graph(figure_9a.graph, input_event)\n",
    "    actual_graph.draw()\n",
    "    plt.show()"
   ],
   "outputs": []
  },
  {
   "cell_type": "code",
   "execution_count": 55,
   "metadata": {},
   "source": [
    "input_graph2 = figure_9a.graph\n",
    "input_event2 = {Y @ -x: -y, X: +x, Z @ -d: -d, D: -d}\n",
    "expected2 = Sum[W](P(Y @ (-z, -w), X @ (-z, -w)) * P(Z @ -d) * P(W @ -x) * P(D))\n",
    "display(expected2)\n",
    "id_star(input_graph2, input_event2)"
   ],
   "outputs": []
  },
  {
   "cell_type": "code",
   "execution_count": 56,
   "metadata": {},
   "source": [
    "P(+Y | -y)"
   ],
   "outputs": []
  },
  {
   "cell_type": "code",
   "execution_count": 57,
   "metadata": {},
   "source": [
    "idc_star(tikka_figure_2.graph, outcomes={Y @ -x: -y}, conditions={Z @ -x: -z, X: +x})"
   ],
   "outputs": []
  },
  {
   "cell_type": "code",
   "execution_count": 58,
   "metadata": {},
   "source": [
    "P(X, Y).conditional([])"
   ],
   "outputs": []
  },
  {
   "cell_type": "code",
   "execution_count": 59,
   "metadata": {},
   "source": [
    "print(figure_9a.graph.nodes())\n",
    "print(figure_9a.graph.directed)\n",
    "print(figure_9a.graph.joint())\n",
    "figure_9a.graph.draw()"
   ],
   "outputs": []
  }
 ],
 "metadata": {
  "kernelspec": {
   "display_name": "Python 3 (ipykernel)",
   "language": "python",
   "name": "python3"
  },
  "language_info": {
   "codemirror_mode": {
    "name": "ipython",
    "version": 3
   },
   "file_extension": ".py",
   "mimetype": "text/x-python",
   "name": "python",
   "nbconvert_exporter": "python",
   "pygments_lexer": "ipython3",
   "version": "3.11.9"
  },
  "latex_envs": {
   "LaTeX_envs_menu_present": false,
   "autoclose": false,
   "autocomplete": false,
   "bibliofile": "biblio.bib",
   "cite_by": "apalike",
   "current_citInitial": 1,
   "eqLabelWithNumbers": true,
   "eqNumInitial": 1,
   "hotkeys": {
    "equation": "ctrl-q"
   },
   "labels_anchors": false,
   "latex_user_defs": false,
   "report_style_numbering": true,
   "user_envs_cfg": false
  },
  "toc": {
   "base_numbering": 1,
   "nav_menu": {},
   "number_sections": true,
   "sideBar": true,
   "skip_h1_title": false,
   "title_cell": "Table of Contents",
   "title_sidebar": "Contents",
   "toc_cell": true,
   "toc_position": {},
   "toc_section_display": true,
   "toc_window_display": true
  },
  "toc-autonumbering": true,
  "toc-showmarkdowntxt": false
 },
 "nbformat": 4,
 "nbformat_minor": 4
}
