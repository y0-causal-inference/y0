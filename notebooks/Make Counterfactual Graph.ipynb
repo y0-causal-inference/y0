{
 "cells": [
  {
   "cell_type": "markdown",
   "metadata": {
    "toc": true
   },
   "source": [
    "<h1>Table of Contents<span class=\"tocSkip\"></span></h1>\n",
    "<div class=\"toc\"><ul class=\"toc-item\"><li><span><a href=\"#Make-counterfactual-graph\" data-toc-modified-id=\"Make-counterfactual-graph-1\"><span class=\"toc-item-num\">1&nbsp;&nbsp;</span>Make counterfactual graph</a></span></li><li><span><a href=\"#Walkthrough-of-make-counterfactual-graph\" data-toc-modified-id=\"Walkthrough-of-make-counterfactual-graph-2\"><span class=\"toc-item-num\">2&nbsp;&nbsp;</span>Walkthrough of make counterfactual graph</a></span></li><li><span><a href=\"#ID*-algorithm\" data-toc-modified-id=\"ID*-algorithm-3\"></ul></div>"
   ]
  },
  {
   "cell_type": "code",
   "execution_count": 1,
   "metadata": {},
   "outputs": [],
   "source": [
    "%load_ext lab_black"
   ]
  },
  {
   "cell_type": "markdown",
   "metadata": {},
   "source": [
    "# Make counterfactual graph\n",
    "\n",
    "$$\\newcommand\\ci{\\perp\\!\\!\\!\\perp}$$\n",
    "$$\\newcommand{\\ubar}[1]{\\underset{\\bar{}}{#1}}\n",
    "\\newcommand{\\obar}[1]{\\overset{\\bar{}}{#1}}$$\n",
    "\n",
    "\n",
    "**Lemma 24** Let $M$ be a model inducing $G$ containing variables $\\alpha,\\beta$ with the following properties: \n",
    "* $\\alpha$ and $\\beta$ have the same domain of values.\n",
    "*  There is a bijection $f$ from $Pa(\\alpha)$ to $Pa(\\beta)$ such that a parent $\\gamma$ and $f(\\gamma)$ have the same domain of values. \n",
    "* The functional mechanisms of $\\alpha$ and $\\beta$ are the same (except whenever the function for $\\alpha$ uses the parent $\\gamma$, the corresponding function for $\\beta$ uses $f (\\gamma)$). \n",
    "\n",
    "Assume an observable variable set $\\mathbf Z$ was observed to attain values $\\mathbf{z}$ in $M_\\mathbf{x}$, the submodel obtained from $M$ by forcing another observable variable set $\\mathbf X$ to attain values $\\mathbf x$. Assume further that for each $\\gamma\\in Pa(\\alpha)$, either $f (\\gamma) = \\gamma$, or $\\gamma$ and $f (\\gamma)$ attain the same values (whether by observation or intervention). Then $\\alpha$ and $\\beta$ are the same random variable in $M_{\\mathbf x}$ with observations $\\mathbf z$.\n",
    "\n",
    "$\\textbf{Lemma 25}$. Let $M_\\mathbf{x}$ be a submodel derived from $M$ with set $\\mathbf Z$ observed to attain values $\\mathbf z$, such that Lemma 24 holds for $\\alpha, \\beta$. Let $M'$ be a causal model obtained from $M$ by merging $\\alpha, \\beta$ into a new node $\\omega$, which inherits all parents and the functional mechanism of $\\alpha$. All children of $\\alpha,\\beta$ in $M'$ become children of $\\omega$. Then $M_\\mathbf{x}$,  $M'_\\mathbf{x}$ agree on any distribution consistent with $\\mathbf{z}$ being observed.\n",
    "\n",
    "\n",
    "\n",
    "$\\text{function }\\mathbf{ make-cg}\\left(G, \\gamma\\right) \\\\ \\text{INPUT: } \\text{ $G$ a causal diagram, $\\gamma$ a conjunction of counterfactual events}. \\\\  \\text{OUTPUT:  A counterfactual graph $G_\\gamma$ and either a set of events $\\gamma'$ such that $P(\\gamma') = P(\\gamma)$ or $\\mathbf{Inconsistent}$} $\n",
    "\n",
    "* Construct a submodel $G_{\\mathbf{X}_i}$ for each action $do(\\mathbf{x}_i)$ mentioned in $\\gamma$. Construct the parallel worlds graph $G'$ by having all such graphs share their corresponding $U$ nodes.\n",
    "\n",
    "* Let $\\pi$ be a topological ordering of nodes in $G'$, let $\\gamma':=\\gamma.$\n",
    "* Apply Lemmas 24 and 25, in order $\\pi$ to each observable node pair $\\alpha, \\beta$ derived from the same variable in $G$. For each $\\alpha, \\beta$ that are the same, do:\n",
    "    * Let $G'$ be modified as specified in Lemma 25\n",
    "    * Modify $\\gamma'$ by renaming all occurrences of $\\beta$ to $\\alpha$.\n",
    "    * If $\\mathbf{val}(\\alpha)\\neq \\mathbf{val}(\\beta)$, return $G', \\mathbf{Inconsistent}$.\n",
    "* $\\texttt{return}$ $(G'_{An(\\gamma')}, \\gamma')$, where $An(\\gamma')$ is the set of nodes in $G'$ ancestral to nodes corresponding to variables mentioned in $\\gamma'$."
   ]
  },
  {
   "cell_type": "markdown",
   "metadata": {},
   "source": [
    "$$P(\\lnot rxn_{do(\\lnot catalyst)} | rxn, catalyst)$$"
   ]
  },
  {
   "cell_type": "markdown",
   "metadata": {},
   "source": [
    "# Walkthrough of make counterfactual graph"
   ]
  },
  {
   "cell_type": "code",
   "execution_count": 1,
   "metadata": {},
   "outputs": [],
   "source": [
    "from y0.algorithm.identify.cg import (\n",
    "    make_parallel_worlds_graph,\n",
    "    extract_interventions,\n",
    "    make_counterfactual_graph,\n",
    "    lemma_24_holds,\n",
    "    is_pw_equivalent,\n",
    "    has_same_function,\n",
    "    is_intervention_same_as_observed,\n",
    "    merge_pw,\n",
    "    is_inconsistent,\n",
    "    update_event,\n",
    "    parents_attain_same_values,\n",
    ")\n",
    "from y0.graph import NxMixedGraph\n",
    "from y0.examples import (\n",
    "    figure_9a,\n",
    "    figure_9b,\n",
    "    figure_9c,\n",
    "    figure_9d,\n",
    "    figure_11a,\n",
    "    figure_11b,\n",
    "    figure_11c,\n",
    ")\n",
    "from y0.dsl import (\n",
    "    X,\n",
    "    D,\n",
    "    W,\n",
    "    P,\n",
    "    Y,\n",
    "    Z,\n",
    "    Event,\n",
    "    CounterfactualVariable,\n",
    "    Intervention,\n",
    "    _get_treatment_variables,\n",
    "    Variable,\n",
    "    Zero,\n",
    ")\n",
    "\n",
    "x, y, z, w, d = -X, -Y, -Z, -W, -D\n",
    "import matplotlib.pyplot as plt"
   ]
  },
  {
   "cell_type": "markdown",
   "metadata": {},
   "source": [
    "We illustrate the operation of make-cg by showing how the graph in Fig. 9 (c) is derived from the graph in Fig. 9 (b). We start the application of Lemma 24 from the topmost observable nodes, and conclude that the node pairs $D_x, D$, and $X_d, X$ have the same functional mechanisms, and the same parent set (in this case the parents are unobservable nodes $U_d$ for the first pair, and $U$ for the second). We then use Lemma 25 to obtain the graph shown in Fig. 11 (a). \n",
    "Since the node pairs are the same, we pick the name of one of the nodes of the pair to serve as the name of the new node. In our case, we picked D and X . Note that for this graph, and all subsequent intermediate graphs we generate, we use the convention that if a merge creates a situation where an unobservable variable has a single child, that variable is omitted from the graph. For instance, in Fig. 11 (a), the variable $U_d$ , and its corresponding arrow to $D$ omitted. "
   ]
  },
  {
   "cell_type": "code",
   "execution_count": 29,
   "metadata": {},
   "outputs": [],
   "source": [
    "cf_graph_0 = figure_9a.graph"
   ]
  },
  {
   "cell_type": "code",
   "execution_count": null,
   "metadata": {},
   "outputs": [],
   "source": [
    "figure_9a.graph.draw()"
   ]
  },
  {
   "cell_type": "markdown",
   "metadata": {},
   "source": [
    "We have two interventions here, D and X are being intervened on.  "
   ]
  },
  {
   "cell_type": "code",
   "execution_count": 20,
   "metadata": {},
   "outputs": [
    {
     "data": {
      "text/latex": [
       "$P({Y}_{X} | D, X^*, {Z}_{D})$"
      ],
      "text/plain": [
       "P(Y @ -X | D, +X, Z @ -D)"
      ]
     },
     "execution_count": 20,
     "metadata": {},
     "output_type": "execute_result"
    }
   ],
   "source": [
    "P(Y @ X | ~X, Z @ D, D)"
   ]
  },
  {
   "cell_type": "code",
   "execution_count": 21,
   "metadata": {},
   "outputs": [
    {
     "data": {
      "text/plain": [
       "(NxMixedGraph(directed=<networkx.classes.digraph.DiGraph object at 0x000001BA705A1160>, undirected=<networkx.classes.graph.Graph object at 0x000001BA75559850>),\n",
       " {Y @ +X: +Y, X: -X, D: -D, Z: -Z})"
      ]
     },
     "execution_count": 21,
     "metadata": {},
     "output_type": "execute_result"
    }
   ],
   "source": [
    "make_counterfactual_graph(\n",
    "            figure_9a.graph, {Y @ +x: +y, X: -x, Z @ -d: -z, D: -d}\n",
    "        )"
   ]
  },
  {
   "cell_type": "code",
   "execution_count": 27,
   "metadata": {},
   "outputs": [],
   "source": [
    "cf_graph_1=make_parallel_worlds_graph(\n",
    "figure_9a.graph, {frozenset([+x]), frozenset([-d])}\n",
    ")\n",
    "figure_9b_calculated=cf_graph_1"
   ]
  },
  {
   "cell_type": "code",
   "execution_count": null,
   "metadata": {},
   "outputs": [],
   "source": [
    "cf_graph_1.graph.draw()\n"
   ]
  },
  {
   "cell_type": "markdown",
   "metadata": {},
   "source": [
    "cf_graph_1 should be a stitched together graph of counterfactual worlds that corresponds to Figure 9b.\n",
    "Now we will start merging nodes that are equivalent in the two graphs using the topological ordering of (X,D,W,Z,Y)"
   ]
  },
  {
   "cell_type": "code",
   "execution_count": 41,
   "metadata": {},
   "outputs": [],
   "source": [
    "#Does Lemma 24 hold for X and X @ D?  Then Merge them together. \n",
    "if lemma_24_holds(cf_graph_1, {Y @ +x: +y, D: -d, Z @ -d: -z, X: -x}, X, X @ D):\n",
    "    cf_graph_2, preferred_node, eliminated_node = merge_pw(cf_graph_1, X, X @ D)"
   ]
  },
  {
   "cell_type": "code",
   "execution_count": 65,
   "metadata": {},
   "outputs": [],
   "source": [
    "#Next we merge D and D @ ~X\n",
    "cf_graph_3, preferred_node, eliminated_node = merge_pw(cf_graph_2, D, D @ ~X)\n",
    "figure_11a_calculated=cf_graph_3"
   ]
  },
  {
   "cell_type": "code",
   "execution_count": 67,
   "metadata": {},
   "outputs": [],
   "source": [
    "#Now we can merge D and D @ D\n",
    "cf_graph_4, preferred_node, eliminated_node = merge_pw(cf_graph_3, D, D @ D)\n"
   ]
  },
  {
   "cell_type": "code",
   "execution_count": 68,
   "metadata": {},
   "outputs": [],
   "source": [
    "#Next we merge W and W @ D\n",
    "cf_graph_5, preferred_node, eliminated_node = merge_pw(cf_graph_4, W, W @ D)"
   ]
  },
  {
   "cell_type": "code",
   "execution_count": 73,
   "metadata": {},
   "outputs": [],
   "source": [
    "#Next we merge Z, Z @ D, and Z @ ~X\n",
    "cf_graph_6, preferred_node, eliminated_node = merge_pw(cf_graph_5, Z, Z @ D)\n",
    "cf_graph_7, preferred_node, eliminated_node = merge_pw(cf_graph_6, Z, Z @ ~X)\n",
    "figure_11b_calculated = cf_graph_7"
   ]
  },
  {
   "cell_type": "code",
   "execution_count": 74,
   "metadata": {},
   "outputs": [],
   "source": [
    "#Finally we merge Y and Y @ D\n",
    "cf_graph_8, preferred_node, eliminated_node = merge_pw(cf_graph_7, Y, Y @ D)\n",
    "figure_11c_calculated = cf_graph_8"
   ]
  },
  {
   "cell_type": "code",
   "execution_count": 80,
   "metadata": {},
   "outputs": [
    {
     "name": "stdout",
     "output_type": "stream",
     "text": [
      "X\n",
      "W\n",
      "Y\n",
      "D\n",
      "Z\n",
      "X @ +X\n",
      "W @ +X\n",
      "Y @ +X\n"
     ]
    }
   ],
   "source": [
    "for node in figure_11c_calculated.nodes():\n",
    "    print(node)"
   ]
  },
  {
   "cell_type": "code",
   "execution_count": 82,
   "metadata": {},
   "outputs": [
    {
     "name": "stdout",
     "output_type": "stream",
     "text": [
      "X @ +X\n",
      "W @ +X\n",
      "Y @ +X\n",
      "D\n",
      "Z\n",
      "Y\n",
      "X\n",
      "W\n"
     ]
    }
   ],
   "source": [
    "for node in figure_11c.graph.nodes():\n",
    "    print(node)"
   ]
  },
  {
   "cell_type": "code",
   "execution_count": null,
   "metadata": {},
   "outputs": [],
   "source": []
  },
  {
   "cell_type": "code",
   "execution_count": null,
   "metadata": {},
   "outputs": [],
   "source": []
  },
  {
   "cell_type": "code",
   "execution_count": null,
   "metadata": {},
   "outputs": [],
   "source": []
  },
  {
   "cell_type": "code",
   "execution_count": null,
   "metadata": {},
   "outputs": [],
   "source": []
  },
  {
   "cell_type": "code",
   "execution_count": null,
   "metadata": {},
   "outputs": [],
   "source": []
  },
  {
   "cell_type": "code",
   "execution_count": null,
   "metadata": {},
   "outputs": [],
   "source": []
  },
  {
   "cell_type": "code",
   "execution_count": null,
   "metadata": {},
   "outputs": [],
   "source": []
  },
  {
   "cell_type": "code",
   "execution_count": 16,
   "metadata": {},
   "outputs": [
    {
     "data": {
      "text/latex": [
       "${W}_{X}$"
      ],
      "text/plain": [
       "W @ -X"
      ]
     },
     "execution_count": 16,
     "metadata": {},
     "output_type": "execute_result"
    }
   ],
   "source": [
    "W @ X"
   ]
  },
  {
   "cell_type": "code",
   "execution_count": 17,
   "metadata": {},
   "outputs": [
    {
     "data": {
      "text/latex": [
       "$W^*$"
      ],
      "text/plain": [
       "+W"
      ]
     },
     "execution_count": 17,
     "metadata": {},
     "output_type": "execute_result"
    }
   ],
   "source": [
    "~W"
   ]
  },
  {
   "cell_type": "code",
   "execution_count": 8,
   "metadata": {},
   "outputs": [
    {
     "data": {
      "text/latex": [
       "$P({Y}_{X} | D, X^*, {Z}_{D})$"
      ],
      "text/plain": [
       "P(Y @ -X | D, +X, Z @ -D)"
      ]
     },
     "execution_count": 8,
     "metadata": {},
     "output_type": "execute_result"
    }
   ],
   "source": [
    "P(Y @ X | ~X, Z @ D, D)"
   ]
  },
  {
   "cell_type": "code",
   "execution_count": 11,
   "metadata": {},
   "outputs": [
    {
     "data": {
      "text/plain": [
       "({Y @ -X: -Y}, {Y @ -X: +Y})"
      ]
     },
     "execution_count": 11,
     "metadata": {},
     "output_type": "execute_result"
    }
   ],
   "source": [
    "{Y @ X: y}, {Y@ X: ~y}"
   ]
  },
  {
   "cell_type": "code",
   "execution_count": 13,
   "metadata": {},
   "outputs": [
    {
     "data": {
      "text/latex": [
       "$P({Y}^*_{X^*})$"
      ],
      "text/plain": [
       "P(+Y @ +X)"
      ]
     },
     "execution_count": 13,
     "metadata": {},
     "output_type": "execute_result"
    }
   ],
   "source": [
    "P(+Y @ +X)"
   ]
  },
  {
   "cell_type": "code",
   "execution_count": 16,
   "metadata": {},
   "outputs": [
    {
     "data": {
      "text/latex": [
       "$P({Y}_{X^*})$"
      ],
      "text/plain": [
       "P(Y @ +X)"
      ]
     },
     "execution_count": 16,
     "metadata": {},
     "output_type": "execute_result"
    }
   ],
   "source": [
    "P({Y @ +x: y})"
   ]
  }
 ],
 "metadata": {
  "kernelspec": {
   "display_name": "Python 3 (ipykernel)",
   "language": "python",
   "name": "python3"
  },
  "language_info": {
   "codemirror_mode": {
    "name": "ipython",
    "version": 3
   },
   "file_extension": ".py",
   "mimetype": "text/x-python",
   "name": "python",
   "nbconvert_exporter": "python",
   "pygments_lexer": "ipython3",
   "version": "3.8.5"
  },
  "latex_envs": {
   "LaTeX_envs_menu_present": false,
   "autoclose": false,
   "autocomplete": false,
   "bibliofile": "biblio.bib",
   "cite_by": "apalike",
   "current_citInitial": 1,
   "eqLabelWithNumbers": true,
   "eqNumInitial": 1,
   "hotkeys": {
    "equation": "ctrl-q"
   },
   "labels_anchors": false,
   "latex_user_defs": false,
   "report_style_numbering": true,
   "user_envs_cfg": false
  },
  "toc": {
   "base_numbering": 1,
   "nav_menu": {},
   "number_sections": true,
   "sideBar": true,
   "skip_h1_title": false,
   "title_cell": "Table of Contents",
   "title_sidebar": "Contents",
   "toc_cell": true,
   "toc_position": {},
   "toc_section_display": true,
   "toc_window_display": true
  }
 },
 "nbformat": 4,
 "nbformat_minor": 4
}
