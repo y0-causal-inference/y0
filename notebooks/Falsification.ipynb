{
 "cells": [
  {
   "cell_type": "markdown",
   "id": "biological-species",
   "metadata": {},
   "source": [
    "### Resources:\n",
    "* [D-separation steps](http://web.mit.edu/jmn/www/6.034/d-separation.pdf)\n",
    "* [bnlearn datasets](https://www.bnlearn.com/bnrepository/)\n",
    "* [Daggity paper](https://academic.oup.com/ije/article/45/6/1887/2907796)\n",
    "\n",
    "### TODO:\n",
    "* Break into module, write proper unit tests\n",
    "* What about conditional independencies?  Currently only covers independencies.  \n",
    "   * Can I just enumerate tripples and check 'A,B given=[\"C\"]'?  \n",
    "   * Would then check combinations-pairs + combinations-givens \n",
    "   * Up to how many givens do you check?"
   ]
  },
  {
   "cell_type": "code",
   "execution_count": 1,
   "id": "hungarian-campbell",
   "metadata": {},
   "outputs": [],
   "source": [
    "import y0\n",
    "import networkx as nx\n",
    "import pandas as pd\n",
    "\n",
    "from collections import abc\n",
    "from itertools import combinations, chain\n",
    "%matplotlib inline"
   ]
  },
  {
   "cell_type": "code",
   "execution_count": 2,
   "id": "dangerous-education",
   "metadata": {},
   "outputs": [],
   "source": [
    "edges = [(\"A\",\"C\"), (\"B\",\"C\"), (\"C\",\"D\"), (\"C\",\"E\"), (\"D\",\"F\"), (\"F\",\"G\")]\n",
    "G = nx.DiGraph(edges)"
   ]
  },
  {
   "cell_type": "code",
   "execution_count": 3,
   "id": "neutral-shower",
   "metadata": {},
   "outputs": [
    {
     "data": {
      "image/png": "[encoded data removed]",
      "text/plain": [
       "<Figure size 432x288 with 1 Axes>"
      ]
     },
     "metadata": {},
     "output_type": "display_data"
    }
   ],
   "source": [
    "layout = {\"A\": (0,-1), \"B\": (2,-1), \"C\": (1,-2), \"D\": (0, -3), \"E\": (2, -3), \"F\":(1,-4), \"G\": (0,-5)}\n",
    "nx.draw_networkx(G, pos=layout)"
   ]
  },
  {
   "cell_type": "code",
   "execution_count": 4,
   "id": "cultural-judges",
   "metadata": {},
   "outputs": [],
   "source": [
    "def are_d_separated(G, a,b, *, given=[]):\n",
    "    \"\"\"Tests if nodes named by a & b are d-separated in G.\n",
    "    Given conditions can be provided with the optional 'given' parameter.\n",
    "    returns T/F and the final graph (as evidence)\n",
    "    \"\"\"\n",
    "    class Result:\n",
    "        def __init__(self, separated, G):\n",
    "            self.separated=separated\n",
    "            self.G=G\n",
    "        def __bool__(self): return self.separated\n",
    "        def __repr__(self): return f\"{repr(self.separated)}*\"\n",
    "        def __eq__(self, other): return self.separated == other\n",
    "    \n",
    "    named = set([a,b]).union(given)\n",
    "    \n",
    "    # Filter to ancestors\n",
    "    keep = set(chain(*(nx.ancestors(G, n) for n in named))).union(named)\n",
    "    G = nx.subgraph(G, keep).copy()\n",
    "\n",
    "    # Moralize (link parents of mentioned nodes)\n",
    "    in_edges = ([*G.in_edges(n)] for n in G)\n",
    "    parents = ([*zip(*edges)][0] for edges in in_edges\n",
    "                if len(edges)>0)\n",
    "    augments = [*chain(*[combinations(nodes, 2) for nodes in parents])]\n",
    "    G.add_edges_from(augments)\n",
    "    \n",
    "    # disorient & remove givens\n",
    "    G = G.to_undirected()\n",
    "    keep = set(G.nodes()) - set(given)\n",
    "    G = G.subgraph(keep)\n",
    "\n",
    "    # check for path....\n",
    "    separated = not nx.has_path(G, a, b)   #If no path, then d-separated!\n",
    "    \n",
    "    return Result(separated, G)"
   ]
  },
  {
   "cell_type": "code",
   "execution_count": 5,
   "id": "attached-schema",
   "metadata": {},
   "outputs": [
    {
     "data": {
      "text/plain": [
       "True"
      ]
     },
     "execution_count": 5,
     "metadata": {},
     "output_type": "execute_result"
    }
   ],
   "source": [
    "#TODO: Convert to unit tests...\n",
    "all([are_d_separated(G, \"A\", \"B\", given=[\"D\", \"F\"]) == False,\n",
    "     are_d_separated(G, \"A\", \"B\") == True,\n",
    "     are_d_separated(G, \"A\", \"B\", given=[\"C\"]) == False,\n",
    "     are_d_separated(G, \"D\", \"E\", given=[\"C\"]) == True,\n",
    "     are_d_separated(G, \"D\", \"E\") == False,\n",
    "     are_d_separated(G, \"D\", \"E\", given=[\"A\", \"B\"]) == False,\n",
    "     are_d_separated(G, \"G\", \"G\", given=[\"C\"]) == False])"
   ]
  },
  {
   "cell_type": "code",
   "execution_count": 6,
   "id": "engaging-colony",
   "metadata": {},
   "outputs": [],
   "source": [
    "def and_print(iterable, prefix=\"--\"):\n",
    "    it = iter(iterable)\n",
    "    while it:\n",
    "        try: v = next(it)\n",
    "        except: return\n",
    "        print(f\"{prefix} {v}\")\n",
    "        yield v\n",
    "def falsifications(G, df, threshold=.5, verbose=False):\n",
    "    class Evidence(abc.Sequence):\n",
    "        \"\"\"A list of variables pairs that failed the d_sepration+covariance test.\n",
    "        \n",
    "        Has an extra 'variances' property that is a dictionary of all tests performed\n",
    "        and the covariances observed between them.\n",
    "        \"\"\"\n",
    "        def __init__(self, failures, evidence):\n",
    "            self._failures = failures\n",
    "            self.evidence = evidence\n",
    "        \n",
    "        def __getitem__(self, i): return self._failures[i]\n",
    "        def __len__(self): return len(self._failures)\n",
    "        def __repr__(self): return repr(self._failures) + \"+evidence\"\n",
    "    \n",
    "    \n",
    "    if verbose: wrapper=and_print\n",
    "    else: wrapper=lambda v:v\n",
    "        \n",
    "    to_test = [(a,b) for a,b in combinations(G.nodes, 2)\n",
    "                if are_d_separated(G, a, b)]\n",
    "\n",
    "    variances = {(a,b): df[a].corr(df[b], method='pearson') \n",
    "                 for a,b in wrapper(to_test)}\n",
    "    #return variances\n",
    "    failures = [k for k, corr in variances.items()\n",
    "                if abs(corr) > threshold]\n",
    "    return Evidence(failures, variances)\n",
    "    \n",
    "\n",
    "issues = falsifications(G, pd.DataFrame(columns=G.nodes()))"
   ]
  },
  {
   "cell_type": "code",
   "execution_count": 7,
   "id": "protecting-stage",
   "metadata": {},
   "outputs": [
    {
     "data": {
      "image/png": "[encoded data removed]",
      "text/plain": [
       "<Figure size 432x288 with 1 Axes>"
      ]
     },
     "metadata": {},
     "output_type": "display_data"
    }
   ],
   "source": [
    "edges = [(\"Asia\", \"Tub\"), \n",
    "         (\"Smoke\", \"Lung\"), (\"Smoke\", \"Bronc\"),\n",
    "         (\"Tub\", \"Either\"),\n",
    "         (\"Lung\", \"Either\"),\n",
    "         (\"Either\", \"Xray\"), (\"Either\", \"Dysp\"),\n",
    "         (\"Bronc\", \"Dysp\")]\n",
    "layout = {\"Asia\": (0,0),\n",
    "          \"Smoke\": (3,0),\n",
    "          \"Tub\": (0, -1),\n",
    "          \"Lung\": (2, -1),\n",
    "          \"Either\": (1, -2),\n",
    "          \"Bronc\": (4, -2),\n",
    "          \"Xray\": (1, -3),\n",
    "          \"Dysp\": (4, -3)}\n",
    "asia_G = nx.DiGraph(edges)\n",
    "asia_df = pd.read_csv(\"asia.csv\", index_col=0)\\\n",
    "            .replace({\"yes\":1, \"no\":-1})\n",
    "nx.draw_networkx(asia_G, pos=layout)"
   ]
  },
  {
   "cell_type": "code",
   "execution_count": 8,
   "id": "olive-amateur",
   "metadata": {},
   "outputs": [
    {
     "data": {
      "text/plain": [
       "[]+evidence"
      ]
     },
     "execution_count": 8,
     "metadata": {},
     "output_type": "execute_result"
    }
   ],
   "source": [
    "#Should be no issues here...\n",
    "issues = falsifications(asia_G, asia_df)\n",
    "issues"
   ]
  },
  {
   "cell_type": "code",
   "execution_count": 9,
   "id": "capital-scholarship",
   "metadata": {},
   "outputs": [
    {
     "data": {
      "text/plain": [
       "[('Lung', 'Either'), ('Lung', 'Xray')]+evidence"
      ]
     },
     "execution_count": 9,
     "metadata": {},
     "output_type": "execute_result"
    }
   ],
   "source": [
    "# Should be issues (Lung, Either) AT LEAST.\n",
    "#.  Seeing issues (Lung, Xray) as well.  Is that all? \n",
    "# TODO: Check d-separations by hand...\n",
    "asia_G2 = asia_G.copy()\n",
    "asia_G2.remove_edge(\"Lung\", \"Either\")\n",
    "issues = falsifications(asia_G2, asia_df)\n",
    "issues"
   ]
  }
 ],
 "metadata": {
  "kernelspec": {
   "display_name": "Python 3",
   "language": "python",
   "name": "python3"
  },
  "language_info": {
   "codemirror_mode": {
    "name": "ipython",
    "version": 3
   },
   "file_extension": ".py",
   "mimetype": "text/x-python",
   "name": "python",
   "nbconvert_exporter": "python",
   "pygments_lexer": "ipython3",
   "version": "3.8.5"
  }
 },
 "nbformat": 4,
 "nbformat_minor": 5
}
