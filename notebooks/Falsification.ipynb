{
 "cells": [
  {
   "cell_type": "markdown",
   "id": "matched-residence",
   "metadata": {},
   "source": [
    "### Resources:\n",
    "* [D-separation steps](http://web.mit.edu/jmn/www/6.034/d-separation.pdf)\n",
    "* [bnlearn datasets](https://www.bnlearn.com/bnrepository/)\n",
    "* [Daggity paper](https://academic.oup.com/ije/article/45/6/1887/2907796)\n",
    "* [Milestone](https://gitlab.pnnl.gov/y0-scuc/y0-archive/-/milestones/4)\n",
    "* [pgmpy](https://github.com/pgmpy/pgmpy/blob/dev/examples/Creating%20a%20Discrete%20Bayesian%20Network.ipynb)  -- get_independencies\n",
    "\n",
    "### TODO:\n",
    "* Break into module, write proper unit tests\n",
    "* What about conditional independencies?  Currently only covers independencies.  \n",
    "   * Can I just enumerate tripples and check 'A,B given=[\"C\"]'?  \n",
    "   * Would then check combinations-pairs + combinations-givens \n",
    "   * Up to how many givens do you check?"
   ]
  },
  {
   "cell_type": "code",
   "execution_count": 1,
   "id": "contemporary-chemical",
   "metadata": {},
   "outputs": [],
   "source": [
    "import y0\n",
    "from y0.util import CITests\n",
    "import networkx as nx\n",
    "import pandas as pd\n",
    "\n",
    "from collections import abc\n",
    "from itertools import combinations, chain\n",
    "\n",
    "import seaborn as sns\n",
    "%matplotlib inline"
   ]
  },
  {
   "cell_type": "code",
   "execution_count": 2,
   "id": "weird-diamond",
   "metadata": {},
   "outputs": [],
   "source": [
    "edges = [(\"A\",\"C\"), (\"B\",\"C\"), (\"C\",\"D\"), (\"C\",\"E\"), (\"D\",\"F\"), (\"F\",\"G\")]\n",
    "G = nx.DiGraph(edges)"
   ]
  },
  {
   "cell_type": "code",
   "execution_count": 3,
   "id": "applicable-speech",
   "metadata": {},
   "outputs": [
    {
     "data": {
      "image/png": "[encoded data removed]",
      "text/plain": [
       "<Figure size 432x288 with 1 Axes>"
      ]
     },
     "metadata": {},
     "output_type": "display_data"
    }
   ],
   "source": [
    "layout = {\"A\": (0,-1), \"B\": (2,-1), \"C\": (1,-2), \"D\": (0, -3), \"E\": (2, -3), \"F\":(1,-4), \"G\": (0,-5)}\n",
    "nx.draw_networkx(G, pos=layout)"
   ]
  },
  {
   "cell_type": "code",
   "execution_count": 4,
   "id": "postal-plastic",
   "metadata": {},
   "outputs": [],
   "source": [
    "def are_d_separated(G, a,b, *, given=[]):\n",
    "    \"\"\"Tests if nodes named by a & b are d-separated in G.\n",
    "    Given conditions can be provided with the optional 'given' parameter.\n",
    "    returns T/F and the final graph (as evidence)\n",
    "    \"\"\"\n",
    "    class Result:\n",
    "        \"\"\"By default, acts like a boolean, but also caries evidence graph.\"\"\"\n",
    "        def __init__(self, separated, a,b, given, evidence):\n",
    "            \"\"\"separated -- T/F judgement\n",
    "               a/b/given -- The question asked\n",
    "               evidence -- The end graph\n",
    "            \"\"\"\n",
    "            self.separated=separated\n",
    "            self.a = a\n",
    "            self.b = b\n",
    "            self.given = given\n",
    "            self.evidence=evidence\n",
    "        def __bool__(self): return self.separated\n",
    "        def __repr__(self): return f\"{repr(self.separated)} ('{a}' d-sep '{b}' given {given})\"\n",
    "        def __eq__(self, other): return self.separated == other\n",
    "    \n",
    "    named = set([a,b]).union(given)\n",
    "    \n",
    "    # Filter to ancestors\n",
    "    keep = set(chain(*(nx.ancestors(G, n) for n in named))).union(named)\n",
    "    G = nx.subgraph(G, keep).copy()\n",
    "\n",
    "    # Moralize (link parents of mentioned nodes)\n",
    "    in_edges = ([*G.in_edges(n)] for n in G)\n",
    "    parents = ([*zip(*edges)][0] for edges in in_edges\n",
    "                if len(edges)>0)\n",
    "    augments = [*chain(*[combinations(nodes, 2) for nodes in parents])]\n",
    "    G.add_edges_from(augments)\n",
    "    \n",
    "    # disorient & remove givens\n",
    "    G = G.to_undirected()\n",
    "    keep = set(G.nodes()) - set(given)\n",
    "    G = G.subgraph(keep)\n",
    "\n",
    "    # check for path....\n",
    "    separated = not nx.has_path(G, a, b)   #If no path, then d-separated!\n",
    "    \n",
    "    return Result(separated, a, b, given, G)"
   ]
  },
  {
   "cell_type": "code",
   "execution_count": 5,
   "id": "muslim-consultation",
   "metadata": {},
   "outputs": [
    {
     "data": {
      "text/plain": [
       "True"
      ]
     },
     "execution_count": 5,
     "metadata": {},
     "output_type": "execute_result"
    }
   ],
   "source": [
    "#TODO: Convert to unit tests...\n",
    "all([are_d_separated(G, \"A\", \"B\", given=[\"D\", \"F\"]) == False,\n",
    "     are_d_separated(G, \"A\", \"B\") == True,\n",
    "     are_d_separated(G, \"A\", \"B\", given=[\"C\"]) == False,\n",
    "     are_d_separated(G, \"D\", \"E\", given=[\"C\"]) == True,\n",
    "     are_d_separated(G, \"D\", \"E\") == False,\n",
    "     are_d_separated(G, \"D\", \"E\", given=[\"A\", \"B\"]) == False,\n",
    "     are_d_separated(G, \"G\", \"G\", given=[\"C\"]) == False])"
   ]
  },
  {
   "cell_type": "code",
   "execution_count": 6,
   "id": "cutting-publisher",
   "metadata": {},
   "outputs": [
    {
     "data": {
      "text/plain": [
       "False ('A' d-sep 'B' given ['D', 'F'])"
      ]
     },
     "execution_count": 6,
     "metadata": {},
     "output_type": "execute_result"
    }
   ],
   "source": [
    "rslt = are_d_separated(G, \"A\", \"B\", given=[\"D\", \"F\"])\n",
    "rslt"
   ]
  },
  {
   "cell_type": "code",
   "execution_count": 7,
   "id": "photographic-mustang",
   "metadata": {},
   "outputs": [
    {
     "data": {
      "image/png": "[encoded data removed]",
      "text/plain": [
       "<Figure size 432x288 with 1 Axes>"
      ]
     },
     "metadata": {},
     "output_type": "display_data"
    }
   ],
   "source": [
    "nx.draw_networkx(rslt.evidence)"
   ]
  },
  {
   "cell_type": "code",
   "execution_count": 8,
   "id": "coated-clark",
   "metadata": {},
   "outputs": [],
   "source": [
    "def and_print(iterable, prefix=\"--\"):\n",
    "    it = iter(iterable)\n",
    "    while it:\n",
    "        try: v = next(it)\n",
    "        except: return\n",
    "        print(f\"{prefix} {v}\")\n",
    "        yield v\n",
    "\n",
    "        \n",
    "def all_combinations(source, min=0, max=None):\n",
    "    \"\"\"Get successively longer combinations of the source.\n",
    "    source -- List to get combinations from\n",
    "    min -- smallest combination to get (default 0)\n",
    "    max -- Largest combination to get (None means length of the list and is the default)\n",
    "    \"\"\"\n",
    "    max = len(source) if max is None else max\n",
    "    return [*chain(*(combinations(source, l) for l in range(min, max+1)))]\n",
    "        \n",
    "\n",
    "def falsifications(G, df, significance_level=.05, verbose=False, max_given=None):\n",
    "    class Evidence(abc.Sequence):\n",
    "        \"\"\"A list of variables pairs that failed the d_sepration+covariance test.\n",
    "        \n",
    "        Has an extra 'evidence' property that is a dictionary.\n",
    "          * Keys are the d-separated variable pairs\n",
    "          * Values are the covariances measured between them.\n",
    "          \n",
    "        verbose -- print each combination as its checked\n",
    "        max_given -- Longest list of 'given' variables to check\n",
    "        \"\"\"\n",
    "        def __init__(self, failures, evidence):\n",
    "            self._failures = failures\n",
    "            self.evidence = evidence\n",
    "        \n",
    "        def __getitem__(self, i): return self._failures[i]\n",
    "        def __len__(self): return len(self._failures)\n",
    "        def __repr__(self): return repr(self._failures) + \"+evidence\"\n",
    "    \n",
    "    \n",
    "    if verbose: wrapper=and_print\n",
    "    else: wrapper=lambda v:v\n",
    "        \n",
    "    all_nodes = set(G.nodes)\n",
    "    all_pairs = combinations(G.nodes, 2)\n",
    "    to_test = [(a,b,given) for a,b in all_pairs\n",
    "                  for given in all_combinations(all_nodes-{a,b}, max=max_given)\n",
    "                if are_d_separated(G, a, b, given=given)]\n",
    "    \n",
    "    variances = {(a,b, given): CITests.cressie_read(a, b, given, df, boolean=False) \n",
    "                 for a, b, given in wrapper(to_test)}\n",
    "    \n",
    "    #TODO: Multiple-comparisons correction\n",
    "    evidence = pd.DataFrame([(a, b, given, chi, p, dof) for (a, b, given), (chi, dof, p) in variances.items()],\n",
    "                             columns=[\"A\", \"B\", \"Given\", \"chi^2\", \"p-value\", \"dof\"])\\\n",
    "                    .pipe(lambda df: df.assign(flagged =(df[\"p-value\"] < significance_level)))\\\n",
    "                    .sort_values([\"flagged\", \"dof\"], ascending=False)\n",
    "    \n",
    "    failures = evidence[evidence[\"flagged\"]][[\"A\", \"B\", \"Given\"]].apply(tuple, axis=\"columns\")\n",
    "    return Evidence(failures, evidence)\n",
    "    \n"
   ]
  },
  {
   "cell_type": "code",
   "execution_count": 9,
   "id": "central-bicycle",
   "metadata": {},
   "outputs": [
    {
     "data": {
      "image/png": "[encoded data removed]",
      "text/plain": [
       "<Figure size 432x288 with 1 Axes>"
      ]
     },
     "metadata": {},
     "output_type": "display_data"
    }
   ],
   "source": [
    "edges = [(\"Asia\", \"Tub\"), \n",
    "         (\"Smoke\", \"Lung\"), (\"Smoke\", \"Bronc\"),\n",
    "         (\"Tub\", \"Either\"),\n",
    "         (\"Lung\", \"Either\"),\n",
    "         (\"Either\", \"Xray\"), (\"Either\", \"Dysp\"),\n",
    "         (\"Bronc\", \"Dysp\")]\n",
    "layout = {\"Asia\": (0,0),\n",
    "          \"Smoke\": (3,0),\n",
    "          \"Tub\": (0, -1),\n",
    "          \"Lung\": (2, -1),\n",
    "          \"Either\": (1, -2),\n",
    "          \"Bronc\": (4, -2),\n",
    "          \"Xray\": (1, -3),\n",
    "          \"Dysp\": (4, -3)}\n",
    "asia_G = nx.DiGraph(edges)\n",
    "asia_df = pd.read_csv(\"asia.csv\", index_col=0)\\\n",
    "            .replace({\"yes\":1, \"no\":-1})\n",
    "nx.draw_networkx(asia_G, pos=layout)"
   ]
  },
  {
   "cell_type": "code",
   "execution_count": 10,
   "id": "plain-cotton",
   "metadata": {},
   "outputs": [],
   "source": [
    "#Should be no issues here...\n",
    "issues = falsifications(asia_G, asia_df, max_given=2)"
   ]
  },
  {
   "cell_type": "code",
   "execution_count": 11,
   "id": "decent-lesbian",
   "metadata": {},
   "outputs": [
    {
     "data": {
      "text/plain": [
       "21          (Asia, Lung, (Tub, Xray))\n",
       "118      (Lung, Bronc, (Smoke, Asia))\n",
       "41        (Asia, Either, (Tub, Xray))\n",
       "79             (Tub, Bronc, (Smoke,))\n",
       "82      (Tub, Bronc, (Either, Smoke))\n",
       "86        (Tub, Bronc, (Smoke, Xray))\n",
       "116    (Lung, Bronc, (Either, Smoke))\n",
       "132    (Bronc, Either, (Smoke, Lung))\n",
       "93        (Tub, Xray, (Either, Lung))\n",
       "dtype: object+evidence"
      ]
     },
     "execution_count": 11,
     "metadata": {},
     "output_type": "execute_result"
    }
   ],
   "source": [
    "issues"
   ]
  },
  {
   "cell_type": "code",
   "execution_count": 12,
   "id": "bright-partnership",
   "metadata": {},
   "outputs": [
    {
     "data": {
      "text/plain": [
       "(5000, 8)"
      ]
     },
     "execution_count": 12,
     "metadata": {},
     "output_type": "execute_result"
    }
   ],
   "source": [
    "asia_df.shape"
   ]
  },
  {
   "cell_type": "code",
   "execution_count": 13,
   "id": "israeli-lodge",
   "metadata": {},
   "outputs": [
    {
     "data": {
      "text/html": [
       "<div>\n",
       "<style scoped>\n",
       "    .dataframe tbody tr th:only-of-type {\n",
       "        vertical-align: middle;\n",
       "    }\n",
       "\n",
       "    .dataframe tbody tr th {\n",
       "        vertical-align: top;\n",
       "    }\n",
       "\n",
       "    .dataframe thead th {\n",
       "        text-align: right;\n",
       "    }\n",
       "</style>\n",
       "<table border=\"1\" class=\"dataframe\">\n",
       "  <thead>\n",
       "    <tr style=\"text-align: right;\">\n",
       "      <th></th>\n",
       "      <th>A</th>\n",
       "      <th>B</th>\n",
       "      <th>Given</th>\n",
       "      <th>chi^2</th>\n",
       "      <th>p-value</th>\n",
       "      <th>dof</th>\n",
       "      <th>flagged</th>\n",
       "    </tr>\n",
       "  </thead>\n",
       "  <tbody>\n",
       "    <tr>\n",
       "      <th>21</th>\n",
       "      <td>Asia</td>\n",
       "      <td>Lung</td>\n",
       "      <td>(Tub, Xray)</td>\n",
       "      <td>8.428397</td>\n",
       "      <td>0.037940</td>\n",
       "      <td>3</td>\n",
       "      <td>True</td>\n",
       "    </tr>\n",
       "    <tr>\n",
       "      <th>118</th>\n",
       "      <td>Lung</td>\n",
       "      <td>Bronc</td>\n",
       "      <td>(Smoke, Asia)</td>\n",
       "      <td>8.043061</td>\n",
       "      <td>0.045130</td>\n",
       "      <td>3</td>\n",
       "      <td>True</td>\n",
       "    </tr>\n",
       "    <tr>\n",
       "      <th>41</th>\n",
       "      <td>Asia</td>\n",
       "      <td>Either</td>\n",
       "      <td>(Tub, Xray)</td>\n",
       "      <td>7.857395</td>\n",
       "      <td>0.019669</td>\n",
       "      <td>2</td>\n",
       "      <td>True</td>\n",
       "    </tr>\n",
       "    <tr>\n",
       "      <th>79</th>\n",
       "      <td>Tub</td>\n",
       "      <td>Bronc</td>\n",
       "      <td>(Smoke,)</td>\n",
       "      <td>7.359856</td>\n",
       "      <td>0.025225</td>\n",
       "      <td>2</td>\n",
       "      <td>True</td>\n",
       "    </tr>\n",
       "    <tr>\n",
       "      <th>82</th>\n",
       "      <td>Tub</td>\n",
       "      <td>Bronc</td>\n",
       "      <td>(Either, Smoke)</td>\n",
       "      <td>9.686306</td>\n",
       "      <td>0.007882</td>\n",
       "      <td>2</td>\n",
       "      <td>True</td>\n",
       "    </tr>\n",
       "    <tr>\n",
       "      <th>...</th>\n",
       "      <td>...</td>\n",
       "      <td>...</td>\n",
       "      <td>...</td>\n",
       "      <td>...</td>\n",
       "      <td>...</td>\n",
       "      <td>...</td>\n",
       "      <td>...</td>\n",
       "    </tr>\n",
       "    <tr>\n",
       "      <th>136</th>\n",
       "      <td>Bronc</td>\n",
       "      <td>Either</td>\n",
       "      <td>(Lung, Xray)</td>\n",
       "      <td>0.706064</td>\n",
       "      <td>0.400754</td>\n",
       "      <td>1</td>\n",
       "      <td>False</td>\n",
       "    </tr>\n",
       "    <tr>\n",
       "      <th>39</th>\n",
       "      <td>Asia</td>\n",
       "      <td>Either</td>\n",
       "      <td>(Tub, Lung)</td>\n",
       "      <td>0.000000</td>\n",
       "      <td>NaN</td>\n",
       "      <td>0</td>\n",
       "      <td>False</td>\n",
       "    </tr>\n",
       "    <tr>\n",
       "      <th>99</th>\n",
       "      <td>Smoke</td>\n",
       "      <td>Either</td>\n",
       "      <td>(Tub, Lung)</td>\n",
       "      <td>0.000000</td>\n",
       "      <td>NaN</td>\n",
       "      <td>0</td>\n",
       "      <td>False</td>\n",
       "    </tr>\n",
       "    <tr>\n",
       "      <th>123</th>\n",
       "      <td>Lung</td>\n",
       "      <td>Xray</td>\n",
       "      <td>(Either, Tub)</td>\n",
       "      <td>0.000000</td>\n",
       "      <td>NaN</td>\n",
       "      <td>0</td>\n",
       "      <td>False</td>\n",
       "    </tr>\n",
       "    <tr>\n",
       "      <th>134</th>\n",
       "      <td>Bronc</td>\n",
       "      <td>Either</td>\n",
       "      <td>(Tub, Lung)</td>\n",
       "      <td>0.000000</td>\n",
       "      <td>NaN</td>\n",
       "      <td>0</td>\n",
       "      <td>False</td>\n",
       "    </tr>\n",
       "  </tbody>\n",
       "</table>\n",
       "<p>156 rows × 7 columns</p>\n",
       "</div>"
      ],
      "text/plain": [
       "         A       B            Given     chi^2   p-value  dof  flagged\n",
       "21    Asia    Lung      (Tub, Xray)  8.428397  0.037940    3     True\n",
       "118   Lung   Bronc    (Smoke, Asia)  8.043061  0.045130    3     True\n",
       "41    Asia  Either      (Tub, Xray)  7.857395  0.019669    2     True\n",
       "79     Tub   Bronc         (Smoke,)  7.359856  0.025225    2     True\n",
       "82     Tub   Bronc  (Either, Smoke)  9.686306  0.007882    2     True\n",
       "..     ...     ...              ...       ...       ...  ...      ...\n",
       "136  Bronc  Either     (Lung, Xray)  0.706064  0.400754    1    False\n",
       "39    Asia  Either      (Tub, Lung)  0.000000       NaN    0    False\n",
       "99   Smoke  Either      (Tub, Lung)  0.000000       NaN    0    False\n",
       "123   Lung    Xray    (Either, Tub)  0.000000       NaN    0    False\n",
       "134  Bronc  Either      (Tub, Lung)  0.000000       NaN    0    False\n",
       "\n",
       "[156 rows x 7 columns]"
      ]
     },
     "execution_count": 13,
     "metadata": {},
     "output_type": "execute_result"
    }
   ],
   "source": [
    "issues.evidence"
   ]
  },
  {
   "cell_type": "code",
   "execution_count": 14,
   "id": "arranged-oxygen",
   "metadata": {},
   "outputs": [
    {
     "data": {
      "text/plain": [
       "115        (Tub, Lung, (Dysp, Bronc))\n",
       "157    (Smoke, Either, (Dysp, Bronc))\n",
       "163    (Smoke, Either, (Asia, Bronc))\n",
       "179      (Smoke, Xray, (Dysp, Bronc))\n",
       "184      (Smoke, Xray, (Asia, Bronc))\n",
       "                    ...              \n",
       "219              (Lung, Xray, (Tub,))\n",
       "246               (Bronc, Either, ())\n",
       "248           (Bronc, Either, (Tub,))\n",
       "262                 (Bronc, Xray, ())\n",
       "265             (Bronc, Xray, (Tub,))\n",
       "Length: 106, dtype: object+evidence"
      ]
     },
     "execution_count": 14,
     "metadata": {},
     "output_type": "execute_result"
    }
   ],
   "source": [
    "# Should be issues (Lung, Either) AT LEAST.\n",
    "#.  Seeing issues (Lung, Xray) as well.  Is that all? \n",
    "# TODO: Check d-separations by hand...\n",
    "asia_G2 = asia_G.copy()\n",
    "asia_G2.remove_edge(\"Lung\", \"Either\")\n",
    "issues = falsifications(asia_G2, asia_df, max_given=2)\n",
    "issues"
   ]
  },
  {
   "cell_type": "code",
   "execution_count": null,
   "id": "electrical-identity",
   "metadata": {},
   "outputs": [],
   "source": []
  }
 ],
 "metadata": {
  "kernelspec": {
   "display_name": "Python 3",
   "language": "python",
   "name": "python3"
  },
  "language_info": {
   "codemirror_mode": {
    "name": "ipython",
    "version": 3
   },
   "file_extension": ".py",
   "mimetype": "text/x-python",
   "name": "python",
   "nbconvert_exporter": "python",
   "pygments_lexer": "ipython3",
   "version": "3.8.5"
  }
 },
 "nbformat": 4,
 "nbformat_minor": 5
}
