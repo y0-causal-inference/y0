{
 "cells": [
  {
   "cell_type": "markdown",
   "id": "remarkable-principal",
   "metadata": {},
   "source": [
    "### Resources:\n",
    "* [D-separation steps](http://web.mit.edu/jmn/www/6.034/d-separation.pdf)\n",
    "* [bnlearn datasets](https://www.bnlearn.com/bnrepository/)\n",
    "* [Daggity paper](https://academic.oup.com/ije/article/45/6/1887/2907796)\n",
    "* [Milestone](https://gitlab.pnnl.gov/y0-scuc/y0-archive/-/milestones/4)\n",
    "* [pgmpy](https://github.com/pgmpy/pgmpy/blob/dev/examples/Creating%20a%20Discrete%20Bayesian%20Network.ipynb)  -- get_independencies\n",
    "\n",
    "### TODO:\n",
    "* Break into module, write proper unit tests\n",
    "* What about conditional independencies?  Currently only covers independencies.  \n",
    "   * Can I just enumerate tripples and check 'A,B given=[\"C\"]'?  \n",
    "   * Would then check combinations-pairs + combinations-givens \n",
    "   * Up to how many givens do you check?"
   ]
  },
  {
   "cell_type": "code",
   "execution_count": 1,
   "id": "close-winter",
   "metadata": {},
   "outputs": [],
   "source": [
    "import copy\n",
    "\n",
    "import y0.examples\n",
    "from y0.algorithm import falsification\n",
    "from y0.dsl import Variable\n",
    "\n",
    "%matplotlib inline"
   ]
  },
  {
   "cell_type": "code",
   "execution_count": 2,
   "id": "printable-jordan",
   "metadata": {},
   "outputs": [],
   "source": [
    "asia_g = y0.examples.asia_example.graph\n",
    "asia_df = y0.examples.asia_example.data\n",
    "\n",
    "asia_g.draw()"
   ]
  },
  {
   "cell_type": "code",
   "execution_count": 3,
   "id": "d926923d-920a-47d8-9fc3-16b0496f0aa0",
   "metadata": {},
   "outputs": [],
   "source": [
    "asia_df"
   ]
  },
  {
   "cell_type": "code",
   "execution_count": 4,
   "id": "directed-tennessee",
   "metadata": {},
   "outputs": [],
   "source": "issues = falsification.get_graph_falsifications(asia_g, asia_df, max_given=2, verbose=True)"
  },
  {
   "cell_type": "code",
   "execution_count": 5,
   "id": "ranging-explosion",
   "metadata": {},
   "outputs": [],
   "source": [
    "issues.evidence"
   ]
  },
  {
   "cell_type": "code",
   "execution_count": 6,
   "id": "d5768847-fc5c-4142-adb4-d78fdee4a88d",
   "metadata": {},
   "outputs": [],
   "source": [
    "# Should be issues (Lung, Either) AT LEAST.\n",
    "# .  Seeing issues (Lung, Xray) as well.  Is that all?\n",
    "# TODO: Check d-separations by hand...\n",
    "asia_g2 = copy.deepcopy(asia_g)\n",
    "asia_g2.draw()"
   ]
  },
  {
   "cell_type": "code",
   "execution_count": 7,
   "id": "ce89dbac",
   "metadata": {},
   "outputs": [],
   "source": [
    "asia_g2.directed.remove_edge(\n",
    "    Variable(\"Lung\"), Variable(\"Either\")\n",
    ")  # delete_diedge(\"Lung\", \"Either\")\n",
    "issues = falsification.get_graph_falsifications(asia_g2, asia_df)"
   ]
  },
  {
   "cell_type": "code",
   "execution_count": 8,
   "id": "5694f40c-b283-4d9f-8adc-4b6a672960e4",
   "metadata": {},
   "outputs": [],
   "source": [
    "issues.failures"
   ]
  },
  {
   "cell_type": "code",
   "execution_count": 9,
   "id": "removed-finish",
   "metadata": {},
   "outputs": [],
   "source": [
    "issues.evidence"
   ]
  }
 ],
 "metadata": {
  "kernelspec": {
   "display_name": "Python 3 (ipykernel)",
   "language": "python",
   "name": "python3"
  },
  "language_info": {
   "codemirror_mode": {
    "name": "ipython",
    "version": 3
   },
   "file_extension": ".py",
   "mimetype": "text/x-python",
   "name": "python",
   "nbconvert_exporter": "python",
   "pygments_lexer": "ipython3",
   "version": "3.12.4"
  }
 },
 "nbformat": 4,
 "nbformat_minor": 5
}
