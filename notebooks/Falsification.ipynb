{
 "cells": [
  {
   "cell_type": "markdown",
   "id": "enabling-elevation",
   "metadata": {},
   "source": [
    "### Resources:\n",
    "* [D-separation steps](http://web.mit.edu/jmn/www/6.034/d-separation.pdf)\n",
    "* [bnlearn datasets](https://www.bnlearn.com/bnrepository/)\n",
    "* [Daggity paper](https://academic.oup.com/ije/article/45/6/1887/2907796)\n",
    "* [Milestone](https://gitlab.pnnl.gov/y0-scuc/y0-archive/-/milestones/4)\n",
    "* [pgmpy](https://github.com/pgmpy/pgmpy/blob/dev/examples/Creating%20a%20Discrete%20Bayesian%20Network.ipynb)  -- get_independencies\n",
    "\n",
    "### TODO:\n",
    "* Break into module, write proper unit tests\n",
    "* What about conditional independencies?  Currently only covers independencies.  \n",
    "   * Can I just enumerate tripples and check 'A,B given=[\"C\"]'?  \n",
    "   * Would then check combinations-pairs + combinations-givens \n",
    "   * Up to how many givens do you check?"
   ]
  },
  {
   "cell_type": "code",
   "execution_count": 1,
   "id": "naked-reception",
   "metadata": {},
   "outputs": [],
   "source": [
    "from y0.algorithm import falsification\n",
    "import networkx as nx\n",
    "import pandas as pd\n",
    "\n",
    "import seaborn as sns\n",
    "%matplotlib inline"
   ]
  },
  {
   "cell_type": "code",
   "execution_count": 2,
   "id": "announced-plain",
   "metadata": {},
   "outputs": [
    {
     "data": {
      "image/png": "[encoded data removed]",
      "text/plain": [
       "<Figure size 432x288 with 1 Axes>"
      ]
     },
     "metadata": {},
     "output_type": "display_data"
    }
   ],
   "source": [
    "edges = [(\"Asia\", \"Tub\"), \n",
    "         (\"Smoke\", \"Lung\"), (\"Smoke\", \"Bronc\"),\n",
    "         (\"Tub\", \"Either\"),\n",
    "         (\"Lung\", \"Either\"),\n",
    "         (\"Either\", \"Xray\"), (\"Either\", \"Dysp\"),\n",
    "         (\"Bronc\", \"Dysp\")]\n",
    "layout = {\"Asia\": (0,0),\n",
    "          \"Smoke\": (3,0),\n",
    "          \"Tub\": (0, -1),\n",
    "          \"Lung\": (2, -1),\n",
    "          \"Either\": (1, -2),\n",
    "          \"Bronc\": (4, -2),\n",
    "          \"Xray\": (1, -3),\n",
    "          \"Dysp\": (4, -3)}\n",
    "asia_G = nx.DiGraph(edges)\n",
    "asia_df = pd.read_csv(\"asia.csv\", index_col=0)\\\n",
    "            .replace({\"yes\":1, \"no\":-1})\n",
    "nx.draw_networkx(asia_G, pos=layout)"
   ]
  },
  {
   "cell_type": "code",
   "execution_count": 3,
   "id": "pediatric-bolivia",
   "metadata": {},
   "outputs": [
    {
     "name": "stderr",
     "output_type": "stream",
     "text": [
      "Checking d-separation: 28it [00:00, 112.83it/s]\n",
      "Checking conditionals: 100%|██████████| 156/156 [00:01<00:00, 100.75it/s]\n"
     ]
    }
   ],
   "source": [
    "#Should be no issues here...\n",
    "issues = falsification.falsifications(asia_G, asia_df, max_given=2, verbose=True)"
   ]
  },
  {
   "cell_type": "code",
   "execution_count": 4,
   "id": "laden-starter",
   "metadata": {},
   "outputs": [
    {
     "data": {
      "text/plain": [
       "21          (Asia, Lung, (Xray, Tub))\n",
       "119      (Lung, Bronc, (Smoke, Asia))\n",
       "40        (Asia, Either, (Xray, Tub))\n",
       "79             (Tub, Bronc, (Smoke,))\n",
       "82      (Tub, Bronc, (Smoke, Either))\n",
       "83        (Tub, Bronc, (Smoke, Xray))\n",
       "116    (Lung, Bronc, (Smoke, Either))\n",
       "133    (Bronc, Either, (Smoke, Lung))\n",
       "94        (Tub, Xray, (Either, Lung))\n",
       "dtype: object+evidence"
      ]
     },
     "execution_count": 4,
     "metadata": {},
     "output_type": "execute_result"
    }
   ],
   "source": [
    "issues"
   ]
  },
  {
   "cell_type": "code",
   "execution_count": 5,
   "id": "indie-farmer",
   "metadata": {},
   "outputs": [
    {
     "data": {
      "text/html": [
       "<div>\n",
       "<style scoped>\n",
       "    .dataframe tbody tr th:only-of-type {\n",
       "        vertical-align: middle;\n",
       "    }\n",
       "\n",
       "    .dataframe tbody tr th {\n",
       "        vertical-align: top;\n",
       "    }\n",
       "\n",
       "    .dataframe thead th {\n",
       "        text-align: right;\n",
       "    }\n",
       "</style>\n",
       "<table border=\"1\" class=\"dataframe\">\n",
       "  <thead>\n",
       "    <tr style=\"text-align: right;\">\n",
       "      <th></th>\n",
       "      <th>A</th>\n",
       "      <th>B</th>\n",
       "      <th>Given</th>\n",
       "      <th>chi^2</th>\n",
       "      <th>p-value</th>\n",
       "      <th>dof</th>\n",
       "      <th>flagged</th>\n",
       "    </tr>\n",
       "  </thead>\n",
       "  <tbody>\n",
       "    <tr>\n",
       "      <th>21</th>\n",
       "      <td>Asia</td>\n",
       "      <td>Lung</td>\n",
       "      <td>(Xray, Tub)</td>\n",
       "      <td>8.428397</td>\n",
       "      <td>0.037940</td>\n",
       "      <td>3</td>\n",
       "      <td>True</td>\n",
       "    </tr>\n",
       "    <tr>\n",
       "      <th>119</th>\n",
       "      <td>Lung</td>\n",
       "      <td>Bronc</td>\n",
       "      <td>(Smoke, Asia)</td>\n",
       "      <td>8.043061</td>\n",
       "      <td>0.045130</td>\n",
       "      <td>3</td>\n",
       "      <td>True</td>\n",
       "    </tr>\n",
       "    <tr>\n",
       "      <th>40</th>\n",
       "      <td>Asia</td>\n",
       "      <td>Either</td>\n",
       "      <td>(Xray, Tub)</td>\n",
       "      <td>7.857395</td>\n",
       "      <td>0.019669</td>\n",
       "      <td>2</td>\n",
       "      <td>True</td>\n",
       "    </tr>\n",
       "    <tr>\n",
       "      <th>79</th>\n",
       "      <td>Tub</td>\n",
       "      <td>Bronc</td>\n",
       "      <td>(Smoke,)</td>\n",
       "      <td>7.359856</td>\n",
       "      <td>0.025225</td>\n",
       "      <td>2</td>\n",
       "      <td>True</td>\n",
       "    </tr>\n",
       "    <tr>\n",
       "      <th>82</th>\n",
       "      <td>Tub</td>\n",
       "      <td>Bronc</td>\n",
       "      <td>(Smoke, Either)</td>\n",
       "      <td>9.686306</td>\n",
       "      <td>0.007882</td>\n",
       "      <td>2</td>\n",
       "      <td>True</td>\n",
       "    </tr>\n",
       "    <tr>\n",
       "      <th>...</th>\n",
       "      <td>...</td>\n",
       "      <td>...</td>\n",
       "      <td>...</td>\n",
       "      <td>...</td>\n",
       "      <td>...</td>\n",
       "      <td>...</td>\n",
       "      <td>...</td>\n",
       "    </tr>\n",
       "    <tr>\n",
       "      <th>134</th>\n",
       "      <td>Bronc</td>\n",
       "      <td>Either</td>\n",
       "      <td>(Xray, Lung)</td>\n",
       "      <td>0.706064</td>\n",
       "      <td>0.400754</td>\n",
       "      <td>1</td>\n",
       "      <td>False</td>\n",
       "    </tr>\n",
       "    <tr>\n",
       "      <th>41</th>\n",
       "      <td>Asia</td>\n",
       "      <td>Either</td>\n",
       "      <td>(Tub, Lung)</td>\n",
       "      <td>0.000000</td>\n",
       "      <td>NaN</td>\n",
       "      <td>0</td>\n",
       "      <td>False</td>\n",
       "    </tr>\n",
       "    <tr>\n",
       "      <th>101</th>\n",
       "      <td>Smoke</td>\n",
       "      <td>Either</td>\n",
       "      <td>(Tub, Lung)</td>\n",
       "      <td>0.000000</td>\n",
       "      <td>NaN</td>\n",
       "      <td>0</td>\n",
       "      <td>False</td>\n",
       "    </tr>\n",
       "    <tr>\n",
       "      <th>124</th>\n",
       "      <td>Lung</td>\n",
       "      <td>Xray</td>\n",
       "      <td>(Either, Tub)</td>\n",
       "      <td>0.000000</td>\n",
       "      <td>NaN</td>\n",
       "      <td>0</td>\n",
       "      <td>False</td>\n",
       "    </tr>\n",
       "    <tr>\n",
       "      <th>135</th>\n",
       "      <td>Bronc</td>\n",
       "      <td>Either</td>\n",
       "      <td>(Tub, Lung)</td>\n",
       "      <td>0.000000</td>\n",
       "      <td>NaN</td>\n",
       "      <td>0</td>\n",
       "      <td>False</td>\n",
       "    </tr>\n",
       "  </tbody>\n",
       "</table>\n",
       "<p>156 rows × 7 columns</p>\n",
       "</div>"
      ],
      "text/plain": [
       "         A       B            Given     chi^2   p-value  dof  flagged\n",
       "21    Asia    Lung      (Xray, Tub)  8.428397  0.037940    3     True\n",
       "119   Lung   Bronc    (Smoke, Asia)  8.043061  0.045130    3     True\n",
       "40    Asia  Either      (Xray, Tub)  7.857395  0.019669    2     True\n",
       "79     Tub   Bronc         (Smoke,)  7.359856  0.025225    2     True\n",
       "82     Tub   Bronc  (Smoke, Either)  9.686306  0.007882    2     True\n",
       "..     ...     ...              ...       ...       ...  ...      ...\n",
       "134  Bronc  Either     (Xray, Lung)  0.706064  0.400754    1    False\n",
       "41    Asia  Either      (Tub, Lung)  0.000000       NaN    0    False\n",
       "101  Smoke  Either      (Tub, Lung)  0.000000       NaN    0    False\n",
       "124   Lung    Xray    (Either, Tub)  0.000000       NaN    0    False\n",
       "135  Bronc  Either      (Tub, Lung)  0.000000       NaN    0    False\n",
       "\n",
       "[156 rows x 7 columns]"
      ]
     },
     "execution_count": 5,
     "metadata": {},
     "output_type": "execute_result"
    }
   ],
   "source": [
    "issues.evidence"
   ]
  },
  {
   "cell_type": "code",
   "execution_count": 6,
   "id": "optical-generation",
   "metadata": {},
   "outputs": [
    {
     "data": {
      "text/plain": [
       "6     (Smoke, Either, ())\n",
       "7       (Smoke, Xray, ())\n",
       "8      (Lung, Either, ())\n",
       "9        (Lung, Xray, ())\n",
       "10    (Bronc, Either, ())\n",
       "11      (Bronc, Xray, ())\n",
       "dtype: object+evidence"
      ]
     },
     "execution_count": 6,
     "metadata": {},
     "output_type": "execute_result"
    }
   ],
   "source": [
    "# Should be issues (Lung, Either) AT LEAST.\n",
    "#.  Seeing issues (Lung, Xray) as well.  Is that all? \n",
    "# TODO: Check d-separations by hand...\n",
    "asia_G2 = asia_G.copy()\n",
    "asia_G2.remove_edge(\"Lung\", \"Either\")\n",
    "issues = falsification.falsifications(asia_G2, asia_df, max_given=0)\n",
    "issues"
   ]
  },
  {
   "cell_type": "code",
   "execution_count": null,
   "id": "dynamic-modem",
   "metadata": {},
   "outputs": [],
   "source": []
  }
 ],
 "metadata": {
  "kernelspec": {
   "display_name": "Python 3",
   "language": "python",
   "name": "python3"
  },
  "language_info": {
   "codemirror_mode": {
    "name": "ipython",
    "version": 3
   },
   "file_extension": ".py",
   "mimetype": "text/x-python",
   "name": "python",
   "nbconvert_exporter": "python",
   "pygments_lexer": "ipython3",
   "version": "3.8.5"
  }
 },
 "nbformat": 4,
 "nbformat_minor": 5
}
