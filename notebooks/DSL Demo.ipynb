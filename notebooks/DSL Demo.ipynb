{
 "cells": [
  {
   "cell_type": "markdown",
   "metadata": {},
   "source": [
    "# Thin thread simulation workflow\n",
    "\n",
    "![thin-thread-w-Julia.png](thin-thread-w-Julia.png)"
   ]
  },
  {
   "cell_type": "markdown",
   "metadata": {},
   "source": [
    "# Axes of Query Complexity\n",
    "\n",
    "* **model complexity** ranging from simple queries over Pearl’s causal hierarchy (association and intervention) to complex queries (multiple world counterfactuals)\n",
    "* **simulation complexity**, ranging from unconditional (forward simulation) queries to conditional queries (inverse problem)\n",
    "* **decision complexity**, ranging from simple decisions (compare A vs B) to sophisticated decisions “optimize f(x) subject to g(x) = 0, h(x) <= 0\n",
    "* **intervention complexity**, In general, interventions that modify Petri nets are guaranteed to generate ODE's that preserve mass balance. Interventions that modify ODEs directly have no such guarantees.  As we explore additional queries in the ASKEM starter kit, we will likely need to represent interventions that directly modify the trajectories of the ODE's, which may result in further assumption violations. \n",
    "* **data complexity**.   Just as \"no plan has survived contact with the enemy\",  it may also be the case that \"no model has survived contact with data\". Unobserved confounding, missing data, and selection bias all threaten the validity of causal effect estimates.  Furthermore, when data come from different populations with different distributions over the same variables, care must be taken to avoid introducing bias.  By specifying queries that acknowledge these threats to validity, we can generate models that take these factors into account and apply formal causal reasoning to recover from the biases these threats may cause.\n",
    "\n",
    "\n",
    "\n",
    "# ASKEM Starter Kit Questions\n",
    "\n",
    "| Question | model complexity | simulation complexity | decision complexity | intervention complexity | query expression |\n",
    "|-----------|--------------|-----------------|---------------------------|-------------------|------------------|\n",
    "| What is the probability of staying under ICU capacity? | simple (no interventions) | intermediate (many forward simulations by sampling from prior distribution of parameters) | simple (no decisions)| simple (no intervention)| $$P(ICU < capacity)$$ |\n",
    "What is the probability of staying under ICU capacity if we do intervention X? | intermediate (intervened model) | intermediate (many forward simulations by sampling from prior distribution of parameters) | simple (only one intervention) |  unspecified | $$P(ICU_{do(X)} < capacity)$$ |\n",
    "| I can only do one, is A or B better? | intermediate (two intervened models) | intermediate (many forward simulations by sampling from prior distribution of parameters) | Simple (comparison of two alternatives) |depends on nature of A and B. | $$E[Y_{do(A)} - Y_{do(B)}] > 0$$ |\n",
    "|Is there an intervention that will keep us under ICU capacity with probability $p$? | intermediate (many interventions) | intermediate (many forward simulations by sampling from prior distribution of parameters| sophisticated (search over decision space to find an intervention that satisfy ICU capacity constraint | unspecified |  $$\\texttt{satisfy}_{x\\in X}  P(ICU_{do(x)}) < capacity) > p$$|\n",
    "| Is intervention $A$ or $B$ more likely to keep me under ICU capacity (simpler version of 3b)  | intermediate (two interventions) |intermediate (many forward simulations by sampling from prior distribution of parameters) | simple (comparison of two alternatives)n|depends on nature of A and B. | $$\\frac{P(ICU_{do(A)} < capacity )}{P(ICU_{do(B)} < capacity )}$$  |\n",
    "|When considering interventions $A,B,\\ldots$ what is the minimum (maximum) “expense” that achieves goal $G$? (is this underspecified? probably:  what is the cost function? Shouldn’t we iterate with the user about this?) Are you specifying an optimization function or constraints – not the same thing.  Many of these questions have implicit conditions that need to become explicit | intermediate (many interventions) |intermediate (many forward simulations by sampling from prior distribution of parameters |sophisticated (optimization over decision space) | depends on nature of $A$, $B$, etc...| $$\\begin{array}{rl}\\texttt{minimize}_{x\\in \\{A,B,\\ldots\\}}& Cost(x) \\\\\n",
    "\\texttt{such that} & G_{do(x)} = 1\\end{array}$$"
   ]
  },
  {
   "cell_type": "markdown",
   "metadata": {},
   "source": [
    "| Question | model complexity | simulation complexity | decision complexity | intervention complexity | query expression |\n",
    "|-----------|--------------|-----------------|---------------------------|-------------------|------------------|\n",
    "| What is the probability of staying under ICU capacity? | simple (no interventions) | intermediate (many forward simulations by sampling from prior distribution of parameters) | simple (no decisions)| simple (no intervention)| $$P(ICU < capacity)$$ |\n",
    "What is the probability of staying under ICU capacity if we do intervention X? | intermediate (intervened model) | intermediate (many forward simulations by sampling from prior distribution of parameters) | simple (only one intervention) |  depends on X | $$P(ICU_{do(X)} < capacity)$$ |\n",
    "Given that we exceeded ICU capacity, what is the probability of staying under ICU capacity if we do intervention X? | intermediate (intervened model) | complex (requires soving an inverse problem) | simple (only one intervention) |  depends on X | $$P(ICU_{do(X)} < capacity | ICU)$$ |\n",
    "|Given that we exceeded ICU capacity, is there an intervention that will keep us under ICU capacity with probability $p$? | intermediate (many interventions) | complex (requires solving an inverse problem)| sophisticated (search over decision space to find an intervention that satisfy ICU capacity constraint | unspecified |  $$\\texttt{satisfy}_{x\\in X}  P(ICU_{do(x)}) < capacity| ICU) < p$$|\n",
    "| Given that we exceeded ICU capacity, when should we have intervened? | complex (requires stratification) |complex (requires solving an inverse problem) |  complex (search over many interventions) | complex (intervening on a trajectory) | $$\\texttt{satisfy}_{x(t)\\in X(T)}  P(ICU_{do(x(t))} < capacity| ICU)< p$$\n",
    "| On average, how many fewer infections will there be if we imposed a mask mandate? | intermediate (two intervened models) | intermediate (many forward simulations by sampling from prior distribution of parameters) | Simple (comparison of two alternatives) |depends on how the mask mandate is implemented. | $$E[Infections_{do(mask mandate)} - Infections]$$ |\n",
    "|Is there an intervention that will keep us under ICU capacity with probability $p$? | intermediate (many interventions) | intermediate (many forward simulations by sampling from prior distribution of parameters| sophisticated (search over decision space to find an intervention that satisfy ICU capacity constraint | unspecified |  $$\\texttt{satisfy}_{x\\in X}  P(ICU_{do(x)}) < capacity) < p$$|\n",
    "| Is intervention $A$ or $B$ more likely to keep me under ICU capacity (simpler version of 3b)  | intermediate (two interventions) |intermediate (many forward simulations by sampling from prior distribution of parameters) | simple (comparison of two alternatives)n|depends on nature of A and B. | $$\\frac{P(ICU_{do(A)} < capacity )}{P(ICU_{do(B)} < capacity )}$$  |\n",
    "    |When considering interventions $A,B,\\ldots$ what is the minimum (maximum) “expense” that achieves goal $G$? (is this underspecified? probably:  what is the cost function? Shouldn’t we iterate with the user about this?) Are you specifying an optimization function or constraints – not the same thing.  Many of these questions have implicit conditions that need to become explicit | intermediate (many interventions) |intermediate (many forward simulations by sampling from prior distribution of parameters |sophisticated (optimization over decision space) | depends on nature of $A$, $B$, etc...| $$\\begin{array}{rl}\\texttt{minimize}_{x\\in \\{A,B,\\ldots\\}}& Cost(x) \\\\\n",
    "    \\texttt{such that} & G_{do(x)} = 1\\end{array}$$\n",
    "| Everything else being equal, what interventions would have resulted in half as many deaths? | complex (requires stratification) |complex (requires solving an inverse problem) |  complex (search over many interventions) | complex (intervening on a trajectory) | $$\\texttt{satisfy}_{x\\in X}  P(\\int_t deaths(t)_{do(x)}dt| deaths(t)) < \\frac{1}{2}\\int_t deaths(t)dt$$"
   ]
  },
  {
   "cell_type": "code",
   "execution_count": 4,
   "metadata": {},
   "outputs": [],
   "source": [
    "from y0.dsl import (P,  Sum, Variable, Product)"
   ]
  },
  {
   "cell_type": "code",
   "execution_count": 7,
   "metadata": {},
   "outputs": [],
   "source": [
    "Infected = Variable('Infected')\n",
    "Recovered = Variable('Recovered')\n",
    "Vaccinated = Variable('Vaccinated')\n",
    "Died = Variable('Died')"
   ]
  },
  {
   "cell_type": "markdown",
   "metadata": {},
   "source": [
    "**What is the probability that an infected, vaccinated person recovers?**"
   ]
  },
  {
   "cell_type": "code",
   "execution_count": 3,
   "metadata": {},
   "outputs": [
    {
     "data": {
      "text/latex": [
       "$P(Recovered | Infected, Vaccinated)$"
      ],
      "text/plain": [
       "P(Recovered | Infected, Vaccinated)"
      ]
     },
     "execution_count": 3,
     "metadata": {},
     "output_type": "execute_result"
    }
   ],
   "source": [
    "P(Recovered |  Infected, Vaccinated)"
   ]
  },
  {
   "cell_type": "markdown",
   "metadata": {},
   "source": [
    "**What is the probability that an  infected, unvaccinated,person does not recover?** "
   ]
  },
  {
   "cell_type": "code",
   "execution_count": 4,
   "metadata": {},
   "outputs": [
    {
     "data": {
      "text/latex": [
       "$P(Recovered^* | Infected, Vaccinated^*)$"
      ],
      "text/plain": [
       "P(+Recovered | Infected, +Vaccinated)"
      ]
     },
     "execution_count": 4,
     "metadata": {},
     "output_type": "execute_result"
    }
   ],
   "source": [
    "P(~Recovered | ~Vaccinated, Infected)"
   ]
  },
  {
   "cell_type": "markdown",
   "metadata": {},
   "source": [
    "**What is the probability that an infected person would recover if they were vaccinated, but die if they were not vaccinated?**"
   ]
  },
  {
   "cell_type": "code",
   "execution_count": 5,
   "metadata": {},
   "outputs": [
    {
     "data": {
      "text/latex": [
       "$P({Recovered}_{Vaccinated}, {Recovered}^*_{Vaccinated^*} | Infected)$"
      ],
      "text/plain": [
       "P(Recovered @ -Vaccinated, +Recovered @ +Vaccinated | Infected)"
      ]
     },
     "execution_count": 5,
     "metadata": {},
     "output_type": "execute_result"
    }
   ],
   "source": [
    "P(Recovered @ Vaccinated, ~Recovered @ ~Vaccinated | Infected)"
   ]
  },
  {
   "cell_type": "code",
   "execution_count": 2,
   "metadata": {},
   "outputs": [
    {
     "data": {
      "image/png": "[encoded data removed]",
      "text/plain": [
       "<Figure size 432x288 with 1 Axes>"
      ]
     },
     "metadata": {},
     "output_type": "display_data"
    }
   ],
   "source": [
    "from y0.examples import id_sir_example, nonid_sir_example\n",
    "nonid_sir_example.graph.draw()\n",
    "from y0.algorithm.identify import Identification, identify, Unidentifiable\n"
   ]
  },
  {
   "cell_type": "code",
   "execution_count": 18,
   "metadata": {},
   "outputs": [
    {
     "data": {
      "text/latex": [
       "$P({Died}_{Infected})$"
      ],
      "text/plain": [
       "P(Died @ -Infected)"
      ]
     },
     "metadata": {},
     "output_type": "display_data"
    },
    {
     "data": {
      "text/latex": [
       "is not identifiable given the model"
      ],
      "text/plain": [
       "<IPython.core.display.Latex object>"
      ]
     },
     "metadata": {},
     "output_type": "display_data"
    }
   ],
   "source": [
    "nonid_sir = Identification.from_expression(\n",
    "    query=P[Infected](Died), \n",
    "    estimand=P(Infected, Died), \n",
    "    graph=nonid_sir_example.graph\n",
    ")\n",
    "try:\n",
    "    identify(nonid_sir)\n",
    "except Unidentifiable:\n",
    "    display(nonid_sir.query.expression)\n",
    "    display(Latex(\"is not identifiable given the model\"))\n"
   ]
  },
  {
   "cell_type": "code",
   "execution_count": 9,
   "metadata": {},
   "outputs": [
    {
     "data": {
      "image/png": "[encoded data removed]",
      "text/plain": [
       "<Figure size 432x288 with 1 Axes>"
      ]
     },
     "metadata": {},
     "output_type": "display_data"
    }
   ],
   "source": [
    "from y0.algorithm.identify import Identification, identify, Unidentifiable\n",
    "from IPython.display import Latex, Markdown\n",
    "from y0.dsl import P, Variable, Sum, Product\n",
    "\n",
    "Infected, Died, Hospitalized = Variable(\"Infected\"), Variable(\"Died\"), Variable(\"Hospitalized\")\n",
    "\n",
    "id_sir = Identification.from_expression(\n",
    "    query=P[Infected](Died), \n",
    "    estimand=P(Infected, Hospitalized, Died), \n",
    "    graph=id_sir_example.graph\n",
    ")\n",
    "id_sir.graph.draw()"
   ]
  },
  {
   "cell_type": "code",
   "execution_count": 21,
   "metadata": {},
   "outputs": [
    {
     "data": {
      "text/latex": [
       "The query "
      ],
      "text/plain": [
       "<IPython.core.display.Latex object>"
      ]
     },
     "metadata": {},
     "output_type": "display_data"
    },
    {
     "data": {
      "text/latex": [
       "$P({Died}_{Infected})$"
      ],
      "text/plain": [
       "P(Died @ -Infected)"
      ]
     },
     "metadata": {},
     "output_type": "display_data"
    },
    {
     "data": {
      "text/latex": [
       "is identifiable and has estimand: "
      ],
      "text/plain": [
       "<IPython.core.display.Latex object>"
      ]
     },
     "metadata": {},
     "output_type": "display_data"
    },
    {
     "data": {
      "text/latex": [
       "$\\sum_{Hospitalized} P(Hospitalized | Infected) \\sum_{} \\sum_{Infected} P(Infected) P(Died | Hospitalized, Infected)$"
      ],
      "text/plain": [
       "Sum[Hospitalized](P(Hospitalized | Infected) * Sum(Sum[Infected](P(Infected) * P(Died | Hospitalized, Infected))))"
      ]
     },
     "metadata": {},
     "output_type": "display_data"
    }
   ],
   "source": [
    "estimand = identify(id_sir)\n",
    "display(Latex(f\"The query \"), id_sir.query.expression, Latex(f\"is identifiable and has estimand: \"), estimand)"
   ]
  },
  {
   "cell_type": "markdown",
   "metadata": {},
   "source": [
    "# Level 3 of Pearl's causal hierarchy (counterfactual)"
   ]
  },
  {
   "cell_type": "markdown",
   "metadata": {},
   "source": [
    "Probability of sufficient causation.  If we observe $x$ and $y$ to be false, would $y$ be true if $x$ was forced to be true"
   ]
  },
  {
   "cell_type": "code",
   "execution_count": null,
   "metadata": {},
   "outputs": [
    {
     "data": {
      "text/latex": [
       "$P({Y}_{X} | X^*, Y^*)$"
      ],
      "text/plain": [
       "P(Y @ -X | +X, +Y)"
      ]
     },
     "execution_count": 24,
     "metadata": {},
     "output_type": "execute_result"
    }
   ],
   "source": [
    "P(Y @ X | ~X, ~Y)"
   ]
  },
  {
   "cell_type": "markdown",
   "metadata": {},
   "source": [
    "Probability of necessary causation. If we observe $x$ and $y$ to be true, would $y$ be false if $x$ was forced to be false?"
   ]
  },
  {
   "cell_type": "code",
   "execution_count": null,
   "metadata": {},
   "outputs": [
    {
     "data": {
      "text/latex": [
       "$P({Y}^*_{X^*} | X, Y)$"
      ],
      "text/plain": [
       "P(+Y @ +X | X, Y)"
      ]
     },
     "execution_count": 25,
     "metadata": {},
     "output_type": "execute_result"
    }
   ],
   "source": [
    "P(~Y @ ~X | X, Y)"
   ]
  },
  {
   "cell_type": "markdown",
   "metadata": {},
   "source": [
    "Probability of necessary and sufficent causation.  Triage: what is the probability that $y$ will live if I treat with $x$ and $y$ will die if I do not treat with $x$?"
   ]
  },
  {
   "cell_type": "code",
   "execution_count": null,
   "metadata": {},
   "outputs": [
    {
     "data": {
      "text/latex": [
       "$P({Y}_{X}, {Y}^*_{X^*})$"
      ],
      "text/plain": [
       "P(Y @ -X, +Y @ +X)"
      ]
     },
     "execution_count": 26,
     "metadata": {},
     "output_type": "execute_result"
    }
   ],
   "source": [
    "P(Y @ X, ~Y @ ~X)"
   ]
  },
  {
   "cell_type": "markdown",
   "metadata": {},
   "source": [
    "Multiple interventions"
   ]
  },
  {
   "cell_type": "code",
   "execution_count": null,
   "metadata": {},
   "outputs": [
    {
     "data": {
      "text/latex": [
       "$P({A}_{W^*, X})$"
      ],
      "text/plain": [
       "P(A @ (+W, -X))"
      ]
     },
     "execution_count": 27,
     "metadata": {},
     "output_type": "execute_result"
    }
   ],
   "source": [
    "P(A @ ~W @ X)"
   ]
  },
  {
   "cell_type": "markdown",
   "metadata": {},
   "source": [
    "$$E[Y_{do(A)} - Y_{do(\\lnot A)}]$$"
   ]
  },
  {
   "cell_type": "markdown",
   "metadata": {},
   "source": [
    "$$\\sum_{y_{do(A)}\\in dom(Y_{do(A)})}y_{do(A)}P(y_{do(A)}) - \\sum_{y_{do(\\lnot A)}\\in dom(Y_{do(\\lnot A)})}y_{do(\\lnot A)}P(y_{do(\\lnot A)})$$ "
   ]
  },
  {
   "cell_type": "code",
   "execution_count": null,
   "metadata": {},
   "outputs": [
    {
     "ename": "TypeError",
     "evalue": "unsupported operand type(s) for *: 'CounterfactualVariable' and 'Probability'",
     "output_type": "error",
     "traceback": [
      "\u001b[0;31m---------------------------------------------------------------------------\u001b[0m",
      "\u001b[0;31mTypeError\u001b[0m                                 Traceback (most recent call last)",
      "\u001b[0;32m<ipython-input-10-01f51e703734>\u001b[0m in \u001b[0;36m<module>\u001b[0;34m\u001b[0m\n\u001b[0;32m----> 1\u001b[0;31m \u001b[0mSum\u001b[0m\u001b[0;34m[\u001b[0m\u001b[0mY\u001b[0m\u001b[0;34m]\u001b[0m\u001b[0;34m(\u001b[0m\u001b[0;34m(\u001b[0m\u001b[0mY\u001b[0m \u001b[0;34m@\u001b[0m \u001b[0mX\u001b[0m \u001b[0;34m)\u001b[0m\u001b[0;34m*\u001b[0m\u001b[0mP\u001b[0m\u001b[0;34m(\u001b[0m\u001b[0mY\u001b[0m \u001b[0;34m@\u001b[0m \u001b[0mX\u001b[0m\u001b[0;34m)\u001b[0m\u001b[0;34m)\u001b[0m\u001b[0;34m\u001b[0m\u001b[0;34m\u001b[0m\u001b[0m\n\u001b[0m",
      "\u001b[0;31mTypeError\u001b[0m: unsupported operand type(s) for *: 'CounterfactualVariable' and 'Probability'"
     ]
    }
   ],
   "source": [
    "Sum[Y]((Y @ X )*P(Y @ X))"
   ]
  }
 ],
 "metadata": {
  "kernelspec": {
   "display_name": "anaconda3-2021.11",
   "language": "python",
   "name": "anaconda3-2021.11"
  },
  "language_info": {
   "codemirror_mode": {
    "name": "ipython",
    "version": 3
   },
   "file_extension": ".py",
   "mimetype": "text/x-python",
   "name": "python",
   "nbconvert_exporter": "python",
   "pygments_lexer": "ipython3",
   "version": "3.9.7"
  },
  "toc": {
   "base_numbering": 1,
   "nav_menu": {},
   "number_sections": true,
   "sideBar": true,
   "skip_h1_title": false,
   "title_cell": "Table of Contents",
   "title_sidebar": "Contents",
   "toc_cell": false,
   "toc_position": {},
   "toc_section_display": true,
   "toc_window_display": false
  }
 },
 "nbformat": 4,
 "nbformat_minor": 4
}
