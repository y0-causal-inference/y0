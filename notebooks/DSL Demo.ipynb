{
 "cells": [
  {
   "cell_type": "code",
   "execution_count": 1,
   "metadata": {},
   "outputs": [],
   "source": [
    "from y0.dsl import One, P, A, B, C, D, Q, R, S, T, W, X, Y, Z, Sum"
   ]
  },
  {
   "cell_type": "code",
   "execution_count": 2,
   "metadata": {},
   "outputs": [
    {
     "data": {
      "text/latex": [
       "$1$"
      ],
      "text/plain": [
       "<y0.dsl.One at 0x103d0d880>"
      ]
     },
     "execution_count": 2,
     "metadata": {},
     "output_type": "execute_result"
    }
   ],
   "source": [
    "One()"
   ]
  },
  {
   "cell_type": "code",
   "execution_count": 3,
   "metadata": {},
   "outputs": [
    {
     "data": {
      "text/latex": [
       "$P(A)$"
      ],
      "text/plain": [
       "P(Distribution(children=(Variable(name='A'),), parents=()))"
      ]
     },
     "execution_count": 3,
     "metadata": {},
     "output_type": "execute_result"
    }
   ],
   "source": [
    "P(A)"
   ]
  },
  {
   "cell_type": "code",
   "execution_count": 4,
   "metadata": {},
   "outputs": [
    {
     "data": {
      "text/latex": [
       "$P(A_{W})$"
      ],
      "text/plain": [
       "P(Distribution(children=(CounterfactualVariable(name='A', interventions=(Intervention(name='W', star=False),)),), parents=()))"
      ]
     },
     "execution_count": 4,
     "metadata": {},
     "output_type": "execute_result"
    }
   ],
   "source": [
    "P(A @ W)"
   ]
  },
  {
   "cell_type": "code",
   "execution_count": 5,
   "metadata": {},
   "outputs": [
    {
     "data": {
      "text/latex": [
       "$P(A_{W^*})$"
      ],
      "text/plain": [
       "P(Distribution(children=(CounterfactualVariable(name='A', interventions=(Intervention(name='W', star=True),)),), parents=()))"
      ]
     },
     "execution_count": 5,
     "metadata": {},
     "output_type": "execute_result"
    }
   ],
   "source": [
    "P(A @ ~W)"
   ]
  },
  {
   "cell_type": "code",
   "execution_count": 6,
   "metadata": {},
   "outputs": [
    {
     "data": {
      "text/latex": [
       "$P(A_{W^*,X})$"
      ],
      "text/plain": [
       "P(Distribution(children=(CounterfactualVariable(name='A', interventions=(Intervention(name='W', star=True), Intervention(name='X', star=False))),), parents=()))"
      ]
     },
     "execution_count": 6,
     "metadata": {},
     "output_type": "execute_result"
    }
   ],
   "source": [
    "P(A @ ~W @ X)"
   ]
  },
  {
   "cell_type": "code",
   "execution_count": 7,
   "metadata": {},
   "outputs": [
    {
     "data": {
      "text/latex": [
       "$P(A,B)$"
      ],
      "text/plain": [
       "P(Distribution(children=(Variable(name='A'), Variable(name='B')), parents=()))"
      ]
     },
     "execution_count": 7,
     "metadata": {},
     "output_type": "execute_result"
    }
   ],
   "source": [
    "P(A, B)"
   ]
  },
  {
   "cell_type": "code",
   "execution_count": 8,
   "metadata": {},
   "outputs": [
    {
     "data": {
      "text/latex": [
       "$P(A|B)$"
      ],
      "text/plain": [
       "P(Distribution(children=(Variable(name='A'),), parents=(Variable(name='B'),)))"
      ]
     },
     "execution_count": 8,
     "metadata": {},
     "output_type": "execute_result"
    }
   ],
   "source": [
    "P(A | B)"
   ]
  },
  {
   "cell_type": "code",
   "execution_count": 9,
   "metadata": {},
   "outputs": [
    {
     "data": {
      "text/latex": [
       "$\\frac{1}{P(A|B)}$"
      ],
      "text/plain": [
       "Fraction(numerator=<y0.dsl.One object at 0x103d0d430>, denominator=P(Distribution(children=(Variable(name='A'),), parents=(Variable(name='B'),))))"
      ]
     },
     "execution_count": 9,
     "metadata": {},
     "output_type": "execute_result"
    }
   ],
   "source": [
    "One() / P(A | B)"
   ]
  },
  {
   "cell_type": "code",
   "execution_count": 10,
   "metadata": {},
   "outputs": [
    {
     "data": {
      "text/latex": [
       "$\\frac{P(A)}{P(A|B)}$"
      ],
      "text/plain": [
       "Fraction(numerator=P(Distribution(children=(Variable(name='A'),), parents=())), denominator=P(Distribution(children=(Variable(name='A'),), parents=(Variable(name='B'),))))"
      ]
     },
     "execution_count": 10,
     "metadata": {},
     "output_type": "execute_result"
    }
   ],
   "source": [
    "(One() / P(A | B)) * P(A)"
   ]
  },
  {
   "cell_type": "code",
   "execution_count": 11,
   "metadata": {},
   "outputs": [
    {
     "data": {
      "text/latex": [
       "$P(A|B)$"
      ],
      "text/plain": [
       "P(Distribution(children=(Variable(name='A'),), parents=(Variable(name='B'),)))"
      ]
     },
     "execution_count": 11,
     "metadata": {},
     "output_type": "execute_result"
    }
   ],
   "source": [
    "One() * P(A | B)"
   ]
  },
  {
   "cell_type": "code",
   "execution_count": 12,
   "metadata": {},
   "outputs": [
    {
     "data": {
      "text/latex": [
       "$P(A|B) P(B)$"
      ],
      "text/plain": [
       "Product(expressions=(P(Distribution(children=(Variable(name='A'),), parents=(Variable(name='B'),))), P(Distribution(children=(Variable(name='B'),), parents=()))))"
      ]
     },
     "execution_count": 12,
     "metadata": {},
     "output_type": "execute_result"
    }
   ],
   "source": [
    "P(A | B) * P(B)"
   ]
  },
  {
   "cell_type": "code",
   "execution_count": 13,
   "metadata": {},
   "outputs": [
    {
     "data": {
      "text/latex": [
       "$\\sum_{B} P(A|B)$"
      ],
      "text/plain": [
       "Sum(expression=P(Distribution(children=(Variable(name='A'),), parents=(Variable(name='B'),))), ranges=(Variable(name='B'),))"
      ]
     },
     "execution_count": 13,
     "metadata": {},
     "output_type": "execute_result"
    }
   ],
   "source": [
    "Sum[B](P(A | B))"
   ]
  },
  {
   "cell_type": "code",
   "execution_count": 14,
   "metadata": {},
   "outputs": [
    {
     "data": {
      "text/latex": [
       "$\\sum_{S,T} P(A|B) \\sum_{R} P(C|D)$"
      ],
      "text/plain": [
       "Sum(expression=Product(expressions=(P(Distribution(children=(Variable(name='A'),), parents=(Variable(name='B'),))), Sum(expression=P(Distribution(children=(Variable(name='C'),), parents=(Variable(name='D'),))), ranges=[Variable(name='R')]))), ranges=[Variable(name='S'), Variable(name='T')])"
      ]
     },
     "execution_count": 14,
     "metadata": {},
     "output_type": "execute_result"
    }
   ],
   "source": [
    "Sum(P(A | B) * Sum(P(C | D), [R]), [S, T])"
   ]
  },
  {
   "cell_type": "code",
   "execution_count": 15,
   "metadata": {},
   "outputs": [
    {
     "data": {
      "text/latex": [
       "$\\sum_{W} P(Y_{Z^*,W},X) P(D) P(Z_{D}) P(W_{X^*})$"
      ],
      "text/plain": [
       "Sum(expression=Product(expressions=(P(Distribution(children=(CounterfactualVariable(name='Y', interventions=(Intervention(name='Z', star=True), Intervention(name='W', star=False))), Variable(name='X')), parents=())), P(Distribution(children=(Variable(name='D'),), parents=())), P(Distribution(children=(CounterfactualVariable(name='Z', interventions=(Intervention(name='D', star=False),)),), parents=())), P(Distribution(children=(CounterfactualVariable(name='W', interventions=(Intervention(name='X', star=True),)),), parents=())))), ranges=(Variable(name='W'),))"
      ]
     },
     "execution_count": 15,
     "metadata": {},
     "output_type": "execute_result"
    }
   ],
   "source": [
    "Sum[W](P((Y @ ~Z @ W) & X) * P(D) * P(Z @ D) * P(W @ ~X))"
   ]
  },
  {
   "cell_type": "code",
   "execution_count": 16,
   "metadata": {},
   "outputs": [
    {
     "data": {
      "text/latex": [
       "$\\frac{P(A) P(D)}{P(B) P(C)}$"
      ],
      "text/plain": [
       "Fraction(numerator=Product(expressions=(P(Distribution(children=(Variable(name='A'),), parents=())), P(Distribution(children=(Variable(name='D'),), parents=())))), denominator=Product(expressions=(P(Distribution(children=(Variable(name='B'),), parents=())), P(Distribution(children=(Variable(name='C'),), parents=())))))"
      ]
     },
     "execution_count": 16,
     "metadata": {},
     "output_type": "execute_result"
    }
   ],
   "source": [
    "(P(A) / P(B)) / (P(C) / P(D))"
   ]
  },
  {
   "cell_type": "code",
   "execution_count": 17,
   "metadata": {},
   "outputs": [
    {
     "data": {
      "text/latex": [
       "$Q_{A}({B})$"
      ],
      "text/plain": [
       "QFactor(domain=(Variable(name='B'),), codomain=(Variable(name='A'),))"
      ]
     },
     "execution_count": 17,
     "metadata": {},
     "output_type": "execute_result"
    }
   ],
   "source": [
    "Q[A](B)"
   ]
  }
 ],
 "metadata": {
  "kernelspec": {
   "display_name": "Python 3",
   "language": "python",
   "name": "python3"
  },
  "language_info": {
   "codemirror_mode": {
    "name": "ipython",
    "version": 3
   },
   "file_extension": ".py",
   "mimetype": "text/x-python",
   "name": "python",
   "nbconvert_exporter": "python",
   "pygments_lexer": "ipython3",
   "version": "3.9.1"
  },
  "toc": {
   "base_numbering": 1,
   "nav_menu": {},
   "number_sections": true,
   "sideBar": true,
   "skip_h1_title": false,
   "title_cell": "Table of Contents",
   "title_sidebar": "Contents",
   "toc_cell": false,
   "toc_position": {},
   "toc_section_display": true,
   "toc_window_display": false
  }
 },
 "nbformat": 4,
 "nbformat_minor": 4
}
