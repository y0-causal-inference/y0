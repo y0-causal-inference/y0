{
 "cells": [
  {
   "cell_type": "markdown",
   "metadata": {
    "toc": true
   },
   "source": [
    "<h1>Table of Contents<span class=\"tocSkip\"></span></h1>\n",
    "<div class=\"toc\"><ul class=\"toc-item\"><li><span><a href=\"#The-Do-calculus\" data-toc-modified-id=\"The-Do-calculus-1\"><span class=\"toc-item-num\">1&nbsp;&nbsp;</span>The Do-calculus</a></span><ul class=\"toc-item\"><li><span><a href=\"#Rule-1:-Ignoring-observations\" data-toc-modified-id=\"Rule-1:-Ignoring-observations-1.1\"><span class=\"toc-item-num\">1.1&nbsp;&nbsp;</span>Rule 1: Ignoring observations</a></span></li><li><span><a href=\"#Rule-2:-Action/Observation-Change\" data-toc-modified-id=\"Rule-2:-Action/Observation-Change-1.2\"><span class=\"toc-item-num\">1.2&nbsp;&nbsp;</span>Rule 2: Action/Observation Change</a></span></li><li><span><a href=\"#Rule-3:-Ignoring-actions\" data-toc-modified-id=\"Rule-3:-Ignoring-actions-1.3\"><span class=\"toc-item-num\">1.3&nbsp;&nbsp;</span>Rule 3: Ignoring actions</a></span></li></ul></li><li><span><a href=\"#Concepts-required-to-understand-ID-algorithm\" data-toc-modified-id=\"Concepts-required-to-understand-ID-algorithm-2\"><span class=\"toc-item-num\">2&nbsp;&nbsp;</span>Concepts required to understand ID algorithm</a></span><ul class=\"toc-item\"><li><span><a href=\"#Theorem-2:-The-bow-arc-is-not-identifiable.\" data-toc-modified-id=\"Theorem-2:-The-bow-arc-is-not-identifiable.-2.1\"><span class=\"toc-item-num\">2.1&nbsp;&nbsp;</span>Theorem 2: The bow arc is not identifiable.</a></span></li><li><span><a href=\"#Trees-point-toward-the-root!\" data-toc-modified-id=\"Trees-point-toward-the-root!-2.2\"><span class=\"toc-item-num\">2.2&nbsp;&nbsp;</span>Trees point toward the root!</a></span></li><li><span><a href=\"#$An(-Y-)$-includes-$Y$\" data-toc-modified-id=\"$An(-Y-)$-includes-$Y$-2.3\"><span class=\"toc-item-num\">2.3&nbsp;&nbsp;</span>$An( Y )$ includes $Y$</a></span></li><li><span><a href=\"#C-component\" data-toc-modified-id=\"C-component-2.4\"><span class=\"toc-item-num\">2.4&nbsp;&nbsp;</span>C-component</a></span></li><li><span><a href=\"#Definition-4:-(C-tree)\" data-toc-modified-id=\"Definition-4:-(C-tree)-2.5\"><span class=\"toc-item-num\">2.5&nbsp;&nbsp;</span>Definition 4: (C-tree)</a></span></li><li><span><a href=\"#Theorem-3\" data-toc-modified-id=\"Theorem-3-2.6\"><span class=\"toc-item-num\">2.6&nbsp;&nbsp;</span>Theorem 3</a></span></li><li><span><a href=\"#Definition-5-(C-forest):\" data-toc-modified-id=\"Definition-5-(C-forest):-2.7\"><span class=\"toc-item-num\">2.7&nbsp;&nbsp;</span>Definition 5 (C-forest):</a></span></li><li><span><a href=\"#Definition-6-(hedge):\" data-toc-modified-id=\"Definition-6-(hedge):-2.8\"><span class=\"toc-item-num\">2.8&nbsp;&nbsp;</span>Definition 6 (hedge):</a></span></li><li><span><a href=\"#Theorem-17\" data-toc-modified-id=\"Theorem-17-2.9\"><span class=\"toc-item-num\">2.9&nbsp;&nbsp;</span>Theorem 17</a></span></li></ul></li><li><span><a href=\"#A-complete-identification-algorithm.\" data-toc-modified-id=\"A-complete-identification-algorithm.-3\"><span class=\"toc-item-num\">3&nbsp;&nbsp;</span>A complete identification algorithm.</a></span><ul class=\"toc-item\"><li><span><a href=\"#ID-algorithm\" data-toc-modified-id=\"ID-algorithm-3.1\"><span class=\"toc-item-num\">3.1&nbsp;&nbsp;</span>ID algorithm</a></span><ul class=\"toc-item\"><li><span><a href=\"#Line-1\" data-toc-modified-id=\"Line-1-3.1.1\"><span class=\"toc-item-num\">3.1.1&nbsp;&nbsp;</span>Line 1</a></span></li><li><span><a href=\"#Line-2\" data-toc-modified-id=\"Line-2-3.1.2\"><span class=\"toc-item-num\">3.1.2&nbsp;&nbsp;</span>Line 2</a></span></li><li><span><a href=\"#Line-3\" data-toc-modified-id=\"Line-3-3.1.3\"><span class=\"toc-item-num\">3.1.3&nbsp;&nbsp;</span>Line 3</a></span></li><li><span><a href=\"#Line-4\" data-toc-modified-id=\"Line-4-3.1.4\"><span class=\"toc-item-num\">3.1.4&nbsp;&nbsp;</span>Line 4</a></span></li><li><span><a href=\"#Line-5\" data-toc-modified-id=\"Line-5-3.1.5\"><span class=\"toc-item-num\">3.1.5&nbsp;&nbsp;</span>Line 5</a></span></li><li><span><a href=\"#Line-6\" data-toc-modified-id=\"Line-6-3.1.6\"><span class=\"toc-item-num\">3.1.6&nbsp;&nbsp;</span>Line 6</a></span></li><li><span><a href=\"#Line-7\" data-toc-modified-id=\"Line-7-3.1.7\"><span class=\"toc-item-num\">3.1.7&nbsp;&nbsp;</span>Line 7</a></span></li></ul></li><li><span><a href=\"#Example\" data-toc-modified-id=\"Example-3.2\"><span class=\"toc-item-num\">3.2&nbsp;&nbsp;</span>Example</a></span><ul class=\"toc-item\"><li><span><a href=\"#Identify-$P_x(y_1,y_2)$-from-$P(x,w_1,w_2,y_1,y_2)$\" data-toc-modified-id=\"Identify-$P_x(y_1,y_2)$-from-$P(x,w_1,w_2,y_1,y_2)$-3.2.1\"><span class=\"toc-item-num\">3.2.1&nbsp;&nbsp;</span>Identify $P_x(y_1,y_2)$ from $P(x,w_1,w_2,y_1,y_2)$</a></span></li><li><span><a href=\"#Identify-$P_{x,w}(y_1,-y_2-)$-from-$P(x,w_1,w_2,y_1,y_2)$.\" data-toc-modified-id=\"Identify-$P_{x,w}(y_1,-y_2-)$-from-$P(x,w_1,w_2,y_1,y_2)$.-3.2.2\"><span class=\"toc-item-num\">3.2.2&nbsp;&nbsp;</span>Identify $P_{x,w}(y_1, y_2 )$ from $P(x,w_1,w_2,y_1,y_2)$.</a></span></li><li><span><a href=\"#Identify-$P_{w_1,x,y_1,-y_2}(w_2)$--from-$P(x,w_1,w_2,y_1,y_2)$\" data-toc-modified-id=\"Identify-$P_{w_1,x,y_1,-y_2}(w_2)$--from-$P(x,w_1,w_2,y_1,y_2)$-3.2.3\"><span class=\"toc-item-num\">3.2.3&nbsp;&nbsp;</span>Identify $P_{w_1,x,y_1, y_2}(w_2)$  from $P(x,w_1,w_2,y_1,y_2)$</a></span></li><li><span><a href=\"#Identify-$P_{x,w_1,-w_2,-y_1}-(y_2-)$-from-$P(x,w_1,w_2,y_1,y_2)$\" data-toc-modified-id=\"Identify-$P_{x,w_1,-w_2,-y_1}-(y_2-)$-from-$P(x,w_1,w_2,y_1,y_2)$-3.2.4\"><span class=\"toc-item-num\">3.2.4&nbsp;&nbsp;</span>Identify $P_{x,w_1, w_2, y_1} (y_2 )$ from $P(x,w_1,w_2,y_1,y_2)$</a></span></li><li><span><a href=\"#Identify-$P_{w_2,y_2,-x,-w_1}(y_1)$-from-$P(x,w_1,w_2,y_1,y_2)$\" data-toc-modified-id=\"Identify-$P_{w_2,y_2,-x,-w_1}(y_1)$-from-$P(x,w_1,w_2,y_1,y_2)$-3.2.5\"><span class=\"toc-item-num\">3.2.5&nbsp;&nbsp;</span>Identify $P_{w_2,y_2, x, w_1}(y_1)$ from $P(x,w_1,w_2,y_1,y_2)$</a></span></li></ul></li></ul></li><li><span><a href=\"#IDC-algorithm\" data-toc-modified-id=\"IDC-algorithm-4\"><span class=\"toc-item-num\">4&nbsp;&nbsp;</span>IDC algorithm</a></span></li></ul></div>"
   ]
  },
  {
   "cell_type": "code",
   "execution_count": 1,
   "metadata": {},
   "outputs": [
    {
     "data": {
      "application/javascript": [
       "\n",
       "            setTimeout(function() {\n",
       "                var nbb_cell_id = 1;\n",
       "                var nbb_unformatted_code = \"%load_ext nb_black\";\n",
       "                var nbb_formatted_code = \"%load_ext nb_black\";\n",
       "                var nbb_cells = Jupyter.notebook.get_cells();\n",
       "                for (var i = 0; i < nbb_cells.length; ++i) {\n",
       "                    if (nbb_cells[i].input_prompt_number == nbb_cell_id) {\n",
       "                        if (nbb_cells[i].get_text() == nbb_unformatted_code) {\n",
       "                             nbb_cells[i].set_text(nbb_formatted_code);\n",
       "                        }\n",
       "                        break;\n",
       "                    }\n",
       "                }\n",
       "            }, 500);\n",
       "            "
      ],
      "text/plain": [
       "<IPython.core.display.Javascript object>"
      ]
     },
     "metadata": {},
     "output_type": "display_data"
    }
   ],
   "source": [
    "%load_ext nb_black"
   ]
  },
  {
   "cell_type": "code",
   "execution_count": 2,
   "metadata": {},
   "outputs": [
    {
     "data": {
      "application/javascript": [
       "\n",
       "            setTimeout(function() {\n",
       "                var nbb_cell_id = 2;\n",
       "                var nbb_unformatted_code = \"import itertools as itt\\nfrom typing import Callable, Collection, Iterable, Set, Tuple, Union\\n\\nfrom scipy.stats import bernoulli\\nimport matplotlib.pyplot as plt\\nfrom IPython.display import Latex, Markdown, set_matplotlib_formats\\n\\nfrom y0.examples import complete_hierarchy_figure_3a_example as figure_3a\\nfrom y0.examples import figure_9a, figure_9b, figure_9c\\nfrom y0.examples import (\\n    line_1_example,\\n    line_2_example,\\n    line_3_example,\\n    line_4_example,\\n    line_5_example,\\n    line_6_example,\\n    line_7_example,\\n)\\nfrom y0.algorithm.identify import Identification, identify, Unidentifiable\\nfrom y0.algorithm.identify.id_c import idc\\nfrom y0.dsl import P, Sum, D, X, Y, Z, M, Y1, Y2, W1, W2, Product, Variable\\nfrom y0.dsl import _get_treatment_variables, _get_outcome_variables\\nfrom y0.algorithm.identify.id_std import (\\n    line_1,\\n    line_2,\\n    line_3,\\n    line_4,\\n    line_5,\\n    line_6,\\n    line_7,\\n)\\nfrom y0.graph import NxMixedGraph\\nfrom y0.dsl import Variable\";\n",
       "                var nbb_formatted_code = \"import itertools as itt\\nfrom typing import Callable, Collection, Iterable, Set, Tuple, Union\\n\\nfrom scipy.stats import bernoulli\\nimport matplotlib.pyplot as plt\\nfrom IPython.display import Latex, Markdown, set_matplotlib_formats\\n\\nfrom y0.examples import complete_hierarchy_figure_3a_example as figure_3a\\nfrom y0.examples import figure_9a, figure_9b, figure_9c\\nfrom y0.examples import (\\n    line_1_example,\\n    line_2_example,\\n    line_3_example,\\n    line_4_example,\\n    line_5_example,\\n    line_6_example,\\n    line_7_example,\\n)\\nfrom y0.algorithm.identify import Identification, identify, Unidentifiable\\nfrom y0.algorithm.identify.id_c import idc\\nfrom y0.dsl import P, Sum, D, X, Y, Z, M, Y1, Y2, W1, W2, Product, Variable\\nfrom y0.dsl import _get_treatment_variables, _get_outcome_variables\\nfrom y0.algorithm.identify.id_std import (\\n    line_1,\\n    line_2,\\n    line_3,\\n    line_4,\\n    line_5,\\n    line_6,\\n    line_7,\\n)\\nfrom y0.graph import NxMixedGraph\\nfrom y0.dsl import Variable\";\n",
       "                var nbb_cells = Jupyter.notebook.get_cells();\n",
       "                for (var i = 0; i < nbb_cells.length; ++i) {\n",
       "                    if (nbb_cells[i].input_prompt_number == nbb_cell_id) {\n",
       "                        if (nbb_cells[i].get_text() == nbb_unformatted_code) {\n",
       "                             nbb_cells[i].set_text(nbb_formatted_code);\n",
       "                        }\n",
       "                        break;\n",
       "                    }\n",
       "                }\n",
       "            }, 500);\n",
       "            "
      ],
      "text/plain": [
       "<IPython.core.display.Javascript object>"
      ]
     },
     "metadata": {},
     "output_type": "display_data"
    }
   ],
   "source": [
    "import itertools as itt\n",
    "from typing import Callable, Collection, Iterable, Set, Tuple, Union\n",
    "\n",
    "from scipy.stats import bernoulli\n",
    "import matplotlib.pyplot as plt\n",
    "from IPython.display import Latex, Markdown, set_matplotlib_formats\n",
    "\n",
    "from y0.examples import complete_hierarchy_figure_3a_example as figure_3a\n",
    "from y0.examples import figure_9a, figure_9b, figure_9c\n",
    "from y0.examples import (\n",
    "    line_1_example,\n",
    "    line_2_example,\n",
    "    line_3_example,\n",
    "    line_4_example,\n",
    "    line_5_example,\n",
    "    line_6_example,\n",
    "    line_7_example,\n",
    ")\n",
    "from y0.algorithm.identify import Identification, identify, Unidentifiable\n",
    "from y0.algorithm.identify.id_c import idc\n",
    "from y0.dsl import P, Sum, D, X, Y, Z, M, Y1, Y2, W1, W2, Product, Variable\n",
    "from y0.dsl import _get_treatment_variables, _get_outcome_variables\n",
    "from y0.algorithm.identify.id_std import (\n",
    "    line_1,\n",
    "    line_2,\n",
    "    line_3,\n",
    "    line_4,\n",
    "    line_5,\n",
    "    line_6,\n",
    "    line_7,\n",
    ")\n",
    "from y0.graph import NxMixedGraph\n",
    "from y0.dsl import Variable"
   ]
  },
  {
   "cell_type": "code",
   "execution_count": 3,
   "metadata": {},
   "outputs": [
    {
     "data": {
      "application/javascript": [
       "\n",
       "            setTimeout(function() {\n",
       "                var nbb_cell_id = 3;\n",
       "                var nbb_unformatted_code = \"set_matplotlib_formats(\\\"svg\\\")\";\n",
       "                var nbb_formatted_code = \"set_matplotlib_formats(\\\"svg\\\")\";\n",
       "                var nbb_cells = Jupyter.notebook.get_cells();\n",
       "                for (var i = 0; i < nbb_cells.length; ++i) {\n",
       "                    if (nbb_cells[i].input_prompt_number == nbb_cell_id) {\n",
       "                        if (nbb_cells[i].get_text() == nbb_unformatted_code) {\n",
       "                             nbb_cells[i].set_text(nbb_formatted_code);\n",
       "                        }\n",
       "                        break;\n",
       "                    }\n",
       "                }\n",
       "            }, 500);\n",
       "            "
      ],
      "text/plain": [
       "<IPython.core.display.Javascript object>"
      ]
     },
     "metadata": {},
     "output_type": "display_data"
    }
   ],
   "source": [
    "set_matplotlib_formats(\"svg\")"
   ]
  },
  {
   "cell_type": "markdown",
   "metadata": {},
   "source": [
    "# The Do-calculus\n"
   ]
  },
  {
   "cell_type": "markdown",
   "metadata": {},
   "source": [
    "\n",
    "Representing an interventional probability using 3 different notations:\n",
    "\n",
    "* **counterfactual notation**: An intervention is represented as a subscript on the outcome variables. Note that this is strictly more expressive, as it can represent probabilistic expressions over multiple worlds, such as $P(y'_{x'} | x,y)$\n",
    "* **y0 counterfactual notation**:  An intervention is represented as an `@` on the outcome variables, and intervening on values that are different from the observed value are represented with a unary `~`, such as `P(~y @ ~x | x, y)`\n",
    "* **do-notation**: an intervention is on the rhs of a conditional, wrapped in a $do()$ function: $P(y|do(x))$ \n",
    "* **interventional distribution notation**: An intervention is represented as a subscript on the Probabilistic expression: $P_x(y)$ \n",
    "* **y0 interventional distribution notation**: An intervention is represented as an array `getitem` on the Probabilistic expression: `P[x](y)`\n",
    "\n",
    "$$P(y_x) = P(y|do(x)) = P_x(y) = \\texttt{P[x](Y)} = \\texttt{P(Y @ x)}$$\n"
   ]
  },
  {
   "cell_type": "markdown",
   "metadata": {},
   "source": [
    "## Rule 1: Ignoring observations\n",
    "\n",
    "\n",
    "$$\\newcommand\\ci{\\perp\\!\\!\\!\\perp}$$\n",
    "$$\\newcommand{\\ubar}[1]{\\underset{\\bar{}}{#1}}\n",
    "\\newcommand{\\obar}[1]{\\overset{\\bar{}}{#1}}$$\n",
    "\n",
    "$$P(y|do(x),{\\color{blue}z},w) = P(y|do(x),w)\\text{ if } ( Y\\ci Z|X,W )_{G_{\\bar{X}}}$$\n",
    "\n",
    "or in the interventional distribution notation:\n",
    "\n",
    "$$P_x(y|{\\color{blue}z},w) = P_x(y|w)\\text{ if } ( Y\\ci Z|X,W )_{G_{\\bar{X}}}$$"
   ]
  },
  {
   "cell_type": "markdown",
   "metadata": {},
   "source": [
    "## Rule 2: Action/Observation Change\n",
    "\n",
    "$$P(y|do(x), \\color{red}{do(z)}, w) = P(y|do(x),\\color{red} z, w)\\text{ if } (Y\\ci Z|X,W)_{G_{\\bar{X},\\ubar{Z}}}$$\n",
    "or in interventional distribution notation:\n",
    "\n",
    "$$P_{x,\\color{red}z}(y|w) = P_x(y|\\color{red}z,w) \\text{ if } (Y\\ci Z|X,W)_{G_{\\bar{X},\\ubar{Z}}}$$\n",
    "\n",
    "Where $G_{\\bar{X},\\ubar{Z}}$  is taken to mean the graph obtained from $G$ by removing arrows pointing to $X$ and arrows leaving $Z$. "
   ]
  },
  {
   "cell_type": "markdown",
   "metadata": {},
   "source": [
    "## Rule 3: Ignoring actions\n",
    "\n",
    "$$P(y|do(x),\\color{green}{do(z)},w) = P(y|do(x),w)\\text{ if }(Y\\ci Z|X,W)_{G_{\\bar{X}\\bar{Z(W)}}}$$\n",
    "\n",
    "or in interventional distribution notation:\n",
    "$$P_{x,\\color{green}{z}}(y|w) = P_x(y|w)\\text{ if }(Y\\ci Z|X,W)_{G_{\\bar{X}\\bar{Z(W)}}}$$\n",
    "\n",
    "where $Z(W)$ is the set of $Z$ nodes not ancestors of any $W$-node in $G_{\\bar{X}}$.\n",
    "\n"
   ]
  },
  {
   "cell_type": "markdown",
   "metadata": {},
   "source": [
    "# Concepts required to understand ID algorithm\n",
    "\n",
    "This notebook was meant to accompany the following paper about the ID and IDC algorithm:\n",
    "\n",
    "[Complete Identification Methods for the Causal Hierarchy](https://www.jmlr.org/papers/v9/shpitser08a.html)\n",
    "Ilya Shpitser, Judea Pearl; 9(64):1941−1979, 2008.\n",
    "\n"
   ]
  },
  {
   "cell_type": "markdown",
   "metadata": {
    "tags": []
   },
   "source": [
    "## Theorem 2: The bow arc is not identifiable.\n",
    "\n",
    "We construct two causal models $M1$ and $M2$ such that $P^{M1}(x, y)=P^{M2}(x, y)$, and $P^{M1}(y|do(x))\\ne P^{M2}(y|do(x))$. The two models agree on the following: \n",
    "* all 3 variables are boolean, \n",
    "* $U$ is a fair coin, \n",
    "* and $f_X(u)=u$. \n",
    "* they have the same graphical structure, shown below:\n",
    "\n",
    "![bow arc](bow-arc.png)\n",
    "\n",
    "Let $⊕$ denote the exclusive not or (XNOR) function. Then the value of $Y$ is determined by the function $u⊕x$ in $M1$, while $Y$ is set to $y$ in $M2$. Then \n",
    "* $P^{M1}(y)=P^{M2}(y)=1$, \n",
    "* $P^{M1}( x)=P^{M2}( x)=0.5$. \n",
    "\n",
    "Therefore, $P^{M1}(X, Y)=P^{M2}(X, Y)$, while $P^{M2}(y |do(x))=1\\ne P^{M1}(y|do(x))=0.5$."
   ]
  },
  {
   "cell_type": "code",
   "execution_count": 10,
   "metadata": {},
   "outputs": [
    {
     "data": {
      "text/plain": [
       "(True, True)"
      ]
     },
     "execution_count": 10,
     "metadata": {},
     "output_type": "execute_result"
    }
   ],
   "source": [
    "def M1(u: bool) -> Tuple[bool, bool]:\n",
    "    \"\"\"The value of Y is determined by u XNOR x\"\"\"\n",
    "    x = u\n",
    "    y = not (x ^ u)\n",
    "    return x, y\n",
    "\n",
    "\n",
    "def M2(u: bool) -> Tuple[bool, bool]:\n",
    "    \"\"\"The value of Y is always True\"\"\"\n",
    "    x = u\n",
    "    y = True | u | x\n",
    "    return x, y\n",
    "\n",
    "\n",
    "M1(True) == M2(True), M1(False) == M2(False)"
   ]
  },
  {
   "cell_type": "markdown",
   "metadata": {},
   "source": [
    "$$\\begin{eqnarray}\n",
    "M1(u) &=&  M2(u)  \\\\\n",
    "M1(\\lnot u) &=& M2(\\lnot u)\\\\\n",
    "\\end{eqnarray}$$\n",
    "\n",
    "\n",
    "\n"
   ]
  },
  {
   "cell_type": "code",
   "execution_count": 7,
   "metadata": {},
   "outputs": [
    {
     "data": {
      "text/plain": [
       "(True, False)"
      ]
     },
     "execution_count": 7,
     "metadata": {},
     "output_type": "execute_result"
    }
   ],
   "source": [
    "def M1x(u: bool) -> Tuple[bool, bool]:\n",
    "    \"\"\"X is always True but Y is determined by u XOR x\"\"\"\n",
    "    x = True\n",
    "    y = not (x ^ u)\n",
    "    return x, y\n",
    "\n",
    "\n",
    "def M2x(u: bool) -> Tuple[bool, bool]:\n",
    "    \"\"\"X is always True and Y is always True\"\"\"\n",
    "    x = True\n",
    "    y = True | u | x\n",
    "    return x, y\n",
    "\n",
    "\n",
    "M1x(True) == M2x(True), M1x(False) == M2x(False)"
   ]
  },
  {
   "cell_type": "markdown",
   "metadata": {},
   "source": [
    "$$\\begin{eqnarray}\n",
    "M1_x(u) & = & M2_x(u) \\\\\n",
    "M1_x(\\lnot u) & \\neq & M2_x(\\lnot u) \\\\\n",
    "\\end{eqnarray}$$\n",
    "\n",
    "\n",
    "Now, suppose $u$ is a latent variable, but you can observe the marginal probability distributions $P(x)$ and $P(y)$ from each model. \n",
    "\n",
    "* Can we distinguish between the probability distributions of the observed models $P^{M1}(x,y)$ and $P^{M2}(x, y)$?\n",
    "* Can we distinguish between the probability distributions of the intervented models $P^{M1}(y | do(x))$ and $P^{M2}(y | do(x))$?\n",
    "\n"
   ]
  },
  {
   "cell_type": "code",
   "execution_count": 9,
   "metadata": {},
   "outputs": [
    {
     "data": {
      "text/markdown": [
       "\n",
       "$$P^{M1}(y) = 100.0%\n",
       "\\%= P^{M2}(y) = 100.0%\n",
       "\\%$$\n",
       "$$P^{M1}(x) = 50.0%\n",
       "\\%\\approx P^{M2}(x) = 50.2%\n",
       "\\%$$\n",
       "\n",
       "$$P^{M1}(y | do(x)) = 50.0%\n",
       "\\%\\neq P^{M2}(y| do(x)) = 100.0%\n",
       "\\%$$\n"
      ],
      "text/plain": [
       "<IPython.core.display.Markdown object>"
      ]
     },
     "metadata": {},
     "output_type": "display_data"
    }
   ],
   "source": [
    "def Prob(\n",
    "    model: Callable[[bool], Tuple[bool, bool]],\n",
    "    X: Union[bool, None] = None,\n",
    "    Y: Union[bool, None] = None,\n",
    "    p: float = 0.5,\n",
    "    samples: int = 500000,\n",
    ") -> float:\n",
    "    \"\"\"Compute the probability of X and/or Y\"\"\"\n",
    "    u = bernoulli.rvs(p, size=samples)\n",
    "    joint = [model(bool(u_i)) for u_i in u]\n",
    "    count = 0\n",
    "    for x, y in joint:\n",
    "        if X is not None and Y is not None and X == x and Y == y:\n",
    "            count += 1\n",
    "        elif Y is None and X == x:\n",
    "            count += 1\n",
    "        elif X is None and Y == y:\n",
    "            count += 1\n",
    "    return count / float(samples)\n",
    "\n",
    "\n",
    "PM1 = r\"P^{M1}\"\n",
    "PM2 = r\"P^{M2}\"\n",
    "display(\n",
    "    Markdown(\n",
    "        f\"\"\"\n",
    "$${PM1}(y) = {Prob(M1, Y=True):.1%}\n",
    "\\\\%= {PM2}(y) = {Prob(M2, Y=True):.1%}\n",
    "\\\\%$$\n",
    "$${PM1}(x) = {Prob(M1, X=True):.1%}\n",
    "\\\\%\\\\approx {PM2}(x) = {Prob(M2, X=True):.1%}\n",
    "\\\\%$$\n",
    "\n",
    "$${PM1}(y | do(x)) = {Prob(M1x, Y=True):.1%}\n",
    "\\\\%\\\\neq {PM2}(y| do(x)) = {Prob(M2x, Y=True):.1%}\n",
    "\\\\%$$\n",
    "\"\"\"\n",
    "    )\n",
    ")"
   ]
  },
  {
   "cell_type": "markdown",
   "metadata": {},
   "source": [
    "\n",
    "\n",
    "Since the marginal distributions of the observed models $P^{M1}(x) = P^{M2}(x)$ and $P^{M1}(y) = P^{M2}(y)$ are the same, then the joint probability distribution of the observed models  $P^{M1}(x,y) = P^{M2}(x,y)$ is the same.\n",
    "\n",
    "However, the marginal probability distribution of the intervened models $P^{M1}(y | do(x)) \\neq P^{M2}(y | do(x))$ is different.\n",
    "\n",
    "Note that because the exogenous variable $u$ is latent and causes both $x$ and $y$, we can represent the latent confounder with a dashed bidirected edge.  Now $M1$ and $M2$ have the so-called bow-arc graphical structure:\n",
    "\n",
    "![bow arc](bow-arc2.png)\n",
    "\n",
    "Because the observational distribution of two models with the same bow arc graphical structure is the same, but the interventional distribution can be different, **the bow arc is not identifiable**."
   ]
  },
  {
   "cell_type": "markdown",
   "metadata": {},
   "source": [
    "## Trees point toward the root!\n",
    "\n",
    "In computer science, the root of a tree has no parents, the leaves have no children, and all nodes have at most one parent.\n",
    "\n",
    "In the Pearlian world, the arrows point in the opposite direction, so the root of a tree has no children, the leaves have no parents, and all nodes have at most one child.   \n",
    "\n"
   ]
  },
  {
   "cell_type": "markdown",
   "metadata": {},
   "source": [
    "## $An( Y )$ includes $Y$\n",
    "\n",
    "From \"[A General Identification Condition for Causal Effects](https://ftp.cs.ucla.edu/pub/stat_ser/R290-A.pdf)\" by Tian and Pearl 2002:\n",
    "\n",
    "Let  $An( S )$ denote  the  union  of  a  set $S$ and  the  set  of ancestors of the variables in $S$, and let $G_{An( S )}$ denote the subgraph of $G$ composed only of variables in $An( S )$."
   ]
  },
  {
   "cell_type": "markdown",
   "metadata": {},
   "source": [
    "## C-component\n",
    "Let $G$ be a semi-Markovian graph such that a subset of its bidirected arcs forms a spanning tree over all vertices in $G.$Then $G$ is a C-component(confounded component).\n",
    "\n",
    "Let a path composed entirely of bidirected\n",
    "edges be called a bidirected path. The set of variables $V$ can\n",
    "be partitioned into disjoint groups by assigning two variables\n",
    "to the same group if and only if they are connected by a\n",
    "bidirected path. \n",
    "\n",
    "\n",
    "\n",
    "![Causal graphs admitting identifiable effect $P(y|d o(\\mathbf{x} ))$](images/Figure-2.png) \n",
    "\n",
    "\n",
    "\n",
    "How many C-components does each causal graph contain?"
   ]
  },
  {
   "cell_type": "markdown",
   "metadata": {},
   "source": [
    "## Definition 4: (C-tree)\n",
    "\n",
    "Let $G$ be a semi-Markovian graph such that $G$ is a C-component, all observable nodes have at most one child, and there is a node $Y$ such that $An(Y)_G= G$.Then $G$ is a $Y$-rooted C-tree (confounded tree).\n",
    "\n"
   ]
  },
  {
   "cell_type": "markdown",
   "metadata": {},
   "source": [
    "## Theorem 3\n",
    "\n",
    "Let $G$ be a $Y$-rooted C-tree. Then the effect of any set of nodes $\\mathbf{X}$ in $G$ on $Y$ is not identifiable if $Y\\not\\in \\mathbf{X}$.\n",
    "\n",
    "![Causal graphs where $P(y|do(x)$ is not identifiable](images/Figure-1.png)\n"
   ]
  },
  {
   "cell_type": "markdown",
   "metadata": {},
   "source": [
    "## Definition 5 (C-forest):\n",
    "\n",
    "Let $G$ be a semi-Markovian graph, where $\\mathbf{Y}$ is the root set. Then $G$ is a $\\mathbf{Y}$-rooted C-forest(confounded forest) if $G$ is a C-component, and all observable nodes have at most one child.\n",
    "\n",
    "![A graph hedge-less for $P(y|do(x))$ and a graph containing a hedge for $P(y|do(x))$](images/Figure-3.png)\n",
    "\n",
    "Note that Figure  3b is not a C-forest because $W_1$ has more than one child."
   ]
  },
  {
   "cell_type": "markdown",
   "metadata": {},
   "source": [
    "## Definition 6 (hedge):\n",
    "\n",
    "Let $\\mathbf{X},\\mathbf{Y}$ be disjoint sets of variables in $G$. Let $F$, $F'$ be $\\mathbf{R}$-rooted C-forests such that $F'$ is a subgraph of $F$, $\\mathbf{X}$ only occur in $F$, and $\\mathbf{R}\\in An(\\mathbf{Y})_{G_{\\bar{\\mathbf{ X}}}}$  Then $F$ and $F'$ form a hedge for $P(\\mathbf{y}|do(\\mathbf{x}))$\n",
    "\n",
    "\n",
    "\n",
    "The mental picture for a hedge is as follows. We start with original graph $G$\n",
    "\n",
    "<img src=\"images/Figure-3b.png\" alt=\"Drawing\" style=\"width: 300px;\"/>\n",
    "\n",
    "Then we trim the graph by $do(\\mathbf{x})$ so that incoming edges to $\\mathbf{X}$ are removed.  This is\n",
    "the C-forest $F$.\n",
    "\n",
    "\n",
    "<img src=\"images/Figure-3b-F.png\" alt=\"Drawing\" style=\"width: 300px;\"/>\n",
    "\n",
    "Finally, we prune $\\mathbf{X}$ entirely, leaving the C-forest $F'$.\n",
    "\n",
    "<img src=\"images/Figure-3b-F-prime.png\" alt=\"Drawing\" style=\"width: 300px;\"/>\n",
    "\n",
    "It's easy to check that every graph in Fig. 1 contains a pair of C-forests that form a hedge for $P_x(Y)$.\n",
    "\n",
    "\n",
    "Note that Figure 3a does not contain a hedge because $W_1$ is a root that is not an ancestor of $Y_1$ or $Y_2$ in the C-forests $F$ and $F'$.\n",
    "\n",
    "<img src=\"images/Figure-3a-F.png\" alt=\"Drawing\" style=\"width: 300px;\"/>\n",
    "\n",
    "<img src=\"images/Figure-3a-F-prime.png\" alt=\"Drawing\" style=\"width: 300px;\"/>\n",
    "\n",
    "In fact, if $W_1$ was an outcome variable, then it would form a hedge and $P(y_1, y_2, w_1 | do(x))$ would not be identifiable."
   ]
  },
  {
   "cell_type": "markdown",
   "metadata": {},
   "source": [
    "## Theorem 17 \n",
    "\n",
    "Let $F, F'$ be subgraphs of $G$ which form a hedge for $P(\\mathbf{y}|do(x))$. Then $P(\\mathbf{v}), G \\not\\models_{id} P(\\mathbf{y}|do(\\mathbf{x}))$. \n",
    "\n",
    "![Causal graphs admitting identifiable effect $P(y|do(x))$](images/Figure-2.png)"
   ]
  },
  {
   "cell_type": "markdown",
   "metadata": {},
   "source": [
    "# A complete identification algorithm. "
   ]
  },
  {
   "cell_type": "code",
   "execution_count": 4,
   "metadata": {},
   "outputs": [
    {
     "data": {
      "image/png": "[encoded data removed]",
      "text/plain": [
       "<Figure size 432x288 with 1 Axes>"
      ]
     },
     "metadata": {},
     "output_type": "display_data"
    },
    {
     "data": {
      "application/javascript": [
       "\n",
       "            setTimeout(function() {\n",
       "                var nbb_cell_id = 4;\n",
       "                var nbb_unformatted_code = \"estimand = P(X, W1, W2, Y1, Y2)\\nquery = P(Y1 @ X, Y2 @ X)\\nid_in = Identification.from_expression(\\n    query=query, graph=figure_3a.graph, estimand=estimand\\n)\\ngraph = id_in.graph\\ntreatments = id_in.treatments\\noutcomes = id_in.outcomes\\nfigure_3a.graph.draw(title=query._repr_latex_())\";\n",
       "                var nbb_formatted_code = \"estimand = P(X, W1, W2, Y1, Y2)\\nquery = P(Y1 @ X, Y2 @ X)\\nid_in = Identification.from_expression(\\n    query=query, graph=figure_3a.graph, estimand=estimand\\n)\\ngraph = id_in.graph\\ntreatments = id_in.treatments\\noutcomes = id_in.outcomes\\nfigure_3a.graph.draw(title=query._repr_latex_())\";\n",
       "                var nbb_cells = Jupyter.notebook.get_cells();\n",
       "                for (var i = 0; i < nbb_cells.length; ++i) {\n",
       "                    if (nbb_cells[i].input_prompt_number == nbb_cell_id) {\n",
       "                        if (nbb_cells[i].get_text() == nbb_unformatted_code) {\n",
       "                             nbb_cells[i].set_text(nbb_formatted_code);\n",
       "                        }\n",
       "                        break;\n",
       "                    }\n",
       "                }\n",
       "            }, 500);\n",
       "            "
      ],
      "text/plain": [
       "<IPython.core.display.Javascript object>"
      ]
     },
     "metadata": {},
     "output_type": "display_data"
    }
   ],
   "source": [
    "estimand = P(X, W1, W2, Y1, Y2)\n",
    "query = P(Y1 @ X, Y2 @ X)\n",
    "id_in = Identification.from_expression(query=query, graph=figure_3a.graph, estimand=estimand)\n",
    "graph = id_in.graph\n",
    "treatments = id_in.treatments\n",
    "outcomes = id_in.outcomes\n",
    "figure_3a.graph.draw(title=query._repr_latex_())"
   ]
  },
  {
   "cell_type": "markdown",
   "metadata": {},
   "source": [
    "## ID algorithm\n",
    "\n",
    "$\\text{function }\\mathbf{ID}\\left(\\mathbf y, \\mathbf x, P, G\\right) \\\\ \\text{INPUT: } \\mathbf{x,y}\\text{ value assignments, $P$ a probability distribution, $G$ a causal diagram}. \\\\  \\text{OUTPUT:  Expression for $P_{\\mathbf x}(\\mathbf y)$ in terms of $P$ or $\\mathbf{FAIL}(F, F')$} $\n",
    "\n",
    "### Line 1\n",
    "1. $\\text{if }{\\mathbf x} =\\emptyset \\text{ return }\\sum_{\\mathbf v - \\mathbf y}P({\\mathbf v})$. &nbsp;&nbsp;&nbsp; \n",
    "\n",
    " If no action has been taken, the effect on $\\mathbf Y$ is just the marginal of the observational distribution $P(\\mathbf v)$ on $\\mathbf Y$. \n",
    " "
   ]
  },
  {
   "cell_type": "code",
   "execution_count": 5,
   "metadata": {},
   "outputs": [
    {
     "data": {
      "text/latex": [
       "$\\sum_{Z} P(Y, Z)$"
      ],
      "text/plain": [
       "Sum[Z](P(Y, Z))"
      ]
     },
     "execution_count": 5,
     "metadata": {},
     "output_type": "execute_result"
    },
    {
     "data": {
      "image/png": "[encoded data removed]",
      "text/plain": [
       "<Figure size 432x288 with 1 Axes>"
      ]
     },
     "metadata": {},
     "output_type": "display_data"
    },
    {
     "data": {
      "application/javascript": [
       "\n",
       "            setTimeout(function() {\n",
       "                var nbb_cell_id = 5;\n",
       "                var nbb_unformatted_code = \"id_in = Identification.from_expression(\\n    query=P(Y), estimand=P(Y, Z), graph=NxMixedGraph.from_edges(directed=[(Z, Y)])\\n)\\nid_in.graph.draw()\\n\\nline_1(id_in)\";\n",
       "                var nbb_formatted_code = \"id_in = Identification.from_expression(\\n    query=P(Y), estimand=P(Y, Z), graph=NxMixedGraph.from_edges(directed=[(Z, Y)])\\n)\\nid_in.graph.draw()\\n\\nline_1(id_in)\";\n",
       "                var nbb_cells = Jupyter.notebook.get_cells();\n",
       "                for (var i = 0; i < nbb_cells.length; ++i) {\n",
       "                    if (nbb_cells[i].input_prompt_number == nbb_cell_id) {\n",
       "                        if (nbb_cells[i].get_text() == nbb_unformatted_code) {\n",
       "                             nbb_cells[i].set_text(nbb_formatted_code);\n",
       "                        }\n",
       "                        break;\n",
       "                    }\n",
       "                }\n",
       "            }, 500);\n",
       "            "
      ],
      "text/plain": [
       "<IPython.core.display.Javascript object>"
      ]
     },
     "metadata": {},
     "output_type": "display_data"
    }
   ],
   "source": [
    "id_in = Identification.from_expression(\n",
    "    query=P(Y), estimand=P(Y, Z), graph=NxMixedGraph.from_edges(directed=[(Z, Y)])\n",
    ")\n",
    "id_in.graph.draw()\n",
    "\n",
    "line_1(id_in)"
   ]
  },
  {
   "cell_type": "markdown",
   "metadata": {
    "tags": []
   },
   "source": [
    "### Line 2 \n",
    "2. $\\text{if }\\mathbf V - An(\\mathbf Y)_G \\neq \\emptyset \\\\  \\text{ return } \\mathbf{ ID}\\left(\\mathbf y, \\mathbf x\\cap An(\\mathbf Y)_G, \\sum_{\\mathbf V - An(Y)_G}P, G_{An(\\mathbf Y)}\\right)$\n",
    "\n",
    " If we are interested in the effect on $\\mathbf Y$, it is sufficient to restrict our attention on the parts of the model ancestral to $\\mathbf Y$.\n",
    " "
   ]
  },
  {
   "cell_type": "code",
   "execution_count": 6,
   "metadata": {},
   "outputs": [
    {
     "data": {
      "text/plain": [
       "None"
      ]
     },
     "metadata": {},
     "output_type": "display_data"
    },
    {
     "data": {
      "image/png": "[encoded data removed]",
      "text/plain": [
       "<Figure size 432x288 with 1 Axes>"
      ]
     },
     "metadata": {},
     "output_type": "display_data"
    },
    {
     "data": {
      "application/javascript": [
       "\n",
       "            setTimeout(function() {\n",
       "                var nbb_cell_id = 6;\n",
       "                var nbb_unformatted_code = \"id_in = Identification.from_expression(\\n    query=P(Y @ X),\\n    estimand=P(X, Y, Z),\\n    graph=NxMixedGraph.from_edges(directed=[(Z, Y), (Y, X)], undirected=[(Z, X)]),\\n)\\ndisplay(id_in.graph.draw())\";\n",
       "                var nbb_formatted_code = \"id_in = Identification.from_expression(\\n    query=P(Y @ X),\\n    estimand=P(X, Y, Z),\\n    graph=NxMixedGraph.from_edges(directed=[(Z, Y), (Y, X)], undirected=[(Z, X)]),\\n)\\ndisplay(id_in.graph.draw())\";\n",
       "                var nbb_cells = Jupyter.notebook.get_cells();\n",
       "                for (var i = 0; i < nbb_cells.length; ++i) {\n",
       "                    if (nbb_cells[i].input_prompt_number == nbb_cell_id) {\n",
       "                        if (nbb_cells[i].get_text() == nbb_unformatted_code) {\n",
       "                             nbb_cells[i].set_text(nbb_formatted_code);\n",
       "                        }\n",
       "                        break;\n",
       "                    }\n",
       "                }\n",
       "            }, 500);\n",
       "            "
      ],
      "text/plain": [
       "<IPython.core.display.Javascript object>"
      ]
     },
     "metadata": {},
     "output_type": "display_data"
    }
   ],
   "source": [
    "id_in = Identification.from_expression(\n",
    "    query=P(Y @ X),\n",
    "    estimand=P(X, Y, Z),\n",
    "    graph=NxMixedGraph.from_edges(directed=[(Z, Y), (Y, X)], undirected=[(Z, X)]),\n",
    ")\n",
    "display(id_in.graph.draw())"
   ]
  },
  {
   "cell_type": "code",
   "execution_count": 7,
   "metadata": {},
   "outputs": [
    {
     "data": {
      "text/plain": [
       "None"
      ]
     },
     "metadata": {},
     "output_type": "display_data"
    },
    {
     "data": {
      "image/png": "[encoded data removed]",
      "text/plain": [
       "<Figure size 432x288 with 1 Axes>"
      ]
     },
     "metadata": {},
     "output_type": "display_data"
    },
    {
     "data": {
      "application/javascript": [
       "\n",
       "            setTimeout(function() {\n",
       "                var nbb_cell_id = 7;\n",
       "                var nbb_unformatted_code = \"id_out = line_2(id_in)\\ndisplay(id_out.graph.draw())\";\n",
       "                var nbb_formatted_code = \"id_out = line_2(id_in)\\ndisplay(id_out.graph.draw())\";\n",
       "                var nbb_cells = Jupyter.notebook.get_cells();\n",
       "                for (var i = 0; i < nbb_cells.length; ++i) {\n",
       "                    if (nbb_cells[i].input_prompt_number == nbb_cell_id) {\n",
       "                        if (nbb_cells[i].get_text() == nbb_unformatted_code) {\n",
       "                             nbb_cells[i].set_text(nbb_formatted_code);\n",
       "                        }\n",
       "                        break;\n",
       "                    }\n",
       "                }\n",
       "            }, 500);\n",
       "            "
      ],
      "text/plain": [
       "<IPython.core.display.Javascript object>"
      ]
     },
     "metadata": {},
     "output_type": "display_data"
    }
   ],
   "source": [
    "id_out = line_2(id_in)\n",
    "display(id_out.graph.draw())"
   ]
  },
  {
   "cell_type": "markdown",
   "metadata": {},
   "source": [
    "### Line 3\n",
    "3. $\\text{let }\\mathbf W = (\\mathbf V - X) - An(\\mathbf Y)_{G_{\\bar{\\mathbf X}}}. \\\\ \\text{if } \\mathbf W \\neq \\emptyset, \\text{ return } \\mathbf{ID}\\left(\\mathbf y, \\mathbf x\\cup \\mathbf w, P, G\\right)$\n",
    "\n",
    " Forces an action on any node where such an action would have no effect on $\\mathbf Y$—assuming we already acted on $\\mathbf X$. Since actions remove incoming arrows, we can view line 3 as simplifying the causal graph we consider by removing certain arcs from the graph, without affecting the overall answer.\n",
    " "
   ]
  },
  {
   "cell_type": "code",
   "execution_count": 8,
   "metadata": {},
   "outputs": [
    {
     "data": {
      "text/plain": [
       "{X}"
      ]
     },
     "execution_count": 8,
     "metadata": {},
     "output_type": "execute_result"
    },
    {
     "data": {
      "application/javascript": [
       "\n",
       "            setTimeout(function() {\n",
       "                var nbb_cell_id = 8;\n",
       "                var nbb_unformatted_code = \"id_in = Identification.from_expression(\\n    query=P(Y @ X),\\n    estimand=P(X, Y, Z),\\n    graph=NxMixedGraph.from_edges(directed=[(Z, X), (X, Y)], undirected=[(Z, X)]),\\n)\\nid_in.query.treatments\";\n",
       "                var nbb_formatted_code = \"id_in = Identification.from_expression(\\n    query=P(Y @ X),\\n    estimand=P(X, Y, Z),\\n    graph=NxMixedGraph.from_edges(directed=[(Z, X), (X, Y)], undirected=[(Z, X)]),\\n)\\nid_in.query.treatments\";\n",
       "                var nbb_cells = Jupyter.notebook.get_cells();\n",
       "                for (var i = 0; i < nbb_cells.length; ++i) {\n",
       "                    if (nbb_cells[i].input_prompt_number == nbb_cell_id) {\n",
       "                        if (nbb_cells[i].get_text() == nbb_unformatted_code) {\n",
       "                             nbb_cells[i].set_text(nbb_formatted_code);\n",
       "                        }\n",
       "                        break;\n",
       "                    }\n",
       "                }\n",
       "            }, 500);\n",
       "            "
      ],
      "text/plain": [
       "<IPython.core.display.Javascript object>"
      ]
     },
     "metadata": {},
     "output_type": "display_data"
    }
   ],
   "source": [
    "id_in = Identification.from_expression(\n",
    "    query=P(Y @ X),\n",
    "    estimand=P(X, Y, Z),\n",
    "    graph=NxMixedGraph.from_edges(directed=[(Z, X), (X, Y)], undirected=[(Z, X)]),\n",
    ")\n",
    "id_in.query.treatments"
   ]
  },
  {
   "cell_type": "code",
   "execution_count": 9,
   "metadata": {},
   "outputs": [
    {
     "data": {
      "text/plain": [
       "{X, Z}"
      ]
     },
     "execution_count": 9,
     "metadata": {},
     "output_type": "execute_result"
    },
    {
     "data": {
      "application/javascript": [
       "\n",
       "            setTimeout(function() {\n",
       "                var nbb_cell_id = 9;\n",
       "                var nbb_unformatted_code = \"id_out = line_3(id_in)\\nid_out.query.treatments\";\n",
       "                var nbb_formatted_code = \"id_out = line_3(id_in)\\nid_out.query.treatments\";\n",
       "                var nbb_cells = Jupyter.notebook.get_cells();\n",
       "                for (var i = 0; i < nbb_cells.length; ++i) {\n",
       "                    if (nbb_cells[i].input_prompt_number == nbb_cell_id) {\n",
       "                        if (nbb_cells[i].get_text() == nbb_unformatted_code) {\n",
       "                             nbb_cells[i].set_text(nbb_formatted_code);\n",
       "                        }\n",
       "                        break;\n",
       "                    }\n",
       "                }\n",
       "            }, 500);\n",
       "            "
      ],
      "text/plain": [
       "<IPython.core.display.Javascript object>"
      ]
     },
     "metadata": {},
     "output_type": "display_data"
    }
   ],
   "source": [
    "id_out = line_3(id_in)\n",
    "id_out.query.treatments"
   ]
  },
  {
   "cell_type": "markdown",
   "metadata": {},
   "source": [
    "### Line 4\n",
    "4. $\\text{if }C(G-\\mathbf X) = \\{S_1,\\ldots S_k\\} \\\\ \\text{ return }\\sum_{\\mathbf v - (\\mathbf y \\cup \\mathbf x)}\\prod_i\\mathbf{ID}\\left(s_i, \\mathbf v - s_i, P, G\\right) \\\\ \\text{if }C(G -\\mathbf X) = \\{S\\}$\n",
    "\n",
    "The key line of the algorithm, it decomposes the problem into a set of smaller problems using the key property of *c-component factorization* of causal models. If the entire graph is a single C-component already, further problem decomposition is impossible, and we must provide base cases. "
   ]
  },
  {
   "cell_type": "code",
   "execution_count": 10,
   "metadata": {},
   "outputs": [
    {
     "data": {
      "application/javascript": [
       "\n",
       "            setTimeout(function() {\n",
       "                var nbb_cell_id = 10;\n",
       "                var nbb_unformatted_code = \"id_in = Identification.from_expression(\\n                    query=P(Y @ X),\\n                    estimand=P(M, X, Y, Z),\\n                    graph=NxMixedGraph.from_edges(\\n                        directed=[(X, M), (Z, X), (Z, Y), (M, Y)],\\n                        undirected=[(Z, X), (M, Y)],\\n                    )\\n)\";\n",
       "                var nbb_formatted_code = \"id_in = Identification.from_expression(\\n    query=P(Y @ X),\\n    estimand=P(M, X, Y, Z),\\n    graph=NxMixedGraph.from_edges(\\n        directed=[(X, M), (Z, X), (Z, Y), (M, Y)], undirected=[(Z, X), (M, Y)],\\n    ),\\n)\";\n",
       "                var nbb_cells = Jupyter.notebook.get_cells();\n",
       "                for (var i = 0; i < nbb_cells.length; ++i) {\n",
       "                    if (nbb_cells[i].input_prompt_number == nbb_cell_id) {\n",
       "                        if (nbb_cells[i].get_text() == nbb_unformatted_code) {\n",
       "                             nbb_cells[i].set_text(nbb_formatted_code);\n",
       "                        }\n",
       "                        break;\n",
       "                    }\n",
       "                }\n",
       "            }, 500);\n",
       "            "
      ],
      "text/plain": [
       "<IPython.core.display.Javascript object>"
      ]
     },
     "metadata": {},
     "output_type": "display_data"
    }
   ],
   "source": [
    "id_in = Identification.from_expression(\n",
    "    query=P(Y @ X),\n",
    "    estimand=P(M, X, Y, Z),\n",
    "    graph=NxMixedGraph.from_edges(\n",
    "        directed=[(X, M), (Z, X), (Z, Y), (M, Y)],\n",
    "        undirected=[(Z, X), (M, Y)],\n",
    "    ),\n",
    ")"
   ]
  },
  {
   "cell_type": "code",
   "execution_count": 12,
   "metadata": {},
   "outputs": [
    {
     "data": {
      "text/latex": [
       "$\\sum_{M, Z} P({Z}_{X, M, Y}) P({M}_{X, Z}, {Y}_{X, Z})$"
      ],
      "text/plain": [
       "Sum[M, Z](P(Z @ (X, M, Y)) * P(M @ (X, Z), Y @ (X, Z)))"
      ]
     },
     "metadata": {},
     "output_type": "display_data"
    },
    {
     "data": {
      "application/javascript": [
       "\n",
       "            setTimeout(function() {\n",
       "                var nbb_cell_id = 12;\n",
       "                var nbb_unformatted_code = \"display(Sum[id_in.graph.nodes() - (id_in.query.treatments | id_in.query.outcomes)](Product([P[id_out.treatments](id_out.outcomes) for id_out in line_4(id_in)])))\";\n",
       "                var nbb_formatted_code = \"display(\\n    Sum[id_in.graph.nodes() - (id_in.query.treatments | id_in.query.outcomes)](\\n        Product([P[id_out.treatments](id_out.outcomes) for id_out in line_4(id_in)])\\n    )\\n)\";\n",
       "                var nbb_cells = Jupyter.notebook.get_cells();\n",
       "                for (var i = 0; i < nbb_cells.length; ++i) {\n",
       "                    if (nbb_cells[i].input_prompt_number == nbb_cell_id) {\n",
       "                        if (nbb_cells[i].get_text() == nbb_unformatted_code) {\n",
       "                             nbb_cells[i].set_text(nbb_formatted_code);\n",
       "                        }\n",
       "                        break;\n",
       "                    }\n",
       "                }\n",
       "            }, 500);\n",
       "            "
      ],
      "text/plain": [
       "<IPython.core.display.Javascript object>"
      ]
     },
     "metadata": {},
     "output_type": "display_data"
    }
   ],
   "source": [
    "display(\n",
    "    Sum[id_in.graph.nodes() - (id_in.query.treatments | id_in.query.outcomes)](\n",
    "        Product([P[id_out.treatments](id_out.outcomes) for id_out in line_4(id_in)])\n",
    "    )\n",
    ")"
   ]
  },
  {
   "cell_type": "markdown",
   "metadata": {},
   "source": [
    "$\\mathbf{ID}$ has three base cases. \n",
    "\n",
    "### Line 5\n",
    "5. &nbsp; &nbsp;&nbsp;$\\text{       if }C(G) = \\{G\\},\\\\  \\text{ throw }\\mathbf{FAIL}\\left(G,G\\cap S\\right)$\n",
    "\n",
    "Fails because it finds two C-components, the graph $G$ itself, and a subgraph $S$ that does not contain any $\\mathbf X$ nodes. But that is exactly one of the properties of C-forests that make up a hedge. In fact, it turns out that it is always possible to recover a hedge from these two c-components.  **FAIL** propagates through recursive calls like an exception, and returns the hedge which witnesses non-identifiability"
   ]
  },
  {
   "cell_type": "code",
   "execution_count": 11,
   "metadata": {},
   "outputs": [
    {
     "name": "stdout",
     "output_type": "stream",
     "text": [
      "this query fails\n"
     ]
    },
    {
     "data": {
      "application/javascript": [
       "\n",
       "            setTimeout(function() {\n",
       "                var nbb_cell_id = 11;\n",
       "                var nbb_unformatted_code = \"id_in = Identification.from_expression(\\n    query=P(Y @ X),\\n    estimand=P(X, Y),\\n    graph=NxMixedGraph.from_edges(directed=[(X, Y)], undirected=[(X, Y)]),\\n)\\ntry:\\n    line_5(id_in)\\nexcept Unidentifiable:\\n    print(\\\"this query fails\\\")\\nelse:\\n    raise RuntimeError(\\\"this query should have failed\\\")\";\n",
       "                var nbb_formatted_code = \"id_in = Identification.from_expression(\\n    query=P(Y @ X),\\n    estimand=P(X, Y),\\n    graph=NxMixedGraph.from_edges(directed=[(X, Y)], undirected=[(X, Y)]),\\n)\\ntry:\\n    line_5(id_in)\\nexcept Unidentifiable:\\n    print(\\\"this query fails\\\")\\nelse:\\n    raise RuntimeError(\\\"this query should have failed\\\")\";\n",
       "                var nbb_cells = Jupyter.notebook.get_cells();\n",
       "                for (var i = 0; i < nbb_cells.length; ++i) {\n",
       "                    if (nbb_cells[i].input_prompt_number == nbb_cell_id) {\n",
       "                        if (nbb_cells[i].get_text() == nbb_unformatted_code) {\n",
       "                             nbb_cells[i].set_text(nbb_formatted_code);\n",
       "                        }\n",
       "                        break;\n",
       "                    }\n",
       "                }\n",
       "            }, 500);\n",
       "            "
      ],
      "text/plain": [
       "<IPython.core.display.Javascript object>"
      ]
     },
     "metadata": {},
     "output_type": "display_data"
    }
   ],
   "source": [
    "id_in = Identification.from_expression(\n",
    "    query=P(Y @ X),\n",
    "    estimand=P(X, Y),\n",
    "    graph=NxMixedGraph.from_edges(directed=[(X, Y)], undirected=[(X, Y)]),\n",
    ")\n",
    "try:\n",
    "    line_5(id_in)\n",
    "except Unidentifiable:\n",
    "    print(\"this query fails\")\n",
    "else:\n",
    "    raise RuntimeError(\"this query should have failed\")"
   ]
  },
  {
   "cell_type": "markdown",
   "metadata": {},
   "source": [
    "### Line 6\n",
    "6. &nbsp; &nbsp;&nbsp;$\\text{ if }S\\in C(G) \\\\ \\text{ return }\\sum_{S - \\mathbf y}\\prod_{\\{i|V_i\\in S\\}}P\\left(v_i|v_\\pi^{(i-1)}\\right)$\n",
    "\n",
    "Asserts that if there are no bidirected arcs from X to the other nodes in the current subproblem under consideration, then we can replace acting on X by conditioning, and thus solve the subproblem.  $V_\\pi^{(i-1)}$ is the set of nodes preceding $V_i$ in some topological ordering $\\pi$ in $G$."
   ]
  },
  {
   "cell_type": "code",
   "execution_count": 12,
   "metadata": {},
   "outputs": [
    {
     "data": {
      "text/latex": [
       "$P(Y | X, Z)$"
      ],
      "text/plain": [
       "P(Y | X, Z)"
      ]
     },
     "execution_count": 12,
     "metadata": {},
     "output_type": "execute_result"
    },
    {
     "data": {
      "image/png": "[encoded data removed]",
      "text/plain": [
       "<Figure size 432x288 with 1 Axes>"
      ]
     },
     "metadata": {},
     "output_type": "display_data"
    },
    {
     "data": {
      "application/javascript": [
       "\n",
       "            setTimeout(function() {\n",
       "                var nbb_cell_id = 12;\n",
       "                var nbb_unformatted_code = \"id_in = Identification.from_expression(\\n    query=P(Y @ [X, Z]),\\n    estimand=P(X, Y, Z),\\n    graph=NxMixedGraph.from_edges(\\n        directed=[(X, Y), (X, Z), (Z, Y)],\\n        undirected=[(X, Z)],\\n    ),\\n)\\nid_in.graph.draw()\\nid_out = line_6(id_in)\\nid_out\";\n",
       "                var nbb_formatted_code = \"id_in = Identification.from_expression(\\n    query=P(Y @ [X, Z]),\\n    estimand=P(X, Y, Z),\\n    graph=NxMixedGraph.from_edges(\\n        directed=[(X, Y), (X, Z), (Z, Y)], undirected=[(X, Z)],\\n    ),\\n)\\nid_in.graph.draw()\\nid_out = line_6(id_in)\\nid_out\";\n",
       "                var nbb_cells = Jupyter.notebook.get_cells();\n",
       "                for (var i = 0; i < nbb_cells.length; ++i) {\n",
       "                    if (nbb_cells[i].input_prompt_number == nbb_cell_id) {\n",
       "                        if (nbb_cells[i].get_text() == nbb_unformatted_code) {\n",
       "                             nbb_cells[i].set_text(nbb_formatted_code);\n",
       "                        }\n",
       "                        break;\n",
       "                    }\n",
       "                }\n",
       "            }, 500);\n",
       "            "
      ],
      "text/plain": [
       "<IPython.core.display.Javascript object>"
      ]
     },
     "metadata": {},
     "output_type": "display_data"
    }
   ],
   "source": [
    "id_in = Identification.from_expression(\n",
    "    query=P(Y @ [X, Z]),\n",
    "    estimand=P(X, Y, Z),\n",
    "    graph=NxMixedGraph.from_edges(\n",
    "        directed=[(X, Y), (X, Z), (Z, Y)],\n",
    "        undirected=[(X, Z)],\n",
    "    ),\n",
    ")\n",
    "id_in.graph.draw()\n",
    "id_out = line_6(id_in)\n",
    "id_out"
   ]
  },
  {
   "cell_type": "markdown",
   "metadata": {},
   "source": [
    "### Line 7\n",
    "7. &nbsp; &nbsp;&nbsp;$\\text{ if }(\\exists S')S\\subset S'\\in C(G) \\\\ \\text{ return }\\mathbf{ID}\\left(\\mathbf y, \\mathbf x\\cap S', \\prod_{\\{i|V_i\\in S'\\}}P(V_i|V_\\pi^{(i-1)}\\cap S', V_\\pi^{(i-1)} - S'), G_{S'}\\right)$.\n",
    "\n",
    "The most complex case where $\\mathbf X$ is partitioned into two sets, $\\mathbf W$ which contain bidirected arcs into other nodes in the subproblem, and $\\mathbf Z$ which do not. In this situation, identifying $P(\\mathbf y|do(\\mathbf x))$ from $P(v)$ is equivalent to identifying $P(\\mathbf y|do(\\mathbf w))$ from $P(\\mathbf V|do(\\mathbf z))$, since $P(\\mathbf y|do(\\mathbf x)) = P(\\mathbf y|do(\\mathbf w), do(\\mathbf z))$. But the term $P(\\mathbf V|do(\\mathbf z))$ is identifiable using the previous base case, so we can consider the subproblem of identifying $P(\\mathbf y|do(\\mathbf w))$."
   ]
  },
  {
   "cell_type": "code",
   "execution_count": 13,
   "metadata": {},
   "outputs": [
    {
     "data": {
      "text/plain": [
       "None"
      ]
     },
     "metadata": {},
     "output_type": "display_data"
    },
    {
     "data": {
      "image/png": "[encoded data removed]",
      "text/plain": [
       "<Figure size 432x288 with 1 Axes>"
      ]
     },
     "metadata": {},
     "output_type": "display_data"
    },
    {
     "data": {
      "application/javascript": [
       "\n",
       "            setTimeout(function() {\n",
       "                var nbb_cell_id = 13;\n",
       "                var nbb_unformatted_code = \"id_in = Identification.from_expression(\\n    query=P(Y1 @ [X, W1]),\\n    estimand=P(X, Y1, W1),\\n    graph=NxMixedGraph.from_edges(directed=[(X, Y1), (W1, X)], undirected=[(W1, Y1)]),\\n)\\ndisplay(id_in.graph.draw())\";\n",
       "                var nbb_formatted_code = \"id_in = Identification.from_expression(\\n    query=P(Y1 @ [X, W1]),\\n    estimand=P(X, Y1, W1),\\n    graph=NxMixedGraph.from_edges(directed=[(X, Y1), (W1, X)], undirected=[(W1, Y1)]),\\n)\\ndisplay(id_in.graph.draw())\";\n",
       "                var nbb_cells = Jupyter.notebook.get_cells();\n",
       "                for (var i = 0; i < nbb_cells.length; ++i) {\n",
       "                    if (nbb_cells[i].input_prompt_number == nbb_cell_id) {\n",
       "                        if (nbb_cells[i].get_text() == nbb_unformatted_code) {\n",
       "                             nbb_cells[i].set_text(nbb_formatted_code);\n",
       "                        }\n",
       "                        break;\n",
       "                    }\n",
       "                }\n",
       "            }, 500);\n",
       "            "
      ],
      "text/plain": [
       "<IPython.core.display.Javascript object>"
      ]
     },
     "metadata": {},
     "output_type": "display_data"
    }
   ],
   "source": [
    "id_in = Identification.from_expression(\n",
    "    query=P(Y1 @ [X, W1]),\n",
    "    estimand=P(X, Y1, W1),\n",
    "    graph=NxMixedGraph.from_edges(directed=[(X, Y1), (W1, X)], undirected=[(W1, Y1)]),\n",
    ")\n",
    "display(id_in.graph.draw())"
   ]
  },
  {
   "cell_type": "code",
   "execution_count": 14,
   "metadata": {},
   "outputs": [
    {
     "data": {
      "text/latex": [
       "$P(Y_1 | W_1, X) P(W_1)$"
      ],
      "text/plain": [
       "P(Y1 | W1, X) * P(W1)"
      ]
     },
     "metadata": {},
     "output_type": "display_data"
    },
    {
     "data": {
      "text/plain": [
       "{Y1}"
      ]
     },
     "metadata": {},
     "output_type": "display_data"
    },
    {
     "data": {
      "text/plain": [
       "{W1}"
      ]
     },
     "metadata": {},
     "output_type": "display_data"
    },
    {
     "data": {
      "text/plain": [
       "None"
      ]
     },
     "metadata": {},
     "output_type": "display_data"
    },
    {
     "data": {
      "image/png": "[encoded data removed]",
      "text/plain": [
       "<Figure size 432x288 with 1 Axes>"
      ]
     },
     "metadata": {},
     "output_type": "display_data"
    },
    {
     "data": {
      "application/javascript": [
       "\n",
       "            setTimeout(function() {\n",
       "                var nbb_cell_id = 14;\n",
       "                var nbb_unformatted_code = \"id_out = line_7(id_in)\\ndisplay(id_out.estimand)\\ndisplay(id_out.outcomes, id_out.treatments)\\ndisplay(id_out.graph.draw())\";\n",
       "                var nbb_formatted_code = \"id_out = line_7(id_in)\\ndisplay(id_out.estimand)\\ndisplay(id_out.outcomes, id_out.treatments)\\ndisplay(id_out.graph.draw())\";\n",
       "                var nbb_cells = Jupyter.notebook.get_cells();\n",
       "                for (var i = 0; i < nbb_cells.length; ++i) {\n",
       "                    if (nbb_cells[i].input_prompt_number == nbb_cell_id) {\n",
       "                        if (nbb_cells[i].get_text() == nbb_unformatted_code) {\n",
       "                             nbb_cells[i].set_text(nbb_formatted_code);\n",
       "                        }\n",
       "                        break;\n",
       "                    }\n",
       "                }\n",
       "            }, 500);\n",
       "            "
      ],
      "text/plain": [
       "<IPython.core.display.Javascript object>"
      ]
     },
     "metadata": {},
     "output_type": "display_data"
    }
   ],
   "source": [
    "id_out = line_7(id_in)\n",
    "display(id_out.estimand)\n",
    "display(id_out.outcomes, id_out.treatments)\n",
    "display(id_out.graph.draw())"
   ]
  },
  {
   "cell_type": "markdown",
   "metadata": {},
   "source": [
    "## Example\n",
    "We give an example of the operation of the algorithm by identifying $P_x (y_1, y_2 )$ from $P(v)$ in the graph shown in in Fig. 3 (a). \n",
    "\n"
   ]
  },
  {
   "cell_type": "code",
   "execution_count": 15,
   "metadata": {},
   "outputs": [
    {
     "data": {
      "image/png": "[encoded data removed]",
      "text/plain": [
       "<Figure size 432x288 with 1 Axes>"
      ]
     },
     "metadata": {},
     "output_type": "display_data"
    },
    {
     "data": {
      "application/javascript": [
       "\n",
       "            setTimeout(function() {\n",
       "                var nbb_cell_id = 15;\n",
       "                var nbb_unformatted_code = \"estimand = P(X, W1, W2, Y1, Y2)\\nquery = P(Y1 @ X, Y2 @ X)\\nfigure_3a.graph.draw(title=query._repr_latex_())\\nid_in = Identification.from_expression(\\n    query=query, graph=figure_3a.graph, estimand=estimand\\n)\\ngraph = id_in.graph\\ntreatments = id_in.treatments\\noutcomes = id_in.outcomes\";\n",
       "                var nbb_formatted_code = \"estimand = P(X, W1, W2, Y1, Y2)\\nquery = P(Y1 @ X, Y2 @ X)\\nfigure_3a.graph.draw(title=query._repr_latex_())\\nid_in = Identification.from_expression(\\n    query=query, graph=figure_3a.graph, estimand=estimand\\n)\\ngraph = id_in.graph\\ntreatments = id_in.treatments\\noutcomes = id_in.outcomes\";\n",
       "                var nbb_cells = Jupyter.notebook.get_cells();\n",
       "                for (var i = 0; i < nbb_cells.length; ++i) {\n",
       "                    if (nbb_cells[i].input_prompt_number == nbb_cell_id) {\n",
       "                        if (nbb_cells[i].get_text() == nbb_unformatted_code) {\n",
       "                             nbb_cells[i].set_text(nbb_formatted_code);\n",
       "                        }\n",
       "                        break;\n",
       "                    }\n",
       "                }\n",
       "            }, 500);\n",
       "            "
      ],
      "text/plain": [
       "<IPython.core.display.Javascript object>"
      ]
     },
     "metadata": {},
     "output_type": "display_data"
    }
   ],
   "source": [
    "estimand = P(X, W1, W2, Y1, Y2)\n",
    "query = P(Y1 @ X, Y2 @ X)\n",
    "figure_3a.graph.draw(title=query._repr_latex_())\n",
    "id_in = Identification.from_expression(query=query, graph=figure_3a.graph, estimand=estimand)\n",
    "graph = id_in.graph\n",
    "treatments = id_in.treatments\n",
    "outcomes = id_in.outcomes"
   ]
  },
  {
   "cell_type": "markdown",
   "metadata": {},
   "source": [
    "### Identify $P_x(y_1,y_2)$ from $P(x,w_1,w_2,y_1,y_2)$\n",
    "Since $G = G_{An(\\{Y_1, Y_2\\})}$, $C(G- \\{X\\})=\\{G\\}$, and $\\mathbf{W} = \\{W_1\\}$ , we invoke line $3$ and attempt to identify $P_{x,w}(y_1, y_2 )$. "
   ]
  },
  {
   "cell_type": "code",
   "execution_count": 16,
   "metadata": {},
   "outputs": [
    {
     "data": {
      "text/markdown": [
       "Since $G=G_{An(\\{Y_1,Y_2\\})}$ and $\\mathbf{W} = \\{W1\\}$, we invoke line $3$ and attempt to identify  $$P({Y_1}_{X, W_1}, {Y_2}_{X, W_1})$$"
      ],
      "text/plain": [
       "<IPython.core.display.Markdown object>"
      ]
     },
     "metadata": {},
     "output_type": "display_data"
    },
    {
     "data": {
      "image/png": "[encoded data removed]",
      "text/plain": [
       "<Figure size 432x288 with 1 Axes>"
      ]
     },
     "metadata": {},
     "output_type": "display_data"
    },
    {
     "data": {
      "application/javascript": [
       "\n",
       "            setTimeout(function() {\n",
       "                var nbb_cell_id = 16;\n",
       "                var nbb_unformatted_code = \"vertices = set(graph.nodes())\\noutcomes_and_ancestors = graph.ancestors_inclusive(outcomes)\\nnot_outcomes_or_ancestors = vertices.difference(outcomes_and_ancestors)\\nif not not_outcomes_or_ancestors:\\n    intervened_graph = graph.remove_in_edges(treatments)\\n    no_effect_on_outcome = (\\n        vertices - treatments\\n    ) - intervened_graph.ancestors_inclusive(outcomes)\\n    if no_effect_on_outcome:\\n        line_3_out = line_3(id_in)\\n        display(\\n            Markdown(\\n                r\\\"Since $G=G_{An(\\\\{Y_1,Y_2\\\\})}$ and \\\"\\n                + r\\\"$\\\\mathbf{W} = \\\\{\\\"\\n                + \\\",\\\".join(str(w) for w in no_effect_on_outcome)\\n                + r\\\"\\\\}$, we invoke line $3$ and attempt to identify \\\"\\n                f\\\" ${line_3_out.query.expression._repr_latex_()}$\\\"\\n            )\\n        )\\n    line_3_out.graph.draw(title=line_3_out.query.expression._repr_latex_())\";\n",
       "                var nbb_formatted_code = \"vertices = set(graph.nodes())\\noutcomes_and_ancestors = graph.ancestors_inclusive(outcomes)\\nnot_outcomes_or_ancestors = vertices.difference(outcomes_and_ancestors)\\nif not not_outcomes_or_ancestors:\\n    intervened_graph = graph.remove_in_edges(treatments)\\n    no_effect_on_outcome = (\\n        vertices - treatments\\n    ) - intervened_graph.ancestors_inclusive(outcomes)\\n    if no_effect_on_outcome:\\n        line_3_out = line_3(id_in)\\n        display(\\n            Markdown(\\n                r\\\"Since $G=G_{An(\\\\{Y_1,Y_2\\\\})}$ and \\\"\\n                + r\\\"$\\\\mathbf{W} = \\\\{\\\"\\n                + \\\",\\\".join(str(w) for w in no_effect_on_outcome)\\n                + r\\\"\\\\}$, we invoke line $3$ and attempt to identify \\\"\\n                f\\\" ${line_3_out.query.expression._repr_latex_()}$\\\"\\n            )\\n        )\\n    line_3_out.graph.draw(title=line_3_out.query.expression._repr_latex_())\";\n",
       "                var nbb_cells = Jupyter.notebook.get_cells();\n",
       "                for (var i = 0; i < nbb_cells.length; ++i) {\n",
       "                    if (nbb_cells[i].input_prompt_number == nbb_cell_id) {\n",
       "                        if (nbb_cells[i].get_text() == nbb_unformatted_code) {\n",
       "                             nbb_cells[i].set_text(nbb_formatted_code);\n",
       "                        }\n",
       "                        break;\n",
       "                    }\n",
       "                }\n",
       "            }, 500);\n",
       "            "
      ],
      "text/plain": [
       "<IPython.core.display.Javascript object>"
      ]
     },
     "metadata": {},
     "output_type": "display_data"
    }
   ],
   "source": [
    "vertices = set(graph.nodes())\n",
    "outcomes_and_ancestors = graph.ancestors_inclusive(outcomes)\n",
    "not_outcomes_or_ancestors = vertices.difference(outcomes_and_ancestors)\n",
    "if not not_outcomes_or_ancestors:\n",
    "    intervened_graph = graph.remove_in_edges(treatments)\n",
    "    no_effect_on_outcome = (vertices - treatments) - intervened_graph.ancestors_inclusive(outcomes)\n",
    "    if no_effect_on_outcome:\n",
    "        line_3_out = line_3(id_in)\n",
    "        display(\n",
    "            Markdown(\n",
    "                r\"Since $G=G_{An(\\{Y_1,Y_2\\})}$ and \"\n",
    "                + r\"$\\mathbf{W} = \\{\"\n",
    "                + \",\".join(str(w) for w in no_effect_on_outcome)\n",
    "                + r\"\\}$, we invoke line $3$ and attempt to identify \"\n",
    "                f\" ${line_3_out.query.expression._repr_latex_()}$\"\n",
    "            )\n",
    "        )\n",
    "    line_3_out.graph.draw(title=line_3_out.query.expression._repr_latex_())"
   ]
  },
  {
   "cell_type": "markdown",
   "metadata": {},
   "source": [
    "### Identify $P_{x,w}(y_1, y_2 )$ from $P(x,w_1,w_2,y_1,y_2)$.\n",
    "Now $C(G-\\{X, W_1\\}) = \\{\\{Y_1\\},  \\{W_2\\}  \\{Y_2\\}\\}$, so we invoke line $4$.  "
   ]
  },
  {
   "cell_type": "code",
   "execution_count": 17,
   "metadata": {},
   "outputs": [
    {
     "data": {
      "text/markdown": [
       "Now $C(G-\\{X, W_1\\}) = \\{\\{Y_1\\},  \\{W_2\\}, \\{Y_2\\}\\}$, so we invoke line $4$.   "
      ],
      "text/plain": [
       "<IPython.core.display.Markdown object>"
      ]
     },
     "metadata": {},
     "output_type": "display_data"
    },
    {
     "data": {
      "image/png": "[encoded data removed]",
      "text/plain": [
       "<Figure size 432x288 with 1 Axes>"
      ]
     },
     "metadata": {},
     "output_type": "display_data"
    },
    {
     "data": {
      "image/png": "[encoded data removed]",
      "text/plain": [
       "<Figure size 432x288 with 1 Axes>"
      ]
     },
     "metadata": {},
     "output_type": "display_data"
    },
    {
     "data": {
      "image/png": "[encoded data removed]",
      "text/plain": [
       "<Figure size 432x288 with 1 Axes>"
      ]
     },
     "metadata": {},
     "output_type": "display_data"
    },
    {
     "data": {
      "application/javascript": [
       "\n",
       "            setTimeout(function() {\n",
       "                var nbb_cell_id = 17;\n",
       "                var nbb_unformatted_code = \"graph_without_treatments = line_3_out.graph.remove_nodes_from(line_3_out.treatments)\\nif not graph_without_treatments.is_connected():\\n    display(\\n        Markdown(\\n            r\\\"Now $C(G-\\\\{X, W_1\\\\}) = \\\\{\\\\{Y_1\\\\},  \\\\{W_2\\\\}, \\\\{Y_2\\\\}\\\\}$, so we invoke line $4$.   \\\"\\n        )\\n    )\\n    line_4_out = line_4(line_3_out)\\n    for i, id_out in enumerate(line_4_out):\\n        plt.figure(i + 1)\\n        id_out.graph.draw(title=id_out.query.expression._repr_latex_())\";\n",
       "                var nbb_formatted_code = \"graph_without_treatments = line_3_out.graph.remove_nodes_from(line_3_out.treatments)\\nif not graph_without_treatments.is_connected():\\n    display(\\n        Markdown(\\n            r\\\"Now $C(G-\\\\{X, W_1\\\\}) = \\\\{\\\\{Y_1\\\\},  \\\\{W_2\\\\}, \\\\{Y_2\\\\}\\\\}$, so we invoke line $4$.   \\\"\\n        )\\n    )\\n    line_4_out = line_4(line_3_out)\\n    for i, id_out in enumerate(line_4_out):\\n        plt.figure(i + 1)\\n        id_out.graph.draw(title=id_out.query.expression._repr_latex_())\";\n",
       "                var nbb_cells = Jupyter.notebook.get_cells();\n",
       "                for (var i = 0; i < nbb_cells.length; ++i) {\n",
       "                    if (nbb_cells[i].input_prompt_number == nbb_cell_id) {\n",
       "                        if (nbb_cells[i].get_text() == nbb_unformatted_code) {\n",
       "                             nbb_cells[i].set_text(nbb_formatted_code);\n",
       "                        }\n",
       "                        break;\n",
       "                    }\n",
       "                }\n",
       "            }, 500);\n",
       "            "
      ],
      "text/plain": [
       "<IPython.core.display.Javascript object>"
      ]
     },
     "metadata": {},
     "output_type": "display_data"
    }
   ],
   "source": [
    "graph_without_treatments = line_3_out.graph.remove_nodes_from(line_3_out.treatments)\n",
    "if not graph_without_treatments.is_connected():\n",
    "    display(\n",
    "        Markdown(\n",
    "            r\"Now $C(G-\\{X, W_1\\}) = \\{\\{Y_1\\},  \\{W_2\\}, \\{Y_2\\}\\}$, so we invoke line $4$.   \"\n",
    "        )\n",
    "    )\n",
    "    line_4_out = line_4(line_3_out)\n",
    "    for i, id_out in enumerate(line_4_out):\n",
    "        plt.figure(i + 1)\n",
    "        id_out.graph.draw(title=id_out.query.expression._repr_latex_())"
   ]
  },
  {
   "cell_type": "markdown",
   "metadata": {},
   "source": [
    "\n",
    "Thus the original problem reduces to identifying $\\sum_{w_2}P_{x,w_1, w_2, y_2} (y_1 )P_{w_1,x,y_1, y_2}(w_2)P_{x,w_1, w_2, y_1} (y_2 )$. "
   ]
  },
  {
   "cell_type": "code",
   "execution_count": 18,
   "metadata": {},
   "outputs": [
    {
     "data": {
      "application/javascript": [
       "\n",
       "            setTimeout(function() {\n",
       "                var nbb_cell_id = 18;\n",
       "                var nbb_unformatted_code = \"w2_id_in, y1_id_in, y2_id_in = sorted(\\n    line_4_out, key=lambda x: sorted(o.name for o in x.outcomes)\\n)\";\n",
       "                var nbb_formatted_code = \"w2_id_in, y1_id_in, y2_id_in = sorted(\\n    line_4_out, key=lambda x: sorted(o.name for o in x.outcomes)\\n)\";\n",
       "                var nbb_cells = Jupyter.notebook.get_cells();\n",
       "                for (var i = 0; i < nbb_cells.length; ++i) {\n",
       "                    if (nbb_cells[i].input_prompt_number == nbb_cell_id) {\n",
       "                        if (nbb_cells[i].get_text() == nbb_unformatted_code) {\n",
       "                             nbb_cells[i].set_text(nbb_formatted_code);\n",
       "                        }\n",
       "                        break;\n",
       "                    }\n",
       "                }\n",
       "            }, 500);\n",
       "            "
      ],
      "text/plain": [
       "<IPython.core.display.Javascript object>"
      ]
     },
     "metadata": {},
     "output_type": "display_data"
    }
   ],
   "source": [
    "w2_id_in, y1_id_in, y2_id_in = sorted(line_4_out, key=lambda x: sorted(o.name for o in x.outcomes))"
   ]
  },
  {
   "cell_type": "code",
   "execution_count": 19,
   "metadata": {},
   "outputs": [
    {
     "data": {
      "text/markdown": [
       "Thus the original problem reduces to identifying: "
      ],
      "text/plain": [
       "<IPython.core.display.Markdown object>"
      ]
     },
     "metadata": {},
     "output_type": "display_data"
    },
    {
     "data": {
      "text/latex": [
       "$\\sum_{W_2} P({W_2}_{Y_1, X, Y_2, W_1}) P({Y_1}_{X, W_1, Y_2, W_2}) P({Y_2}_{Y_1, X, W_1, W_2})$"
      ],
      "text/plain": [
       "Sum[W2](P(W2 @ (-Y1, -X, -Y2, -W1)) * P(Y1 @ (-X, -W1, -Y2, -W2)) * P(Y2 @ (-Y1, -X, -W1, -W2)))"
      ]
     },
     "metadata": {},
     "output_type": "display_data"
    },
    {
     "data": {
      "application/javascript": [
       "\n",
       "            setTimeout(function() {\n",
       "                var nbb_cell_id = 19;\n",
       "                var nbb_unformatted_code = \"graph = line_3_out.graph\\nvertices = set(graph.nodes())\\ntreatments = line_3_out.treatments\\noutcomes = line_3_out.outcomes\\n\\nexpression = Product.safe(\\n    sorted(\\n        [id_out.query.expression for id_out in line_4_out],\\n        key=lambda x: sorted(_get_outcome_variables(x.get_variables())),\\n    )\\n)\\nreduced_problem = Sum.safe(\\n    expression=expression, ranges=vertices.difference(outcomes | treatments)\\n)\\ndisplay(Markdown(\\\"Thus the original problem reduces to identifying: \\\"))\\ndisplay(reduced_problem)\";\n",
       "                var nbb_formatted_code = \"graph = line_3_out.graph\\nvertices = set(graph.nodes())\\ntreatments = line_3_out.treatments\\noutcomes = line_3_out.outcomes\\n\\nexpression = Product.safe(\\n    sorted(\\n        [id_out.query.expression for id_out in line_4_out],\\n        key=lambda x: sorted(_get_outcome_variables(x.get_variables())),\\n    )\\n)\\nreduced_problem = Sum.safe(\\n    expression=expression, ranges=vertices.difference(outcomes | treatments)\\n)\\ndisplay(Markdown(\\\"Thus the original problem reduces to identifying: \\\"))\\ndisplay(reduced_problem)\";\n",
       "                var nbb_cells = Jupyter.notebook.get_cells();\n",
       "                for (var i = 0; i < nbb_cells.length; ++i) {\n",
       "                    if (nbb_cells[i].input_prompt_number == nbb_cell_id) {\n",
       "                        if (nbb_cells[i].get_text() == nbb_unformatted_code) {\n",
       "                             nbb_cells[i].set_text(nbb_formatted_code);\n",
       "                        }\n",
       "                        break;\n",
       "                    }\n",
       "                }\n",
       "            }, 500);\n",
       "            "
      ],
      "text/plain": [
       "<IPython.core.display.Javascript object>"
      ]
     },
     "metadata": {},
     "output_type": "display_data"
    }
   ],
   "source": [
    "graph = line_3_out.graph\n",
    "vertices = set(graph.nodes())\n",
    "treatments = line_3_out.treatments\n",
    "outcomes = line_3_out.outcomes\n",
    "\n",
    "expression = Product.safe(\n",
    "    sorted(\n",
    "        [id_out.query.expression for id_out in line_4_out],\n",
    "        key=lambda x: sorted(_get_outcome_variables(x.get_variables())),\n",
    "    )\n",
    ")\n",
    "reduced_problem = Sum.safe(expression=expression, ranges=vertices.difference(outcomes | treatments))\n",
    "display(Markdown(\"Thus the original problem reduces to identifying: \"))\n",
    "display(reduced_problem)"
   ]
  },
  {
   "cell_type": "markdown",
   "metadata": {},
   "source": [
    "### Identify $P_{w_1,x,y_1, y_2}(w_2)$  from $P(x,w_1,w_2,y_1,y_2)$\n",
    "\n",
    "Solving for $P_{y_2, y_1, x,w_1}(w_2)$, we trigger line $2$, noting that we can ignore nodes which are not ancestors of $W_2$.  Thus, $P_{w_1,x,y_1,y_2}(w_2)=P(w_2)$."
   ]
  },
  {
   "cell_type": "code",
   "execution_count": 20,
   "metadata": {},
   "outputs": [
    {
     "data": {
      "text/latex": [
       "$P(W_2)$"
      ],
      "text/plain": [
       "P(W2)"
      ]
     },
     "execution_count": 20,
     "metadata": {},
     "output_type": "execute_result"
    },
    {
     "data": {
      "application/javascript": [
       "\n",
       "            setTimeout(function() {\n",
       "                var nbb_cell_id = 20;\n",
       "                var nbb_unformatted_code = \"w2_id_out = line_2(w2_id_in)\\nw2_id_out.query.expression\";\n",
       "                var nbb_formatted_code = \"w2_id_out = line_2(w2_id_in)\\nw2_id_out.query.expression\";\n",
       "                var nbb_cells = Jupyter.notebook.get_cells();\n",
       "                for (var i = 0; i < nbb_cells.length; ++i) {\n",
       "                    if (nbb_cells[i].input_prompt_number == nbb_cell_id) {\n",
       "                        if (nbb_cells[i].get_text() == nbb_unformatted_code) {\n",
       "                             nbb_cells[i].set_text(nbb_formatted_code);\n",
       "                        }\n",
       "                        break;\n",
       "                    }\n",
       "                }\n",
       "            }, 500);\n",
       "            "
      ],
      "text/plain": [
       "<IPython.core.display.Javascript object>"
      ]
     },
     "metadata": {},
     "output_type": "display_data"
    }
   ],
   "source": [
    "w2_id_out = line_2(w2_id_in)\n",
    "w2_id_out.query.expression"
   ]
  },
  {
   "cell_type": "markdown",
   "metadata": {},
   "source": [
    "### Identify $P_{x,w_1, w_2, y_1} (y_2 )$ from $P(x,w_1,w_2,y_1,y_2)$\n",
    "\n",
    "Similarly, we ignore non-ancestors of $Y_2$ in the third expression to obtain $P_{x,w1, w_2,y_1}(y_2)=P_{w_2}(y_2)$."
   ]
  },
  {
   "cell_type": "code",
   "execution_count": 21,
   "metadata": {},
   "outputs": [
    {
     "data": {
      "text/latex": [
       "$P({Y_2}_{W_2})$"
      ],
      "text/plain": [
       "P(Y2 @ -W2)"
      ]
     },
     "metadata": {},
     "output_type": "display_data"
    },
    {
     "data": {
      "text/latex": [
       "$\\sum_{W_1, X, Y_1} P(W_1, W_2, X, Y_1, Y_2)$"
      ],
      "text/plain": [
       "Sum[W1, X, Y1](P(W1, W2, X, Y1, Y2))"
      ]
     },
     "metadata": {},
     "output_type": "display_data"
    },
    {
     "data": {
      "application/javascript": [
       "\n",
       "            setTimeout(function() {\n",
       "                var nbb_cell_id = 21;\n",
       "                var nbb_unformatted_code = \"y2_id_out = line_2(y2_id_in)\\ndisplay(y2_id_out.query.expression)\\ndisplay(y2_id_out.estimand)\";\n",
       "                var nbb_formatted_code = \"y2_id_out = line_2(y2_id_in)\\ndisplay(y2_id_out.query.expression)\\ndisplay(y2_id_out.estimand)\";\n",
       "                var nbb_cells = Jupyter.notebook.get_cells();\n",
       "                for (var i = 0; i < nbb_cells.length; ++i) {\n",
       "                    if (nbb_cells[i].input_prompt_number == nbb_cell_id) {\n",
       "                        if (nbb_cells[i].get_text() == nbb_unformatted_code) {\n",
       "                             nbb_cells[i].set_text(nbb_formatted_code);\n",
       "                        }\n",
       "                        break;\n",
       "                    }\n",
       "                }\n",
       "            }, 500);\n",
       "            "
      ],
      "text/plain": [
       "<IPython.core.display.Javascript object>"
      ]
     },
     "metadata": {},
     "output_type": "display_data"
    }
   ],
   "source": [
    "y2_id_out = line_2(y2_id_in)\n",
    "display(y2_id_out.query.expression)\n",
    "display(y2_id_out.estimand)"
   ]
  },
  {
   "cell_type": "markdown",
   "metadata": {},
   "source": [
    "We conclude at line 6, to obtain $P_{w_2}(y_2)=P(y_2|w_2)$."
   ]
  },
  {
   "cell_type": "code",
   "execution_count": 22,
   "metadata": {},
   "outputs": [
    {
     "data": {
      "text/latex": [
       "$P(Y_2 | W_2)$"
      ],
      "text/plain": [
       "P(Y2 | W2)"
      ]
     },
     "execution_count": 22,
     "metadata": {},
     "output_type": "execute_result"
    },
    {
     "data": {
      "application/javascript": [
       "\n",
       "            setTimeout(function() {\n",
       "                var nbb_cell_id = 22;\n",
       "                var nbb_unformatted_code = \"line_6(y2_id_out)\";\n",
       "                var nbb_formatted_code = \"line_6(y2_id_out)\";\n",
       "                var nbb_cells = Jupyter.notebook.get_cells();\n",
       "                for (var i = 0; i < nbb_cells.length; ++i) {\n",
       "                    if (nbb_cells[i].input_prompt_number == nbb_cell_id) {\n",
       "                        if (nbb_cells[i].get_text() == nbb_unformatted_code) {\n",
       "                             nbb_cells[i].set_text(nbb_formatted_code);\n",
       "                        }\n",
       "                        break;\n",
       "                    }\n",
       "                }\n",
       "            }, 500);\n",
       "            "
      ],
      "text/plain": [
       "<IPython.core.display.Javascript object>"
      ]
     },
     "metadata": {},
     "output_type": "display_data"
    }
   ],
   "source": [
    "line_6(y2_id_out)"
   ]
  },
  {
   "cell_type": "markdown",
   "metadata": {},
   "source": [
    "### Identify $P_{w_2,y_2, x, w_1}(y_1)$ from $P(x,w_1,w_2,y_1,y_2)$\n",
    "\n",
    "Solving for $P_{w_2,y_2, x, w_1}(y_1)$ we trigger line 2 also, obtaining $P_{x,w_1, w_2, y_2}(y_1)=P_{x,w_1}(y_1)$."
   ]
  },
  {
   "cell_type": "code",
   "execution_count": 23,
   "metadata": {},
   "outputs": [
    {
     "data": {
      "text/markdown": [
       "Query: $P({Y_1}_{X, W_1})$"
      ],
      "text/plain": [
       "<IPython.core.display.Markdown object>"
      ]
     },
     "metadata": {},
     "output_type": "display_data"
    },
    {
     "data": {
      "text/latex": [
       "$\\sum_{W_2, Y_2} P(W_1, W_2, X, Y_1, Y_2)$"
      ],
      "text/plain": [
       "Sum[W2, Y2](P(W1, W2, X, Y1, Y2))"
      ]
     },
     "execution_count": 23,
     "metadata": {},
     "output_type": "execute_result"
    },
    {
     "data": {
      "application/javascript": [
       "\n",
       "            setTimeout(function() {\n",
       "                var nbb_cell_id = 23;\n",
       "                var nbb_unformatted_code = \"y1_line_2_out = line_2(y1_id_in)\\ndisplay(Markdown(f\\\"Query: {y1_line_2_out.query.expression._repr_latex_()}\\\"))\\n\\ny1_line_2_out.estimand\";\n",
       "                var nbb_formatted_code = \"y1_line_2_out = line_2(y1_id_in)\\ndisplay(Markdown(f\\\"Query: {y1_line_2_out.query.expression._repr_latex_()}\\\"))\\n\\ny1_line_2_out.estimand\";\n",
       "                var nbb_cells = Jupyter.notebook.get_cells();\n",
       "                for (var i = 0; i < nbb_cells.length; ++i) {\n",
       "                    if (nbb_cells[i].input_prompt_number == nbb_cell_id) {\n",
       "                        if (nbb_cells[i].get_text() == nbb_unformatted_code) {\n",
       "                             nbb_cells[i].set_text(nbb_formatted_code);\n",
       "                        }\n",
       "                        break;\n",
       "                    }\n",
       "                }\n",
       "            }, 500);\n",
       "            "
      ],
      "text/plain": [
       "<IPython.core.display.Javascript object>"
      ]
     },
     "metadata": {},
     "output_type": "display_data"
    }
   ],
   "source": [
    "y1_line_2_out = line_2(y1_id_in)\n",
    "display(Markdown(f\"Query: {y1_line_2_out.query.expression._repr_latex_()}\"))\n",
    "\n",
    "y1_line_2_out.estimand"
   ]
  },
  {
   "cell_type": "markdown",
   "metadata": {},
   "source": [
    "The corresponding $G$ is shown in Figure 4(a).\n",
    "![Figure 4(a)](images/Figure-4a.png)"
   ]
  },
  {
   "cell_type": "code",
   "execution_count": 24,
   "metadata": {},
   "outputs": [
    {
     "data": {
      "image/png": "[encoded data removed]",
      "text/plain": [
       "<Figure size 432x288 with 1 Axes>"
      ]
     },
     "metadata": {},
     "output_type": "display_data"
    },
    {
     "data": {
      "application/javascript": [
       "\n",
       "            setTimeout(function() {\n",
       "                var nbb_cell_id = 24;\n",
       "                var nbb_unformatted_code = \"y1_line_2_out.graph.draw(title=y1_line_2_out.query.expression._repr_latex_())\";\n",
       "                var nbb_formatted_code = \"y1_line_2_out.graph.draw(title=y1_line_2_out.query.expression._repr_latex_())\";\n",
       "                var nbb_cells = Jupyter.notebook.get_cells();\n",
       "                for (var i = 0; i < nbb_cells.length; ++i) {\n",
       "                    if (nbb_cells[i].input_prompt_number == nbb_cell_id) {\n",
       "                        if (nbb_cells[i].get_text() == nbb_unformatted_code) {\n",
       "                             nbb_cells[i].set_text(nbb_formatted_code);\n",
       "                        }\n",
       "                        break;\n",
       "                    }\n",
       "                }\n",
       "            }, 500);\n",
       "            "
      ],
      "text/plain": [
       "<IPython.core.display.Javascript object>"
      ]
     },
     "metadata": {},
     "output_type": "display_data"
    }
   ],
   "source": [
    "y1_line_2_out.graph.draw(title=y1_line_2_out.query.expression._repr_latex_())"
   ]
  },
  {
   "cell_type": "markdown",
   "metadata": {},
   "source": [
    "Next we trigger line 7, reducing the problem to computing $P_{w_1}(y_1)$ from $P(y_1|x,w_1)P(w_1)$."
   ]
  },
  {
   "cell_type": "code",
   "execution_count": 25,
   "metadata": {},
   "outputs": [
    {
     "data": {
      "text/markdown": [
       "Query: $P({Y_1}_{W_1})$"
      ],
      "text/plain": [
       "<IPython.core.display.Markdown object>"
      ]
     },
     "metadata": {},
     "output_type": "display_data"
    },
    {
     "data": {
      "text/latex": [
       "$P(Y_1 | W_1, X) P(W_1)$"
      ],
      "text/plain": [
       "P(Y1 | W1, X) * P(W1)"
      ]
     },
     "metadata": {},
     "output_type": "display_data"
    },
    {
     "data": {
      "application/javascript": [
       "\n",
       "            setTimeout(function() {\n",
       "                var nbb_cell_id = 25;\n",
       "                var nbb_unformatted_code = \"y1_line_7_out = line_7(y1_line_2_out)\\ndisplay(Markdown(f\\\"Query: {y1_line_7_out.query.expression._repr_latex_()}\\\"))\\ndisplay(y1_line_7_out.estimand)\";\n",
       "                var nbb_formatted_code = \"y1_line_7_out = line_7(y1_line_2_out)\\ndisplay(Markdown(f\\\"Query: {y1_line_7_out.query.expression._repr_latex_()}\\\"))\\ndisplay(y1_line_7_out.estimand)\";\n",
       "                var nbb_cells = Jupyter.notebook.get_cells();\n",
       "                for (var i = 0; i < nbb_cells.length; ++i) {\n",
       "                    if (nbb_cells[i].input_prompt_number == nbb_cell_id) {\n",
       "                        if (nbb_cells[i].get_text() == nbb_unformatted_code) {\n",
       "                             nbb_cells[i].set_text(nbb_formatted_code);\n",
       "                        }\n",
       "                        break;\n",
       "                    }\n",
       "                }\n",
       "            }, 500);\n",
       "            "
      ],
      "text/plain": [
       "<IPython.core.display.Javascript object>"
      ]
     },
     "metadata": {},
     "output_type": "display_data"
    }
   ],
   "source": [
    "y1_line_7_out = line_7(y1_line_2_out)\n",
    "display(Markdown(f\"Query: {y1_line_7_out.query.expression._repr_latex_()}\"))\n",
    "display(y1_line_7_out.estimand)"
   ]
  },
  {
   "cell_type": "markdown",
   "metadata": {},
   "source": [
    "The corresponding $G$ is shown in Figure 4(b).\n",
    "![Figure4](images/Figure-4a.png)"
   ]
  },
  {
   "cell_type": "code",
   "execution_count": 26,
   "metadata": {},
   "outputs": [
    {
     "data": {
      "text/latex": [
       "$\\sum_{} \\sum_{W_1} P(Y_1 | W_1, X) P(W_1)$"
      ],
      "text/plain": [
       "Sum(Sum[W1](P(Y1 | W1, X) * P(W1)))"
      ]
     },
     "execution_count": 26,
     "metadata": {},
     "output_type": "execute_result"
    },
    {
     "data": {
      "application/javascript": [
       "\n",
       "            setTimeout(function() {\n",
       "                var nbb_cell_id = 26;\n",
       "                var nbb_unformatted_code = \"identify(y1_line_7_out)\";\n",
       "                var nbb_formatted_code = \"identify(y1_line_7_out)\";\n",
       "                var nbb_cells = Jupyter.notebook.get_cells();\n",
       "                for (var i = 0; i < nbb_cells.length; ++i) {\n",
       "                    if (nbb_cells[i].input_prompt_number == nbb_cell_id) {\n",
       "                        if (nbb_cells[i].get_text() == nbb_unformatted_code) {\n",
       "                             nbb_cells[i].set_text(nbb_formatted_code);\n",
       "                        }\n",
       "                        break;\n",
       "                    }\n",
       "                }\n",
       "            }, 500);\n",
       "            "
      ],
      "text/plain": [
       "<IPython.core.display.Javascript object>"
      ]
     },
     "metadata": {},
     "output_type": "display_data"
    }
   ],
   "source": [
    "identify(y1_line_7_out)"
   ]
  },
  {
   "cell_type": "code",
   "execution_count": 27,
   "metadata": {},
   "outputs": [
    {
     "data": {
      "image/png": "[encoded data removed]",
      "text/plain": [
       "<Figure size 432x288 with 1 Axes>"
      ]
     },
     "metadata": {},
     "output_type": "display_data"
    },
    {
     "data": {
      "application/javascript": [
       "\n",
       "            setTimeout(function() {\n",
       "                var nbb_cell_id = 27;\n",
       "                var nbb_unformatted_code = \"y1_line_7_out.graph.draw(title=y1_line_7_out.query.expression._repr_latex_())\";\n",
       "                var nbb_formatted_code = \"y1_line_7_out.graph.draw(title=y1_line_7_out.query.expression._repr_latex_())\";\n",
       "                var nbb_cells = Jupyter.notebook.get_cells();\n",
       "                for (var i = 0; i < nbb_cells.length; ++i) {\n",
       "                    if (nbb_cells[i].input_prompt_number == nbb_cell_id) {\n",
       "                        if (nbb_cells[i].get_text() == nbb_unformatted_code) {\n",
       "                             nbb_cells[i].set_text(nbb_formatted_code);\n",
       "                        }\n",
       "                        break;\n",
       "                    }\n",
       "                }\n",
       "            }, 500);\n",
       "            "
      ],
      "text/plain": [
       "<IPython.core.display.Javascript object>"
      ]
     },
     "metadata": {},
     "output_type": "display_data"
    }
   ],
   "source": [
    "y1_line_7_out.graph.draw(title=y1_line_7_out.query.expression._repr_latex_())"
   ]
  },
  {
   "cell_type": "markdown",
   "metadata": {},
   "source": [
    "Finally, we trigger line 2, obtaining $P_{w_1}(y_1)=\\sum_{w_1}P(y_1|x,w_1)P(w_1)$."
   ]
  },
  {
   "cell_type": "code",
   "execution_count": 28,
   "metadata": {},
   "outputs": [
    {
     "data": {
      "text/markdown": [
       "Query: $P(Y_1)$"
      ],
      "text/plain": [
       "<IPython.core.display.Markdown object>"
      ]
     },
     "metadata": {},
     "output_type": "display_data"
    },
    {
     "data": {
      "text/markdown": [
       "Estimand: "
      ],
      "text/plain": [
       "<IPython.core.display.Markdown object>"
      ]
     },
     "metadata": {},
     "output_type": "display_data"
    },
    {
     "data": {
      "text/latex": [
       "$\\sum_{W_1} P(Y_1 | W_1, X) P(W_1)$"
      ],
      "text/plain": [
       "Sum[W1](P(Y1 | W1, X) * P(W1))"
      ]
     },
     "metadata": {},
     "output_type": "display_data"
    },
    {
     "data": {
      "application/javascript": [
       "\n",
       "            setTimeout(function() {\n",
       "                var nbb_cell_id = 28;\n",
       "                var nbb_unformatted_code = \"y1_line_2_out = line_2(y1_line_7_out)\\ndisplay(Markdown(f\\\"Query: {y1_line_2_out.query.expression._repr_latex_()}\\\"))\\ndisplay(Markdown(r\\\"Estimand: \\\"))\\ndisplay(y1_line_2_out.estimand)\";\n",
       "                var nbb_formatted_code = \"y1_line_2_out = line_2(y1_line_7_out)\\ndisplay(Markdown(f\\\"Query: {y1_line_2_out.query.expression._repr_latex_()}\\\"))\\ndisplay(Markdown(r\\\"Estimand: \\\"))\\ndisplay(y1_line_2_out.estimand)\";\n",
       "                var nbb_cells = Jupyter.notebook.get_cells();\n",
       "                for (var i = 0; i < nbb_cells.length; ++i) {\n",
       "                    if (nbb_cells[i].input_prompt_number == nbb_cell_id) {\n",
       "                        if (nbb_cells[i].get_text() == nbb_unformatted_code) {\n",
       "                             nbb_cells[i].set_text(nbb_formatted_code);\n",
       "                        }\n",
       "                        break;\n",
       "                    }\n",
       "                }\n",
       "            }, 500);\n",
       "            "
      ],
      "text/plain": [
       "<IPython.core.display.Javascript object>"
      ]
     },
     "metadata": {},
     "output_type": "display_data"
    }
   ],
   "source": [
    "y1_line_2_out = line_2(y1_line_7_out)\n",
    "display(Markdown(f\"Query: {y1_line_2_out.query.expression._repr_latex_()}\"))\n",
    "display(Markdown(r\"Estimand: \"))\n",
    "display(y1_line_2_out.estimand)"
   ]
  },
  {
   "cell_type": "code",
   "execution_count": 29,
   "metadata": {},
   "outputs": [
    {
     "data": {
      "text/latex": [
       "$\\sum_{} \\sum_{W_1} P(Y_1 | W_1, X) P(W_1)$"
      ],
      "text/plain": [
       "Sum(Sum[W1](P(Y1 | W1, X) * P(W1)))"
      ]
     },
     "execution_count": 29,
     "metadata": {},
     "output_type": "execute_result"
    },
    {
     "data": {
      "application/javascript": [
       "\n",
       "            setTimeout(function() {\n",
       "                var nbb_cell_id = 29;\n",
       "                var nbb_unformatted_code = \"line_1(y1_line_2_out)\";\n",
       "                var nbb_formatted_code = \"line_1(y1_line_2_out)\";\n",
       "                var nbb_cells = Jupyter.notebook.get_cells();\n",
       "                for (var i = 0; i < nbb_cells.length; ++i) {\n",
       "                    if (nbb_cells[i].input_prompt_number == nbb_cell_id) {\n",
       "                        if (nbb_cells[i].get_text() == nbb_unformatted_code) {\n",
       "                             nbb_cells[i].set_text(nbb_formatted_code);\n",
       "                        }\n",
       "                        break;\n",
       "                    }\n",
       "                }\n",
       "            }, 500);\n",
       "            "
      ],
      "text/plain": [
       "<IPython.core.display.Javascript object>"
      ]
     },
     "metadata": {},
     "output_type": "display_data"
    }
   ],
   "source": [
    "line_1(y1_line_2_out)"
   ]
  },
  {
   "cell_type": "markdown",
   "metadata": {},
   "source": [
    "Putting everything together, we obtain $P_x(y_1,y_2)=\\sum_{w_2}P(y_2|w_2)P(w_2)\\sum_{w_1}P(y_1|x,w_1)P(w_1)$."
   ]
  },
  {
   "cell_type": "code",
   "execution_count": 30,
   "metadata": {
    "scrolled": true
   },
   "outputs": [
    {
     "data": {
      "text/latex": [
       "$\\sum_{W_2} \\sum_{} \\sum_{W_1} P(Y_1 | W_1, X) P(W_1) P(Y_2 | W_2) \\sum_{} \\sum_{W_1, X, Y_1, Y_2} P(W_1, W_2, X, Y_1, Y_2)$"
      ],
      "text/plain": [
       "Sum[W2](Sum(Sum[W1](P(Y1 | W1, X) * P(W1))) * P(Y2 | W2) * Sum(Sum[W1, X, Y1, Y2](P(W1, W2, X, Y1, Y2))))"
      ]
     },
     "execution_count": 30,
     "metadata": {},
     "output_type": "execute_result"
    },
    {
     "data": {
      "application/javascript": [
       "\n",
       "            setTimeout(function() {\n",
       "                var nbb_cell_id = 30;\n",
       "                var nbb_unformatted_code = \"identify(id_in)\";\n",
       "                var nbb_formatted_code = \"identify(id_in)\";\n",
       "                var nbb_cells = Jupyter.notebook.get_cells();\n",
       "                for (var i = 0; i < nbb_cells.length; ++i) {\n",
       "                    if (nbb_cells[i].input_prompt_number == nbb_cell_id) {\n",
       "                        if (nbb_cells[i].get_text() == nbb_unformatted_code) {\n",
       "                             nbb_cells[i].set_text(nbb_formatted_code);\n",
       "                        }\n",
       "                        break;\n",
       "                    }\n",
       "                }\n",
       "            }, 500);\n",
       "            "
      ],
      "text/plain": [
       "<IPython.core.display.Javascript object>"
      ]
     },
     "metadata": {},
     "output_type": "display_data"
    }
   ],
   "source": [
    "identify(id_in)"
   ]
  },
  {
   "cell_type": "markdown",
   "metadata": {},
   "source": [
    "# IDC algorithm\n",
    "\n",
    "$$\\newcommand\\ci{\\perp\\!\\!\\!\\perp}$$\n",
    "$$\\newcommand{\\ubar}[1]{\\underset{\\bar{}}{#1}}\n",
    "\\newcommand{\\obar}[1]{\\overset{\\bar{}}{#1}}$$\n",
    "\n",
    "$\\text{function }\\mathbf{IDC}\\left(\\mathbf y, \\mathbf x,\\mathbf z, P, G\\right) \\\\ \\text{INPUT: } \\mathbf{x,y, z}\\text{ value assignments, $P$ a probability distribution, $G$ a causal diagram (an I-map of P)}. \\\\  \\text{OUTPUT:  Expression for $P_{\\mathbf x}(\\mathbf y|\\mathbf z)$ in terms of $P$ or $\\mathbf{FAIL}(F, F')$} $\n",
    "\n",
    "\n",
    "1. $\\text{if } (\\exists Z \\in \\mathbf{Z})(\\mathbf{Y} \\ci Z | \\mathbf{X}, \\mathbf{Z}- \\{Z\\})_{G_{\\bar{\\mathbf{X}}\\ubar{Z}}} \\\\\n",
    "\\text{return } \\mathbf{IDC}(\\mathbf y, \\mathbf x \\cup \\{z\\}, \\mathbf z - \\{z\\}, P, G)\\\\ $\n",
    "2. $\\text{ else, let } P' = \\mathbf{ID}(\\mathbf y \\cup \\mathbf z, \\mathbf x, P, G). \\\\\n",
    "\\text{ return } P'/\\sum{\\mathbf y}P'$."
   ]
  },
  {
   "cell_type": "code",
   "execution_count": 31,
   "metadata": {},
   "outputs": [
    {
     "data": {
      "image/png": "[encoded data removed]",
      "text/plain": [
       "<Figure size 432x288 with 1 Axes>"
      ]
     },
     "metadata": {},
     "output_type": "display_data"
    },
    {
     "data": {
      "application/javascript": [
       "\n",
       "            setTimeout(function() {\n",
       "                var nbb_cell_id = 31;\n",
       "                var nbb_unformatted_code = \"id_in = Identification.from_parts(\\n    outcomes={Y},\\n    treatments={X},\\n    conditions={Z},\\n    estimand=P(X, Y, Z),\\n    graph=NxMixedGraph.from_edges(directed=[(X, Z), (Z, Y)], undirected=[(X, Z)]),\\n)\\nid_in.graph.draw()\";\n",
       "                var nbb_formatted_code = \"id_in = Identification.from_parts(\\n    outcomes={Y},\\n    treatments={X},\\n    conditions={Z},\\n    estimand=P(X, Y, Z),\\n    graph=NxMixedGraph.from_edges(directed=[(X, Z), (Z, Y)], undirected=[(X, Z)]),\\n)\\nid_in.graph.draw()\";\n",
       "                var nbb_cells = Jupyter.notebook.get_cells();\n",
       "                for (var i = 0; i < nbb_cells.length; ++i) {\n",
       "                    if (nbb_cells[i].input_prompt_number == nbb_cell_id) {\n",
       "                        if (nbb_cells[i].get_text() == nbb_unformatted_code) {\n",
       "                             nbb_cells[i].set_text(nbb_formatted_code);\n",
       "                        }\n",
       "                        break;\n",
       "                    }\n",
       "                }\n",
       "            }, 500);\n",
       "            "
      ],
      "text/plain": [
       "<IPython.core.display.Javascript object>"
      ]
     },
     "metadata": {},
     "output_type": "display_data"
    }
   ],
   "source": [
    "id_in = Identification.from_parts(\n",
    "    outcomes={Y},\n",
    "    treatments={X},\n",
    "    conditions={Z},\n",
    "    estimand=P(X, Y, Z),\n",
    "    graph=NxMixedGraph.from_edges(directed=[(X, Z), (Z, Y)], undirected=[(X, Z)]),\n",
    ")\n",
    "id_in.graph.draw()"
   ]
  },
  {
   "cell_type": "code",
   "execution_count": 32,
   "metadata": {},
   "outputs": [
    {
     "data": {
      "text/latex": [
       "$\\frac{P(Y | X, Z)}{\\sum_{Y} P(Y | X, Z)}$"
      ],
      "text/plain": [
       "((P(Y | X, Z) / Sum[Y](P(Y | X, Z))))"
      ]
     },
     "execution_count": 32,
     "metadata": {},
     "output_type": "execute_result"
    },
    {
     "data": {
      "application/javascript": [
       "\n",
       "            setTimeout(function() {\n",
       "                var nbb_cell_id = 32;\n",
       "                var nbb_unformatted_code = \"idc(id_in)\";\n",
       "                var nbb_formatted_code = \"idc(id_in)\";\n",
       "                var nbb_cells = Jupyter.notebook.get_cells();\n",
       "                for (var i = 0; i < nbb_cells.length; ++i) {\n",
       "                    if (nbb_cells[i].input_prompt_number == nbb_cell_id) {\n",
       "                        if (nbb_cells[i].get_text() == nbb_unformatted_code) {\n",
       "                             nbb_cells[i].set_text(nbb_formatted_code);\n",
       "                        }\n",
       "                        break;\n",
       "                    }\n",
       "                }\n",
       "            }, 500);\n",
       "            "
      ],
      "text/plain": [
       "<IPython.core.display.Javascript object>"
      ]
     },
     "metadata": {},
     "output_type": "display_data"
    }
   ],
   "source": [
    "idc(id_in)"
   ]
  }
 ],
 "metadata": {
  "kernelspec": {
   "display_name": "anaconda3-2021.11",
   "language": "python",
   "name": "anaconda3-2021.11"
  },
  "language_info": {
   "codemirror_mode": {
    "name": "ipython",
    "version": 3
   },
   "file_extension": ".py",
   "mimetype": "text/x-python",
   "name": "python",
   "nbconvert_exporter": "python",
   "pygments_lexer": "ipython3",
   "version": "3.9.7"
  },
  "latex_envs": {
   "LaTeX_envs_menu_present": false,
   "autoclose": false,
   "autocomplete": false,
   "bibliofile": "biblio.bib",
   "cite_by": "apalike",
   "current_citInitial": 1,
   "eqLabelWithNumbers": true,
   "eqNumInitial": 1,
   "hotkeys": {
    "equation": "ctrl-q"
   },
   "labels_anchors": false,
   "latex_user_defs": false,
   "report_style_numbering": true,
   "user_envs_cfg": false
  },
  "toc": {
   "base_numbering": 1,
   "nav_menu": {},
   "number_sections": true,
   "sideBar": true,
   "skip_h1_title": false,
   "title_cell": "Table of Contents",
   "title_sidebar": "Contents",
   "toc_cell": true,
   "toc_position": {},
   "toc_section_display": true,
   "toc_window_display": true
  }
 },
 "nbformat": 4,
 "nbformat_minor": 4
}
