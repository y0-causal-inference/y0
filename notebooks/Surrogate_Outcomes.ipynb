{
 "cells": [
  {
   "cell_type": "markdown",
   "id": "ac1c3de1-5b09-46ce-b80c-a7c2434ff866",
   "metadata": {},
   "source": [
    "# Surrogate Outcomes"
   ]
  },
  {
   "cell_type": "code",
   "execution_count": 1,
   "id": "309d74b5-fb54-4c10-9d6c-30ebab7a3fb6",
   "metadata": {},
   "outputs": [],
   "source": [
    "from y0.dsl import D, W, X, Y, Z, Sum, Product, P, Variable, Pi1, Pi2\n",
    "from y0.graph import NxMixedGraph\n",
    "from y0.algorithm.identify import identify_outcomes\n",
    "from y0.algorithm.transport import identify_target_outcomes\n",
    "from matplotlib_inline.backend_inline import set_matplotlib_formats\n",
    "set_matplotlib_formats(\"svg\")"
   ]
  },
  {
   "cell_type": "markdown",
   "id": "fe38c27b-6d17-4c20-8ecb-3d41023b6c44",
   "metadata": {},
   "source": [
    "## Cancer\n",
    "\n",
    "The first scenario we will explore is about the relationship between smoking ($S$), accumulation of tar in the lungs ($T$), and cancer ($C$). "
   ]
  },
  {
   "cell_type": "code",
   "execution_count": 2,
   "id": "27d2afe9-b77d-47c8-8222-ae883f015c91",
   "metadata": {},
   "outputs": [
    {
     "data": {
      "image/svg+xml": [
       "<?xml version=\"1.0\" encoding=\"utf-8\" standalone=\"no\"?>\n",
       "<!DOCTYPE svg PUBLIC \"-//W3C//DTD SVG 1.1//EN\"\n",
       "  \"http://www.w3.org/Graphics/SVG/1.1/DTD/svg11.dtd\">\n",
       "<svg xmlns:xlink=\"http://www.w3.org/1999/xlink\" width=\"371.52pt\" height=\"280.512pt\" viewBox=\"0 0 371.52 280.512\" xmlns=\"http://www.w3.org/2000/svg\" version=\"1.1\">\n",
       " <metadata>\n",
       "  <rdf:RDF xmlns:dc=\"http://purl.org/dc/elements/1.1/\" xmlns:cc=\"http://creativecommons.org/ns#\" xmlns:rdf=\"http://www.w3.org/1999/02/22-rdf-syntax-ns#\">\n",
       "   <cc:Work>\n",
       "    <dc:type rdf:resource=\"http://purl.org/dc/dcmitype/StillImage\"/>\n",
       "    <dc:date>2023-09-06T19:46:11.434048</dc:date>\n",
       "    <dc:format>image/svg+xml</dc:format>\n",
       "    <dc:creator>\n",
       "     <cc:Agent>\n",
       "      <dc:title>Matplotlib v3.7.2, https://matplotlib.org/</dc:title>\n",
       "     </cc:Agent>\n",
       "    </dc:creator>\n",
       "   </cc:Work>\n",
       "  </rdf:RDF>\n",
       " </metadata>\n",
       " <defs>\n",
       "  <style type=\"text/css\">*{stroke-linejoin: round; stroke-linecap: butt}</style>\n",
       " </defs>\n",
       " <g id=\"figure_1\">\n",
       "  <g id=\"patch_1\">\n",
       "   <path d=\"M 0 280.512 \n",
       "L 371.52 280.512 \n",
       "L 371.52 0 \n",
       "L 0 0 \n",
       "z\n",
       "\" style=\"fill: #ffffff\"/>\n",
       "  </g>\n",
       "  <g id=\"axes_1\">\n",
       "   <g id=\"patch_2\">\n",
       "    <path d=\"M 96.266594 87.012079 \n",
       "Q 95.715748 140.253385 95.188034 191.258743 \n",
       "\" clip-path=\"url(#p506c4cd5b2)\" style=\"fill: none; stroke: #000000; stroke-width: 2; stroke-linecap: round\"/>\n",
       "    <path d=\"M 99.270586 183.300553 \n",
       "L 95.188034 191.258743 \n",
       "L 91.271014 183.217788 \n",
       "z\n",
       "\" clip-path=\"url(#p506c4cd5b2)\" style=\"stroke: #000000; stroke-width: 2; stroke-linecap: round\"/>\n",
       "   </g>\n",
       "   <g id=\"patch_3\">\n",
       "    <path d=\"M 118.857208 64.656 \n",
       "Q 192.107547 64.656 263.121818 64.656 \n",
       "\" clip-path=\"url(#p506c4cd5b2)\" style=\"fill: none; stroke: #000000; stroke-width: 2; stroke-linecap: round\"/>\n",
       "    <path d=\"M 255.121818 60.656 \n",
       "L 263.121818 64.656 \n",
       "L 255.121818 68.656 \n",
       "z\n",
       "\" clip-path=\"url(#p506c4cd5b2)\" style=\"stroke: #000000; stroke-width: 2; stroke-linecap: round\"/>\n",
       "   </g>\n",
       "   <g id=\"patch_4\">\n",
       "    <path d=\"M 112.527839 202.057062 \n",
       "Q 191.327979 140.255307 268.368636 79.833488 \n",
       "\" clip-path=\"url(#p506c4cd5b2)\" style=\"fill: none; stroke: #000000; stroke-width: 2; stroke-linecap: round\"/>\n",
       "    <path d=\"M 259.605216 81.623037 \n",
       "L 268.368636 79.833488 \n",
       "L 264.542223 87.917952 \n",
       "z\n",
       "\" clip-path=\"url(#p506c4cd5b2)\" style=\"stroke: #000000; stroke-width: 2; stroke-linecap: round\"/>\n",
       "   </g>\n",
       "   <g id=\"patch_5\">\n",
       "    <path d=\"M 85.957355 84.374226 \n",
       "Q 60.691268 139.893357 84.803001 195.923363 \n",
       "\" clip-path=\"url(#p506c4cd5b2)\" style=\"fill: none; stroke-dasharray: 2,3.3; stroke-dashoffset: 0; stroke: #808080; stroke-width: 2; stroke-linecap: round\"/>\n",
       "   </g>\n",
       "   <g id=\"PathCollection_1\">\n",
       "    <defs>\n",
       "     <path id=\"m9d130d208c\" d=\"M 0 19.364917 \n",
       "C 5.135636 19.364917 10.061621 17.324507 13.693064 13.693064 \n",
       "C 17.324507 10.061621 19.364917 5.135636 19.364917 0 \n",
       "C 19.364917 -5.135636 17.324507 -10.061621 13.693064 -13.693064 \n",
       "C 10.061621 -17.324507 5.135636 -19.364917 0 -19.364917 \n",
       "C -5.135636 -19.364917 -10.061621 -17.324507 -13.693064 -13.693064 \n",
       "C -17.324507 -10.061621 -19.364917 -5.135636 -19.364917 0 \n",
       "C -19.364917 5.135636 -17.324507 10.061621 -13.693064 13.693064 \n",
       "C -10.061621 17.324507 -5.135636 19.364917 0 19.364917 \n",
       "z\n",
       "\" style=\"stroke: #000000; stroke-width: 2\"/>\n",
       "    </defs>\n",
       "    <g clip-path=\"url(#p506c4cd5b2)\">\n",
       "     <use xlink:href=\"#m9d130d208c\" x=\"96.497896\" y=\"64.656\" style=\"fill: #ffffff; stroke: #000000; stroke-width: 2\"/>\n",
       "     <use xlink:href=\"#m9d130d208c\" x=\"94.933545\" y=\"215.856\" style=\"fill: #ffffff; stroke: #000000; stroke-width: 2\"/>\n",
       "     <use xlink:href=\"#m9d130d208c\" x=\"287.720645\" y=\"64.656\" style=\"fill: #ffffff; stroke: #000000; stroke-width: 2\"/>\n",
       "    </g>\n",
       "   </g>\n",
       "   <g id=\"text_1\">\n",
       "    <g clip-path=\"url(#p506c4cd5b2)\">\n",
       "     <!-- S -->\n",
       "     <g transform=\"translate(90.149458 70.17475) scale(0.2 -0.2)\">\n",
       "      <defs>\n",
       "       <path id=\"DejaVuSans-53\" d=\"M 3425 4513 \n",
       "L 3425 3897 \n",
       "Q 3066 4069 2747 4153 \n",
       "Q 2428 4238 2131 4238 \n",
       "Q 1616 4238 1336 4038 \n",
       "Q 1056 3838 1056 3469 \n",
       "Q 1056 3159 1242 3001 \n",
       "Q 1428 2844 1947 2747 \n",
       "L 2328 2669 \n",
       "Q 3034 2534 3370 2195 \n",
       "Q 3706 1856 3706 1288 \n",
       "Q 3706 609 3251 259 \n",
       "Q 2797 -91 1919 -91 \n",
       "Q 1588 -91 1214 -16 \n",
       "Q 841 59 441 206 \n",
       "L 441 856 \n",
       "Q 825 641 1194 531 \n",
       "Q 1563 422 1919 422 \n",
       "Q 2459 422 2753 634 \n",
       "Q 3047 847 3047 1241 \n",
       "Q 3047 1584 2836 1778 \n",
       "Q 2625 1972 2144 2069 \n",
       "L 1759 2144 \n",
       "Q 1053 2284 737 2584 \n",
       "Q 422 2884 422 3419 \n",
       "Q 422 4038 858 4394 \n",
       "Q 1294 4750 2059 4750 \n",
       "Q 2388 4750 2728 4690 \n",
       "Q 3069 4631 3425 4513 \n",
       "z\n",
       "\" transform=\"scale(0.015625)\"/>\n",
       "      </defs>\n",
       "      <use xlink:href=\"#DejaVuSans-53\"/>\n",
       "     </g>\n",
       "    </g>\n",
       "   </g>\n",
       "   <g id=\"text_2\">\n",
       "    <g clip-path=\"url(#p506c4cd5b2)\">\n",
       "     <!-- T -->\n",
       "     <g transform=\"translate(88.825733 221.37475) scale(0.2 -0.2)\">\n",
       "      <defs>\n",
       "       <path id=\"DejaVuSans-54\" d=\"M -19 4666 \n",
       "L 3928 4666 \n",
       "L 3928 4134 \n",
       "L 2272 4134 \n",
       "L 2272 0 \n",
       "L 1638 0 \n",
       "L 1638 4134 \n",
       "L -19 4134 \n",
       "L -19 4666 \n",
       "z\n",
       "\" transform=\"scale(0.015625)\"/>\n",
       "      </defs>\n",
       "      <use xlink:href=\"#DejaVuSans-54\"/>\n",
       "     </g>\n",
       "    </g>\n",
       "   </g>\n",
       "   <g id=\"text_3\">\n",
       "    <g clip-path=\"url(#p506c4cd5b2)\">\n",
       "     <!-- C -->\n",
       "     <g transform=\"translate(280.737833 70.17475) scale(0.2 -0.2)\">\n",
       "      <defs>\n",
       "       <path id=\"DejaVuSans-43\" d=\"M 4122 4306 \n",
       "L 4122 3641 \n",
       "Q 3803 3938 3442 4084 \n",
       "Q 3081 4231 2675 4231 \n",
       "Q 1875 4231 1450 3742 \n",
       "Q 1025 3253 1025 2328 \n",
       "Q 1025 1406 1450 917 \n",
       "Q 1875 428 2675 428 \n",
       "Q 3081 428 3442 575 \n",
       "Q 3803 722 4122 1019 \n",
       "L 4122 359 \n",
       "Q 3791 134 3420 21 \n",
       "Q 3050 -91 2638 -91 \n",
       "Q 1578 -91 968 557 \n",
       "Q 359 1206 359 2328 \n",
       "Q 359 3453 968 4101 \n",
       "Q 1578 4750 2638 4750 \n",
       "Q 3056 4750 3426 4639 \n",
       "Q 3797 4528 4122 4306 \n",
       "z\n",
       "\" transform=\"scale(0.015625)\"/>\n",
       "      </defs>\n",
       "      <use xlink:href=\"#DejaVuSans-43\"/>\n",
       "     </g>\n",
       "    </g>\n",
       "   </g>\n",
       "  </g>\n",
       " </g>\n",
       " <defs>\n",
       "  <clipPath id=\"p506c4cd5b2\">\n",
       "   <rect x=\"7.2\" y=\"7.2\" width=\"357.12\" height=\"266.112\"/>\n",
       "  </clipPath>\n",
       " </defs>\n",
       "</svg>\n"
      ],
      "text/plain": [
       "<Figure size 640x480 with 1 Axes>"
      ]
     },
     "metadata": {},
     "output_type": "display_data"
    }
   ],
   "source": [
    "Smoking, Tar, Cancer = (Variable(n) for n in (\"Smoking\", \"Tar\", \"Cancer\"))\n",
    "\n",
    "graph = NxMixedGraph.from_edges(\n",
    "    directed=[(Smoking, Tar), (Tar, Cancer), (Smoking, Cancer)], undirected=[(Smoking, Tar)]\n",
    ")\n",
    "graph.draw(abbreviate=True)"
   ]
  },
  {
   "cell_type": "markdown",
   "id": "e404b127-c611-473d-987f-9feaab7fca7e",
   "metadata": {},
   "source": [
    "Suppose Pall Mall has a new cigarette that has no tar in it!  They conduct a clinical trial $\\pi_1$ where they randomly assign some volunteers to smoke their new cigarette, and the other volunteers receive regular cigarettes. As an outcome, they measure tar buildup in the lungs, but unfortunately, the trial is stopped before any of the volunteers get cancer. This trial does not have enough information to estimate the causal effect of smoking on cancer $P^{\\pi_1}(Cancer | \\text{do}(Smoking))$ from the measurements of $P^{\\pi_1}(Tar | \\text{do}(Smoking)$."
   ]
  },
  {
   "cell_type": "code",
   "execution_count": 3,
   "id": "9cf9739b-5e4f-407e-9497-dc9b660bc452",
   "metadata": {},
   "outputs": [
    {
     "data": {
      "text/plain": [
       "True"
      ]
     },
     "execution_count": 3,
     "metadata": {},
     "output_type": "execute_result"
    }
   ],
   "source": [
    "identify_outcomes(graph, treatments={Smoking}, outcomes={Cancer}) is None"
   ]
  },
  {
   "cell_type": "markdown",
   "id": "cc970629-85fa-4f65-8d95-1a75193385dd",
   "metadata": {},
   "source": [
    " At the same time, we have observational data over many years that show the correlation of smoking on cancer, but we don't know who chose the Pall Mall \"no tar\" cigarettes vs the tar-filled cigarettes.  This observational data does not have enough information to estimate $P^{\\pi^\\ast}(Cancer | \\text{do}(Smoking)$ from the measurements of $P^{\\pi^\\ast}(Smoking, Cancer, Tar)$."
   ]
  },
  {
   "cell_type": "markdown",
   "id": "235d84bd-023a-4086-a770-962bc21dc44a",
   "metadata": {},
   "source": [
    "Neither dataset is sufficient to estimate the causal effect of smoking on cancer, but perhaps by combining the two, we can identify the query.\n",
    " "
   ]
  },
  {
   "cell_type": "code",
   "execution_count": 4,
   "id": "d25eb46a-efb8-4fd1-ad45-553f6fc5d032",
   "metadata": {},
   "outputs": [
    {
     "data": {
      "text/latex": [
       "$\\sum_{Tar} P_{Smoking}^{π_1}(Tar) \\frac{P^{\\pi^\\ast}(Cancer, Smoking, Tar)}{P^{\\pi^\\ast}(Smoking, Tar)}$"
      ],
      "text/plain": [
       "Sum[Tar](PP[π1][Smoking](Tar) * ((P(Cancer, Smoking, Tar) / P(Smoking, Tar))))"
      ]
     },
     "execution_count": 4,
     "metadata": {},
     "output_type": "execute_result"
    }
   ],
   "source": [
    "identify_target_outcomes(\n",
    "    graph=graph,\n",
    "    target_outcomes={Cancer},\n",
    "    target_interventions={Smoking},\n",
    "    surrogate_outcomes={Pi1: {Tar}},\n",
    "    surrogate_interventions={Pi1: {Smoking}},\n",
    ")"
   ]
  },
  {
   "cell_type": "markdown",
   "id": "d4c6471d-a6ca-4177-aabe-c2107843dce5",
   "metadata": {},
   "source": [
    "We can interpret this result as taking the observational data ($\\pi^\\ast$) such that the conditional $P(Cancer| Smoking, Tar)$ is stratified by Tar, and reweighting the percentage of people who have tar in their lungs by the percentage of people who had tar in their lungs in the clinical trial ($\\pi^1$).  The summation over Tar means that the final estimate will only have Smoking and Cancer in it.  If you didn't do the reweighting, you would only recover the probability of cancer given smoking."
   ]
  },
  {
   "cell_type": "markdown",
   "id": "24cbebec-4fa7-4934-a506-f4f79999d792",
   "metadata": {},
   "source": [
    "Note that the surrogate outcomes algorithm implicitly assumes that observational data from the target population is always available."
   ]
  },
  {
   "cell_type": "markdown",
   "id": "0ebbda05-b960-43e5-a915-642123b25073",
   "metadata": {},
   "source": [
    "## Sunburn in Denver vs Miami.\n",
    "\n",
    "In Miami, the UV per square meter is higher because the angle that the sun makes with the earth is nearly 90 degrees.\n",
    "In Denver, the UV per square meter is higher because there is less ozone."
   ]
  }
 ],
 "metadata": {
  "kernelspec": {
   "display_name": "Python 3 (ipykernel)",
   "language": "python",
   "name": "python3"
  },
  "language_info": {
   "codemirror_mode": {
    "name": "ipython",
    "version": 3
   },
   "file_extension": ".py",
   "mimetype": "text/x-python",
   "name": "python",
   "nbconvert_exporter": "python",
   "pygments_lexer": "ipython3",
   "version": "3.11.4"
  }
 },
 "nbformat": 4,
 "nbformat_minor": 5
}
